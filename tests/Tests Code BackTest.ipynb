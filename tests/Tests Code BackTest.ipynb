{
 "cells": [
  {
   "cell_type": "code",
   "execution_count": 3,
   "metadata": {},
   "outputs": [],
   "source": [
    "import numpy as np\n",
    "import pandas as pd\n",
    "import os\n",
    "import matplotlib.pyplot as plt\n",
    "import numpy as np\n",
    "import pandas as pd\n",
    "import statsmodels.api as sm\n",
    "import statistics\n",
    "from sklearn.model_selection import train_test_split"
   ]
  },
  {
   "cell_type": "code",
   "execution_count": 21,
   "metadata": {},
   "outputs": [
    {
     "data": {
      "text/plain": [
       "((92, 1), (92, 1))"
      ]
     },
     "execution_count": 21,
     "metadata": {},
     "output_type": "execute_result"
    }
   ],
   "source": [
    "y_csv = 'ABCB4.csv'\n",
    "x_csv = 'AZUL4.csv'\n",
    "\n",
    "data1 = pd.DataFrame(pd.read_csv('datasets-b3/'+y_csv)['Fechamento'], columns=['Fechamento'])\n",
    "data2 = pd.DataFrame(pd.read_csv('datasets-b3/'+x_csv)['Fechamento'], columns=['Fechamento'])\n",
    "\n",
    "data2.columns = data1.columns = ['Close']\n",
    "data2.shape, data1.shape"
   ]
  },
  {
   "cell_type": "markdown",
   "metadata": {},
   "source": [
    "# Cointegration"
   ]
  },
  {
   "cell_type": "markdown",
   "metadata": {},
   "source": [
    "rain test split "
   ]
  },
  {
   "cell_type": "code",
   "execution_count": 5,
   "metadata": {},
   "outputs": [],
   "source": [
    "df1,test1,df2,test2=train_test_split(data1,data2,test_size=0.7,shuffle=False)\n",
    "\n",
    "train=pd.DataFrame()\n",
    "train['asset1']=df1['Close']\n",
    "train['asset2']=df2['Close']"
   ]
  },
  {
   "cell_type": "code",
   "execution_count": 19,
   "metadata": {},
   "outputs": [
    {
     "data": {
      "text/plain": [
       "(27, 2)"
      ]
     },
     "execution_count": 19,
     "metadata": {},
     "output_type": "execute_result"
    }
   ],
   "source": [
    "train.shape"
   ]
  },
  {
   "cell_type": "code",
   "execution_count": 12,
   "metadata": {},
   "outputs": [
    {
     "name": "stdout",
     "output_type": "stream",
     "text": [
      "\n",
      " (-2.6572890685091433, 0.08172518035680337, 0, 26, {'1%': -3.7112123008648155, '5%': -2.981246804733728, '10%': -2.6300945562130176}, 63.53380697619901)\n",
      "                            OLS Regression Results                            \n",
      "==============================================================================\n",
      "Dep. Variable:                 asset2   R-squared:                       0.353\n",
      "Model:                            OLS   Adj. R-squared:                  0.327\n",
      "Method:                 Least Squares   F-statistic:                     13.62\n",
      "Date:                Sun, 17 May 2020   Prob (F-statistic):            0.00109\n",
      "Time:                        14:12:22   Log-Likelihood:                -48.391\n",
      "No. Observations:                  27   AIC:                             100.8\n",
      "Df Residuals:                      25   BIC:                             103.4\n",
      "Df Model:                           1                                         \n",
      "Covariance Type:            nonrobust                                         \n",
      "==============================================================================\n",
      "                 coef    std err          t      P>|t|      [0.025      0.975]\n",
      "------------------------------------------------------------------------------\n",
      "const         38.3627      5.620      6.826      0.000      26.787      49.938\n",
      "asset1         0.9578      0.260      3.690      0.001       0.423       1.492\n",
      "==============================================================================\n",
      "Omnibus:                        0.856   Durbin-Watson:                   1.052\n",
      "Prob(Omnibus):                  0.652   Jarque-Bera (JB):                0.613\n",
      "Skew:                          -0.357   Prob(JB):                        0.736\n",
      "Kurtosis:                       2.812   Cond. No.                         420.\n",
      "==============================================================================\n",
      "\n",
      "Warnings:\n",
      "[1] Standard Errors assume that the covariance matrix of the errors is correctly specified.\n"
     ]
    }
   ],
   "source": [
    "x=sm.add_constant(train['asset1'])\n",
    "y=train['asset2']\n",
    "model=sm.OLS(y,x).fit()\n",
    "\n",
    "print('\\n',sm.tsa.stattools.adfuller(model.resid))\n",
    "print(model.summary())"
   ]
  },
  {
   "cell_type": "markdown",
   "metadata": {},
   "source": [
    "signals"
   ]
  },
  {
   "cell_type": "code",
   "execution_count": 13,
   "metadata": {},
   "outputs": [],
   "source": [
    "signals=pd.DataFrame()\n",
    "signals['asset1']=test1['Close']\n",
    "signals['asset2']=test2['Close']"
   ]
  },
  {
   "cell_type": "code",
   "execution_count": 14,
   "metadata": {},
   "outputs": [],
   "source": [
    "signals['fitted']=np.mat(sm.add_constant(signals['asset2']))*np.mat(model.params).reshape(2,1)\n",
    "signals['residual']=signals['asset1']-signals['fitted']\n",
    "signals['z']=(signals['residual']-np.mean(signals['residual']))/np.std(signals['residual'])"
   ]
  },
  {
   "cell_type": "code",
   "execution_count": 38,
   "metadata": {},
   "outputs": [],
   "source": [
    "#use z*0 to get panda series instead of an integer result\n",
    "signals['z upper limit']=signals['z']*0+np.mean(signals['z'])+np.std(signals['z'])\n",
    "signals['z lower limit']=signals['z']*0+np.mean(signals['z'])-np.std(signals['z'])"
   ]
  },
  {
   "cell_type": "code",
   "execution_count": 40,
   "metadata": {},
   "outputs": [
    {
     "data": {
      "text/plain": [
       "27   -71.543712\n",
       "28   -72.689537\n",
       "29   -73.823806\n",
       "30   -73.251672\n",
       "31   -73.891539\n",
       "        ...    \n",
       "87   -38.807470\n",
       "88   -38.463646\n",
       "89   -38.133779\n",
       "90   -37.692911\n",
       "91   -37.284865\n",
       "Length: 65, dtype: float64"
      ]
     },
     "execution_count": 40,
     "metadata": {},
     "output_type": "execute_result"
    }
   ],
   "source": [
    "signals['asset1']-signals['fitted']"
   ]
  },
  {
   "cell_type": "code",
   "execution_count": 37,
   "metadata": {},
   "outputs": [
    {
     "data": {
      "text/plain": [
       "matrix([[38.36266564],\n",
       "        [ 0.95777977]])"
      ]
     },
     "execution_count": 37,
     "metadata": {},
     "output_type": "execute_result"
    }
   ],
   "source": [
    "np.mat(model.params).reshape(2,1)"
   ]
  },
  {
   "cell_type": "code",
   "execution_count": 24,
   "metadata": {},
   "outputs": [
    {
     "data": {
      "text/html": [
       "<div>\n",
       "<style scoped>\n",
       "    .dataframe tbody tr th:only-of-type {\n",
       "        vertical-align: middle;\n",
       "    }\n",
       "\n",
       "    .dataframe tbody tr th {\n",
       "        vertical-align: top;\n",
       "    }\n",
       "\n",
       "    .dataframe thead th {\n",
       "        text-align: right;\n",
       "    }\n",
       "</style>\n",
       "<table border=\"1\" class=\"dataframe\">\n",
       "  <thead>\n",
       "    <tr style=\"text-align: right;\">\n",
       "      <th></th>\n",
       "      <th>asset1</th>\n",
       "      <th>asset2</th>\n",
       "      <th>fitted</th>\n",
       "      <th>residual</th>\n",
       "      <th>z</th>\n",
       "      <th>z upper limit</th>\n",
       "      <th>z lower limit</th>\n",
       "      <th>signals1</th>\n",
       "    </tr>\n",
       "  </thead>\n",
       "  <tbody>\n",
       "    <tr>\n",
       "      <td>27</td>\n",
       "      <td>21.24</td>\n",
       "      <td>56.82</td>\n",
       "      <td>92.783712</td>\n",
       "      <td>-71.543712</td>\n",
       "      <td>-1.845965</td>\n",
       "      <td>1.0</td>\n",
       "      <td>-1.0</td>\n",
       "      <td>0</td>\n",
       "    </tr>\n",
       "    <tr>\n",
       "      <td>28</td>\n",
       "      <td>21.55</td>\n",
       "      <td>58.34</td>\n",
       "      <td>94.239537</td>\n",
       "      <td>-72.689537</td>\n",
       "      <td>-1.936994</td>\n",
       "      <td>1.0</td>\n",
       "      <td>-1.0</td>\n",
       "      <td>0</td>\n",
       "    </tr>\n",
       "    <tr>\n",
       "      <td>29</td>\n",
       "      <td>21.68</td>\n",
       "      <td>59.66</td>\n",
       "      <td>95.503806</td>\n",
       "      <td>-73.823806</td>\n",
       "      <td>-2.027105</td>\n",
       "      <td>1.0</td>\n",
       "      <td>-1.0</td>\n",
       "      <td>0</td>\n",
       "    </tr>\n",
       "  </tbody>\n",
       "</table>\n",
       "</div>"
      ],
      "text/plain": [
       "    asset1  asset2     fitted   residual         z  z upper limit  \\\n",
       "27   21.24   56.82  92.783712 -71.543712 -1.845965            1.0   \n",
       "28   21.55   58.34  94.239537 -72.689537 -1.936994            1.0   \n",
       "29   21.68   59.66  95.503806 -73.823806 -2.027105            1.0   \n",
       "\n",
       "    z lower limit  signals1  \n",
       "27           -1.0         0  \n",
       "28           -1.0         0  \n",
       "29           -1.0         0  "
      ]
     },
     "execution_count": 24,
     "metadata": {},
     "output_type": "execute_result"
    }
   ],
   "source": [
    "signals.head(3)"
   ]
  },
  {
   "cell_type": "markdown",
   "metadata": {},
   "source": [
    "# Signal_generation"
   ]
  },
  {
   "cell_type": "code",
   "execution_count": 25,
   "metadata": {},
   "outputs": [
    {
     "data": {
      "text/html": [
       "<div>\n",
       "<style scoped>\n",
       "    .dataframe tbody tr th:only-of-type {\n",
       "        vertical-align: middle;\n",
       "    }\n",
       "\n",
       "    .dataframe tbody tr th {\n",
       "        vertical-align: top;\n",
       "    }\n",
       "\n",
       "    .dataframe thead th {\n",
       "        text-align: right;\n",
       "    }\n",
       "</style>\n",
       "<table border=\"1\" class=\"dataframe\">\n",
       "  <thead>\n",
       "    <tr style=\"text-align: right;\">\n",
       "      <th></th>\n",
       "      <th>asset1</th>\n",
       "      <th>asset2</th>\n",
       "      <th>fitted</th>\n",
       "      <th>residual</th>\n",
       "      <th>z</th>\n",
       "      <th>z upper limit</th>\n",
       "      <th>z lower limit</th>\n",
       "      <th>signals1</th>\n",
       "    </tr>\n",
       "  </thead>\n",
       "  <tbody>\n",
       "    <tr>\n",
       "      <td>27</td>\n",
       "      <td>21.24</td>\n",
       "      <td>56.82</td>\n",
       "      <td>92.783712</td>\n",
       "      <td>-71.543712</td>\n",
       "      <td>-1.845965</td>\n",
       "      <td>1.0</td>\n",
       "      <td>-1.0</td>\n",
       "      <td>0</td>\n",
       "    </tr>\n",
       "    <tr>\n",
       "      <td>28</td>\n",
       "      <td>21.55</td>\n",
       "      <td>58.34</td>\n",
       "      <td>94.239537</td>\n",
       "      <td>-72.689537</td>\n",
       "      <td>-1.936994</td>\n",
       "      <td>1.0</td>\n",
       "      <td>-1.0</td>\n",
       "      <td>0</td>\n",
       "    </tr>\n",
       "    <tr>\n",
       "      <td>29</td>\n",
       "      <td>21.68</td>\n",
       "      <td>59.66</td>\n",
       "      <td>95.503806</td>\n",
       "      <td>-73.823806</td>\n",
       "      <td>-2.027105</td>\n",
       "      <td>1.0</td>\n",
       "      <td>-1.0</td>\n",
       "      <td>0</td>\n",
       "    </tr>\n",
       "  </tbody>\n",
       "</table>\n",
       "</div>"
      ],
      "text/plain": [
       "    asset1  asset2     fitted   residual         z  z upper limit  \\\n",
       "27   21.24   56.82  92.783712 -71.543712 -1.845965            1.0   \n",
       "28   21.55   58.34  94.239537 -72.689537 -1.936994            1.0   \n",
       "29   21.68   59.66  95.503806 -73.823806 -2.027105            1.0   \n",
       "\n",
       "    z lower limit  signals1  \n",
       "27           -1.0         0  \n",
       "28           -1.0         0  \n",
       "29           -1.0         0  "
      ]
     },
     "execution_count": 25,
     "metadata": {},
     "output_type": "execute_result"
    }
   ],
   "source": [
    "signals['signals1']=0\n",
    "signals.head(3)"
   ]
  },
  {
   "cell_type": "code",
   "execution_count": 29,
   "metadata": {},
   "outputs": [
    {
     "data": {
      "text/html": [
       "<div>\n",
       "<style scoped>\n",
       "    .dataframe tbody tr th:only-of-type {\n",
       "        vertical-align: middle;\n",
       "    }\n",
       "\n",
       "    .dataframe tbody tr th {\n",
       "        vertical-align: top;\n",
       "    }\n",
       "\n",
       "    .dataframe thead th {\n",
       "        text-align: right;\n",
       "    }\n",
       "</style>\n",
       "<table border=\"1\" class=\"dataframe\">\n",
       "  <thead>\n",
       "    <tr style=\"text-align: right;\">\n",
       "      <th></th>\n",
       "      <th>asset1</th>\n",
       "      <th>asset2</th>\n",
       "      <th>fitted</th>\n",
       "      <th>residual</th>\n",
       "      <th>z</th>\n",
       "      <th>z upper limit</th>\n",
       "      <th>z lower limit</th>\n",
       "      <th>signals1</th>\n",
       "    </tr>\n",
       "  </thead>\n",
       "  <tbody>\n",
       "    <tr>\n",
       "      <td>27</td>\n",
       "      <td>21.24</td>\n",
       "      <td>56.82</td>\n",
       "      <td>92.783712</td>\n",
       "      <td>-71.543712</td>\n",
       "      <td>-1.845965</td>\n",
       "      <td>1.0</td>\n",
       "      <td>-1.0</td>\n",
       "      <td>1</td>\n",
       "    </tr>\n",
       "    <tr>\n",
       "      <td>28</td>\n",
       "      <td>21.55</td>\n",
       "      <td>58.34</td>\n",
       "      <td>94.239537</td>\n",
       "      <td>-72.689537</td>\n",
       "      <td>-1.936994</td>\n",
       "      <td>1.0</td>\n",
       "      <td>-1.0</td>\n",
       "      <td>1</td>\n",
       "    </tr>\n",
       "    <tr>\n",
       "      <td>29</td>\n",
       "      <td>21.68</td>\n",
       "      <td>59.66</td>\n",
       "      <td>95.503806</td>\n",
       "      <td>-73.823806</td>\n",
       "      <td>-2.027105</td>\n",
       "      <td>1.0</td>\n",
       "      <td>-1.0</td>\n",
       "      <td>1</td>\n",
       "    </tr>\n",
       "  </tbody>\n",
       "</table>\n",
       "</div>"
      ],
      "text/plain": [
       "    asset1  asset2     fitted   residual         z  z upper limit  \\\n",
       "27   21.24   56.82  92.783712 -71.543712 -1.845965            1.0   \n",
       "28   21.55   58.34  94.239537 -72.689537 -1.936994            1.0   \n",
       "29   21.68   59.66  95.503806 -73.823806 -2.027105            1.0   \n",
       "\n",
       "    z lower limit  signals1  \n",
       "27           -1.0         1  \n",
       "28           -1.0         1  \n",
       "29           -1.0         1  "
      ]
     },
     "execution_count": 29,
     "metadata": {},
     "output_type": "execute_result"
    }
   ],
   "source": [
    "#as z statistics cannot exceed both upper and lower bounds at the same time\n",
    "#this line holds\n",
    "signals['signals1']=np.select([signals['z']>signals['z upper limit'],\n",
    "                               signals['z']<signals['z lower limit']],\n",
    "                               [-1,1],default=0)\n",
    "signals.head(3)"
   ]
  },
  {
   "cell_type": "code",
   "execution_count": 31,
   "metadata": {},
   "outputs": [
    {
     "data": {
      "text/html": [
       "<div>\n",
       "<style scoped>\n",
       "    .dataframe tbody tr th:only-of-type {\n",
       "        vertical-align: middle;\n",
       "    }\n",
       "\n",
       "    .dataframe tbody tr th {\n",
       "        vertical-align: top;\n",
       "    }\n",
       "\n",
       "    .dataframe thead th {\n",
       "        text-align: right;\n",
       "    }\n",
       "</style>\n",
       "<table border=\"1\" class=\"dataframe\">\n",
       "  <thead>\n",
       "    <tr style=\"text-align: right;\">\n",
       "      <th></th>\n",
       "      <th>asset1</th>\n",
       "      <th>asset2</th>\n",
       "      <th>fitted</th>\n",
       "      <th>residual</th>\n",
       "      <th>z</th>\n",
       "      <th>z upper limit</th>\n",
       "      <th>z lower limit</th>\n",
       "      <th>signals1</th>\n",
       "      <th>positions1</th>\n",
       "      <th>signals2</th>\n",
       "      <th>positions2</th>\n",
       "    </tr>\n",
       "  </thead>\n",
       "  <tbody>\n",
       "    <tr>\n",
       "      <td>27</td>\n",
       "      <td>21.24</td>\n",
       "      <td>56.82</td>\n",
       "      <td>92.783712</td>\n",
       "      <td>-71.543712</td>\n",
       "      <td>-1.845965</td>\n",
       "      <td>1.0</td>\n",
       "      <td>-1.0</td>\n",
       "      <td>1</td>\n",
       "      <td>NaN</td>\n",
       "      <td>-1</td>\n",
       "      <td>NaN</td>\n",
       "    </tr>\n",
       "    <tr>\n",
       "      <td>28</td>\n",
       "      <td>21.55</td>\n",
       "      <td>58.34</td>\n",
       "      <td>94.239537</td>\n",
       "      <td>-72.689537</td>\n",
       "      <td>-1.936994</td>\n",
       "      <td>1.0</td>\n",
       "      <td>-1.0</td>\n",
       "      <td>1</td>\n",
       "      <td>0.0</td>\n",
       "      <td>-1</td>\n",
       "      <td>0.0</td>\n",
       "    </tr>\n",
       "    <tr>\n",
       "      <td>29</td>\n",
       "      <td>21.68</td>\n",
       "      <td>59.66</td>\n",
       "      <td>95.503806</td>\n",
       "      <td>-73.823806</td>\n",
       "      <td>-2.027105</td>\n",
       "      <td>1.0</td>\n",
       "      <td>-1.0</td>\n",
       "      <td>1</td>\n",
       "      <td>0.0</td>\n",
       "      <td>-1</td>\n",
       "      <td>0.0</td>\n",
       "    </tr>\n",
       "  </tbody>\n",
       "</table>\n",
       "</div>"
      ],
      "text/plain": [
       "    asset1  asset2     fitted   residual         z  z upper limit  \\\n",
       "27   21.24   56.82  92.783712 -71.543712 -1.845965            1.0   \n",
       "28   21.55   58.34  94.239537 -72.689537 -1.936994            1.0   \n",
       "29   21.68   59.66  95.503806 -73.823806 -2.027105            1.0   \n",
       "\n",
       "    z lower limit  signals1  positions1  signals2  positions2  \n",
       "27           -1.0         1         NaN        -1         NaN  \n",
       "28           -1.0         1         0.0        -1         0.0  \n",
       "29           -1.0         1         0.0        -1         0.0  "
      ]
     },
     "execution_count": 31,
     "metadata": {},
     "output_type": "execute_result"
    }
   ],
   "source": [
    "#signals only imply holding\n",
    "#we take the first order difference to obtain the execution signal\n",
    "signals['positions1']=signals['signals1'].diff()\n",
    "signals['signals2']=-signals['signals1']\n",
    "signals['positions2']=signals['signals2'].diff()\n",
    "signals.head(3)"
   ]
  },
  {
   "cell_type": "code",
   "execution_count": 33,
   "metadata": {},
   "outputs": [
    {
     "data": {
      "text/html": [
       "<div>\n",
       "<style scoped>\n",
       "    .dataframe tbody tr th:only-of-type {\n",
       "        vertical-align: middle;\n",
       "    }\n",
       "\n",
       "    .dataframe tbody tr th {\n",
       "        vertical-align: top;\n",
       "    }\n",
       "\n",
       "    .dataframe thead th {\n",
       "        text-align: right;\n",
       "    }\n",
       "</style>\n",
       "<table border=\"1\" class=\"dataframe\">\n",
       "  <thead>\n",
       "    <tr style=\"text-align: right;\">\n",
       "      <th></th>\n",
       "      <th>asset1</th>\n",
       "      <th>asset2</th>\n",
       "      <th>fitted</th>\n",
       "      <th>residual</th>\n",
       "      <th>z</th>\n",
       "      <th>z upper limit</th>\n",
       "      <th>z lower limit</th>\n",
       "      <th>signals1</th>\n",
       "      <th>positions1</th>\n",
       "      <th>signals2</th>\n",
       "      <th>positions2</th>\n",
       "    </tr>\n",
       "  </thead>\n",
       "  <tbody>\n",
       "    <tr>\n",
       "      <td>27</td>\n",
       "      <td>21.24</td>\n",
       "      <td>56.82</td>\n",
       "      <td>92.783712</td>\n",
       "      <td>-71.543712</td>\n",
       "      <td>-1.845965</td>\n",
       "      <td>1.0</td>\n",
       "      <td>-1.0</td>\n",
       "      <td>1</td>\n",
       "      <td>1.0</td>\n",
       "      <td>-1</td>\n",
       "      <td>-1.0</td>\n",
       "    </tr>\n",
       "    <tr>\n",
       "      <td>28</td>\n",
       "      <td>21.55</td>\n",
       "      <td>58.34</td>\n",
       "      <td>94.239537</td>\n",
       "      <td>-72.689537</td>\n",
       "      <td>-1.936994</td>\n",
       "      <td>1.0</td>\n",
       "      <td>-1.0</td>\n",
       "      <td>1</td>\n",
       "      <td>0.0</td>\n",
       "      <td>-1</td>\n",
       "      <td>0.0</td>\n",
       "    </tr>\n",
       "    <tr>\n",
       "      <td>29</td>\n",
       "      <td>21.68</td>\n",
       "      <td>59.66</td>\n",
       "      <td>95.503806</td>\n",
       "      <td>-73.823806</td>\n",
       "      <td>-2.027105</td>\n",
       "      <td>1.0</td>\n",
       "      <td>-1.0</td>\n",
       "      <td>1</td>\n",
       "      <td>0.0</td>\n",
       "      <td>-1</td>\n",
       "      <td>0.0</td>\n",
       "    </tr>\n",
       "  </tbody>\n",
       "</table>\n",
       "</div>"
      ],
      "text/plain": [
       "    asset1  asset2     fitted   residual         z  z upper limit  \\\n",
       "27   21.24   56.82  92.783712 -71.543712 -1.845965            1.0   \n",
       "28   21.55   58.34  94.239537 -72.689537 -1.936994            1.0   \n",
       "29   21.68   59.66  95.503806 -73.823806 -2.027105            1.0   \n",
       "\n",
       "    z lower limit  signals1  positions1  signals2  positions2  \n",
       "27           -1.0         1         1.0        -1        -1.0  \n",
       "28           -1.0         1         0.0        -1         0.0  \n",
       "29           -1.0         1         0.0        -1         0.0  "
      ]
     },
     "execution_count": 33,
     "metadata": {},
     "output_type": "execute_result"
    }
   ],
   "source": [
    "#fix initial positions issue\n",
    "if signals['signals1'].iloc[0]!=0:\n",
    "    signals['positions1'].iloc[0]=signals['signals1'].iloc[0]\n",
    "    signals['positions2'].iloc[0]=signals['signals2'].iloc[0]  \n",
    "signals.head(3)"
   ]
  },
  {
   "cell_type": "code",
   "execution_count": null,
   "metadata": {},
   "outputs": [],
   "source": []
  }
 ],
 "metadata": {
  "kernelspec": {
   "display_name": "Python 3",
   "language": "python",
   "name": "python3"
  },
  "language_info": {
   "codemirror_mode": {
    "name": "ipython",
    "version": 3
   },
   "file_extension": ".py",
   "mimetype": "text/x-python",
   "name": "python",
   "nbconvert_exporter": "python",
   "pygments_lexer": "ipython3",
   "version": "3.7.4"
  }
 },
 "nbformat": 4,
 "nbformat_minor": 2
}
