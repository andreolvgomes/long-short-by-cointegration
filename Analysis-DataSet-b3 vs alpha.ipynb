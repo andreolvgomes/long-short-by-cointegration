{
 "cells": [
  {
   "cell_type": "code",
   "execution_count": 1,
   "metadata": {},
   "outputs": [],
   "source": [
    "import pandas as pd"
   ]
  },
  {
   "cell_type": "code",
   "execution_count": 13,
   "metadata": {},
   "outputs": [
    {
     "data": {
      "text/plain": [
       "((300, 72), (300, 76))"
      ]
     },
     "execution_count": 13,
     "metadata": {},
     "output_type": "execute_result"
    }
   ],
   "source": [
    "data_cart = pd.read_csv('datasets/data_cart.csv')\n",
    "data_alpha = pd.read_csv('datasets/data_alpha.csv')\n",
    "data_cart.shape, data_alpha.shape"
   ]
  },
  {
   "cell_type": "code",
   "execution_count": 82,
   "metadata": {},
   "outputs": [
    {
     "data": {
      "text/plain": [
       "[]"
      ]
     },
     "execution_count": 82,
     "metadata": {},
     "output_type": "execute_result"
    }
   ],
   "source": [
    "# check dates\n",
    "differentes=[]\n",
    "for dt in data_alpha['Data'].tolist():\n",
    "    if dt not in data_cart['Data'].tolist():\n",
    "        differentes.append(dt)\n",
    "\n",
    "for dt in data_cart['Data'].tolist():\n",
    "    if dt not in data_alpha['Data'].tolist():\n",
    "        differentes.append(dt)\n",
    "differentes"
   ]
  },
  {
   "cell_type": "markdown",
   "metadata": {},
   "source": [
    "Remove as datas"
   ]
  },
  {
   "cell_type": "code",
   "execution_count": 86,
   "metadata": {},
   "outputs": [],
   "source": [
    "data_alpha.drop(data_alpha[(data_alpha['Data'].isin(differentes))].index, inplace=True)\n",
    "data_cart.drop(data_cart[(data_cart['Data'].isin(differentes))].index, inplace=True)"
   ]
  },
  {
   "cell_type": "markdown",
   "metadata": {},
   "source": [
    "Cria um DataFrame pra analisar a diferença"
   ]
  },
  {
   "cell_type": "code",
   "execution_count": 108,
   "metadata": {},
   "outputs": [
    {
     "data": {
      "text/html": [
       "<div>\n",
       "<style scoped>\n",
       "    .dataframe tbody tr th:only-of-type {\n",
       "        vertical-align: middle;\n",
       "    }\n",
       "\n",
       "    .dataframe tbody tr th {\n",
       "        vertical-align: top;\n",
       "    }\n",
       "\n",
       "    .dataframe thead th {\n",
       "        text-align: right;\n",
       "    }\n",
       "</style>\n",
       "<table border=\"1\" class=\"dataframe\">\n",
       "  <thead>\n",
       "    <tr style=\"text-align: right;\">\n",
       "      <th></th>\n",
       "      <th>Data</th>\n",
       "      <th>B3</th>\n",
       "      <th>Alpha</th>\n",
       "      <th>Diff</th>\n",
       "    </tr>\n",
       "  </thead>\n",
       "  <tbody>\n",
       "    <tr>\n",
       "      <td>0</td>\n",
       "      <td>28/03/2019</td>\n",
       "      <td>42.22</td>\n",
       "      <td>35.1833</td>\n",
       "      <td>7.0367</td>\n",
       "    </tr>\n",
       "    <tr>\n",
       "      <td>1</td>\n",
       "      <td>29/03/2019</td>\n",
       "      <td>42.94</td>\n",
       "      <td>35.7833</td>\n",
       "      <td>7.1567</td>\n",
       "    </tr>\n",
       "    <tr>\n",
       "      <td>26</td>\n",
       "      <td>07/05/2019</td>\n",
       "      <td>34.77</td>\n",
       "      <td>31.6091</td>\n",
       "      <td>3.1609</td>\n",
       "    </tr>\n",
       "    <tr>\n",
       "      <td>66</td>\n",
       "      <td>03/07/2019</td>\n",
       "      <td>38.24</td>\n",
       "      <td>38.4000</td>\n",
       "      <td>-0.1600</td>\n",
       "    </tr>\n",
       "    <tr>\n",
       "      <td>85</td>\n",
       "      <td>31/07/2019</td>\n",
       "      <td>34.50</td>\n",
       "      <td>31.3636</td>\n",
       "      <td>3.1364</td>\n",
       "    </tr>\n",
       "    <tr>\n",
       "      <td>218</td>\n",
       "      <td>11/02/2020</td>\n",
       "      <td>34.39</td>\n",
       "      <td>31.2636</td>\n",
       "      <td>3.1264</td>\n",
       "    </tr>\n",
       "    <tr>\n",
       "      <td>256</td>\n",
       "      <td>08/04/2020</td>\n",
       "      <td>22.40</td>\n",
       "      <td>20.3636</td>\n",
       "      <td>2.0364</td>\n",
       "    </tr>\n",
       "    <tr>\n",
       "      <td>257</td>\n",
       "      <td>09/04/2020</td>\n",
       "      <td>22.39</td>\n",
       "      <td>20.3545</td>\n",
       "      <td>2.0355</td>\n",
       "    </tr>\n",
       "    <tr>\n",
       "      <td>258</td>\n",
       "      <td>13/04/2020</td>\n",
       "      <td>22.97</td>\n",
       "      <td>20.8818</td>\n",
       "      <td>2.0882</td>\n",
       "    </tr>\n",
       "  </tbody>\n",
       "</table>\n",
       "</div>"
      ],
      "text/plain": [
       "           Data     B3    Alpha    Diff\n",
       "0    28/03/2019  42.22  35.1833  7.0367\n",
       "1    29/03/2019  42.94  35.7833  7.1567\n",
       "26   07/05/2019  34.77  31.6091  3.1609\n",
       "66   03/07/2019  38.24  38.4000 -0.1600\n",
       "85   31/07/2019  34.50  31.3636  3.1364\n",
       "218  11/02/2020  34.39  31.2636  3.1264\n",
       "256  08/04/2020  22.40  20.3636  2.0364\n",
       "257  09/04/2020  22.39  20.3545  2.0355\n",
       "258  13/04/2020  22.97  20.8818  2.0882"
      ]
     },
     "execution_count": 108,
     "metadata": {},
     "output_type": "execute_result"
    }
   ],
   "source": [
    "symbol = 'BBDC4'\n",
    "data_tuples = list(zip(data_cart['Data'], data_cart[symbol], data_alpha[symbol]))\n",
    "dtconcat = pd.DataFrame(data_tuples, columns=['Data','B3', 'Alpha'])\n",
    "dtconcat['Diff'] = (dtconcat['B3']-dtconcat['Alpha'])\n",
    "dtconcat[dtconcat['Diff']!=0]"
   ]
  },
  {
   "cell_type": "code",
   "execution_count": null,
   "metadata": {},
   "outputs": [],
   "source": []
  }
 ],
 "metadata": {
  "kernelspec": {
   "display_name": "Python 3",
   "language": "python",
   "name": "python3"
  },
  "language_info": {
   "codemirror_mode": {
    "name": "ipython",
    "version": 3
   },
   "file_extension": ".py",
   "mimetype": "text/x-python",
   "name": "python",
   "nbconvert_exporter": "python",
   "pygments_lexer": "ipython3",
   "version": "3.7.4"
  }
 },
 "nbformat": 4,
 "nbformat_minor": 2
}
