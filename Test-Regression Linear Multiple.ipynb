{
 "cells": [
  {
   "cell_type": "code",
   "execution_count": 1,
   "metadata": {},
   "outputs": [],
   "source": [
    "import numpy as np\n",
    "import pandas as pd\n",
    "import os\n",
    "import statsmodels.api as sm\n",
    "import statsmodels.tsa.stattools as ts\n",
    "import matplotlib.pyplot as plt\n",
    "from pykalman import KalmanFilter\n",
    "import statistics\n",
    "import seaborn as sns; sns.set(style=\"whitegrid\")\n",
    "import math\n",
    "%run Cointegration.py\n",
    "%matplotlib inline"
   ]
  },
  {
   "cell_type": "code",
   "execution_count": 113,
   "metadata": {},
   "outputs": [],
   "source": [
    "def coefficients(y, x, period):\n",
    "    model = regression(y, x, period)\n",
    "    return {\"temp\":model.params['temp'],\n",
    "            \"angular\":model.params['x'],\n",
    "            \"intercept\":model.params['const']}\n",
    "\n",
    "def regression(y, x, period):\n",
    "    y, x = get_values(y, x, period)\n",
    "    pairs = pd.DataFrame()\n",
    "    \n",
    "    pairs['y'] = y\n",
    "    pairs['x'] = x\n",
    "    pairs['temp'] = timeline(period)\n",
    "    \n",
    "    X = pairs[['x', 'temp']]\n",
    "    X = sm.add_constant(X)\n",
    "    model = sm.OLS(pairs['y'], X).fit()\n",
    "    return model\n",
    "\n",
    "#O desvio padrão de uma estimativa é chamado de erro padrão\n",
    "def stderr(y, x, period):\n",
    "    model = regression(y, x, period)\n",
    "    return {\"temp\":model.bse['temp'],\n",
    "            \"angular\":model.bse['x'],\n",
    "            \"intercept\":model.bse['const']}\n",
    "    \n",
    "def residue(y, x, period):\n",
    "    y, x = get_values(y, x, period)\n",
    "    coef = coefficients(y, x, period)\n",
    "    temp = timeline(period)\n",
    "    res = y-coef['angular']*x-temp*coef['temp']-coef['intercept']\n",
    "    #res[0]=0\n",
    "    return res\n",
    "\n",
    "def timeline(period):\n",
    "    numbers = np.arange(1, period+1)\n",
    "    temp = period - numbers + 1\n",
    "    return temp\n",
    "\n",
    "def lot(y_lot, coef):\n",
    "    return [y_lot, int(y_lot*coef['angular'])]\n",
    "\n",
    "def returns(y, x, period):\n",
    "    y, x = get_values(y, x, period)\n",
    "    y_log = np.log(y/y.shift(1))\n",
    "    x_log = np.log(x/x.shift(1))\n",
    "    return [y_log, x_log]\n",
    "    \n",
    "def get_values(y, x, period):\n",
    "    if(period <= 0):\n",
    "        return y, x\n",
    "    \n",
    "    y = y.iloc[:period]\n",
    "    x = x.iloc[:period]\n",
    "    return y, x\n",
    "\n",
    "def correlation(y, x, period):\n",
    "    y_log, x_log = returns(y, x, period)\n",
    "    return y_log.corr(x_log)\n",
    "\n",
    "def getdata(data, period):\n",
    "    data_max = data[:period]\n",
    "    return data_max\n",
    "\n",
    "def invert(y, x, period):\n",
    "    coef_main = coefficients(y, x, period)\n",
    "    coef_invert = coefficients(x, y, period)\n",
    "    if (abs(coef_main['temp'])<=abs(coef_invert['temp'])):\n",
    "        return False\n",
    "    return True\n",
    "\n",
    "def ratio_diff(y, x, period):\n",
    "    coef = coefficients(y, x, period)\n",
    "    res = residue(y, x, period)\n",
    "    diff = res.shift(1)-res\n",
    "    diff[0]=0\n",
    "    return diff\n",
    "\n",
    "def ratio_continuo(y, x, period):\n",
    "    y, x = get_values(y, x, period)\n",
    "    return y-x\n",
    "    \n",
    "def intercept_coef(y, x, period):\n",
    "    coef = coefficients(y, x, period)\n",
    "    res = residue(y, x, period)\n",
    "    diff = ratio_diff(y, x, period)\n",
    "\n",
    "    target = pd.DataFrame(res, columns=[\"target\"])\n",
    "    target = sm.add_constant(target)\n",
    "    model = sm.OLS(diff, target).fit()\n",
    "    return model.params['target']\n",
    "\n",
    "def intercept_inter(y, x, period):\n",
    "    ratio_cont = ratio_continuo(y, x, period)\n",
    "    ratio_cont[0]=0\n",
    "    diff_r = ratio_diff(y, x, period)\n",
    "    \n",
    "    ratio_cont = sm.add_constant(ratio_cont)\n",
    "    model = sm.OLS(diff_r, ratio_cont).fit()\n",
    "    return model.params['const']\n",
    "\n",
    "def ornstein_uhlenbeck(y, x, period):\n",
    "    coef = intercept_coef(y, x, period)\n",
    "    \n",
    "    beta = -np.log(1+intercept_coef(y, x, period))\n",
    "    alpha = -(coef/intercept_inter(y, x, period))\n",
    "    \n",
    "    std = residue(y, x, period).std()\n",
    "    sigma=std*np.sqrt(np.log(1+coef)/(np.power((1+coef),2)-1))\n",
    "    \n",
    "    half = 2/beta\n",
    "    return {\n",
    "        \"halffile\": half,\n",
    "        \"beta\": beta,\n",
    "        \"alpha\": alpha,\n",
    "        \"sigma\": sigma\n",
    "    }\n",
    "\n",
    "def halflife_ser(y, x, period):\n",
    "    return ornstein_uhlenbeck(y, x, period)['halffile']\n",
    "\n",
    "def halflile(series):\n",
    "    lag = np.roll(series, 1)\n",
    "    lag[0] = 0\n",
    "    ret = series - lag\n",
    "    ret[0] = 0\n",
    "\n",
    "    # adds intercept terms to X variable for regression\n",
    "    lag2 = sm.add_constant(lag)\n",
    "    res = sm.OLS(ret, lag2).fit()\n",
    "    half_life = int(round(-np.log(2) / res.params[1],0))\n",
    "\n",
    "    if half_life <= 0:\n",
    "        half_life = 1\n",
    "    return half_life\n",
    "    \n",
    "def statisticspair(y, x, desv_input, period):\n",
    "    res = residue(y, x, period)\n",
    "    std = res.std()\n",
    "    return {\n",
    "        \"std\": std,\n",
    "        \"std_up\": desv_input*std,\n",
    "        \"std_down\": -desv_input*std,\n",
    "        \"mean\": res.mean(),\n",
    "        \"min\": np.min(res)-2*std,\n",
    "        \"max\": np.max(res)+2*std\n",
    "    }\n",
    "\n",
    "def trade_stop(y, x, period):\n",
    "    res = residue(y, x, period)\n",
    "    \n",
    "    # acima do quadro \"ESTATÍSTICAS\"\n",
    "    std_down = res.mean()-3.1*res.std()\n",
    "    std_up = res.mean()+3.1*res.std()\n",
    "    \n",
    "    est = coefficients(y, x, period)\n",
    "    l_res = res[0]\n",
    "    price = x[0]\n",
    "    \n",
    "    value1 = (price*est['angular']+est['intercept']+l_res+est['temp']*period+min(l_res-std_down,std_up-l_res)*sinal(l_res))/price\n",
    "    value2 = price/(price*est['angular']+est['intercept']+l_res+est['temp']*period+min(l_res-std_down,std_up-l_res)*sinal(l_res))\n",
    "    return max(value1, value2)\n",
    "\n",
    "def trade_output(y, x, period):\n",
    "    price = x[0]\n",
    "    est = coefficients(y, x, period)\n",
    "    value1 = (est['angular']*price+est['intercept']+est['temp']*period)/price\n",
    "    value2 = 1/((est['angular']*price+est['intercept']+est['temp']*period)/price)\n",
    "    return max(value1, value2)\n",
    "\n",
    "def trade_input(y, x, period):\n",
    "    price = x[0]\n",
    "    res = residue(y, x, period)\n",
    "    l_res = res[0]\n",
    "    est = coefficients(y, x, period)\n",
    "    std_up = 2*res.std()\n",
    "    std_down = -2*res.std()\n",
    "\n",
    "    value1 = (price*est['angular']+est['intercept']+l_res+est['temp']*period+min(l_res-std_down,std_up-l_res)*sinal(l_res))/price\n",
    "    value2 = price/(price*est['angular']+est['intercept']+l_res+est['temp']*period+min(l_res-std_down,std_up-l_res)*sinal(l_res))\n",
    "    return max(value1, value2)\n",
    "\n",
    "def ratio_current(y, x):\n",
    "    ratio = y[0]/x[0]\n",
    "    return {\n",
    "        \"ratio\": ratio,\n",
    "        \"value\": 1/ratio\n",
    "    }\n",
    "\n",
    "def loss_percent(y, x, period):\n",
    "    return -abs(trade_stop(y, x, period)/trade_input(y, x, period)-1)\n",
    "\n",
    "def current_percent(y, x, period):\n",
    "    ratio = ratio_current(y, x)\n",
    "    return abs(trade_output(y, x, period)/max(ratio['ratio'], ratio['value'])-1)\n",
    "\n",
    "def return_percent(y, x, period):\n",
    "    return abs(trade_output(y, x, period)/trade_input(y, x, period)-1)\n",
    "\n",
    "def loss(y, x, lot, period):\n",
    "    return y[0]*lot*loss_percent(y, x, period)\n",
    "\n",
    "def gain(y, x, lot, period):\n",
    "    return current_percent(y, x, period)*lot*y[0]\n",
    "    \n",
    "def sinal(value):\n",
    "    if(value < 0):\n",
    "        return -1\n",
    "    return 1\n",
    "\n",
    "def dickey_fuller(series):\n",
    "    model = ts.adfuller(series, 1)\n",
    "    p_value = model[1]\n",
    "    statistic = model[0]\n",
    "\n",
    "    # Dickey-Fuller\n",
    "    is_stationary = False\n",
    "    if (p_value < .05):\n",
    "        is_stationary = True\n",
    "\n",
    "    # Augmented Dickey Fuller (ADF)\n",
    "    perc_stat = 0\n",
    "    if (abs(statistic) > abs(model[4]['1%'])):\n",
    "        perc_stat = 99\n",
    "    elif (abs(statistic) > abs(model[4]['5%'])):\n",
    "        perc_stat = 95\n",
    "    elif (abs(statistic) > abs(model[4]['10%'])):\n",
    "        perc_stat = 90\n",
    "        \n",
    "    return {\n",
    "        \"is_stationary\": is_stationary,\n",
    "        \"p_value\": p_value,\n",
    "        \"adf\": perc_stat,\n",
    "        \"statistic\": statistic\n",
    "    }\n",
    "\n",
    "#função DESVQ do excel\n",
    "def desvq(values):\n",
    "    return np.power(values-values.mean(), 2).sum()\n",
    "\n",
    "#função EPADYX do excel\n",
    "def epadyx(y, x):\n",
    "    res = residue(y, x, period)\n",
    "    rdiff = ratio_diff(y, x, period)\n",
    "    X = sm.add_constant(res)\n",
    "    fit = sm.OLS(rdiff, X).fit()\n",
    "    return np.sqrt(fit.mse_resid)\n",
    "    \n",
    "def adf_ser(y, x, period):\n",
    "    res = residue(y, x, period)\n",
    "    rdiff = ratio_diff(y, x, period)\n",
    "    res[0]=0\n",
    "    rdiff[0]=0\n",
    "\n",
    "    inter_cof = intercept_coef(y, x, period)\n",
    "    return inter_cof/(epadyx(rdiff, res)/np.sqrt(desvq(res)))\n",
    "\n",
    "def rejeitado_h0(adf):\n",
    "    if adf<=0:\n",
    "        if adf<=-4.32: return 99\n",
    "        if adf<=-3.67: return 95\n",
    "        if adf<=-3.28: return 90\n",
    "    else:\n",
    "        if adf<=-3.58: return 99\n",
    "        if adf<=-3.22: return 95\n",
    "        if adf<=-2.6: return 90\n",
    "    return 0\n",
    "\n",
    "def dickey_fuller_ger(y, x, period):\n",
    "    adf_statistic = adf_ser(y, x, period)\n",
    "    rej = rejeitado_h0(adf_statistic)\n",
    "    return {\n",
    "        \"statistic\": adf_statistic,\n",
    "        \"adf\": rej\n",
    "    }\n",
    "\n",
    "\"\"\"def acerta_t0(y, x, period):\n",
    "    reg = regression(y, x, period)\n",
    "    coef_temp = reg.params['temp']\n",
    "    err_temp = reg.bse['temp']\n",
    "    v_t = (coef_temp/err_temp)\n",
    "    return (abs(v_t)<AW5;99%;0)\"\"\"\n",
    "\n",
    "def signal(y, x, desv_input, period):\n",
    "    y, x, get_values(y, x, period)\n",
    "    resid = residue(y, x, period)[::-1]\n",
    "    \n",
    "    std = resid.std()\n",
    "    resid_current = resid.iloc[-1]\n",
    "    zscore_up = desv_input*std\n",
    "    zscore_down = -desv_input*std\n",
    "    zcurrent = 0\n",
    "    descr = ''\n",
    "    \n",
    "    # >0; resíduo acima da linha 0\n",
    "    if(resid_current > resid.mean()):\n",
    "        descr = 'Short/Long'\n",
    "        zcurrent = zscore_up\n",
    "    else:\n",
    "        descr = 'Long/Short'\n",
    "        zcurrent = zscore_down\n",
    "    \n",
    "    percent = (abs(resid_current)/abs(zcurrent))\n",
    "    #1-descr\n",
    "    #2-resíduo atual\n",
    "    #3-percent distância da linha 0, quanto maior, melhor\n",
    "    return {\n",
    "        \"descr\": descr, \n",
    "        \"resid_current\": resid_current, \n",
    "        \"percent_dist_mean\": percent}\n",
    "\n",
    "def find(data):\n",
    "    rows = []\n",
    "    index=-1\n",
    "    \n",
    "    for y_symbol in data.columns:\n",
    "        index = index + 1\n",
    "        for x_symbol in data.columns[index+1:data.shape[1]]:#for x_symbol in data.columns:\n",
    "            if (y_symbol == x_symbol):\n",
    "                continue\n",
    "                \n",
    "            for period in [250, 240, 220, 200, 180, 160, 140, 120, 100]:\n",
    "                y, x = get_values(data[y_symbol], data[x_symbol], period)\n",
    "                dickey = dickey_fuller(residue(y, x, period))\n",
    "                \n",
    "                # find only an is stationary, then break looping\n",
    "                if (dickey['is_stationary']):\n",
    "                    coeff = coefficients(y, x, period)\n",
    "                    rows.append([period, y_symbol, x_symbol, dickey['p_value'], dickey['adf'], coeff['angular']])\n",
    "                    break\n",
    "            \n",
    "            # for only testing\n",
    "            if (len(rows) >= 1):\n",
    "                break\n",
    "    return rows\n",
    "\n",
    "def find_pairs(data):\n",
    "    df_pairs = pd.DataFrame(find(data), columns=['Period', 'Dependent', 'Independent', 'Dickey-Fuller', 'ADF', 'Beta'])\n",
    "    return df_pairs\n",
    "\n",
    "def apply_halflife(data, pairs):\n",
    "    pairs['HalfLife'] = 0\n",
    "    for i, row in pairs.iterrows():\n",
    "        period = row['Period']\n",
    "        y, x = get_values(data[row['Dependent']], data[row['Independent']], period)\n",
    "        \n",
    "        half = halflile(residue(y, x, period))\n",
    "        pairs['HalfLife'].iloc[i]=half\n",
    "\n",
    "def apply_corr(data, pairs):\n",
    "    pairs['Corr'] = 0\n",
    "    for i, row in pairs.iterrows():\n",
    "        period = row['Period']\n",
    "        y, x = get_values(data[row['Dependent']], data[row['Independent']], period)\n",
    "\n",
    "        corr = correlation(y, x, period)\n",
    "        pairs['Corr'].iloc[i] = corr\n",
    "        \n",
    "def apply_signal(data, pairs, desv_input):\n",
    "    pairs['Signal'] = 0\n",
    "    pairs['SignalStr'] = ''\n",
    "    \n",
    "    for i, row in pairs.iterrows():\n",
    "        period = row['Period']\n",
    "        y, x = get_values(data[row['Dependent']], data[row['Independent']], period)\n",
    "        \n",
    "        sig = signal(y, x, desv_input, period)\n",
    "        pairs['Signal'].iloc[i] = sig['descr']\n",
    "        pairs['SignalStr'].iloc[i] = sig['percent_dist_mean']\n",
    "        \n",
    "\"\"\"def apply_periods(data, pairs):\n",
    "    pairs['PeriodQt'] = 0\n",
    "    pairs['PeriodStr'] = ''\n",
    "    for i, row in pairs.iterrows():\n",
    "        y = data[row['Dependent']]\n",
    "        x = data[row['Independent']]\n",
    "        \n",
    "        analysis = analysis_by_periods(y, x)\n",
    "        stationary = analysis.loc[(analysis['Stationary'])]\n",
    "\n",
    "        des = ''\n",
    "        for j, row in stationary.iterrows():\n",
    "            if (des!=''):\n",
    "                des=des+','\n",
    "            des=des+str(row['Period'])\n",
    "\n",
    "        pairs['PeriodQt'].iloc[i] = stationary.shape[0]\n",
    "        pairs['PeriodStr'].iloc[i] = des\"\"\"\n",
    "\n",
    "def check_periods(y, x):\n",
    "    periods=[]\n",
    "    for period in [100, 120, 140, 160, 180, 200, 220, 240, 250]:\n",
    "        dickey = dickey_fuller(residue(y, x, period))\n",
    "        if (dickey['is_stationary']):\n",
    "            periods.append(period)\n",
    "    return periods\n",
    "        \n",
    "def analysis_periods(y, x):\n",
    "    rows=[]\n",
    "    \n",
    "    for period in [100, 120, 140, 160, 180, 200, 220, 240, 250]:\n",
    "        y_values, x_values = get_values(y, x, period)\n",
    "\n",
    "        res_dic = cointegration(y_values, x_values, 0)\n",
    "        half_life = check_halflife(y_values, x_values)\n",
    "        hurst = check_hurst(y_values, x_values)\n",
    "        corr = corr_pearson(y_values, x_values)\n",
    "\n",
    "        rows.append([period, res_dic['is_stationary'], res_dic['p_value'], res_dic['perc_stat'], res_dic['beta'], half_life, hurst, corr])\n",
    "        \n",
    "    analysis = pd.DataFrame(rows, columns=['Period', 'Stationary', 'Dickey-Fuller', 'ADF', 'Beta', 'HalfLife', 'Hurst', 'Corr'])\n",
    "    return analysis"
   ]
  },
  {
   "cell_type": "code",
   "execution_count": 114,
   "metadata": {},
   "outputs": [
    {
     "data": {
      "text/plain": [
       "[100, 220, 240, 250]"
      ]
     },
     "execution_count": 114,
     "metadata": {},
     "output_type": "execute_result"
    }
   ],
   "source": [
    "check_periods(y, x)"
   ]
  },
  {
   "cell_type": "code",
   "execution_count": 115,
   "metadata": {},
   "outputs": [],
   "source": [
    "data = pd.read_csv('datasets/data_cart.csv', index_col=0)\n",
    "data = data[::-1]"
   ]
  },
  {
   "cell_type": "code",
   "execution_count": 103,
   "metadata": {},
   "outputs": [],
   "source": [
    "#ABEV3 AZUL4\n",
    "y_symbol = 'ABEV3'\n",
    "x_symbol = 'AZUL4'\n",
    "period = 250"
   ]
  },
  {
   "cell_type": "code",
   "execution_count": 97,
   "metadata": {},
   "outputs": [
    {
     "name": "stderr",
     "output_type": "stream",
     "text": [
      "C:\\ProgramData\\Anaconda3\\lib\\site-packages\\numpy\\core\\fromnumeric.py:2389: FutureWarning: Method .ptp is deprecated and will be removed in a future version. Use numpy.ptp instead.\n",
      "  return ptp(axis=axis, out=out, **kwargs)\n"
     ]
    }
   ],
   "source": [
    "pairs = find_pairs(data)"
   ]
  },
  {
   "cell_type": "code",
   "execution_count": 98,
   "metadata": {},
   "outputs": [
    {
     "name": "stderr",
     "output_type": "stream",
     "text": [
      "C:\\ProgramData\\Anaconda3\\lib\\site-packages\\pandas\\core\\indexing.py:205: SettingWithCopyWarning: \n",
      "A value is trying to be set on a copy of a slice from a DataFrame\n",
      "\n",
      "See the caveats in the documentation: http://pandas.pydata.org/pandas-docs/stable/user_guide/indexing.html#returning-a-view-versus-a-copy\n",
      "  self._setitem_with_indexer(indexer, value)\n"
     ]
    },
    {
     "data": {
      "text/html": [
       "<div>\n",
       "<style scoped>\n",
       "    .dataframe tbody tr th:only-of-type {\n",
       "        vertical-align: middle;\n",
       "    }\n",
       "\n",
       "    .dataframe tbody tr th {\n",
       "        vertical-align: top;\n",
       "    }\n",
       "\n",
       "    .dataframe thead th {\n",
       "        text-align: right;\n",
       "    }\n",
       "</style>\n",
       "<table border=\"1\" class=\"dataframe\">\n",
       "  <thead>\n",
       "    <tr style=\"text-align: right;\">\n",
       "      <th></th>\n",
       "      <th>Period</th>\n",
       "      <th>Dependent</th>\n",
       "      <th>Independent</th>\n",
       "      <th>Dickey-Fuller</th>\n",
       "      <th>ADF</th>\n",
       "      <th>Beta</th>\n",
       "      <th>HalfLife</th>\n",
       "    </tr>\n",
       "  </thead>\n",
       "  <tbody>\n",
       "    <tr>\n",
       "      <td>49</td>\n",
       "      <td>220</td>\n",
       "      <td>TIMP3</td>\n",
       "      <td>TOTS3</td>\n",
       "      <td>0.034964</td>\n",
       "      <td>95</td>\n",
       "      <td>0.081044</td>\n",
       "      <td>9</td>\n",
       "    </tr>\n",
       "    <tr>\n",
       "      <td>50</td>\n",
       "      <td>250</td>\n",
       "      <td>UGPA3</td>\n",
       "      <td>USIM5</td>\n",
       "      <td>0.002057</td>\n",
       "      <td>99</td>\n",
       "      <td>2.320393</td>\n",
       "      <td>6</td>\n",
       "    </tr>\n",
       "    <tr>\n",
       "      <td>51</td>\n",
       "      <td>100</td>\n",
       "      <td>USIM5</td>\n",
       "      <td>VALE3</td>\n",
       "      <td>0.022404</td>\n",
       "      <td>95</td>\n",
       "      <td>0.308060</td>\n",
       "      <td>4</td>\n",
       "    </tr>\n",
       "    <tr>\n",
       "      <td>52</td>\n",
       "      <td>100</td>\n",
       "      <td>VALE3</td>\n",
       "      <td>VIVT4</td>\n",
       "      <td>0.020266</td>\n",
       "      <td>95</td>\n",
       "      <td>1.331572</td>\n",
       "      <td>5</td>\n",
       "    </tr>\n",
       "    <tr>\n",
       "      <td>53</td>\n",
       "      <td>240</td>\n",
       "      <td>VIVT4</td>\n",
       "      <td>VVAR3</td>\n",
       "      <td>0.043523</td>\n",
       "      <td>95</td>\n",
       "      <td>0.699206</td>\n",
       "      <td>11</td>\n",
       "    </tr>\n",
       "  </tbody>\n",
       "</table>\n",
       "</div>"
      ],
      "text/plain": [
       "    Period Dependent Independent  Dickey-Fuller  ADF      Beta  HalfLife\n",
       "49     220     TIMP3       TOTS3       0.034964   95  0.081044         9\n",
       "50     250     UGPA3       USIM5       0.002057   99  2.320393         6\n",
       "51     100     USIM5       VALE3       0.022404   95  0.308060         4\n",
       "52     100     VALE3       VIVT4       0.020266   95  1.331572         5\n",
       "53     240     VIVT4       VVAR3       0.043523   95  0.699206        11"
      ]
     },
     "execution_count": 98,
     "metadata": {},
     "output_type": "execute_result"
    }
   ],
   "source": [
    "apply_halflife(data, pairs)\n",
    "pairs.tail(5)"
   ]
  },
  {
   "cell_type": "code",
   "execution_count": 99,
   "metadata": {},
   "outputs": [
    {
     "data": {
      "text/html": [
       "<div>\n",
       "<style scoped>\n",
       "    .dataframe tbody tr th:only-of-type {\n",
       "        vertical-align: middle;\n",
       "    }\n",
       "\n",
       "    .dataframe tbody tr th {\n",
       "        vertical-align: top;\n",
       "    }\n",
       "\n",
       "    .dataframe thead th {\n",
       "        text-align: right;\n",
       "    }\n",
       "</style>\n",
       "<table border=\"1\" class=\"dataframe\">\n",
       "  <thead>\n",
       "    <tr style=\"text-align: right;\">\n",
       "      <th></th>\n",
       "      <th>Period</th>\n",
       "      <th>Dependent</th>\n",
       "      <th>Independent</th>\n",
       "      <th>Dickey-Fuller</th>\n",
       "      <th>ADF</th>\n",
       "      <th>Beta</th>\n",
       "      <th>HalfLife</th>\n",
       "      <th>Corr</th>\n",
       "    </tr>\n",
       "  </thead>\n",
       "  <tbody>\n",
       "    <tr>\n",
       "      <td>49</td>\n",
       "      <td>220</td>\n",
       "      <td>TIMP3</td>\n",
       "      <td>TOTS3</td>\n",
       "      <td>0.034964</td>\n",
       "      <td>95</td>\n",
       "      <td>0.081044</td>\n",
       "      <td>9</td>\n",
       "      <td>0.127853</td>\n",
       "    </tr>\n",
       "    <tr>\n",
       "      <td>50</td>\n",
       "      <td>250</td>\n",
       "      <td>UGPA3</td>\n",
       "      <td>USIM5</td>\n",
       "      <td>0.002057</td>\n",
       "      <td>99</td>\n",
       "      <td>2.320393</td>\n",
       "      <td>6</td>\n",
       "      <td>0.665529</td>\n",
       "    </tr>\n",
       "    <tr>\n",
       "      <td>51</td>\n",
       "      <td>100</td>\n",
       "      <td>USIM5</td>\n",
       "      <td>VALE3</td>\n",
       "      <td>0.022404</td>\n",
       "      <td>95</td>\n",
       "      <td>0.308060</td>\n",
       "      <td>4</td>\n",
       "      <td>0.704014</td>\n",
       "    </tr>\n",
       "    <tr>\n",
       "      <td>52</td>\n",
       "      <td>100</td>\n",
       "      <td>VALE3</td>\n",
       "      <td>VIVT4</td>\n",
       "      <td>0.020266</td>\n",
       "      <td>95</td>\n",
       "      <td>1.331572</td>\n",
       "      <td>5</td>\n",
       "      <td>0.494147</td>\n",
       "    </tr>\n",
       "    <tr>\n",
       "      <td>53</td>\n",
       "      <td>240</td>\n",
       "      <td>VIVT4</td>\n",
       "      <td>VVAR3</td>\n",
       "      <td>0.043523</td>\n",
       "      <td>95</td>\n",
       "      <td>0.699206</td>\n",
       "      <td>11</td>\n",
       "      <td>0.437329</td>\n",
       "    </tr>\n",
       "  </tbody>\n",
       "</table>\n",
       "</div>"
      ],
      "text/plain": [
       "    Period Dependent Independent  Dickey-Fuller  ADF      Beta  HalfLife  \\\n",
       "49     220     TIMP3       TOTS3       0.034964   95  0.081044         9   \n",
       "50     250     UGPA3       USIM5       0.002057   99  2.320393         6   \n",
       "51     100     USIM5       VALE3       0.022404   95  0.308060         4   \n",
       "52     100     VALE3       VIVT4       0.020266   95  1.331572         5   \n",
       "53     240     VIVT4       VVAR3       0.043523   95  0.699206        11   \n",
       "\n",
       "        Corr  \n",
       "49  0.127853  \n",
       "50  0.665529  \n",
       "51  0.704014  \n",
       "52  0.494147  \n",
       "53  0.437329  "
      ]
     },
     "execution_count": 99,
     "metadata": {},
     "output_type": "execute_result"
    }
   ],
   "source": [
    "apply_corr(data, pairs)\n",
    "pairs.tail(5)"
   ]
  },
  {
   "cell_type": "code",
   "execution_count": 108,
   "metadata": {},
   "outputs": [
    {
     "name": "stderr",
     "output_type": "stream",
     "text": [
      "C:\\ProgramData\\Anaconda3\\lib\\site-packages\\numpy\\core\\fromnumeric.py:2389: FutureWarning: Method .ptp is deprecated and will be removed in a future version. Use numpy.ptp instead.\n",
      "  return ptp(axis=axis, out=out, **kwargs)\n",
      "C:\\ProgramData\\Anaconda3\\lib\\site-packages\\pandas\\core\\indexing.py:205: SettingWithCopyWarning: \n",
      "A value is trying to be set on a copy of a slice from a DataFrame\n",
      "\n",
      "See the caveats in the documentation: http://pandas.pydata.org/pandas-docs/stable/user_guide/indexing.html#returning-a-view-versus-a-copy\n",
      "  self._setitem_with_indexer(indexer, value)\n"
     ]
    },
    {
     "data": {
      "text/html": [
       "<div>\n",
       "<style scoped>\n",
       "    .dataframe tbody tr th:only-of-type {\n",
       "        vertical-align: middle;\n",
       "    }\n",
       "\n",
       "    .dataframe tbody tr th {\n",
       "        vertical-align: top;\n",
       "    }\n",
       "\n",
       "    .dataframe thead th {\n",
       "        text-align: right;\n",
       "    }\n",
       "</style>\n",
       "<table border=\"1\" class=\"dataframe\">\n",
       "  <thead>\n",
       "    <tr style=\"text-align: right;\">\n",
       "      <th></th>\n",
       "      <th>Period</th>\n",
       "      <th>Dependent</th>\n",
       "      <th>Independent</th>\n",
       "      <th>Dickey-Fuller</th>\n",
       "      <th>ADF</th>\n",
       "      <th>Beta</th>\n",
       "      <th>HalfLife</th>\n",
       "      <th>Corr</th>\n",
       "      <th>Signal</th>\n",
       "      <th>SignalStr</th>\n",
       "    </tr>\n",
       "  </thead>\n",
       "  <tbody>\n",
       "    <tr>\n",
       "      <td>49</td>\n",
       "      <td>220</td>\n",
       "      <td>TIMP3</td>\n",
       "      <td>TOTS3</td>\n",
       "      <td>0.034964</td>\n",
       "      <td>95</td>\n",
       "      <td>0.081044</td>\n",
       "      <td>9</td>\n",
       "      <td>0.127853</td>\n",
       "      <td>Short/Long</td>\n",
       "      <td>0.279039</td>\n",
       "    </tr>\n",
       "    <tr>\n",
       "      <td>50</td>\n",
       "      <td>250</td>\n",
       "      <td>UGPA3</td>\n",
       "      <td>USIM5</td>\n",
       "      <td>0.002057</td>\n",
       "      <td>99</td>\n",
       "      <td>2.320393</td>\n",
       "      <td>6</td>\n",
       "      <td>0.665529</td>\n",
       "      <td>Long/Short</td>\n",
       "      <td>0.758864</td>\n",
       "    </tr>\n",
       "    <tr>\n",
       "      <td>51</td>\n",
       "      <td>100</td>\n",
       "      <td>USIM5</td>\n",
       "      <td>VALE3</td>\n",
       "      <td>0.022404</td>\n",
       "      <td>95</td>\n",
       "      <td>0.308060</td>\n",
       "      <td>4</td>\n",
       "      <td>0.704014</td>\n",
       "      <td>Short/Long</td>\n",
       "      <td>0.864725</td>\n",
       "    </tr>\n",
       "    <tr>\n",
       "      <td>52</td>\n",
       "      <td>100</td>\n",
       "      <td>VALE3</td>\n",
       "      <td>VIVT4</td>\n",
       "      <td>0.020266</td>\n",
       "      <td>95</td>\n",
       "      <td>1.331572</td>\n",
       "      <td>5</td>\n",
       "      <td>0.494147</td>\n",
       "      <td>Long/Short</td>\n",
       "      <td>0.097942</td>\n",
       "    </tr>\n",
       "    <tr>\n",
       "      <td>53</td>\n",
       "      <td>240</td>\n",
       "      <td>VIVT4</td>\n",
       "      <td>VVAR3</td>\n",
       "      <td>0.043523</td>\n",
       "      <td>95</td>\n",
       "      <td>0.699206</td>\n",
       "      <td>11</td>\n",
       "      <td>0.437329</td>\n",
       "      <td>Long/Short</td>\n",
       "      <td>0.825008</td>\n",
       "    </tr>\n",
       "  </tbody>\n",
       "</table>\n",
       "</div>"
      ],
      "text/plain": [
       "    Period Dependent Independent  Dickey-Fuller  ADF      Beta  HalfLife  \\\n",
       "49     220     TIMP3       TOTS3       0.034964   95  0.081044         9   \n",
       "50     250     UGPA3       USIM5       0.002057   99  2.320393         6   \n",
       "51     100     USIM5       VALE3       0.022404   95  0.308060         4   \n",
       "52     100     VALE3       VIVT4       0.020266   95  1.331572         5   \n",
       "53     240     VIVT4       VVAR3       0.043523   95  0.699206        11   \n",
       "\n",
       "        Corr      Signal SignalStr  \n",
       "49  0.127853  Short/Long  0.279039  \n",
       "50  0.665529  Long/Short  0.758864  \n",
       "51  0.704014  Short/Long  0.864725  \n",
       "52  0.494147  Long/Short  0.097942  \n",
       "53  0.437329  Long/Short  0.825008  "
      ]
     },
     "execution_count": 108,
     "metadata": {},
     "output_type": "execute_result"
    }
   ],
   "source": [
    "apply_signal(data, pairs, 2)\n",
    "pairs.tail(5)"
   ]
  },
  {
   "cell_type": "code",
   "execution_count": 100,
   "metadata": {},
   "outputs": [],
   "source": [
    "y, x = get_values(data[y_symbol], data[x_symbol], period)"
   ]
  },
  {
   "cell_type": "code",
   "execution_count": 101,
   "metadata": {},
   "outputs": [
    {
     "name": "stdout",
     "output_type": "stream",
     "text": [
      "ABEV3:  14.17 AZUL4:  20.76\n",
      "halflife_ser: 31.929095676391768\n",
      "correlation: 0.6159098685920903\n",
      "trade_stop: 1.3940216928735825\n",
      "trade_output: 1.693247575871775\n",
      "trade_input: 1.4872834128061356\n",
      "loss_percent: -6.2706084885725595\n",
      "current_percent: 15.574750241344182\n",
      "return_percent: 13.848346676376643\n",
      "loss: -888.5452228307317\n",
      "gain: 2206.9421091984705\n",
      "intercept_coef: -0.06071731166204694\n",
      "intercept_inter: 0.04717711999780044\n",
      "invert: False\n"
     ]
    }
   ],
   "source": [
    "print('{}:  {} {}:  {}'.format(y_symbol, y[0], x_symbol, x[0]))\n",
    "print('halflife_ser: {}'.format(halflife_ser(y, x, period)))\n",
    "print('correlation: {}'.format(correlation(y, x, period)))\n",
    "print('trade_stop: {}'.format(trade_stop(y, x, period)))\n",
    "print('trade_output: {}'.format(trade_output(y, x, period)))\n",
    "print('trade_input: {}'.format(trade_input(y, x, period)))\n",
    "print('loss_percent: {}'.format(loss_percent(y, x, period)*100))\n",
    "print('current_percent: {}'.format(current_percent(y, x, period)*100))\n",
    "print('return_percent: {}'.format(return_percent(y, x, period)*100))\n",
    "print('loss: {}'.format(loss(y, x, 1000, period)))\n",
    "print('gain: {}'.format(gain(y, x, 1000, period)))\n",
    "print('intercept_coef: {}'.format(intercept_coef(y, x, period)))\n",
    "print('intercept_inter: {}'.format(intercept_inter(y, x, period)))\n",
    "print('invert: {}'.format(invert(y, x, period)))"
   ]
  },
  {
   "cell_type": "code",
   "execution_count": 23,
   "metadata": {},
   "outputs": [
    {
     "data": {
      "text/plain": [
       "9"
      ]
     },
     "execution_count": 23,
     "metadata": {},
     "output_type": "execute_result"
    }
   ],
   "source": [
    "halflile(residue(y, x, period))"
   ]
  },
  {
   "cell_type": "code",
   "execution_count": 24,
   "metadata": {},
   "outputs": [
    {
     "data": {
      "text/plain": [
       "{'is_stationary': True,\n",
       " 'p_value': 0.01810938124483713,\n",
       " 'adf': 95,\n",
       " 'statistic': -3.233805859381667}"
      ]
     },
     "execution_count": 24,
     "metadata": {},
     "output_type": "execute_result"
    }
   ],
   "source": [
    "dickey_fuller(residue(y, x, period))"
   ]
  },
  {
   "cell_type": "code",
   "execution_count": 26,
   "metadata": {},
   "outputs": [
    {
     "data": {
      "text/plain": [
       "{'statistic': -2.5873878574986735, 'adf': 0}"
      ]
     },
     "execution_count": 26,
     "metadata": {},
     "output_type": "execute_result"
    }
   ],
   "source": [
    "dickey_fuller_ger(y, x, period)"
   ]
  },
  {
   "cell_type": "code",
   "execution_count": 12,
   "metadata": {},
   "outputs": [
    {
     "data": {
      "text/plain": [
       "{'std': 0.8489357406980574,\n",
       " 'std_up': 1.6978714813961149,\n",
       " 'std_down': -1.6978714813961149,\n",
       " 'mean': -8.895995051716454e-15,\n",
       " 'min': -3.567992992426161,\n",
       " 'max': 3.7933288849846747}"
      ]
     },
     "execution_count": 12,
     "metadata": {},
     "output_type": "execute_result"
    }
   ],
   "source": [
    "statisticspair(y, x, 2 ,period)"
   ]
  },
  {
   "cell_type": "code",
   "execution_count": 13,
   "metadata": {},
   "outputs": [
    {
     "data": {
      "text/plain": [
       "{'halffile': 31.929095676391768,\n",
       " 'beta': 0.06263879253801702,\n",
       " 'alpha': 1.2870075931908898,\n",
       " 'sigma': 0.6191839341325651}"
      ]
     },
     "execution_count": 13,
     "metadata": {},
     "output_type": "execute_result"
    }
   ],
   "source": [
    "ornstein_uhlenbeck(y, x, period)"
   ]
  },
  {
   "cell_type": "code",
   "execution_count": 14,
   "metadata": {},
   "outputs": [
    {
     "data": {
      "text/plain": [
       "{'temp': -0.01461470730139998,\n",
       " 'angular': 0.11706168413735096,\n",
       " 'intercept': 13.483939703340992}"
      ]
     },
     "execution_count": 14,
     "metadata": {},
     "output_type": "execute_result"
    }
   ],
   "source": [
    "coefficients(y, x, period)"
   ]
  },
  {
   "cell_type": "code",
   "execution_count": 15,
   "metadata": {},
   "outputs": [
    {
     "data": {
      "text/plain": [
       "<statsmodels.regression.linear_model.RegressionResultsWrapper at 0x2451d6aca08>"
      ]
     },
     "execution_count": 15,
     "metadata": {},
     "output_type": "execute_result"
    }
   ],
   "source": [
    "reg = regression(y, x, period)\n",
    "reg"
   ]
  },
  {
   "cell_type": "code",
   "execution_count": 105,
   "metadata": {},
   "outputs": [
    {
     "data": {
      "text/plain": [
       "{'temp': 0.0010594271664292314,\n",
       " 'angular': 0.004541639341634845,\n",
       " 'intercept': 0.3022221744016457}"
      ]
     },
     "execution_count": 105,
     "metadata": {},
     "output_type": "execute_result"
    }
   ],
   "source": [
    "stderr(y, x, period)"
   ]
  },
  {
   "cell_type": "code",
   "execution_count": 106,
   "metadata": {},
   "outputs": [
    {
     "data": {
      "text/plain": [
       "{'descr': 'Short/Long',\n",
       " 'resid_current': 1.9095365593175977,\n",
       " 'percent_dist_mean': 1.1246649585912334}"
      ]
     },
     "execution_count": 106,
     "metadata": {},
     "output_type": "execute_result"
    }
   ],
   "source": [
    "signal(y, x, 2, period)"
   ]
  },
  {
   "cell_type": "code",
   "execution_count": 18,
   "metadata": {},
   "outputs": [
    {
     "data": {
      "text/plain": [
       "<matplotlib.lines.Line2D at 0x2451de708c8>"
      ]
     },
     "execution_count": 18,
     "metadata": {},
     "output_type": "execute_result"
    },
    {
     "data": {
      "image/png": "[encoded data removed]",
      "text/plain": [
       "<Figure size 1080x432 with 1 Axes>"
      ]
     },
     "metadata": {
      "needs_background": "light"
     },
     "output_type": "display_data"
    }
   ],
   "source": [
    "res = residue(data[y_symbol], data[x_symbol], period)\n",
    "# antes de plotar os dados devem ser invertidos para ordem crescente\n",
    "ret = zscore(res[::-1])\n",
    "std = ret.std()\n",
    "ret.plot(figsize=(15,6))\n",
    "plt.axhline(ret.mean())\n",
    "\n",
    "plt.axhline(0, color='black',label='mean') # Add the mean of residual\n",
    "plt.axhline(2*std, color='red', linestyle='--', linewidth=2)\n",
    "plt.axhline(-2*std, color='green', linestyle='--', linewidth=2)"
   ]
  },
  {
   "cell_type": "code",
   "execution_count": 19,
   "metadata": {},
   "outputs": [],
   "source": [
    "#reg.resid[::-1].plot(figsize=(15,6))"
   ]
  },
  {
   "cell_type": "code",
   "execution_count": 20,
   "metadata": {},
   "outputs": [
    {
     "data": {
      "image/png": "[encoded data removed]",
      "text/plain": [
       "<Figure size 1080x432 with 1 Axes>"
      ]
     },
     "metadata": {
      "needs_background": "light"
     },
     "output_type": "display_data"
    }
   ],
   "source": [
    "show(data[::-1], y_symbol, x_symbol, period)"
   ]
  },
  {
   "cell_type": "code",
   "execution_count": 21,
   "metadata": {},
   "outputs": [
    {
     "data": {
      "text/plain": [
       "<matplotlib.axes._subplots.AxesSubplot at 0x2451df048c8>"
      ]
     },
     "execution_count": 21,
     "metadata": {},
     "output_type": "execute_result"
    },
    {
     "data": {
      "image/png": "[encoded data removed]",
      "text/plain": [
       "<Figure size 1080x432 with 1 Axes>"
      ]
     },
     "metadata": {
      "needs_background": "light"
     },
     "output_type": "display_data"
    }
   ],
   "source": [
    "ratio_continuo(y, x, period)[::-1].plot(figsize=(15,6))"
   ]
  },
  {
   "cell_type": "code",
   "execution_count": null,
   "metadata": {},
   "outputs": [],
   "source": []
  }
 ],
 "metadata": {
  "kernelspec": {
   "display_name": "Python 3",
   "language": "python",
   "name": "python3"
  },
  "language_info": {
   "codemirror_mode": {
    "name": "ipython",
    "version": 3
   },
   "file_extension": ".py",
   "mimetype": "text/x-python",
   "name": "python",
   "nbconvert_exporter": "python",
   "pygments_lexer": "ipython3",
   "version": "3.7.4"
  }
 },
 "nbformat": 4,
 "nbformat_minor": 2
}
