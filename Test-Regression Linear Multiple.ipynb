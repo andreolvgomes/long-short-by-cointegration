{
 "cells": [
  {
   "cell_type": "code",
   "execution_count": 32,
   "metadata": {},
   "outputs": [],
   "source": [
    "import numpy as np\n",
    "import pandas as pd\n",
    "import os\n",
    "import statsmodels.api as sm\n",
    "import statsmodels.tsa.stattools as ts\n",
    "import matplotlib.pyplot as plt\n",
    "from pykalman import KalmanFilter\n",
    "import statistics\n",
    "import seaborn as sns; sns.set(style=\"whitegrid\")\n",
    "import math\n",
    "%run Cointegration.py\n",
    "%matplotlib inline"
   ]
  },
  {
   "cell_type": "code",
   "execution_count": 99,
   "metadata": {},
   "outputs": [
    {
     "data": {
      "text/plain": [
       "\"def acerta_t0(y, x, period):\\n    reg = regression(y, x, period)\\n    coef_temp = reg.params['temp']\\n    err_temp = reg.bse['temp']\\n    v_t = (coef_temp/err_temp)\\n    return (abs(v_t)<AW5;99%;0)\""
      ]
     },
     "execution_count": 99,
     "metadata": {},
     "output_type": "execute_result"
    }
   ],
   "source": [
    "def coefficients(y, x, period):\n",
    "    model = regression(y, x, period)\n",
    "    return {\"temp\":model.params['temp'],\n",
    "            \"angular\":model.params['x'],\n",
    "            \"intercept\":model.params['const']}\n",
    "\n",
    "def regression(y, x, period):\n",
    "    y, x = get_values(y, x, period)\n",
    "    pairs = pd.DataFrame()\n",
    "    \n",
    "    pairs['y'] = y\n",
    "    pairs['x'] = x\n",
    "    pairs['temp'] = timeline(period)\n",
    "    \n",
    "    X = pairs[['x', 'temp']]\n",
    "    X = sm.add_constant(X)\n",
    "    model = sm.OLS(pairs['y'], X).fit()\n",
    "    return model\n",
    "\n",
    "#O desvio padrão de uma estimativa é chamado de erro padrão\n",
    "def stderr(y, x, period):\n",
    "    model = regression(y, x, period)\n",
    "    return {\"temp\":model.bse['temp'],\n",
    "            \"angular\":model.bse['x'],\n",
    "            \"intercept\":model.bse['const']}\n",
    "    \n",
    "def resid(y, x, period):\n",
    "    y, x = get_values(y, x, period)\n",
    "    coef = coefficients(y, x, period)\n",
    "    temp = timeline(period)\n",
    "    res = y-coef['angular']*x-temp*coef['temp']-coef['intercept']\n",
    "    #res[0]=0\n",
    "    return res\n",
    "\n",
    "def timeline(period):\n",
    "    numbers = np.arange(1, period+1)\n",
    "    temp = period - numbers + 1\n",
    "    return temp\n",
    "\n",
    "def lot(y_lot, coef):\n",
    "    return [y_lot, int(y_lot*coef['angular'])]\n",
    "\n",
    "def returns(y, x, period):\n",
    "    y, x = get_values(y, x, period)\n",
    "    y_log = np.log(y/y.shift(1))\n",
    "    x_log = np.log(x/x.shift(1))\n",
    "    return [y_log, x_log]\n",
    "    \n",
    "def get_values(y, x, period):\n",
    "    if(period <= 0):\n",
    "        return y, x\n",
    "    \n",
    "    y = y.iloc[:period]\n",
    "    x = x.iloc[:period]\n",
    "    return y, x\n",
    "\n",
    "def corr(y, x, period):\n",
    "    y_log, x_log = returns(y, x, period)\n",
    "    return y_log.corr(x_log)\n",
    "\n",
    "def getdata(data, period):\n",
    "    data_max = data[:period]\n",
    "    return data_max\n",
    "\n",
    "def invert(y, x, period):\n",
    "    coef_main = coefficients(y, x, period)\n",
    "    coef_invert = coefficients(x, y, period)\n",
    "    if (abs(coef_main['temp'])<=abs(coef_invert['temp'])):\n",
    "        return False\n",
    "    return True\n",
    "\n",
    "def ratio_diff(y, x, period):\n",
    "    coef = coefficients(y, x, period)\n",
    "    res = resid(y, x, period)\n",
    "    diff = res.shift(1)-res\n",
    "    diff[0]=0\n",
    "    return diff\n",
    "\n",
    "def ratio_continuo(y, x, period):\n",
    "    y, x = get_values(y, x, period)\n",
    "    return y-x\n",
    "    \n",
    "def intercept_coef(y, x, period):\n",
    "    coef = coefficients(y, x, period)\n",
    "    res = resid(y, x, period)\n",
    "    diff = ratio_diff(y, x, period)\n",
    "\n",
    "    target = pd.DataFrame(res, columns=[\"target\"])\n",
    "    target = sm.add_constant(target)\n",
    "    model = sm.OLS(diff, target).fit()\n",
    "    return model.params['target']\n",
    "\n",
    "def intercept_inter(y, x, period):\n",
    "    ratio_cont = ratio_continuo(y, x, period)\n",
    "    ratio_cont[0]=0\n",
    "    diff_r = ratio_diff(y, x, period)\n",
    "    \n",
    "    ratio_cont = sm.add_constant(ratio_cont)\n",
    "    model = sm.OLS(diff_r, ratio_cont).fit()\n",
    "    return model.params['const']\n",
    "\n",
    "def ornstein_uhlenbeck(y, x, period):\n",
    "    coef = intercept_coef(y, x, period)\n",
    "    \n",
    "    beta = -np.log(1+intercept_coef(y, x, period))\n",
    "    alpha = -(coef/intercept_inter(y, x, period))\n",
    "    \n",
    "    std = resid(y, x, period).std()\n",
    "    sigma=std*np.sqrt(np.log(1+coef)/(np.power((1+coef),2)-1))\n",
    "    \n",
    "    half = 2/beta\n",
    "    return {\n",
    "        \"halffile\": half,\n",
    "        \"beta\": beta,\n",
    "        \"alpha\": alpha,\n",
    "        \"sigma\": sigma\n",
    "    }\n",
    "\n",
    "def halflife(y, x, period):\n",
    "    return ornstein_uhlenbeck(y, x, period)['halffile']\n",
    "\n",
    "def halffile_test(series):\n",
    "    lag = np.roll(series, 1)\n",
    "    lag[0] = 0\n",
    "    ret = series - lag\n",
    "    ret[0] = 0\n",
    "\n",
    "    # adds intercept terms to X variable for regression\n",
    "    lag2 = sm.add_constant(lag)\n",
    "    res = sm.OLS(ret, lag2).fit()\n",
    "    half_life = int(round(-np.log(2) / res.params[1],0))\n",
    "\n",
    "    if half_life <= 0:\n",
    "        half_life = 1\n",
    "    return half_life\n",
    "    \n",
    "def statisticspair(y, x, desv_input, period):\n",
    "    res = resid(y, x, period)\n",
    "    std = res.std()\n",
    "    return {\n",
    "        \"std\": std,\n",
    "        \"std_up\": desv_input*std,\n",
    "        \"std_down\": -desv_input*std,\n",
    "        \"mean\": res.mean(),\n",
    "        \"min\": np.min(res)-2*std,\n",
    "        \"max\": np.max(res)+2*std\n",
    "    }\n",
    "\n",
    "def trade_stop(y, x, period):\n",
    "    res = resid(y, x, period)\n",
    "    \n",
    "    # acima do quadro \"ESTATÍSTICAS\"\n",
    "    std_down = res.mean()-3.1*res.std()\n",
    "    std_up = res.mean()+3.1*res.std()\n",
    "    \n",
    "    est = coefficients(y, x, period)\n",
    "    l_res = resid(y, x, period)[0]\n",
    "    price = x[0]\n",
    "    \n",
    "    value1 = (price*est['angular']+est['intercept']+l_res+est['temp']*period+min(l_res-std_down,std_up-l_res)*sinal(l_res))/price\n",
    "    value2 = price/(price*est['angular']+est['intercept']+l_res+est['temp']*period+min(l_res-std_down,std_up-l_res)*sinal(l_res))\n",
    "    return max(value1, value2)\n",
    "\n",
    "def trade_output(y, x, period):\n",
    "    price = x[0]\n",
    "    est = coefficients(y, x, period)\n",
    "    value1 = (est['angular']*price+est['intercept']+est['temp']*period)/price\n",
    "    value2 = 1/((est['angular']*price+est['intercept']+est['temp']*period)/price)\n",
    "    return max(value1, value2)\n",
    "\n",
    "def trade_input(y, x, period):\n",
    "    price = x[0]\n",
    "    res = resid(y, x, period)\n",
    "    l_res = res[0]\n",
    "    est = coefficients(y, x, period)\n",
    "    std_up = 2*res.std()\n",
    "    std_down = -2*res.std()\n",
    "\n",
    "    value1 = (price*est['angular']+est['intercept']+l_res+est['temp']*period+min(l_res-std_down,std_up-l_res)*sinal(l_res))/price\n",
    "    value2 = price/(price*est['angular']+est['intercept']+l_res+est['temp']*period+min(l_res-std_down,std_up-l_res)*sinal(l_res))\n",
    "    return max(value1, value2)\n",
    "\n",
    "def ratio_current(y, x):\n",
    "    ratio = y[0]/x[0]\n",
    "    return {\n",
    "        \"ratio\": ratio,\n",
    "        \"value\": 1/ratio\n",
    "    }\n",
    "\n",
    "def loss_percent(y, x, period):\n",
    "    return -abs(trade_stop(y, x, period)/trade_input(y, x, period)-1)\n",
    "\n",
    "def current_percent(y, x, period):\n",
    "    ratio = ratio_current(y, x)\n",
    "    return abs(trade_output(y, x, period)/max(ratio['ratio'], ratio['value'])-1)\n",
    "\n",
    "def return_percent(y, x, period):\n",
    "    return abs(trade_output(y, x, period)/trade_input(y, x, period)-1)\n",
    "\n",
    "def loss(y, x, lot, period):\n",
    "    return y[0]*lot*loss_percent(y, x, period)\n",
    "\n",
    "def gain(y, x, lot, period):\n",
    "    return current_percent(y, x, period)*lot*y[0]\n",
    "    \n",
    "def sinal(value):\n",
    "    if(value < 0):\n",
    "        return -1\n",
    "    return 1\n",
    "\n",
    "def dickey_fuller(series):\n",
    "    model = ts.adfuller(series, 1)\n",
    "    p_value = model[1]\n",
    "    statistic = model[0]\n",
    "\n",
    "    # Dickey-Fuller\n",
    "    is_stationary = False\n",
    "    if (p_value < .05):\n",
    "        is_stationary = True\n",
    "\n",
    "    # Augmented Dickey Fuller (ADF)\n",
    "    perc_stat = 0\n",
    "    if (abs(statistic) > abs(model[4]['1%'])):\n",
    "        perc_stat = 99\n",
    "    elif (abs(statistic) > abs(model[4]['5%'])):\n",
    "        perc_stat = 95\n",
    "    elif (abs(statistic) > abs(model[4]['10%'])):\n",
    "        perc_stat = 90\n",
    "        \n",
    "    return {\n",
    "        \"is_stationary\": is_stationary,\n",
    "        \"p_value\": p_value,\n",
    "        \"adf\": perc_stat,\n",
    "        \"statistic\": statistic\n",
    "    }\n",
    "\n",
    "#função DESVQ do excel\n",
    "def desvq(values):\n",
    "    return np.power(values-values.mean(), 2).sum()\n",
    "\n",
    "#função EPADYX do excel\n",
    "def epadyx(y, x):\n",
    "    res = resid(y, x, period)\n",
    "    rdiff = ratio_diff(y, x, period)\n",
    "    X = sm.add_constant(res)\n",
    "    fit = sm.OLS(rdiff, X).fit()\n",
    "    return np.sqrt(fit.mse_resid)\n",
    "    \n",
    "def adf_ser(y, x, period):\n",
    "    res = resid(y, x, period)\n",
    "    rdiff = ratio_diff(y, x, period)\n",
    "    res[0]=0\n",
    "    rdiff[0]=0\n",
    "\n",
    "    inter_cof = intercept_coef(y, x, period)\n",
    "    return inter_cof/(epadyx(rdiff, res)/np.sqrt(desvq(res)))\n",
    "\n",
    "def rejeitado_h0(y, x, period):\n",
    "    df = adf_ser(y, x, period)\n",
    "    if df<=0:\n",
    "        if df<=-4.32: return 99\n",
    "        if df<=-3.67: return 95\n",
    "        if df<=-3.28: return 90\n",
    "    else:\n",
    "        if df<=-3.58: return 99\n",
    "        if df<=-3.22: return 95\n",
    "        if df<=-2.6: return 90\n",
    "    return 0\n",
    "\n",
    "def dickey_fuller_ger(y, x, period):\n",
    "    adf_statistic = adf_ser(y, x, period)\n",
    "    rej = rejeitado_h0(y, x, period)\n",
    "    return {\n",
    "        \"statistic\": adf_statistic,\n",
    "        \"adf\": rej\n",
    "    }\n",
    "\n",
    "\"\"\"def acerta_t0(y, x, period):\n",
    "    reg = regression(y, x, period)\n",
    "    coef_temp = reg.params['temp']\n",
    "    err_temp = reg.bse['temp']\n",
    "    v_t = (coef_temp/err_temp)\n",
    "    return (abs(v_t)<AW5;99%;0)\"\"\""
   ]
  },
  {
   "cell_type": "code",
   "execution_count": 100,
   "metadata": {},
   "outputs": [
    {
     "data": {
      "text/plain": [
       "{'ratio': 0.682562620423892, 'value': 1.4650670430486945}"
      ]
     },
     "execution_count": 100,
     "metadata": {},
     "output_type": "execute_result"
    }
   ],
   "source": [
    "ratio_current(y, x)"
   ]
  },
  {
   "cell_type": "code",
   "execution_count": 101,
   "metadata": {},
   "outputs": [],
   "source": [
    "data = pd.read_csv('datasets/data_cart.csv', index_col=0)\n",
    "data = data[::-1]"
   ]
  },
  {
   "cell_type": "code",
   "execution_count": 110,
   "metadata": {},
   "outputs": [],
   "source": [
    "#ABEV3 AZUL4\n",
    "y_symbol = 'ABEV3'\n",
    "x_symbol = 'AZUL4'\n",
    "period = 100"
   ]
  },
  {
   "cell_type": "code",
   "execution_count": 111,
   "metadata": {},
   "outputs": [],
   "source": [
    "y, x = get_values(data[y_symbol], data[x_symbol], period)"
   ]
  },
  {
   "cell_type": "code",
   "execution_count": 112,
   "metadata": {},
   "outputs": [
    {
     "name": "stdout",
     "output_type": "stream",
     "text": [
      "ABEV3:  14.17 AZUL4:  20.76\n",
      "halflife: 4.68377490430011\n",
      "corr: 0.6692699461545097\n",
      "trade_stop: 1.3661379530523483\n",
      "trade_output: 1.4975357523196933\n",
      "trade_input: 1.4100388049694996\n",
      "loss_percent: -3.1134499109122693\n",
      "current_percent: 2.2161927281794336\n",
      "return_percent: 6.205286481607586\n",
      "loss: -441.17585237626855\n",
      "gain: 314.03450958302574\n",
      "intercept_coef: -0.34754036438246594\n",
      "intercept_inter: -0.00039996778213628736\n",
      "invert: False\n"
     ]
    }
   ],
   "source": [
    "print('{}:  {} {}:  {}'.format(y_symbol, y[0], x_symbol, x[0]))\n",
    "print('halflife: {}'.format(halflife(y, x, period)))\n",
    "print('corr: {}'.format(corr(y, x, period)))\n",
    "print('trade_stop: {}'.format(trade_stop(y, x, period)))\n",
    "print('trade_output: {}'.format(trade_output(y, x, period)))\n",
    "print('trade_input: {}'.format(trade_input(y, x, period)))\n",
    "print('loss_percent: {}'.format(loss_percent(y, x, period)*100))\n",
    "print('current_percent: {}'.format(current_percent(y, x, period)*100))\n",
    "print('return_percent: {}'.format(return_percent(y, x, period)*100))\n",
    "print('loss: {}'.format(loss(y, x, 1000, period)))\n",
    "print('gain: {}'.format(gain(y, x, 1000, period)))\n",
    "print('intercept_coef: {}'.format(intercept_coef(y, x, period)))\n",
    "print('intercept_inter: {}'.format(intercept_inter(y, x, period)))\n",
    "print('invert: {}'.format(invert(y, x, period)))"
   ]
  },
  {
   "cell_type": "code",
   "execution_count": 113,
   "metadata": {},
   "outputs": [
    {
     "data": {
      "text/plain": [
       "2"
      ]
     },
     "execution_count": 113,
     "metadata": {},
     "output_type": "execute_result"
    }
   ],
   "source": [
    "halffile_test(resid(y, x, period))"
   ]
  },
  {
   "cell_type": "code",
   "execution_count": 114,
   "metadata": {},
   "outputs": [
    {
     "data": {
      "text/plain": [
       "{'is_stationary': True,\n",
       " 'p_value': 0.000159729791740941,\n",
       " 'adf': 99,\n",
       " 'statistic': -4.549716939165413}"
      ]
     },
     "execution_count": 114,
     "metadata": {},
     "output_type": "execute_result"
    }
   ],
   "source": [
    "dickey_fuller(resid(y, x, period))"
   ]
  },
  {
   "cell_type": "code",
   "execution_count": 71,
   "metadata": {},
   "outputs": [
    {
     "data": {
      "text/plain": [
       "{'statistic': -2.1502862323570233, 'adf': 0}"
      ]
     },
     "execution_count": 71,
     "metadata": {},
     "output_type": "execute_result"
    }
   ],
   "source": [
    "dickey_fuller_ger(y, x, period)"
   ]
  },
  {
   "cell_type": "code",
   "execution_count": 72,
   "metadata": {},
   "outputs": [
    {
     "data": {
      "text/plain": [
       "{'std': 0.8921944692823061,\n",
       " 'std_up': 1.7843889385646121,\n",
       " 'std_down': -1.7843889385646121,\n",
       " 'mean': -1.2034817586936698e-14,\n",
       " 'min': -3.635641582180479,\n",
       " 'max': 3.8810800266465395}"
      ]
     },
     "execution_count": 72,
     "metadata": {},
     "output_type": "execute_result"
    }
   ],
   "source": [
    "statisticspair(y, x, 2 ,period)"
   ]
  },
  {
   "cell_type": "code",
   "execution_count": 73,
   "metadata": {},
   "outputs": [
    {
     "data": {
      "text/plain": [
       "{'halffile': 35.78974854572273,\n",
       " 'beta': 0.05588192377057151,\n",
       " 'alpha': 1.2173262045120186,\n",
       " 'sigma': 0.6485838475143598}"
      ]
     },
     "execution_count": 73,
     "metadata": {},
     "output_type": "execute_result"
    }
   ],
   "source": [
    "ornstein_uhlenbeck(y, x, period)"
   ]
  },
  {
   "cell_type": "code",
   "execution_count": 74,
   "metadata": {},
   "outputs": [
    {
     "data": {
      "text/plain": [
       "{'temp': -0.014742140394854181,\n",
       " 'angular': 0.11589786582727675,\n",
       " 'intercept': 12.801385963844243}"
      ]
     },
     "execution_count": 74,
     "metadata": {},
     "output_type": "execute_result"
    }
   ],
   "source": [
    "coefficients(y, x, period)"
   ]
  },
  {
   "cell_type": "code",
   "execution_count": 75,
   "metadata": {},
   "outputs": [
    {
     "data": {
      "text/plain": [
       "<statsmodels.regression.linear_model.RegressionResultsWrapper at 0x2142e9ae488>"
      ]
     },
     "execution_count": 75,
     "metadata": {},
     "output_type": "execute_result"
    }
   ],
   "source": [
    "reg = regression(y, x, period)\n",
    "reg"
   ]
  },
  {
   "cell_type": "code",
   "execution_count": 77,
   "metadata": {},
   "outputs": [
    {
     "name": "stderr",
     "output_type": "stream",
     "text": [
      "C:\\ProgramData\\Anaconda3\\lib\\site-packages\\numpy\\core\\fromnumeric.py:2389: FutureWarning: Method .ptp is deprecated and will be removed in a future version. Use numpy.ptp instead.\n",
      "  return ptp(axis=axis, out=out, **kwargs)\n"
     ]
    },
    {
     "data": {
      "text/plain": [
       "{'temp': 0.0017417522586723408,\n",
       " 'angular': 0.005531661918631374,\n",
       " 'intercept': 0.37540815471601113}"
      ]
     },
     "execution_count": 77,
     "metadata": {},
     "output_type": "execute_result"
    }
   ],
   "source": [
    "stderr(y, x, period)"
   ]
  },
  {
   "cell_type": "code",
   "execution_count": 60,
   "metadata": {},
   "outputs": [
    {
     "data": {
      "text/html": [
       "<div>\n",
       "<style scoped>\n",
       "    .dataframe tbody tr th:only-of-type {\n",
       "        vertical-align: middle;\n",
       "    }\n",
       "\n",
       "    .dataframe tbody tr th {\n",
       "        vertical-align: top;\n",
       "    }\n",
       "\n",
       "    .dataframe thead th {\n",
       "        text-align: right;\n",
       "    }\n",
       "</style>\n",
       "<table border=\"1\" class=\"dataframe\">\n",
       "  <thead>\n",
       "    <tr style=\"text-align: right;\">\n",
       "      <th></th>\n",
       "      <th>ABEV3</th>\n",
       "      <th>AZUL4</th>\n",
       "      <th>B3SA3</th>\n",
       "      <th>BBAS3</th>\n",
       "      <th>BBDC3</th>\n",
       "      <th>BBDC4</th>\n",
       "      <th>BBSE3</th>\n",
       "      <th>BEEF3</th>\n",
       "      <th>BPAC11</th>\n",
       "      <th>BRAP4</th>\n",
       "      <th>...</th>\n",
       "      <th>SUZB3</th>\n",
       "      <th>TAEE11</th>\n",
       "      <th>TIMP3</th>\n",
       "      <th>TOTS3</th>\n",
       "      <th>UGPA3</th>\n",
       "      <th>USIM5</th>\n",
       "      <th>VALE3</th>\n",
       "      <th>VIVT4</th>\n",
       "      <th>VVAR3</th>\n",
       "      <th>WEGE3</th>\n",
       "    </tr>\n",
       "    <tr>\n",
       "      <th>Data</th>\n",
       "      <th></th>\n",
       "      <th></th>\n",
       "      <th></th>\n",
       "      <th></th>\n",
       "      <th></th>\n",
       "      <th></th>\n",
       "      <th></th>\n",
       "      <th></th>\n",
       "      <th></th>\n",
       "      <th></th>\n",
       "      <th></th>\n",
       "      <th></th>\n",
       "      <th></th>\n",
       "      <th></th>\n",
       "      <th></th>\n",
       "      <th></th>\n",
       "      <th></th>\n",
       "      <th></th>\n",
       "      <th></th>\n",
       "      <th></th>\n",
       "      <th></th>\n",
       "    </tr>\n",
       "  </thead>\n",
       "  <tbody>\n",
       "    <tr>\n",
       "      <td>02/07/2020</td>\n",
       "      <td>14.17</td>\n",
       "      <td>20.76</td>\n",
       "      <td>56.20</td>\n",
       "      <td>33.16</td>\n",
       "      <td>19.43</td>\n",
       "      <td>21.21</td>\n",
       "      <td>27.53</td>\n",
       "      <td>12.81</td>\n",
       "      <td>79.00</td>\n",
       "      <td>35.96</td>\n",
       "      <td>...</td>\n",
       "      <td>36.82</td>\n",
       "      <td>28.41</td>\n",
       "      <td>14.55</td>\n",
       "      <td>24.13</td>\n",
       "      <td>18.64</td>\n",
       "      <td>7.35</td>\n",
       "      <td>55.49</td>\n",
       "      <td>48.05</td>\n",
       "      <td>15.39</td>\n",
       "      <td>53.57</td>\n",
       "    </tr>\n",
       "    <tr>\n",
       "      <td>01/07/2020</td>\n",
       "      <td>14.36</td>\n",
       "      <td>20.67</td>\n",
       "      <td>56.03</td>\n",
       "      <td>33.07</td>\n",
       "      <td>19.28</td>\n",
       "      <td>21.16</td>\n",
       "      <td>27.70</td>\n",
       "      <td>12.84</td>\n",
       "      <td>76.50</td>\n",
       "      <td>35.44</td>\n",
       "      <td>...</td>\n",
       "      <td>37.14</td>\n",
       "      <td>28.49</td>\n",
       "      <td>14.47</td>\n",
       "      <td>23.75</td>\n",
       "      <td>18.80</td>\n",
       "      <td>7.34</td>\n",
       "      <td>54.54</td>\n",
       "      <td>48.08</td>\n",
       "      <td>15.99</td>\n",
       "      <td>52.59</td>\n",
       "    </tr>\n",
       "    <tr>\n",
       "      <td>30/06/2020</td>\n",
       "      <td>14.14</td>\n",
       "      <td>20.11</td>\n",
       "      <td>55.09</td>\n",
       "      <td>32.15</td>\n",
       "      <td>18.96</td>\n",
       "      <td>20.70</td>\n",
       "      <td>27.27</td>\n",
       "      <td>13.15</td>\n",
       "      <td>76.50</td>\n",
       "      <td>36.51</td>\n",
       "      <td>...</td>\n",
       "      <td>36.79</td>\n",
       "      <td>28.10</td>\n",
       "      <td>14.20</td>\n",
       "      <td>23.15</td>\n",
       "      <td>18.38</td>\n",
       "      <td>7.27</td>\n",
       "      <td>55.92</td>\n",
       "      <td>48.03</td>\n",
       "      <td>15.31</td>\n",
       "      <td>50.61</td>\n",
       "    </tr>\n",
       "    <tr>\n",
       "      <td>29/06/2020</td>\n",
       "      <td>14.26</td>\n",
       "      <td>20.73</td>\n",
       "      <td>54.96</td>\n",
       "      <td>33.44</td>\n",
       "      <td>19.56</td>\n",
       "      <td>21.41</td>\n",
       "      <td>28.25</td>\n",
       "      <td>12.96</td>\n",
       "      <td>76.00</td>\n",
       "      <td>36.34</td>\n",
       "      <td>...</td>\n",
       "      <td>37.73</td>\n",
       "      <td>28.67</td>\n",
       "      <td>13.77</td>\n",
       "      <td>22.42</td>\n",
       "      <td>18.00</td>\n",
       "      <td>7.15</td>\n",
       "      <td>55.63</td>\n",
       "      <td>48.20</td>\n",
       "      <td>15.38</td>\n",
       "      <td>49.92</td>\n",
       "    </tr>\n",
       "    <tr>\n",
       "      <td>26/06/2020</td>\n",
       "      <td>13.95</td>\n",
       "      <td>20.00</td>\n",
       "      <td>53.45</td>\n",
       "      <td>31.82</td>\n",
       "      <td>19.08</td>\n",
       "      <td>20.69</td>\n",
       "      <td>27.85</td>\n",
       "      <td>12.79</td>\n",
       "      <td>72.67</td>\n",
       "      <td>36.43</td>\n",
       "      <td>...</td>\n",
       "      <td>37.88</td>\n",
       "      <td>28.07</td>\n",
       "      <td>14.03</td>\n",
       "      <td>22.26</td>\n",
       "      <td>17.64</td>\n",
       "      <td>7.10</td>\n",
       "      <td>55.62</td>\n",
       "      <td>48.54</td>\n",
       "      <td>14.29</td>\n",
       "      <td>50.00</td>\n",
       "    </tr>\n",
       "    <tr>\n",
       "      <td>...</td>\n",
       "      <td>...</td>\n",
       "      <td>...</td>\n",
       "      <td>...</td>\n",
       "      <td>...</td>\n",
       "      <td>...</td>\n",
       "      <td>...</td>\n",
       "      <td>...</td>\n",
       "      <td>...</td>\n",
       "      <td>...</td>\n",
       "      <td>...</td>\n",
       "      <td>...</td>\n",
       "      <td>...</td>\n",
       "      <td>...</td>\n",
       "      <td>...</td>\n",
       "      <td>...</td>\n",
       "      <td>...</td>\n",
       "      <td>...</td>\n",
       "      <td>...</td>\n",
       "      <td>...</td>\n",
       "      <td>...</td>\n",
       "      <td>...</td>\n",
       "    </tr>\n",
       "    <tr>\n",
       "      <td>25/04/2019</td>\n",
       "      <td>18.31</td>\n",
       "      <td>33.25</td>\n",
       "      <td>34.77</td>\n",
       "      <td>49.10</td>\n",
       "      <td>31.00</td>\n",
       "      <td>36.07</td>\n",
       "      <td>28.53</td>\n",
       "      <td>8.16</td>\n",
       "      <td>39.90</td>\n",
       "      <td>31.83</td>\n",
       "      <td>...</td>\n",
       "      <td>43.34</td>\n",
       "      <td>26.11</td>\n",
       "      <td>11.77</td>\n",
       "      <td>43.27</td>\n",
       "      <td>21.25</td>\n",
       "      <td>8.70</td>\n",
       "      <td>50.33</td>\n",
       "      <td>46.70</td>\n",
       "      <td>4.02</td>\n",
       "      <td>19.05</td>\n",
       "    </tr>\n",
       "    <tr>\n",
       "      <td>24/04/2019</td>\n",
       "      <td>17.72</td>\n",
       "      <td>33.48</td>\n",
       "      <td>33.50</td>\n",
       "      <td>48.31</td>\n",
       "      <td>31.01</td>\n",
       "      <td>35.65</td>\n",
       "      <td>27.80</td>\n",
       "      <td>7.95</td>\n",
       "      <td>39.67</td>\n",
       "      <td>31.71</td>\n",
       "      <td>...</td>\n",
       "      <td>41.69</td>\n",
       "      <td>26.31</td>\n",
       "      <td>11.87</td>\n",
       "      <td>43.20</td>\n",
       "      <td>21.38</td>\n",
       "      <td>8.59</td>\n",
       "      <td>50.36</td>\n",
       "      <td>46.46</td>\n",
       "      <td>3.93</td>\n",
       "      <td>18.80</td>\n",
       "    </tr>\n",
       "    <tr>\n",
       "      <td>23/04/2019</td>\n",
       "      <td>17.67</td>\n",
       "      <td>34.17</td>\n",
       "      <td>32.84</td>\n",
       "      <td>49.31</td>\n",
       "      <td>31.00</td>\n",
       "      <td>35.89</td>\n",
       "      <td>27.62</td>\n",
       "      <td>7.99</td>\n",
       "      <td>39.45</td>\n",
       "      <td>32.65</td>\n",
       "      <td>...</td>\n",
       "      <td>41.01</td>\n",
       "      <td>26.15</td>\n",
       "      <td>12.06</td>\n",
       "      <td>42.79</td>\n",
       "      <td>22.55</td>\n",
       "      <td>8.91</td>\n",
       "      <td>51.92</td>\n",
       "      <td>47.00</td>\n",
       "      <td>3.93</td>\n",
       "      <td>19.25</td>\n",
       "    </tr>\n",
       "    <tr>\n",
       "      <td>22/04/2019</td>\n",
       "      <td>17.50</td>\n",
       "      <td>33.98</td>\n",
       "      <td>31.95</td>\n",
       "      <td>48.34</td>\n",
       "      <td>30.44</td>\n",
       "      <td>35.04</td>\n",
       "      <td>27.59</td>\n",
       "      <td>7.34</td>\n",
       "      <td>38.00</td>\n",
       "      <td>32.35</td>\n",
       "      <td>...</td>\n",
       "      <td>40.65</td>\n",
       "      <td>26.29</td>\n",
       "      <td>12.16</td>\n",
       "      <td>41.60</td>\n",
       "      <td>22.19</td>\n",
       "      <td>8.97</td>\n",
       "      <td>51.30</td>\n",
       "      <td>46.95</td>\n",
       "      <td>3.84</td>\n",
       "      <td>18.75</td>\n",
       "    </tr>\n",
       "    <tr>\n",
       "      <td>18/04/2019</td>\n",
       "      <td>17.08</td>\n",
       "      <td>33.63</td>\n",
       "      <td>31.95</td>\n",
       "      <td>48.85</td>\n",
       "      <td>30.45</td>\n",
       "      <td>34.75</td>\n",
       "      <td>27.30</td>\n",
       "      <td>7.20</td>\n",
       "      <td>37.96</td>\n",
       "      <td>32.81</td>\n",
       "      <td>...</td>\n",
       "      <td>41.03</td>\n",
       "      <td>26.02</td>\n",
       "      <td>12.11</td>\n",
       "      <td>40.70</td>\n",
       "      <td>22.63</td>\n",
       "      <td>9.02</td>\n",
       "      <td>52.58</td>\n",
       "      <td>47.20</td>\n",
       "      <td>3.95</td>\n",
       "      <td>18.63</td>\n",
       "    </tr>\n",
       "  </tbody>\n",
       "</table>\n",
       "<p>300 rows × 71 columns</p>\n",
       "</div>"
      ],
      "text/plain": [
       "            ABEV3  AZUL4  B3SA3  BBAS3  BBDC3  BBDC4  BBSE3  BEEF3  BPAC11  \\\n",
       "Data                                                                         \n",
       "02/07/2020  14.17  20.76  56.20  33.16  19.43  21.21  27.53  12.81   79.00   \n",
       "01/07/2020  14.36  20.67  56.03  33.07  19.28  21.16  27.70  12.84   76.50   \n",
       "30/06/2020  14.14  20.11  55.09  32.15  18.96  20.70  27.27  13.15   76.50   \n",
       "29/06/2020  14.26  20.73  54.96  33.44  19.56  21.41  28.25  12.96   76.00   \n",
       "26/06/2020  13.95  20.00  53.45  31.82  19.08  20.69  27.85  12.79   72.67   \n",
       "...           ...    ...    ...    ...    ...    ...    ...    ...     ...   \n",
       "25/04/2019  18.31  33.25  34.77  49.10  31.00  36.07  28.53   8.16   39.90   \n",
       "24/04/2019  17.72  33.48  33.50  48.31  31.01  35.65  27.80   7.95   39.67   \n",
       "23/04/2019  17.67  34.17  32.84  49.31  31.00  35.89  27.62   7.99   39.45   \n",
       "22/04/2019  17.50  33.98  31.95  48.34  30.44  35.04  27.59   7.34   38.00   \n",
       "18/04/2019  17.08  33.63  31.95  48.85  30.45  34.75  27.30   7.20   37.96   \n",
       "\n",
       "            BRAP4  ...  SUZB3  TAEE11  TIMP3  TOTS3  UGPA3  USIM5  VALE3  \\\n",
       "Data               ...                                                     \n",
       "02/07/2020  35.96  ...  36.82   28.41  14.55  24.13  18.64   7.35  55.49   \n",
       "01/07/2020  35.44  ...  37.14   28.49  14.47  23.75  18.80   7.34  54.54   \n",
       "30/06/2020  36.51  ...  36.79   28.10  14.20  23.15  18.38   7.27  55.92   \n",
       "29/06/2020  36.34  ...  37.73   28.67  13.77  22.42  18.00   7.15  55.63   \n",
       "26/06/2020  36.43  ...  37.88   28.07  14.03  22.26  17.64   7.10  55.62   \n",
       "...           ...  ...    ...     ...    ...    ...    ...    ...    ...   \n",
       "25/04/2019  31.83  ...  43.34   26.11  11.77  43.27  21.25   8.70  50.33   \n",
       "24/04/2019  31.71  ...  41.69   26.31  11.87  43.20  21.38   8.59  50.36   \n",
       "23/04/2019  32.65  ...  41.01   26.15  12.06  42.79  22.55   8.91  51.92   \n",
       "22/04/2019  32.35  ...  40.65   26.29  12.16  41.60  22.19   8.97  51.30   \n",
       "18/04/2019  32.81  ...  41.03   26.02  12.11  40.70  22.63   9.02  52.58   \n",
       "\n",
       "            VIVT4  VVAR3  WEGE3  \n",
       "Data                             \n",
       "02/07/2020  48.05  15.39  53.57  \n",
       "01/07/2020  48.08  15.99  52.59  \n",
       "30/06/2020  48.03  15.31  50.61  \n",
       "29/06/2020  48.20  15.38  49.92  \n",
       "26/06/2020  48.54  14.29  50.00  \n",
       "...           ...    ...    ...  \n",
       "25/04/2019  46.70   4.02  19.05  \n",
       "24/04/2019  46.46   3.93  18.80  \n",
       "23/04/2019  47.00   3.93  19.25  \n",
       "22/04/2019  46.95   3.84  18.75  \n",
       "18/04/2019  47.20   3.95  18.63  \n",
       "\n",
       "[300 rows x 71 columns]"
      ]
     },
     "execution_count": 60,
     "metadata": {},
     "output_type": "execute_result"
    }
   ],
   "source": [
    "data = pd.read_csv('datasets/data_cart.csv', index_col=0)\n",
    "data = data[::-1]\n",
    "data\n",
    "#data.drop(['30/06/2020'], inplace=True)"
   ]
  },
  {
   "cell_type": "code",
   "execution_count": 78,
   "metadata": {},
   "outputs": [
    {
     "name": "stderr",
     "output_type": "stream",
     "text": [
      "C:\\ProgramData\\Anaconda3\\lib\\site-packages\\numpy\\core\\fromnumeric.py:2389: FutureWarning: Method .ptp is deprecated and will be removed in a future version. Use numpy.ptp instead.\n",
      "  return ptp(axis=axis, out=out, **kwargs)\n"
     ]
    },
    {
     "data": {
      "text/plain": [
       "<matplotlib.lines.Line2D at 0x2143122b408>"
      ]
     },
     "execution_count": 78,
     "metadata": {},
     "output_type": "execute_result"
    },
    {
     "data": {
      "image/png": "[encoded data removed]",
      "text/plain": [
       "<Figure size 1080x432 with 1 Axes>"
      ]
     },
     "metadata": {
      "needs_background": "light"
     },
     "output_type": "display_data"
    }
   ],
   "source": [
    "res = resid(data[y_symbol], data[x_symbol], period)\n",
    "# antes de plotar os dados devem ser invertidos para ordem crescente\n",
    "ret = zscore(res[::-1])\n",
    "std = ret.std()\n",
    "ret.plot(figsize=(15,6))\n",
    "plt.axhline(ret.mean())\n",
    "\n",
    "plt.axhline(0, color='black',label='mean') # Add the mean of residual\n",
    "plt.axhline(2*std, color='red', linestyle='--', linewidth=2)\n",
    "plt.axhline(-2*std, color='green', linestyle='--', linewidth=2)"
   ]
  },
  {
   "cell_type": "code",
   "execution_count": 81,
   "metadata": {},
   "outputs": [],
   "source": [
    "#reg.resid[::-1].plot(figsize=(15,6))"
   ]
  },
  {
   "cell_type": "code",
   "execution_count": 62,
   "metadata": {},
   "outputs": [
    {
     "data": {
      "image/png": "[encoded data removed]",
      "text/plain": [
       "<Figure size 1080x432 with 1 Axes>"
      ]
     },
     "metadata": {
      "needs_background": "light"
     },
     "output_type": "display_data"
    }
   ],
   "source": [
    "show(data[::-1], y_symbol, x_symbol, period)"
   ]
  },
  {
   "cell_type": "code",
   "execution_count": 64,
   "metadata": {},
   "outputs": [
    {
     "data": {
      "text/plain": [
       "<matplotlib.axes._subplots.AxesSubplot at 0x2142c476908>"
      ]
     },
     "execution_count": 64,
     "metadata": {},
     "output_type": "execute_result"
    },
    {
     "data": {
      "image/png": "[encoded data removed]",
      "text/plain": [
       "<Figure size 1080x432 with 1 Axes>"
      ]
     },
     "metadata": {
      "needs_background": "light"
     },
     "output_type": "display_data"
    }
   ],
   "source": [
    "ratio_continuo(y, x, period)[::-1].plot(figsize=(15,6))"
   ]
  },
  {
   "cell_type": "code",
   "execution_count": null,
   "metadata": {},
   "outputs": [],
   "source": []
  }
 ],
 "metadata": {
  "kernelspec": {
   "display_name": "Python 3",
   "language": "python",
   "name": "python3"
  },
  "language_info": {
   "codemirror_mode": {
    "name": "ipython",
    "version": 3
   },
   "file_extension": ".py",
   "mimetype": "text/x-python",
   "name": "python",
   "nbconvert_exporter": "python",
   "pygments_lexer": "ipython3",
   "version": "3.7.4"
  }
 },
 "nbformat": 4,
 "nbformat_minor": 2
}
