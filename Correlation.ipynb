{
 "cells": [
  {
   "cell_type": "code",
   "execution_count": 8,
   "metadata": {},
   "outputs": [],
   "source": [
    "import numpy as np\n",
    "import pandas as pd\n",
    "import os"
   ]
  },
  {
   "cell_type": "markdown",
   "metadata": {},
   "source": [
    "### Function/Methods"
   ]
  },
  {
   "cell_type": "code",
   "execution_count": 95,
   "metadata": {},
   "outputs": [
    {
     "ename": "SyntaxError",
     "evalue": "invalid syntax (<ipython-input-95-eb8f97a14abe>, line 31)",
     "output_type": "error",
     "traceback": [
      "\u001b[1;36m  File \u001b[1;32m\"<ipython-input-95-eb8f97a14abe>\"\u001b[1;36m, line \u001b[1;32m31\u001b[0m\n\u001b[1;33m    data['Var'].iloc[index+] = var\u001b[0m\n\u001b[1;37m                           ^\u001b[0m\n\u001b[1;31mSyntaxError\u001b[0m\u001b[1;31m:\u001b[0m invalid syntax\n"
     ]
    }
   ],
   "source": [
    "#https://stackoverflow.com/questions/3949226/calculating-pearson-correlation-and-significance-in-python\n",
    "\n",
    "# 0.9 para mais ou para menos indica uma correlação muito forte.\n",
    "# 0.7 a 0.9 positivo ou negativo indica uma correlação forte.percorre\n",
    "# 0.5 a 0.7 positivo ou negativo indica uma correlação moderada.\n",
    "# 0.3 a 0.5 positivo ou negativo indica uma correlação fraca.\n",
    "# 0 a 0.3 positivo ou negativo indica uma correlação desprezível.'''\n",
    "def corr_pearson(a, b):\n",
    "  a_avg, b_avg = np.average(a), np.average(b)\n",
    "  a_stdev, b_stdev = np.std(a), np.std(b)\n",
    "  n = len(a)\n",
    "  denominator = a_stdev * b_stdev * n\n",
    "  numerator = np.sum(np.multiply(a-a_avg, b-b_avg))\n",
    "  p_coef = numerator/denominator\n",
    "  return p_coef\n",
    "\n",
    "def namefile(file):\n",
    "    return os.path.splitext(file)[0]\n",
    "\n",
    "def calcvar(data):\n",
    "    data['Var'] = 0\n",
    "    lenght = len(data)\n",
    "    for index in range(lenght):\n",
    "        if(index == lenght-1):\n",
    "            break\n",
    "\n",
    "        current = data['Fechamento'].iloc[index]\n",
    "        last = data['Fechamento'].iloc[(index+1)]\n",
    "        var = (current/last)-1\n",
    "        # index+1; lag: linha do dia dia-dia anterior\n",
    "        data['Var'].iloc[index+] = var\n",
    "\n",
    "# check cointegrated pairs from dataframe\n",
    "def find_correlation_pairs(data, perc_correl = 0.8, num_pairs=0):\n",
    "    rows = []\n",
    "    isBreak = False\n",
    "        \n",
    "    for numerador in data.columns:\n",
    "        for denominador in data.columns:\n",
    "            if (numerador == denominador):\n",
    "                continue\n",
    "            \n",
    "            df_numerador = pd.DataFrame(data[numerador])\n",
    "            df_denominador = pd.DataFrame(data[denominador])\n",
    "            df_numerador.columns = ['Fechamento']\n",
    "            df_denominador.columns = ['Fechamento']\n",
    "            \n",
    "            calcvar(df_numerador)\n",
    "            calcvar(df_denominador)\n",
    "            \n",
    "            p_coef = corr_pearson(df_numerador['Var'], df_denominador['Var'])\n",
    "            if(abs(p_coef) >= perc_correl):\n",
    "                rows.append([numerador,denominador,p_coef])\n",
    "            \n",
    "            # break for two\n",
    "            isBreak = (num_pairs > 0 and len(rows) >= num_pairs)\n",
    "            if (isBreak == True): break\n",
    "        \n",
    "        # break for one\n",
    "        if (isBreak == True): break\n",
    "            \n",
    "    df_pairs = pd.DataFrame(rows, columns=['Independente', 'Dependente', 'p_coef'])\n",
    "    return df_pairs\n",
    "\n",
    "# check cointegrated pairs from directory of csv's\n",
    "def find_correlation_pairs_foldercsv(path, perc_correl = 0.8, num_pairs=0):\n",
    "    isBreak = False\n",
    "    rows = []\n",
    "\n",
    "    # for each all files csv in directory 'datasets', read\n",
    "    for fnum in os.listdir(path):\n",
    "        # read the first csv\n",
    "        den = pd.read_csv(path+'/'+fnum)\n",
    "\n",
    "        for fden in os.listdir(path):\n",
    "            csv_name1 = namefile(fnum)\n",
    "            csv_name2 = namefile(fden)\n",
    "\n",
    "            # continue if it is the same csv\n",
    "            if(csv_name1 == csv_name2):\n",
    "                continue\n",
    "\n",
    "            # read then second csv\n",
    "            num = pd.read_csv(path+'/'+fden)\n",
    "            calcvar(den)\n",
    "            calcvar(num)\n",
    "\n",
    "            p_coef = corr_pearson(den['Var'], num['Var'])\n",
    "            if(abs(p_coef) >= perc_correl):\n",
    "                rows.append([csv_name1,csv_name2,p_coef])\n",
    "\n",
    "            # break for one\n",
    "            isBreak = (num_pairs > 0 and len(rows) >= num_pairs)\n",
    "            if (isBreak == True): break\n",
    "\n",
    "        # break for two\n",
    "        if (isBreak == True): break\n",
    "\n",
    "    df_pairs = pd.DataFrame(rows, columns=['Independente', 'Dependente', 'p_coef'])\n",
    "    return df_pairs"
   ]
  },
  {
   "cell_type": "code",
   "execution_count": 90,
   "metadata": {},
   "outputs": [
    {
     "data": {
      "text/plain": [
       "1.0"
      ]
     },
     "execution_count": 90,
     "metadata": {},
     "output_type": "execute_result"
    }
   ],
   "source": [
    "corr_pearson([1,2,3], [1,2,3])"
   ]
  },
  {
   "cell_type": "code",
   "execution_count": 91,
   "metadata": {},
   "outputs": [
    {
     "name": "stdout",
     "output_type": "stream",
     "text": [
      "Pelo Preço:  0.8873236737317411\n",
      "Pela Var %:  0.6638785706386569\n"
     ]
    }
   ],
   "source": [
    "# test with csv\n",
    "mat1 = pd.read_csv('datasets-b3/APER3.csv')\n",
    "mat2 = pd.read_csv('datasets-b3/BEES3.csv')\n",
    "\n",
    "calcvar(mat1)\n",
    "calcvar(mat2)\n",
    "\n",
    "print('Pelo Preço: ', corr_pearson(mat1['Fechamento'], mat2['Fechamento']))\n",
    "print('Pela Var %: ', corr_pearson(mat1['Var'], mat2['Var']))"
   ]
  },
  {
   "cell_type": "markdown",
   "metadata": {},
   "source": [
    "### Read CSV"
   ]
  },
  {
   "cell_type": "code",
   "execution_count": 83,
   "metadata": {},
   "outputs": [],
   "source": [
    "df = pd.read_csv('datasets/data.csv')\n",
    "data = df[df.columns.difference(['Data'])]"
   ]
  },
  {
   "cell_type": "markdown",
   "metadata": {},
   "source": [
    "### Pairs Correlationated"
   ]
  },
  {
   "cell_type": "code",
   "execution_count": 97,
   "metadata": {},
   "outputs": [
    {
     "data": {
      "text/html": [
       "<div>\n",
       "<style scoped>\n",
       "    .dataframe tbody tr th:only-of-type {\n",
       "        vertical-align: middle;\n",
       "    }\n",
       "\n",
       "    .dataframe tbody tr th {\n",
       "        vertical-align: top;\n",
       "    }\n",
       "\n",
       "    .dataframe thead th {\n",
       "        text-align: right;\n",
       "    }\n",
       "</style>\n",
       "<table border=\"1\" class=\"dataframe\">\n",
       "  <thead>\n",
       "    <tr style=\"text-align: right;\">\n",
       "      <th></th>\n",
       "      <th>Independente</th>\n",
       "      <th>Dependente</th>\n",
       "      <th>p_coef</th>\n",
       "    </tr>\n",
       "  </thead>\n",
       "  <tbody>\n",
       "    <tr>\n",
       "      <td>0</td>\n",
       "      <td>AAPL34</td>\n",
       "      <td>IVVB11</td>\n",
       "      <td>0.879038</td>\n",
       "    </tr>\n",
       "    <tr>\n",
       "      <td>1</td>\n",
       "      <td>AAPL34</td>\n",
       "      <td>SPXI11</td>\n",
       "      <td>0.881377</td>\n",
       "    </tr>\n",
       "    <tr>\n",
       "      <td>2</td>\n",
       "      <td>ABCB4</td>\n",
       "      <td>ARZZ3</td>\n",
       "      <td>0.819815</td>\n",
       "    </tr>\n",
       "    <tr>\n",
       "      <td>3</td>\n",
       "      <td>ABCB4</td>\n",
       "      <td>AZUL4</td>\n",
       "      <td>0.819255</td>\n",
       "    </tr>\n",
       "    <tr>\n",
       "      <td>4</td>\n",
       "      <td>ABCB4</td>\n",
       "      <td>BBAS3</td>\n",
       "      <td>0.848229</td>\n",
       "    </tr>\n",
       "  </tbody>\n",
       "</table>\n",
       "</div>"
      ],
      "text/plain": [
       "  Independente Dependente    p_coef\n",
       "0       AAPL34     IVVB11  0.879038\n",
       "1       AAPL34     SPXI11  0.881377\n",
       "2        ABCB4      ARZZ3  0.819815\n",
       "3        ABCB4      AZUL4  0.819255\n",
       "4        ABCB4      BBAS3  0.848229"
      ]
     },
     "execution_count": 97,
     "metadata": {},
     "output_type": "execute_result"
    }
   ],
   "source": [
    "pairs = find_correlation_pairs_foldercsv('datasets-b3', num_pairs=5)\n",
    "pairs"
   ]
  },
  {
   "cell_type": "code",
   "execution_count": 98,
   "metadata": {},
   "outputs": [
    {
     "data": {
      "text/html": [
       "<div>\n",
       "<style scoped>\n",
       "    .dataframe tbody tr th:only-of-type {\n",
       "        vertical-align: middle;\n",
       "    }\n",
       "\n",
       "    .dataframe tbody tr th {\n",
       "        vertical-align: top;\n",
       "    }\n",
       "\n",
       "    .dataframe thead th {\n",
       "        text-align: right;\n",
       "    }\n",
       "</style>\n",
       "<table border=\"1\" class=\"dataframe\">\n",
       "  <thead>\n",
       "    <tr style=\"text-align: right;\">\n",
       "      <th></th>\n",
       "      <th>Independente</th>\n",
       "      <th>Dependente</th>\n",
       "      <th>p_coef</th>\n",
       "    </tr>\n",
       "  </thead>\n",
       "  <tbody>\n",
       "    <tr>\n",
       "      <td>0</td>\n",
       "      <td>AAPL34</td>\n",
       "      <td>IVVB11</td>\n",
       "      <td>0.879038</td>\n",
       "    </tr>\n",
       "    <tr>\n",
       "      <td>1</td>\n",
       "      <td>AAPL34</td>\n",
       "      <td>SPXI11</td>\n",
       "      <td>0.881377</td>\n",
       "    </tr>\n",
       "    <tr>\n",
       "      <td>2</td>\n",
       "      <td>ABCB4</td>\n",
       "      <td>ARZZ3</td>\n",
       "      <td>0.819815</td>\n",
       "    </tr>\n",
       "    <tr>\n",
       "      <td>3</td>\n",
       "      <td>ABCB4</td>\n",
       "      <td>AZUL4</td>\n",
       "      <td>0.819255</td>\n",
       "    </tr>\n",
       "    <tr>\n",
       "      <td>4</td>\n",
       "      <td>ABCB4</td>\n",
       "      <td>BBAS3</td>\n",
       "      <td>0.848229</td>\n",
       "    </tr>\n",
       "  </tbody>\n",
       "</table>\n",
       "</div>"
      ],
      "text/plain": [
       "  Independente Dependente    p_coef\n",
       "0       AAPL34     IVVB11  0.879038\n",
       "1       AAPL34     SPXI11  0.881377\n",
       "2        ABCB4      ARZZ3  0.819815\n",
       "3        ABCB4      AZUL4  0.819255\n",
       "4        ABCB4      BBAS3  0.848229"
      ]
     },
     "execution_count": 98,
     "metadata": {},
     "output_type": "execute_result"
    }
   ],
   "source": [
    "pairs_ = find_correlation_pairs(data, num_pairs=5)\n",
    "pairs_"
   ]
  },
  {
   "cell_type": "code",
   "execution_count": null,
   "metadata": {},
   "outputs": [],
   "source": []
  }
 ],
 "metadata": {
  "kernelspec": {
   "display_name": "Python 3",
   "language": "python",
   "name": "python3"
  },
  "language_info": {
   "codemirror_mode": {
    "name": "ipython",
    "version": 3
   },
   "file_extension": ".py",
   "mimetype": "text/x-python",
   "name": "python",
   "nbconvert_exporter": "python",
   "pygments_lexer": "ipython3",
   "version": "3.7.4"
  }
 },
 "nbformat": 4,
 "nbformat_minor": 2
}
