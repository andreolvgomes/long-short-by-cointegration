{
 "cells": [
  {
   "cell_type": "code",
   "execution_count": 147,
   "metadata": {},
   "outputs": [],
   "source": [
    "import pandas as pd\n",
    "from decimal import Decimal\n",
    "import os.path\n",
    "from os import path\n"
   ]
  },
  {
   "cell_type": "code",
   "execution_count": 73,
   "metadata": {},
   "outputs": [
    {
     "name": "stdout",
     "output_type": "stream",
     "text": [
      "André\n",
      "André\n"
     ]
    }
   ],
   "source": [
    "print(str[0:5])\n",
    "print(Str(str, 0, 5))"
   ]
  },
  {
   "cell_type": "code",
   "execution_count": 120,
   "metadata": {},
   "outputs": [],
   "source": [
    "def Str(line, start, end):\n",
    "    return line[start-1:end].strip()\n",
    "\n",
    "def Value(line, start, end):\n",
    "    string = Str(line, start, end)\n",
    "    value = string[0:len(string)-2]\n",
    "    digit = string[len(string)-2:len(string)]\n",
    "    valueStr = value + '.' + digit\n",
    "    return Decimal(valueStr)\n",
    "    \n",
    "def Check(line):\n",
    "    if (Str(line, 2, 11) == \"02\"):\n",
    "        if (Str(line, 3, 25) == \"010\"):\n",
    "            return True\n",
    "    return False\n",
    "\n",
    "def FormatLine(data):\n",
    "    "
   ]
  },
  {
   "cell_type": "code",
   "execution_count": 162,
   "metadata": {},
   "outputs": [],
   "source": [
    "filefrom = \"datasets/COTAHIST_A2020.TXT\"\n",
    "fileto = \"datasets/test1.csv\"\n",
    "\n",
    "with open(filefrom, \"r\") as f:\n",
    "    counter = 10\n",
    "    for line in f:\n",
    "        if(Check(line)):\n",
    "            counter=coutner+1\n",
    "            codeneg = Str(test, 13, 24)#CODNEG - CÓDIGO DE NEGOCIAÇÃO DO PAPEL\n",
    "            data = Str(test, 3, 10)#DATA DO PREGÃO\n",
    "            abertura = Value(test, 57, 69)#PREABE - PREÇO DE ABERTURA DO PAPELMERCADO NO PREGÃO\n",
    "            maxima = Value(test, 70, 82)#PREMAX - PREÇO MÁXIMO DO PAPELMERCADO NO PREGÃO\n",
    "            minima = Value(test, 83, 95)#PREMIN - PREÇO MÍNIMO DO PAPELMERCADO NO PREGÃO\n",
    "            fechamento = Value(test, 109, 121)#PREULT - PREÇO DO ÚLTIMO NEGÓCIO DO PAPEL-MERCADO NO PREGÃO\n",
    "            nome = Str(test, 28, 39)#NOMRES - NOME RESUMIDO DA EMPRESA EMISSORA DO PAPEL\n",
    "            \n",
    "            \n",
    "        # testes\n",
    "        if(counter >= 10):\n",
    "            break"
   ]
  },
  {
   "cell_type": "code",
   "execution_count": 143,
   "metadata": {},
   "outputs": [
    {
     "name": "stdout",
     "output_type": "stream",
     "text": [
      "20200102\n"
     ]
    }
   ],
   "source": [
    "test = \"012020010202AALR3       010ALLIAR      ON      NM   R$  000000000182900000000019000000000001828000000000186800000000019000000000001899000000000190102443000000000000585800000000001094619600000000000000009999123100000010000000000000BRAALRACNOR6101\"\n",
    "print(Str(test, 3, 10))"
   ]
  },
  {
   "cell_type": "code",
   "execution_count": 144,
   "metadata": {},
   "outputs": [
    {
     "name": "stdout",
     "output_type": "stream",
     "text": [
      "AALR3\n",
      "20200102\n",
      "18.29\n",
      "19.00\n",
      "18.28\n",
      "19.00\n",
      "ALLIAR\n"
     ]
    }
   ],
   "source": [
    "print(Str(test, 13, 24))#CODNEG - CÓDIGO DE NEGOCIAÇÃO DO PAPEL\n",
    "print(Str(test, 3, 10))#DATA DO PREGÃO\n",
    "print(Value(test, 57, 69))#PREABE - PREÇO DE ABERTURA DO PAPELMERCADO NO PREGÃO\n",
    "print(Value(test, 70, 82))#PREMAX - PREÇO MÁXIMO DO PAPELMERCADO NO PREGÃO\n",
    "print(Value(test, 83, 95))#PREMIN - PREÇO MÍNIMO DO PAPELMERCADO NO PREGÃO\n",
    "print(Value(test, 109, 121))#PREULT - PREÇO DO ÚLTIMO NEGÓCIO DO PAPEL-MERCADO NO PREGÃO\n",
    "print(Str(test, 28, 39))#NOMRES - NOME RESUMIDO DA EMPRESA EMISSORA DO PAPEL"
   ]
  },
  {
   "cell_type": "code",
   "execution_count": 160,
   "metadata": {},
   "outputs": [],
   "source": [
    "file = \"datasets/test1.txt\"\n",
    "header = \"Codneg,Data,Abertura,Maxima,Minima,Fechamento,Empresa\\n\"\n",
    "exists = path.exists(file)\n",
    "\n",
    "with open(file, \"a\") as f:\n",
    "    if (exists==False):\n",
    "        f.write(header)\n",
    "    line = \"AAPL34,02/01/2020,120.00,121.34,120.00,121.34,APPLE\\n\"\n",
    "    f.write(line)"
   ]
  },
  {
   "cell_type": "code",
   "execution_count": null,
   "metadata": {},
   "outputs": [],
   "source": []
  }
 ],
 "metadata": {
  "kernelspec": {
   "display_name": "Python 3",
   "language": "python",
   "name": "python3"
  },
  "language_info": {
   "codemirror_mode": {
    "name": "ipython",
    "version": 3
   },
   "file_extension": ".py",
   "mimetype": "text/x-python",
   "name": "python",
   "nbconvert_exporter": "python",
   "pygments_lexer": "ipython3",
   "version": "3.7.4"
  }
 },
 "nbformat": 4,
 "nbformat_minor": 2
}
