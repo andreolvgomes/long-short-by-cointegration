{
 "cells": [
  {
   "cell_type": "markdown",
   "metadata": {},
   "source": [
    "Séries Históricas: http://www.b3.com.br/pt_br/market-data-e-indices/servicos-de-dados/market-data/historico/mercado-a-vista/series-historicas/\n",
    "\n",
    "Lyaout do Arquivo: http://www.b3.com.br/data/files/C8/F3/08/B4/297BE410F816C9E492D828A8/SeriesHistoricas_Layout.pdf"
   ]
  },
  {
   "cell_type": "code",
   "execution_count": 1,
   "metadata": {},
   "outputs": [],
   "source": [
    "#https://www.youtube.com/watch?v=Znpbz6RzLFI&feature=youtu.be\n",
    "#https://albertosouza.net/artigos/22-importando-dados-bovespa\n",
    "#http://www.bmfbovespa.com.br/pt_br/servicos/market-data/historico/mercado-a-vista/cotacoes-historicas/\n",
    "    \n",
    "import pandas as pd\n",
    "from decimal import Decimal\n",
    "import os.path\n",
    "from os import path"
   ]
  },
  {
   "cell_type": "markdown",
   "metadata": {},
   "source": [
    "# Functions"
   ]
  },
  {
   "cell_type": "code",
   "execution_count": 2,
   "metadata": {},
   "outputs": [],
   "source": [
    "def Str(line, start, end):\n",
    "    return line[start-1:end].strip()\n",
    "\n",
    "def Value(line, start, end):\n",
    "    string = Str(line, start, end)\n",
    "    value = string[0:len(string)-2]\n",
    "    digit = string[len(string)-2:len(string)]\n",
    "    valueStr = value + '.' + digit\n",
    "    return Decimal(valueStr)\n",
    "\n",
    "def DateStr(line, start, end):\n",
    "    string = Str(line, start, end)\n",
    "    dateformat = '{}/{}/{}'.format(string[6:8], string[4:6], string[0:4])\n",
    "    return dateformat\n",
    "    \n",
    "def Check(line):\n",
    "    if (Str(line, 11, 12) == \"02\"):\n",
    "        if (Str(line, 25, 27) == \"010\"):\n",
    "            return True\n",
    "    return False\n",
    "\n",
    "def FormatLineCsv(data):\n",
    "    n = len(data)\n",
    "    i = -1\n",
    "    line = ''\n",
    "    for value in data:\n",
    "        i+=1\n",
    "        if(i>0):\n",
    "            line+=','\n",
    "        line+=str(value)\n",
    "    return line\n",
    "\n",
    "def find_csv_number_lines(path, ismax=False):\n",
    "    rows = []\n",
    "    for file in os.listdir(path):\n",
    "        with open(path+'/'+file) as f:\n",
    "            lines = sum(1 for line in f)\n",
    "            rows.append([file, lines])\n",
    "\n",
    "    csv = pd.DataFrame(rows, columns=['File', 'Lines'])\n",
    "    if (ismax==False):\n",
    "        return csv;\n",
    "    maxlines = csv['Lines'].max()\n",
    "    return csv.loc[(csv['Lines'] == maxlines)]\n",
    "\n",
    "def deletecsv(folder, filesNames):\n",
    "    for file in filesNames:\n",
    "        delete_file(folder+'/'+file)\n",
    "\n",
    "def delete_file(file, verbose=False):\n",
    "    if os.path.exists(file):\n",
    "        os.remove(file)\n",
    "    elif (verbose):\n",
    "        print(\"File doesn't exists\")\n",
    "\n",
    "def clear_foler(path):\n",
    "    for file in os.listdir(path):\n",
    "        delete_file(path + file)\n",
    "\n",
    "def extract_historic(from_file, path_to):\n",
    "    path_to += '/'\n",
    "    looping=-1\n",
    "    symbol_list=[]\n",
    "    header = FormatLineCsv(['Codneg','Data','Abertura','Maxima','Minima','Fechamento','Empresa'])\n",
    "    clear_foler(path_to)\n",
    "    \n",
    "    with open(from_file, \"r\") as f:            \n",
    "        for line in f:\n",
    "            looping+=1\n",
    "\n",
    "            # header .txt b3, next\n",
    "            if(looping==0):\n",
    "                continue\n",
    "\n",
    "            if(Check(line)):\n",
    "                rows=[]\n",
    "                codneg = Str(line, 13, 24)#CODNEG - CÓDIGO DE NEGOCIAÇÃO DO PAPEL                        \n",
    "                rows.append(codneg)\n",
    "                rows.append(DateStr(line, 3, 10))#DATA DO PREGÃO\n",
    "                rows.append(Value(line, 57, 69))#PREABE - PREÇO DE ABERTURA DO PAPELMERCADO NO PREGÃO\n",
    "                rows.append(Value(line, 70, 82))#PREMAX - PREÇO MÁXIMO DO PAPELMERCADO NO PREGÃO\n",
    "                rows.append(Value(line, 83, 95))#PREMIN - PREÇO MÍNIMO DO PAPELMERCADO NO PREGÃO\n",
    "                rows.append(Value(line, 109, 121))#PREULT - PREÇO DO ÚLTIMO NEGÓCIO DO PAPEL-MERCADO NO PREGÃO\n",
    "                rows.append(Str(line, 28, 39))#NOMRES - NOME RESUMIDO DA EMPRESA EMISSORA DO PAPEL\n",
    "\n",
    "                # format values\n",
    "                row_format = FormatLineCsv(rows) + '\\n'\n",
    "\n",
    "                file = path_to + codneg + '.csv'\n",
    "                # check if not exists file to symbol\n",
    "                # if not exists, create file with header\n",
    "                if (codneg not in symbol_list):\n",
    "                    symbol_list.append(codneg)\n",
    "                    with open(file, \"a\") as f:\n",
    "                        f.write(header+'\\n')\n",
    "\n",
    "                # write info to file\n",
    "                with open(file, \"a\") as f:\n",
    "                    f.write(row_format)\n",
    "        return len(symbol_list)"
   ]
  },
  {
   "cell_type": "markdown",
   "metadata": {},
   "source": [
    "# Gera dados"
   ]
  },
  {
   "cell_type": "code",
   "execution_count": 3,
   "metadata": {},
   "outputs": [],
   "source": [
    "folder_to = \"datasets-b3/\"\n",
    "file_from = \"datasets/series_historicas/COTAHIST_A2020.TXT\""
   ]
  },
  {
   "cell_type": "markdown",
   "metadata": {},
   "source": [
    "Extrai os dados e gerar 1 csv para cada ativo"
   ]
  },
  {
   "cell_type": "code",
   "execution_count": 4,
   "metadata": {},
   "outputs": [
    {
     "name": "stdout",
     "output_type": "stream",
     "text": [
      "972 csv criados com sucesso!!!\n"
     ]
    }
   ],
   "source": [
    "count = extract_historic(file_from, folder_to)\n",
    "print('{} csv criados com sucesso!!!'.format(count))"
   ]
  },
  {
   "cell_type": "markdown",
   "metadata": {},
   "source": [
    "Mantém somente os csv que contém mais registros e deleta o resto"
   ]
  },
  {
   "cell_type": "code",
   "execution_count": 5,
   "metadata": {},
   "outputs": [],
   "source": [
    "listcsv = find_csv_number_lines(folder_to)"
   ]
  },
  {
   "cell_type": "code",
   "execution_count": 6,
   "metadata": {},
   "outputs": [
    {
     "name": "stdout",
     "output_type": "stream",
     "text": [
      "709 csv deletados com sucesso!!!\n"
     ]
    }
   ],
   "source": [
    "number_max = listcsv['Lines'].max()\n",
    "files = listcsv.loc[(listcsv['Lines'] < number_max)]['File'].tolist()\n",
    "deletecsv(folder_to, files)\n",
    "print('{} csv deletados com sucesso!!!'.format(len(files)))"
   ]
  },
  {
   "cell_type": "code",
   "execution_count": null,
   "metadata": {},
   "outputs": [],
   "source": []
  }
 ],
 "metadata": {
  "kernelspec": {
   "display_name": "Python 3",
   "language": "python",
   "name": "python3"
  },
  "language_info": {
   "codemirror_mode": {
    "name": "ipython",
    "version": 3
   },
   "file_extension": ".py",
   "mimetype": "text/x-python",
   "name": "python",
   "nbconvert_exporter": "python",
   "pygments_lexer": "ipython3",
   "version": "3.7.4"
  }
 },
 "nbformat": 4,
 "nbformat_minor": 2
}
