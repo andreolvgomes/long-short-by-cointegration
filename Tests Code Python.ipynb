{
 "cells": [
  {
   "cell_type": "code",
   "execution_count": 40,
   "metadata": {},
   "outputs": [
    {
     "data": {
      "text/html": [
       "<div>\n",
       "<style scoped>\n",
       "    .dataframe tbody tr th:only-of-type {\n",
       "        vertical-align: middle;\n",
       "    }\n",
       "\n",
       "    .dataframe tbody tr th {\n",
       "        vertical-align: top;\n",
       "    }\n",
       "\n",
       "    .dataframe thead th {\n",
       "        text-align: right;\n",
       "    }\n",
       "</style>\n",
       "<table border=\"1\" class=\"dataframe\">\n",
       "  <thead>\n",
       "    <tr style=\"text-align: right;\">\n",
       "      <th></th>\n",
       "      <th>AALR3</th>\n",
       "      <th>AAPL34</th>\n",
       "      <th>ABCB4</th>\n",
       "      <th>ABEV3</th>\n",
       "      <th>ALPA4</th>\n",
       "    </tr>\n",
       "  </thead>\n",
       "  <tbody>\n",
       "    <tr>\n",
       "      <td>0</td>\n",
       "      <td>13.25</td>\n",
       "      <td>60.41</td>\n",
       "      <td>17.12</td>\n",
       "      <td>16.15</td>\n",
       "      <td>17.50</td>\n",
       "    </tr>\n",
       "    <tr>\n",
       "      <td>1</td>\n",
       "      <td>13.30</td>\n",
       "      <td>53.80</td>\n",
       "      <td>17.10</td>\n",
       "      <td>16.33</td>\n",
       "      <td>17.53</td>\n",
       "    </tr>\n",
       "    <tr>\n",
       "      <td>2</td>\n",
       "      <td>13.44</td>\n",
       "      <td>54.66</td>\n",
       "      <td>16.95</td>\n",
       "      <td>16.55</td>\n",
       "      <td>17.40</td>\n",
       "    </tr>\n",
       "    <tr>\n",
       "      <td>3</td>\n",
       "      <td>13.34</td>\n",
       "      <td>54.55</td>\n",
       "      <td>17.00</td>\n",
       "      <td>16.48</td>\n",
       "      <td>17.36</td>\n",
       "    </tr>\n",
       "    <tr>\n",
       "      <td>4</td>\n",
       "      <td>13.19</td>\n",
       "      <td>56.19</td>\n",
       "      <td>17.32</td>\n",
       "      <td>16.15</td>\n",
       "      <td>17.70</td>\n",
       "    </tr>\n",
       "    <tr>\n",
       "      <td>...</td>\n",
       "      <td>...</td>\n",
       "      <td>...</td>\n",
       "      <td>...</td>\n",
       "      <td>...</td>\n",
       "      <td>...</td>\n",
       "    </tr>\n",
       "    <tr>\n",
       "      <td>347</td>\n",
       "      <td>9.00</td>\n",
       "      <td>167.79</td>\n",
       "      <td>13.98</td>\n",
       "      <td>13.38</td>\n",
       "      <td>26.73</td>\n",
       "    </tr>\n",
       "    <tr>\n",
       "      <td>348</td>\n",
       "      <td>9.77</td>\n",
       "      <td>172.00</td>\n",
       "      <td>14.00</td>\n",
       "      <td>12.82</td>\n",
       "      <td>25.58</td>\n",
       "    </tr>\n",
       "    <tr>\n",
       "      <td>349</td>\n",
       "      <td>10.20</td>\n",
       "      <td>171.33</td>\n",
       "      <td>14.00</td>\n",
       "      <td>12.48</td>\n",
       "      <td>24.83</td>\n",
       "    </tr>\n",
       "    <tr>\n",
       "      <td>350</td>\n",
       "      <td>10.50</td>\n",
       "      <td>173.08</td>\n",
       "      <td>14.05</td>\n",
       "      <td>12.60</td>\n",
       "      <td>25.60</td>\n",
       "    </tr>\n",
       "    <tr>\n",
       "      <td>351</td>\n",
       "      <td>10.26</td>\n",
       "      <td>168.40</td>\n",
       "      <td>14.02</td>\n",
       "      <td>12.97</td>\n",
       "      <td>26.22</td>\n",
       "    </tr>\n",
       "  </tbody>\n",
       "</table>\n",
       "<p>352 rows × 5 columns</p>\n",
       "</div>"
      ],
      "text/plain": [
       "     AALR3  AAPL34  ABCB4  ABEV3  ALPA4\n",
       "0    13.25   60.41  17.12  16.15  17.50\n",
       "1    13.30   53.80  17.10  16.33  17.53\n",
       "2    13.44   54.66  16.95  16.55  17.40\n",
       "3    13.34   54.55  17.00  16.48  17.36\n",
       "4    13.19   56.19  17.32  16.15  17.70\n",
       "..     ...     ...    ...    ...    ...\n",
       "347   9.00  167.79  13.98  13.38  26.73\n",
       "348   9.77  172.00  14.00  12.82  25.58\n",
       "349  10.20  171.33  14.00  12.48  24.83\n",
       "350  10.50  173.08  14.05  12.60  25.60\n",
       "351  10.26  168.40  14.02  12.97  26.22\n",
       "\n",
       "[352 rows x 5 columns]"
      ]
     },
     "execution_count": 40,
     "metadata": {},
     "output_type": "execute_result"
    }
   ],
   "source": [
    "import numpy as np\n",
    "import pandas as pd\n",
    "import os\n",
    "import statsmodels.api as sm\n",
    "import statsmodels.tsa.stattools as ts\n",
    "import matplotlib.pyplot as plt\n",
    "from pykalman import KalmanFilter\n",
    "import statistics\n",
    "\n",
    "%matplotlib inline\n",
    "data"
   ]
  },
  {
   "cell_type": "code",
   "execution_count": 39,
   "metadata": {},
   "outputs": [
    {
     "data": {
      "text/plain": [
       "(352, 5)"
      ]
     },
     "execution_count": 39,
     "metadata": {},
     "output_type": "execute_result"
    }
   ],
   "source": [
    "data = pd.read_csv('datasets/data.csv')[['AALR3', 'AAPL34', 'ABCB4', 'ABEV3', 'ALPA4']]\n",
    "data.shape"
   ]
  },
  {
   "cell_type": "code",
   "execution_count": 41,
   "metadata": {},
   "outputs": [
    {
     "data": {
      "text/plain": [
       "'AAPL34'"
      ]
     },
     "execution_count": 41,
     "metadata": {},
     "output_type": "execute_result"
    }
   ],
   "source": [
    "data.columns[1]"
   ]
  },
  {
   "cell_type": "code",
   "execution_count": 43,
   "metadata": {},
   "outputs": [
    {
     "name": "stdout",
     "output_type": "stream",
     "text": [
      "10\n"
     ]
    }
   ],
   "source": [
    "counter =0\n",
    "index=-1\n",
    "for y_symbol in data.columns:\n",
    "    index = index + 1\n",
    "    for x_symbol in data.columns[index+1:n]:\n",
    "        counter=counter+1"
   ]
  },
  {
   "cell_type": "code",
   "execution_count": null,
   "metadata": {},
   "outputs": [],
   "source": [
    "20503"
   ]
  }
 ],
 "metadata": {
  "kernelspec": {
   "display_name": "Python 3",
   "language": "python",
   "name": "python3"
  },
  "language_info": {
   "codemirror_mode": {
    "name": "ipython",
    "version": 3
   },
   "file_extension": ".py",
   "mimetype": "text/x-python",
   "name": "python",
   "nbconvert_exporter": "python",
   "pygments_lexer": "ipython3",
   "version": "3.7.4"
  }
 },
 "nbformat": 4,
 "nbformat_minor": 2
}
