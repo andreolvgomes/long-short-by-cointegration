{
 "cells": [
  {
   "cell_type": "code",
   "execution_count": 32,
   "metadata": {},
   "outputs": [],
   "source": [
    "import numpy as np\n",
    "import pandas as pd\n",
    "import os\n",
    "import statsmodels.api as sm\n",
    "import statsmodels.tsa.stattools as ts\n",
    "import matplotlib.pyplot as plt\n",
    "from pykalman import KalmanFilter\n",
    "import statistics\n",
    "\n",
    "%matplotlib inline"
   ]
  },
  {
   "cell_type": "code",
   "execution_count": 33,
   "metadata": {},
   "outputs": [],
   "source": [
    "def return_varlog(time_series):\n",
    "    lag = np.roll(time_series, 1)\n",
    "    lag[0] = 0\n",
    "    ret = np.log(time_series/lag)\n",
    "    ret[0] = 0\n",
    "    return ret"
   ]
  },
  {
   "cell_type": "code",
   "execution_count": 15,
   "metadata": {},
   "outputs": [
    {
     "data": {
      "text/plain": [
       "[51.83,\n",
       " 51.77,\n",
       " 51.3,\n",
       " 52.09,\n",
       " 51.91,\n",
       " 51.09,\n",
       " 49.27,\n",
       " 50.5,\n",
       " 50.05,\n",
       " 50.21,\n",
       " 50.28,\n",
       " 50.75,\n",
       " 51.67,\n",
       " 51.05]"
      ]
     },
     "execution_count": 15,
     "metadata": {},
     "output_type": "execute_result"
    }
   ],
   "source": [
    "time_series = [51.83,51.77,51.3,52.09,51.91,51.09,49.27,50.5,50.05,50.21,50.28,50.75,51.67,51.05]\n",
    "time_series"
   ]
  },
  {
   "cell_type": "code",
   "execution_count": 29,
   "metadata": {},
   "outputs": [
    {
     "name": "stderr",
     "output_type": "stream",
     "text": [
      "C:\\ProgramData\\Anaconda3\\lib\\site-packages\\ipykernel_launcher.py:3: RuntimeWarning: divide by zero encountered in true_divide\n",
      "  This is separate from the ipykernel package so we can avoid doing imports until\n"
     ]
    }
   ],
   "source": [
    "lag = np.roll(time_series, 1)\n",
    "lag[0] = 0\n",
    "ret = np.log(time_series/lag)\n",
    "ret[0] = 0"
   ]
  },
  {
   "cell_type": "code",
   "execution_count": 30,
   "metadata": {},
   "outputs": [
    {
     "data": {
      "text/plain": [
       "[0.0,\n",
       " 51.83,\n",
       " 51.77,\n",
       " 51.3,\n",
       " 52.09,\n",
       " 51.91,\n",
       " 51.09,\n",
       " 49.27,\n",
       " 50.5,\n",
       " 50.05,\n",
       " 50.21,\n",
       " 50.28,\n",
       " 50.75,\n",
       " 51.67]"
      ]
     },
     "execution_count": 30,
     "metadata": {},
     "output_type": "execute_result"
    }
   ],
   "source": [
    "lag.tolist()"
   ]
  },
  {
   "cell_type": "code",
   "execution_count": 31,
   "metadata": {},
   "outputs": [
    {
     "data": {
      "text/plain": [
       "[0.0,\n",
       " -0.0011583012878050875,\n",
       " -0.0091200787370862,\n",
       " 0.01528223958037649,\n",
       " -0.0034615419179625994,\n",
       " -0.01592266649643087,\n",
       " -0.03627340678683487,\n",
       " 0.024657959725442262,\n",
       " -0.008950830520084557,\n",
       " 0.003191704285384607,\n",
       " 0.0013931736754325171,\n",
       " 0.009304234199850095,\n",
       " 0.01796572437719658,\n",
       " -0.012071797688418776]"
      ]
     },
     "execution_count": 31,
     "metadata": {},
     "output_type": "execute_result"
    }
   ],
   "source": [
    "ret.tolist()"
   ]
  },
  {
   "cell_type": "code",
   "execution_count": 36,
   "metadata": {},
   "outputs": [
    {
     "name": "stderr",
     "output_type": "stream",
     "text": [
      "C:\\ProgramData\\Anaconda3\\lib\\site-packages\\ipykernel_launcher.py:4: RuntimeWarning: divide by zero encountered in true_divide\n",
      "  after removing the cwd from sys.path.\n"
     ]
    },
    {
     "data": {
      "text/plain": [
       "[0.0,\n",
       " -0.0011583012878050875,\n",
       " -0.0091200787370862,\n",
       " 0.01528223958037649,\n",
       " -0.0034615419179625994,\n",
       " -0.01592266649643087,\n",
       " -0.03627340678683487,\n",
       " 0.024657959725442262,\n",
       " -0.008950830520084557,\n",
       " 0.003191704285384607,\n",
       " 0.0013931736754325171,\n",
       " 0.009304234199850095,\n",
       " 0.01796572437719658,\n",
       " -0.012071797688418776]"
      ]
     },
     "execution_count": 36,
     "metadata": {},
     "output_type": "execute_result"
    }
   ],
   "source": [
    "return_varlog(time_series).tolist()"
   ]
  },
  {
   "cell_type": "code",
   "execution_count": null,
   "metadata": {},
   "outputs": [],
   "source": []
  }
 ],
 "metadata": {
  "kernelspec": {
   "display_name": "Python 3",
   "language": "python",
   "name": "python3"
  },
  "language_info": {
   "codemirror_mode": {
    "name": "ipython",
    "version": 3
   },
   "file_extension": ".py",
   "mimetype": "text/x-python",
   "name": "python",
   "nbconvert_exporter": "python",
   "pygments_lexer": "ipython3",
   "version": "3.7.4"
  }
 },
 "nbformat": 4,
 "nbformat_minor": 2
}
