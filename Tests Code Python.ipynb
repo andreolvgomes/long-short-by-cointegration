{
 "cells": [
  {
   "cell_type": "code",
   "execution_count": 1,
   "metadata": {},
   "outputs": [],
   "source": [
    "import numpy as np\n",
    "import pandas as pd\n",
    "import os\n",
    "import statsmodels.api as sm\n",
    "import statsmodels.tsa.stattools as ts\n",
    "import matplotlib.pyplot as plt\n",
    "from pykalman import KalmanFilter\n",
    "import statistics\n",
    "import seaborn as sns; sns.set(style=\"whitegrid\")\n",
    "import math\n",
    "\n",
    "%matplotlib inline"
   ]
  },
  {
   "cell_type": "code",
   "execution_count": 2,
   "metadata": {},
   "outputs": [
    {
     "data": {
      "text/plain": [
       "(390, 71)"
      ]
     },
     "execution_count": 2,
     "metadata": {},
     "output_type": "execute_result"
    }
   ],
   "source": [
    "data = pd.read_csv('datasets/data_cart.csv', index_col=0)\n",
    "data.shape"
   ]
  },
  {
   "cell_type": "code",
   "execution_count": 3,
   "metadata": {},
   "outputs": [
    {
     "data": {
      "text/plain": [
       "(390, 71)"
      ]
     },
     "execution_count": 3,
     "metadata": {},
     "output_type": "execute_result"
    }
   ],
   "source": [
    "data = pd.read_csv('datasets/data_cart.csv', index_col=0)\n",
    "data.shape"
   ]
  },
  {
   "cell_type": "code",
   "execution_count": 7,
   "metadata": {},
   "outputs": [
    {
     "data": {
      "text/plain": [
       "Data\n",
       "02/01/2019   -2.787586\n",
       "03/01/2019   -2.319925\n",
       "04/01/2019   -2.373045\n",
       "07/01/2019   -2.925385\n",
       "08/01/2019   -2.977334\n",
       "                ...   \n",
       "21/07/2020   -1.097360\n",
       "22/07/2020   -0.815020\n",
       "23/07/2020   -0.705873\n",
       "24/07/2020   -0.352965\n",
       "27/07/2020   -0.169951\n",
       "Length: 390, dtype: float64"
      ]
     },
     "execution_count": 7,
     "metadata": {},
     "output_type": "execute_result"
    }
   ],
   "source": [
    "y=data['ENBR3']\n",
    "x= data['FLRY3']\n",
    "\n",
    "x = sm.add_constant(x)\n",
    "model = sm.OLS(y, x).fit()\n",
    "model.resid"
   ]
  },
  {
   "cell_type": "code",
   "execution_count": 14,
   "metadata": {},
   "outputs": [
    {
     "name": "stdout",
     "output_type": "stream",
     "text": [
      "                            OLS Regression Results                            \n",
      "==============================================================================\n",
      "Dep. Variable:                  ENBR3   R-squared:                       0.594\n",
      "Model:                            OLS   Adj. R-squared:                  0.593\n",
      "Method:                 Least Squares   F-statistic:                     567.8\n",
      "Date:                Thu, 30 Jul 2020   Prob (F-statistic):           5.75e-78\n",
      "Time:                        20:58:17   Log-Likelihood:                -629.46\n",
      "No. Observations:                 390   AIC:                             1263.\n",
      "Df Residuals:                     388   BIC:                             1271.\n",
      "Df Model:                           1                                         \n",
      "Covariance Type:            nonrobust                                         \n",
      "==============================================================================\n",
      "                 coef    std err          t      P>|t|      [0.025      0.975]\n",
      "------------------------------------------------------------------------------\n",
      "const          8.7504      0.416     21.010      0.000       7.932       9.569\n",
      "FLRY3          0.4078      0.017     23.829      0.000       0.374       0.441\n",
      "==============================================================================\n",
      "Omnibus:                        1.676   Durbin-Watson:                   0.072\n",
      "Prob(Omnibus):                  0.432   Jarque-Bera (JB):                1.513\n",
      "Skew:                           0.023   Prob(JB):                        0.469\n",
      "Kurtosis:                       2.698   Cond. No.                         165.\n",
      "==============================================================================\n",
      "\n",
      "Warnings:\n",
      "[1] Standard Errors assume that the covariance matrix of the errors is correctly specified.\n"
     ]
    }
   ],
   "source": [
    "print(model.summary())"
   ]
  },
  {
   "cell_type": "code",
   "execution_count": 24,
   "metadata": {},
   "outputs": [
    {
     "name": "stdout",
     "output_type": "stream",
     "text": [
      "250\n",
      "240\n",
      "220\n",
      "200\n",
      "180\n",
      "160\n",
      "140\n",
      "120\n",
      "100\n"
     ]
    }
   ],
   "source": [
    "lista = [250, 240, 220, 200, 180, 160, 140, 120, 100]\n",
    "\n",
    "for i in lista:\n",
    "    print(i)"
   ]
  },
  {
   "cell_type": "code",
   "execution_count": 32,
   "metadata": {},
   "outputs": [
    {
     "name": "stdout",
     "output_type": "stream",
     "text": [
      "250\n",
      "240\n",
      "220\n",
      "200\n",
      "180\n",
      "160\n",
      "140\n",
      "120\n",
      "100\n"
     ]
    }
   ],
   "source": [
    "list2 = [100, 120, 140, 160, 180, 200, 220, 240, 250]\n",
    "list2.sort(reverse = True)\n",
    "for i in list2:\n",
    "    print(i)"
   ]
  },
  {
   "cell_type": "code",
   "execution_count": null,
   "metadata": {},
   "outputs": [],
   "source": []
  }
 ],
 "metadata": {
  "kernelspec": {
   "display_name": "Python 3",
   "language": "python",
   "name": "python3"
  },
  "language_info": {
   "codemirror_mode": {
    "name": "ipython",
    "version": 3
   },
   "file_extension": ".py",
   "mimetype": "text/x-python",
   "name": "python",
   "nbconvert_exporter": "python",
   "pygments_lexer": "ipython3",
   "version": "3.7.4"
  }
 },
 "nbformat": 4,
 "nbformat_minor": 2
}
