{
 "cells": [
  {
   "cell_type": "code",
   "execution_count": 2,
   "metadata": {},
   "outputs": [],
   "source": [
    "import numpy as np\n",
    "import pandas as pd\n",
    "import os\n",
    "import statsmodels.api as sm\n",
    "import statsmodels.tsa.stattools as ts\n",
    "import matplotlib.pyplot as plt\n",
    "from pykalman import KalmanFilter\n",
    "import statistics\n",
    "import seaborn as sns; sns.set(style=\"whitegrid\")\n",
    "\n",
    "%matplotlib inline"
   ]
  },
  {
   "cell_type": "code",
   "execution_count": 3,
   "metadata": {},
   "outputs": [],
   "source": [
    "df = pd.read_csv('datasets/data_cart.csv', index_col=0)#[['ABEV3', 'AZUL4', 'B3SA3', 'BBAS3', 'BBDC3']]\n",
    "pos = df.shape[0]-160\n",
    "#del df['Data']\n",
    "y_symbol = 'CMIG4'\n",
    "x_symbol = 'ENBR3'\n",
    "\n",
    "S1 = df[x_symbol][pos:]\n",
    "S2 = df[y_symbol][pos:]"
   ]
  },
  {
   "cell_type": "code",
   "execution_count": 21,
   "metadata": {},
   "outputs": [],
   "source": [
    "prices = df['AZUL4']"
   ]
  },
  {
   "cell_type": "code",
   "execution_count": 59,
   "metadata": {},
   "outputs": [],
   "source": [
    "def volatility(prices, periods=0):\n",
    "    if (periods > 0):\n",
    "        prices = prices[0:periods+1]# +1, pq haverá um lag(d-1)\n",
    "    log = np.log(prices/prices.shift(1))\n",
    "    vol = log.std() * np.sqrt(252)\n",
    "    return vol"
   ]
  },
  {
   "cell_type": "code",
   "execution_count": 56,
   "metadata": {},
   "outputs": [
    {
     "data": {
      "text/plain": [
       "Data\n",
       "08/04/2019         NaN\n",
       "09/04/2019   -0.008357\n",
       "10/04/2019    0.008357\n",
       "11/04/2019   -0.035864\n",
       "12/04/2019   -0.030062\n",
       "                ...   \n",
       "16/06/2020    0.019670\n",
       "17/06/2020    0.001327\n",
       "18/06/2020   -0.030979\n",
       "19/06/2020   -0.005946\n",
       "22/06/2020   -0.055164\n",
       "Name: AZUL4, Length: 300, dtype: float64"
      ]
     },
     "execution_count": 56,
     "metadata": {},
     "output_type": "execute_result"
    }
   ],
   "source": [
    "volatility(prices)"
   ]
  },
  {
   "cell_type": "code",
   "execution_count": 57,
   "metadata": {},
   "outputs": [
    {
     "data": {
      "text/plain": [
       "Data\n",
       "08/04/2019         NaN\n",
       "09/04/2019   -0.008357\n",
       "10/04/2019    0.008357\n",
       "11/04/2019   -0.035864\n",
       "12/04/2019   -0.030062\n",
       "15/04/2019   -0.031605\n",
       "16/04/2019    0.014572\n",
       "17/04/2019   -0.045631\n",
       "18/04/2019    0.059102\n",
       "22/04/2019    0.010354\n",
       "23/04/2019    0.005576\n",
       "24/04/2019   -0.020400\n",
       "25/04/2019   -0.006893\n",
       "26/04/2019    0.010769\n",
       "29/04/2019    0.001487\n",
       "30/04/2019    0.010050\n",
       "02/05/2019    0.017493\n",
       "03/05/2019    0.041885\n",
       "06/05/2019   -0.030391\n",
       "07/05/2019    0.007968\n",
       "08/05/2019    0.047602\n",
       "09/05/2019    0.026668\n",
       "Name: AZUL4, dtype: float64"
      ]
     },
     "execution_count": 57,
     "metadata": {},
     "output_type": "execute_result"
    }
   ],
   "source": [
    "volatility(prices, 21)"
   ]
  },
  {
   "cell_type": "code",
   "execution_count": 58,
   "metadata": {},
   "outputs": [
    {
     "data": {
      "text/plain": [
       "Data\n",
       "08/04/2019         NaN\n",
       "09/04/2019   -0.008357\n",
       "10/04/2019    0.008357\n",
       "11/04/2019   -0.035864\n",
       "12/04/2019   -0.030062\n",
       "15/04/2019   -0.031605\n",
       "16/04/2019    0.014572\n",
       "17/04/2019   -0.045631\n",
       "18/04/2019    0.059102\n",
       "22/04/2019    0.010354\n",
       "23/04/2019    0.005576\n",
       "24/04/2019   -0.020400\n",
       "25/04/2019   -0.006893\n",
       "26/04/2019    0.010769\n",
       "29/04/2019    0.001487\n",
       "30/04/2019    0.010050\n",
       "02/05/2019    0.017493\n",
       "03/05/2019    0.041885\n",
       "06/05/2019   -0.030391\n",
       "07/05/2019    0.007968\n",
       "08/05/2019    0.047602\n",
       "09/05/2019    0.026668\n",
       "10/05/2019    0.002366\n",
       "13/05/2019   -0.039904\n",
       "14/05/2019   -0.040424\n",
       "15/05/2019   -0.014904\n",
       "16/05/2019   -0.039163\n",
       "17/05/2019   -0.019406\n",
       "20/05/2019    0.022704\n",
       "21/05/2019    0.053327\n",
       "22/05/2019    0.012409\n",
       "Name: AZUL4, dtype: float64"
      ]
     },
     "execution_count": 58,
     "metadata": {},
     "output_type": "execute_result"
    }
   ],
   "source": [
    "volatility(prices, 30)"
   ]
  },
  {
   "cell_type": "code",
   "execution_count": null,
   "metadata": {},
   "outputs": [],
   "source": []
  }
 ],
 "metadata": {
  "kernelspec": {
   "display_name": "Python 3",
   "language": "python",
   "name": "python3"
  },
  "language_info": {
   "codemirror_mode": {
    "name": "ipython",
    "version": 3
   },
   "file_extension": ".py",
   "mimetype": "text/x-python",
   "name": "python",
   "nbconvert_exporter": "python",
   "pygments_lexer": "ipython3",
   "version": "3.7.4"
  }
 },
 "nbformat": 4,
 "nbformat_minor": 2
}
