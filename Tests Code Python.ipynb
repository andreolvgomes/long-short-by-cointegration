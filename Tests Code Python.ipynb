{
 "cells": [
  {
   "cell_type": "code",
   "execution_count": 1,
   "metadata": {},
   "outputs": [],
   "source": [
    "import numpy as np\n",
    "import pandas as pd\n",
    "import os\n",
    "import statsmodels.api as sm\n",
    "import statsmodels.tsa.stattools as ts\n",
    "import matplotlib.pyplot as plt\n",
    "from pykalman import KalmanFilter\n",
    "import statistics\n",
    "import seaborn as sns; sns.set(style=\"whitegrid\")\n",
    "import math\n",
    "\n",
    "%matplotlib inline"
   ]
  },
  {
   "cell_type": "code",
   "execution_count": 2,
   "metadata": {},
   "outputs": [],
   "source": [
    "def value(message1=[], message2=[]):\n",
    "    space = 40\n",
    "    right = ''\n",
    "    if (len(message1)>0):\n",
    "        n = space-len(message1[1])\n",
    "        right =  message1[0].ljust(n, ' ') + message1[1]\n",
    "    \n",
    "    lefht = ''\n",
    "    if(len(message2) > 0):\n",
    "        n = space-len(message2[1])\n",
    "        lefht =  message2[0].ljust(n, ' ') + message2[1]\n",
    "    \n",
    "    print(right.ljust(n, ' ') + '   ' + lefht)\n"
   ]
  },
  {
   "cell_type": "code",
   "execution_count": 3,
   "metadata": {},
   "outputs": [
    {
     "name": "stdout",
     "output_type": "stream",
     "text": [
      "Perídos: 250\n",
      "====================================================================================\n",
      "Independente                       ABEV3   Dependente                         ITUB3\n",
      "R$                                 25,00   R$                                 54,00\n",
      "====================================================================================\n",
      "p-value                          -4,4485   Meia Vida                             75\n",
      "ADF                               99,00%   Correlação                           75%\n",
      "Aceita t0                          0,00%   Inverter                             Sim\n",
      "====================================================================================\n",
      "Retorno                            7,64%   Gain                           177,35898\n",
      "Atual                              2,41%   Loss                               08,81\n",
      "Loss                              -4,20%                                           \n",
      "====================================================================================\n",
      "Ratio Entrada                     3,0170   \n",
      "Ratio Saída                       3,0170   \n",
      "Ratio Saída                       3,0170   \n",
      "====================================================================================\n",
      "Coef.Temp                         0,0775   Coef                              0,0775\n",
      "Coef.Ang                          0,0775   Intercept                         0,0775\n",
      "Coef.Lin                          0,0775                                           \n",
      "====================================================================================\n"
     ]
    }
   ],
   "source": [
    "line = '===================================================================================='\n",
    "\n",
    "print('Perídos: 250')\n",
    "print(line)\n",
    "value(['Independente', 'ABEV3'], ['Dependente', 'ITUB3'])\n",
    "value(['R$', '25,00'], ['R$', '54,00'])\n",
    "print(line)\n",
    "value(['p-value', '-4,4485'], ['Meia Vida', '75'])\n",
    "value(['ADF', '99,00%'], ['Correlação', '75%'])\n",
    "value(['Aceita t0', '0,00%'], ['Inverter', 'Sim'])\n",
    "print(line)\n",
    "value(['Retorno', '7,64%'], ['Gain', '177,35898'])\n",
    "value(['Atual', '2,41%'], ['Loss', '08,81'])\n",
    "value(['Loss', '-4,20%'], ['', ''])\n",
    "print(line)\n",
    "value(['Ratio Entrada', '3,0170'])\n",
    "value(['Ratio Saída', '3,0170'])\n",
    "value(['Ratio Saída', '3,0170'])\n",
    "print(line)\n",
    "value(['Coef.Temp', '0,0775'], ['Coef', '0,0775'])\n",
    "value(['Coef.Ang', '0,0775'], ['Intercept', '0,0775'])\n",
    "value(['Coef.Lin', '0,0775'], ['', ''])\n",
    "print(line)"
   ]
  },
  {
   "cell_type": "code",
   "execution_count": null,
   "metadata": {},
   "outputs": [],
   "source": []
  },
  {
   "cell_type": "code",
   "execution_count": 4,
   "metadata": {},
   "outputs": [],
   "source": [
    "x = [1.3,1.6,1.8,2.1,2.3,2.7]\n",
    "y = [4.1,4.7,5.8,5.9,6.5,7.7]\n",
    "\n",
    "x=[10.55]\n",
    "y=[14.26]\n",
    "x = sm.add_constant(x)\n",
    "model = sm.OLS(y, x).fit()"
   ]
  },
  {
   "cell_type": "code",
   "execution_count": 5,
   "metadata": {},
   "outputs": [
    {
     "name": "stdout",
     "output_type": "stream",
     "text": [
      "                            OLS Regression Results                            \n",
      "==============================================================================\n",
      "Dep. Variable:                      y   R-squared:                         nan\n",
      "Model:                            OLS   Adj. R-squared:                    nan\n",
      "Method:                 Least Squares   F-statistic:                       nan\n",
      "Date:                Wed, 08 Jul 2020   Prob (F-statistic):                nan\n",
      "Time:                        23:11:11   Log-Likelihood:                    inf\n",
      "No. Observations:                   1   AIC:                              -inf\n",
      "Df Residuals:                       0   BIC:                              -inf\n",
      "Df Model:                           0                                         \n",
      "Covariance Type:            nonrobust                                         \n",
      "==============================================================================\n",
      "                 coef    std err          t      P>|t|      [0.025      0.975]\n",
      "------------------------------------------------------------------------------\n",
      "const          1.3517        nan        nan        nan         nan         nan\n",
      "==============================================================================\n",
      "Omnibus:                          nan   Durbin-Watson:                     nan\n",
      "Prob(Omnibus):                    nan   Jarque-Bera (JB):                0.375\n",
      "Skew:                           0.000   Prob(JB):                        0.829\n",
      "Kurtosis:                       0.000   Cond. No.                         1.00\n",
      "==============================================================================\n",
      "\n",
      "Warnings:\n",
      "[1] Standard Errors assume that the covariance matrix of the errors is correctly specified.\n"
     ]
    },
    {
     "name": "stderr",
     "output_type": "stream",
     "text": [
      "C:\\ProgramData\\Anaconda3\\lib\\site-packages\\statsmodels\\stats\\stattools.py:71: ValueWarning: omni_normtest is not valid with less than 8 observations; 1 samples were given.\n",
      "  \"samples were given.\" % int(n), ValueWarning)\n",
      "C:\\ProgramData\\Anaconda3\\lib\\site-packages\\statsmodels\\regression\\linear_model.py:1636: RuntimeWarning: invalid value encountered in double_scalars\n",
      "  return 1 - self.ssr/self.centered_tss\n",
      "C:\\ProgramData\\Anaconda3\\lib\\site-packages\\statsmodels\\regression\\linear_model.py:1648: RuntimeWarning: invalid value encountered in true_divide\n",
      "  return 1 - (np.divide(self.nobs - self.k_constant, self.df_resid)\n",
      "C:\\ProgramData\\Anaconda3\\lib\\site-packages\\statsmodels\\regression\\linear_model.py:1657: RuntimeWarning: invalid value encountered in double_scalars\n",
      "  return self.ess/self.df_model\n",
      "C:\\ProgramData\\Anaconda3\\lib\\site-packages\\statsmodels\\regression\\linear_model.py:1665: RuntimeWarning: invalid value encountered in double_scalars\n",
      "  return self.ssr/self.df_resid\n",
      "C:\\ProgramData\\Anaconda3\\lib\\site-packages\\scipy\\stats\\_distn_infrastructure.py:901: RuntimeWarning: invalid value encountered in greater\n",
      "  return (a < x) & (x < b)\n",
      "C:\\ProgramData\\Anaconda3\\lib\\site-packages\\scipy\\stats\\_distn_infrastructure.py:901: RuntimeWarning: invalid value encountered in less\n",
      "  return (a < x) & (x < b)\n",
      "C:\\ProgramData\\Anaconda3\\lib\\site-packages\\scipy\\stats\\_distn_infrastructure.py:1892: RuntimeWarning: invalid value encountered in less_equal\n",
      "  cond2 = cond0 & (x <= _a)\n",
      "C:\\ProgramData\\Anaconda3\\lib\\site-packages\\statsmodels\\regression\\linear_model.py:867: RuntimeWarning: divide by zero encountered in log\n",
      "  llf = -nobs2*np.log(2*np.pi) - nobs2*np.log(ssr / nobs) - nobs2\n",
      "C:\\ProgramData\\Anaconda3\\lib\\site-packages\\statsmodels\\stats\\stattools.py:46: RuntimeWarning: invalid value encountered in double_scalars\n",
      "  dw = np.sum(diff_resids**2, axis=axis) / np.sum(resids**2, axis=axis)\n",
      "C:\\ProgramData\\Anaconda3\\lib\\site-packages\\statsmodels\\regression\\linear_model.py:1578: RuntimeWarning: invalid value encountered in double_scalars\n",
      "  return np.dot(wresid, wresid) / self.df_resid\n"
     ]
    }
   ],
   "source": [
    "print(model.summary())"
   ]
  },
  {
   "cell_type": "code",
   "execution_count": 41,
   "metadata": {},
   "outputs": [],
   "source": [
    "from statsmodels.iolib.summary import Summary"
   ]
  },
  {
   "cell_type": "code",
   "execution_count": 42,
   "metadata": {},
   "outputs": [],
   "source": [
    "smry = Summary()"
   ]
  },
  {
   "cell_type": "code",
   "execution_count": 50,
   "metadata": {},
   "outputs": [],
   "source": [
    "top_left = [('Dep. Variable:', None),\n",
    "            ('Model:', None),\n",
    "            ('Method:', ['Least Squares']),\n",
    "            ('Date:', None),\n",
    "            ('Time:', None),\n",
    "            ('No. Observations:', None),\n",
    "            ('Df Residuals:', None),\n",
    "            ('Df Model:', None),\n",
    "            ]"
   ]
  },
  {
   "cell_type": "code",
   "execution_count": 53,
   "metadata": {},
   "outputs": [
    {
     "data": {
      "text/plain": [
       "[('Dep. Variable:', None),\n",
       " ('Model:', None),\n",
       " ('Method:', ['Least Squares']),\n",
       " ('Date:', None),\n",
       " ('Time:', None),\n",
       " ('No. Observations:', None),\n",
       " ('Df Residuals:', None),\n",
       " ('Df Model:', None)]"
      ]
     },
     "execution_count": 53,
     "metadata": {},
     "output_type": "execute_result"
    }
   ],
   "source": [
    "top_left"
   ]
  },
  {
   "cell_type": "code",
   "execution_count": 54,
   "metadata": {},
   "outputs": [],
   "source": [
    "rsquared_type = 'Meu nome'\n",
    "top_right = [('R-squared' + rsquared_type + ':', [\"%#8.3f\" % 10]),\n",
    "             ('Adj. R-squared' + rsquared_type + ':', [\"%#8.3f\" % 250]),\n",
    "             ('F-statistic:', [\"%#8.4g\" % 24]),\n",
    "             ('Prob (F-statistic):', [\"%#6.3g\" % 555]),\n",
    "             ('Log-Likelihood:', None),\n",
    "             ('AIC:', [\"%#8.4g\" % 10]),\n",
    "             ('BIC:', [\"%#8.4g\" % 11])\n",
    "             ]"
   ]
  },
  {
   "cell_type": "code",
   "execution_count": 55,
   "metadata": {},
   "outputs": [
    {
     "data": {
      "text/plain": [
       "[('R-squaredMeu nome:', ['  10.000']),\n",
       " ('Adj. R-squaredMeu nome:', [' 250.000']),\n",
       " ('F-statistic:', ['   24.00']),\n",
       " ('Prob (F-statistic):', ['  555.']),\n",
       " ('Log-Likelihood:', None),\n",
       " ('AIC:', ['   10.00']),\n",
       " ('BIC:', ['   11.00'])]"
      ]
     },
     "execution_count": 55,
     "metadata": {},
     "output_type": "execute_result"
    }
   ],
   "source": [
    "top_right"
   ]
  },
  {
   "cell_type": "code",
   "execution_count": 18,
   "metadata": {},
   "outputs": [
    {
     "data": {
      "text/plain": [
       "<module 'TestsCodePython' from 'D:\\\\trades\\\\pairs_trading_b3\\\\TestsCodePython.py'>"
      ]
     },
     "execution_count": 18,
     "metadata": {},
     "output_type": "execute_result"
    }
   ],
   "source": [
    "import TestsCodePython as test\n",
    "import importlib\n",
    "importlib.reload(test)"
   ]
  },
  {
   "cell_type": "code",
   "execution_count": 17,
   "metadata": {},
   "outputs": [
    {
     "data": {
      "text/plain": [
       "10"
      ]
     },
     "execution_count": 17,
     "metadata": {},
     "output_type": "execute_result"
    }
   ],
   "source": [
    "test.soma(2, 3)"
   ]
  },
  {
   "cell_type": "code",
   "execution_count": null,
   "metadata": {},
   "outputs": [],
   "source": []
  }
 ],
 "metadata": {
  "kernelspec": {
   "display_name": "Python 3",
   "language": "python",
   "name": "python3"
  },
  "language_info": {
   "codemirror_mode": {
    "name": "ipython",
    "version": 3
   },
   "file_extension": ".py",
   "mimetype": "text/x-python",
   "name": "python",
   "nbconvert_exporter": "python",
   "pygments_lexer": "ipython3",
   "version": "3.7.4"
  }
 },
 "nbformat": 4,
 "nbformat_minor": 2
}
