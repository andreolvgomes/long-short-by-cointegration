{
 "cells": [
  {
   "cell_type": "markdown",
   "metadata": {},
   "source": [
    "### Junta os CSV\n",
    "\n",
    "Junta todos os csv de um determinado diretório em um único csv"
   ]
  },
  {
   "cell_type": "code",
   "execution_count": 1,
   "metadata": {},
   "outputs": [],
   "source": [
    "import pandas as pd\n",
    "import os"
   ]
  },
  {
   "cell_type": "code",
   "execution_count": 6,
   "metadata": {},
   "outputs": [],
   "source": [
    "def join_csv(pathFrom, fileTo, field='Fechamento'):\n",
    "    counter = 0\n",
    "    newCsv = pd.DataFrame()\n",
    "\n",
    "    for file in os.listdir(pathFrom):\n",
    "        counter = counter+1\n",
    "        csv = pd.read_csv(pathFrom+'/'+file)\n",
    "        \n",
    "        # first column is Data\n",
    "        if(counter == 1):\n",
    "            newCsv['Data'] = csv['Data']\n",
    "\n",
    "        name = os.path.splitext(file)[0]\n",
    "        newCsv[name] = csv[field]\n",
    "\n",
    "    newCsv.to_csv(fileTo)\n",
    "    print('New file CSV successfully created')"
   ]
  },
  {
   "cell_type": "code",
   "execution_count": 9,
   "metadata": {},
   "outputs": [
    {
     "name": "stdout",
     "output_type": "stream",
     "text": [
      "New file CSV successfully created\n"
     ]
    }
   ],
   "source": [
    "# usando a função para juntar os csv's de 'datasets-b3'\n",
    "join_csv('datasets-b3', 'datasets/data.csv')"
   ]
  },
  {
   "cell_type": "code",
   "execution_count": null,
   "metadata": {},
   "outputs": [],
   "source": []
  }
 ],
 "metadata": {
  "kernelspec": {
   "display_name": "Python 3",
   "language": "python",
   "name": "python3"
  },
  "language_info": {
   "codemirror_mode": {
    "name": "ipython",
    "version": 3
   },
   "file_extension": ".py",
   "mimetype": "text/x-python",
   "name": "python",
   "nbconvert_exporter": "python",
   "pygments_lexer": "ipython3",
   "version": "3.7.4"
  }
 },
 "nbformat": 4,
 "nbformat_minor": 2
}
