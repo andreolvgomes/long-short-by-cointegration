{
 "cells": [
  {
   "cell_type": "markdown",
   "metadata": {},
   "source": [
    "### Junta os CSV\n",
    "\n",
    "Junta todos os csv de um determinado diretório em um único csv"
   ]
  },
  {
   "cell_type": "code",
   "execution_count": 6,
   "metadata": {},
   "outputs": [],
   "source": [
    "import pandas as pd\n",
    "import os"
   ]
  },
  {
   "cell_type": "code",
   "execution_count": 11,
   "metadata": {},
   "outputs": [],
   "source": [
    "def join_csv(pathFrom, fileTo, field='Fechamento'):\n",
    "    counter = 0\n",
    "    newCsv = pd.DataFrame()\n",
    "\n",
    "    for file in os.listdir(pathFrom):\n",
    "        counter = counter+1\n",
    "        csv = pd.read_csv(pathFrom+'/'+file)\n",
    "        \n",
    "        # first column is Data\n",
    "        if(counter == 1):\n",
    "            newCsv['Data'] = csv['Data']\n",
    "\n",
    "        name = os.path.splitext(file)[0]\n",
    "        newCsv[name] = csv[field]\n",
    "\n",
    "    newCsv.to_csv(fileTo)\n",
    "    print('New file CSV successfully created')\n",
    "    \n",
    "def find_csv_max_lines(path):\n",
    "    rows = []\n",
    "    for file in os.listdir(path):\n",
    "        with open(path+'/'+file) as f:\n",
    "            lines = sum(1 for line in f)\n",
    "            rows.append([file, lines])\n",
    "\n",
    "    csv = pd.DataFrame(rows, columns=['File', 'Lines'])\n",
    "    maxlines = csv['Lines'].max()\n",
    "    return csv.loc[(csv['Lines'] == maxlines)]\n",
    "\n",
    "def join_csv_merge(dfcsv, fileTo, path_old, path_older):\n",
    "    newCsv = pd.DataFrame()\n",
    "    define_data = False\n",
    "\n",
    "    for i, row_merge in merge.iterrows():\n",
    "        fe1 = pd.read_csv(path_older+'/'+row_merge.File)\n",
    "        fe2 = pd.read_csv(path_old+'/'+row_merge.File)    \n",
    "        dates=[]\n",
    "\n",
    "        if (define_data == False):\n",
    "            for i, row in fe1.iterrows():\n",
    "                dates.append(row['Data'])\n",
    "            for i, row in fe2.iterrows():\n",
    "                dates.append(row['Data'])\n",
    "            newCsv['Data'] = dates\n",
    "            define_data = True\n",
    "\n",
    "        rows=[]\n",
    "        for i, row in fe1.iterrows():\n",
    "            rows.append(row['Fechamento'])\n",
    "        for i, row in fe2.iterrows():\n",
    "            rows.append(row['Fechamento'])\n",
    "\n",
    "        name = os.path.splitext(row_merge.File)[0]\n",
    "        newCsv[name] = rows\n",
    "        \n",
    "    newCsv.to_csv(fileTo)\n",
    "\n",
    "    print('New file CSV successfully created')"
   ]
  },
  {
   "cell_type": "markdown",
   "metadata": {},
   "source": [
    "### Junta o preço de Fechamento de todos os csv em um único csv"
   ]
  },
  {
   "cell_type": "code",
   "execution_count": 13,
   "metadata": {},
   "outputs": [
    {
     "name": "stdout",
     "output_type": "stream",
     "text": [
      "New file CSV successfully created\n"
     ]
    }
   ],
   "source": [
    "# usando a função para juntar os csv's de 'datasets-b3'\n",
    "join_csv('datasets-b3', 'datasets/data.csv')"
   ]
  },
  {
   "cell_type": "markdown",
   "metadata": {},
   "source": [
    "### Junta o preço de Fechamento de todos os csv em um único csv de 2 diretório\n",
    "Somente os csv que existem nos dois diretórios"
   ]
  },
  {
   "cell_type": "code",
   "execution_count": 8,
   "metadata": {},
   "outputs": [
    {
     "data": {
      "text/plain": [
       "((266, 2), (204, 2))"
      ]
     },
     "execution_count": 8,
     "metadata": {},
     "output_type": "execute_result"
    }
   ],
   "source": [
    "csv19 = find_csv_max_lines('datasets-b3-2019')\n",
    "csv20 = find_csv_max_lines('datasets-b3')\n",
    "csv20.shape, csv19.shape"
   ]
  },
  {
   "cell_type": "code",
   "execution_count": 9,
   "metadata": {},
   "outputs": [
    {
     "data": {
      "text/plain": [
       "(201, 3)"
      ]
     },
     "execution_count": 9,
     "metadata": {},
     "output_type": "execute_result"
    }
   ],
   "source": [
    "merge = pd.merge(csv20, csv19, left_on='File', right_on='File')\n",
    "merge.shape"
   ]
  },
  {
   "cell_type": "code",
   "execution_count": 12,
   "metadata": {},
   "outputs": [
    {
     "name": "stdout",
     "output_type": "stream",
     "text": [
      "New file CSV successfully created\n"
     ]
    }
   ],
   "source": [
    "join_csv_merge(merge, 'datasets/data1.csv', 'datasets-b3', 'datasets-b3-2019')"
   ]
  },
  {
   "cell_type": "code",
   "execution_count": null,
   "metadata": {},
   "outputs": [],
   "source": []
  }
 ],
 "metadata": {
  "kernelspec": {
   "display_name": "Python 3",
   "language": "python",
   "name": "python3"
  },
  "language_info": {
   "codemirror_mode": {
    "name": "ipython",
    "version": 3
   },
   "file_extension": ".py",
   "mimetype": "text/x-python",
   "name": "python",
   "nbconvert_exporter": "python",
   "pygments_lexer": "ipython3",
   "version": "3.7.4"
  }
 },
 "nbformat": 4,
 "nbformat_minor": 2
}
