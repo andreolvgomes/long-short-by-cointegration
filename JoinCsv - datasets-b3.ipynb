{
 "cells": [
  {
   "cell_type": "code",
   "execution_count": 1,
   "metadata": {},
   "outputs": [],
   "source": [
    "import pandas as pd\n",
    "import os"
   ]
  },
  {
   "cell_type": "code",
   "execution_count": null,
   "metadata": {},
   "outputs": [],
   "source": []
  },
  {
   "cell_type": "code",
   "execution_count": 76,
   "metadata": {},
   "outputs": [
    {
     "name": "stdout",
     "output_type": "stream",
     "text": [
      "New file CSV successfully created\n"
     ]
    }
   ],
   "source": [
    "counter = 0\n",
    "newCsv = pd.DataFrame()\n",
    "directory = 'datasets-b3'\n",
    "\n",
    "for file in os.listdir(directory):\n",
    "    counter = counter+1\n",
    "    csv = pd.read_csv(directory+'/'+file)\n",
    "    if(counter == 1):\n",
    "        newCsv['Data'] = csv['Data']\n",
    "        \n",
    "    name = os.path.splitext(file)[0]\n",
    "    newCsv[name] = csv['Fechamento']\n",
    "\n",
    "newCsv.to_csv('datasets/data.csv')\n",
    "print('New file CSV successfully created')"
   ]
  },
  {
   "cell_type": "code",
   "execution_count": null,
   "metadata": {},
   "outputs": [],
   "source": []
  }
 ],
 "metadata": {
  "kernelspec": {
   "display_name": "Python 3",
   "language": "python",
   "name": "python3"
  },
  "language_info": {
   "codemirror_mode": {
    "name": "ipython",
    "version": 3
   },
   "file_extension": ".py",
   "mimetype": "text/x-python",
   "name": "python",
   "nbconvert_exporter": "python",
   "pygments_lexer": "ipython3",
   "version": "3.7.4"
  }
 },
 "nbformat": 4,
 "nbformat_minor": 2
}
