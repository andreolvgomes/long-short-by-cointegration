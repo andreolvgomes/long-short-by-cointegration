{
 "cells": [
  {
   "cell_type": "code",
   "execution_count": 1,
   "metadata": {},
   "outputs": [
    {
     "data": {
      "text/plain": [
       "<module 'cointegration_mult' from 'D:\\\\trades\\\\pairs_trading_b3\\\\cointegration_mult.py'>"
      ]
     },
     "execution_count": 1,
     "metadata": {},
     "output_type": "execute_result"
    }
   ],
   "source": [
    "import pandas as pd\n",
    "import matplotlib.pyplot as plt\n",
    "import importlib\n",
    "import cointegration_mult as mult\n",
    "import Cointegration as coint\n",
    "\n",
    "importlib.reload(coint)\n",
    "importlib.reload(mult)"
   ]
  },
  {
   "cell_type": "code",
   "execution_count": 2,
   "metadata": {},
   "outputs": [],
   "source": [
    "def loss_own(y, x, volume, period, desv_stop=3.1, price_input_test=0, y_short=True):\n",
    "    y_test = y.copy()\n",
    "    x_test = x.copy()\n",
    "    \n",
    "    volume = abs(volume)\n",
    "    if (price_input_test <= 0):\n",
    "        price_input_test=y_test[0]\n",
    "    \n",
    "    price_stop_loss, residue = loss_own_residue(y_test, x_test, period, desv_stop=desv_stop, y_short=y_short)\n",
    "    return -abs(((price_input_test*volume)-(price_stop_loss*volume)))\n",
    "\n",
    "def loss_own_residue(y, x, period, desv_stop=3.1, y_short=True):\n",
    "    y_test = y.copy()\n",
    "    x_test = x.copy()\n",
    "    \n",
    "    last_price = y_test[0].copy()\n",
    "    penny = 0\n",
    "    while (True):\n",
    "        penny=round(penny + 0.01, 2)\n",
    "        if (y_short):\n",
    "            y_test[0] = last_price + penny\n",
    "        else:\n",
    "            y_test[0] = last_price - penny\n",
    "\n",
    "        residue = mult.zscore(mult.residue(y_test, x_test, period))\n",
    "        if(abs(residue[0]) >= desv_stop):\n",
    "            break\n",
    "    return y_test[0], residue\n",
    "\n",
    "def gain_own(y, x, volume, period, price_input_test=0, y_short=True):\n",
    "    y_test = y.copy()\n",
    "    x_test = x.copy()\n",
    "    \n",
    "    volume = abs(volume)\n",
    "    if (price_input_test <= 0):\n",
    "        price_input_test=y_test[0]\n",
    "    \n",
    "    price_take_profit, residue = gain_own_residue(y_test, x_test, period, y_short=y_short)\n",
    "    return abs(((price_input_test*volume)-(price_take_profit*volume)))\n",
    "\n",
    "def gain_own_residue(y, x, period, y_short=True):\n",
    "    y_test = y.copy()\n",
    "    x_test = x.copy()\n",
    "    \n",
    "    last_price = y_test[0].copy()\n",
    "    penny = 0\n",
    "    while (True):\n",
    "        penny=round(penny + 0.01, 2)\n",
    "        if (y_short):\n",
    "            y_test[0] = last_price - penny\n",
    "            residue = mult.zscore(mult.residue(y_test, x_test, period))\n",
    "            if(residue[0] <= 0):\n",
    "                break\n",
    "        else:\n",
    "            y_test[0] = last_price + penny\n",
    "            residue = mult.zscore(mult.residue(y_test, x_test, period))\n",
    "            if(residue[0] >= 0):\n",
    "                break\n",
    "\n",
    "    return y_test[0], residue"
   ]
  },
  {
   "cell_type": "code",
   "execution_count": 3,
   "metadata": {},
   "outputs": [],
   "source": [
    "path_data_cart = 'datasets/data_cart.csv'\n",
    "path_data_yahoo = 'datasets/data_yahoo_adj.csv'\n",
    "path_data = 'datasets/data.csv'"
   ]
  },
  {
   "cell_type": "code",
   "execution_count": 4,
   "metadata": {},
   "outputs": [
    {
     "name": "stdout",
     "output_type": "stream",
     "text": [
      "2019-05-02 to 2020-07-30\n",
      "data: (311, 72)\n",
      "pairs: (2159, 12)\n"
     ]
    }
   ],
   "source": [
    "data = pd.read_csv(path_data_yahoo, index_col=0)\n",
    "data = data[::-1]\n",
    "pairs = pd.read_csv('datasets/cointegrated_pairs_mult.csv')\n",
    "\n",
    "print('{} to {}'.format(data.index[-1], data.index[0]))\n",
    "print('data: {}'.format(data.shape))\n",
    "print('pairs: {}'.format(pairs.shape))"
   ]
  },
  {
   "cell_type": "code",
   "execution_count": 5,
   "metadata": {},
   "outputs": [],
   "source": [
    "\"\"\"y_symbol = 'ELET3'\n",
    "x_symbol = 'PCAR3'\"\"\"\n",
    "\n",
    "\"\"\"y_symbol = 'CMIG4'\n",
    "x_symbol = 'ENGI11'\"\"\"\n",
    "\n",
    "y_symbol = 'BRKM5'\n",
    "x_symbol = 'LAME4'\n",
    "\n",
    "y = data[y_symbol]\n",
    "x = data[x_symbol]"
   ]
  },
  {
   "cell_type": "code",
   "execution_count": 9,
   "metadata": {},
   "outputs": [
    {
     "data": {
      "text/plain": [
       "-2.28343989003074"
      ]
     },
     "execution_count": 9,
     "metadata": {},
     "output_type": "execute_result"
    }
   ],
   "source": [
    "residues[0]"
   ]
  },
  {
   "cell_type": "code",
   "execution_count": 8,
   "metadata": {},
   "outputs": [
    {
     "data": {
      "text/plain": [
       "<matplotlib.axes._subplots.AxesSubplot at 0x26825672a08>"
      ]
     },
     "execution_count": 8,
     "metadata": {},
     "output_type": "execute_result"
    },
    {
     "data": {
      "image/png": "[encoded data removed]",
      "text/plain": [
       "<Figure size 1296x360 with 1 Axes>"
      ]
     },
     "metadata": {
      "needs_background": "light"
     },
     "output_type": "display_data"
    }
   ],
   "source": [
    "looping = -1\n",
    "n_recored = 100\n",
    "period = 50\n",
    "rows=[]\n",
    "test=[]\n",
    "while (looping < (n_recored-1)):\n",
    "    looping+=1\n",
    "    dataset = data[looping:]\n",
    "    y, x = mult.get_values(dataset['CIEL3'], dataset['ITUB4'], period)\n",
    "    \n",
    "    coef = mult.coefficients(y, x, period)\n",
    "    beta = coef['angular']\n",
    "    beta = coint.beta(y, x)\n",
    "    \n",
    "    rows.append([dataset.index[0], beta])\n",
    "    test.append([looping, y.index[0], y.index[-1], beta])\n",
    "\n",
    "rolling_beta = pd.DataFrame(rows, columns=['Data', 'Beta'])\n",
    "rolling_beta.set_index(\"Data\", inplace = True)\n",
    "rolling_beta[::-1].plot(figsize=(18, 5))\n",
    "#mult.zscore(rolling_beta[::-1]).plot(figsize=(18, 5))"
   ]
  },
  {
   "cell_type": "code",
   "execution_count": 15,
   "metadata": {},
   "outputs": [],
   "source": [
    "#rolling_beta"
   ]
  },
  {
   "cell_type": "code",
   "execution_count": 16,
   "metadata": {},
   "outputs": [
    {
     "data": {
      "text/plain": [
       "{'temp': -0.001969899700550911,\n",
       " 'angular': 0.6768165731215234,\n",
       " 'intercept': 20.569156818126967}"
      ]
     },
     "execution_count": 16,
     "metadata": {},
     "output_type": "execute_result"
    }
   ],
   "source": [
    "mult.coefficients(data['ENGI11'], data['RENT3'], 250)"
   ]
  },
  {
   "cell_type": "code",
   "execution_count": 9,
   "metadata": {},
   "outputs": [
    {
     "data": {
      "text/plain": [
       "[[0, '2020-07-30', '2020-05-21', 0.2828778671826724],\n",
       " [1, '2020-07-29', '2020-05-20', 0.2825895514207069],\n",
       " [2, '2020-07-28', '2020-05-19', 0.28458835799825777],\n",
       " [3, '2020-07-27', '2020-05-18', 0.285987973530931],\n",
       " [4, '2020-07-24', '2020-05-15', 0.28494463938512116],\n",
       " [5, '2020-07-23', '2020-05-14', 0.28592096656967547],\n",
       " [6, '2020-07-22', '2020-05-13', 0.2860491885744251],\n",
       " [7, '2020-07-21', '2020-05-12', 0.279658915961006],\n",
       " [8, '2020-07-20', '2020-05-11', 0.27787815551449047],\n",
       " [9, '2020-07-17', '2020-05-08', 0.2741090210348377],\n",
       " [10, '2020-07-16', '2020-05-07', 0.26842500583579587],\n",
       " [11, '2020-07-15', '2020-05-06', 0.2670180916239293],\n",
       " [12, '2020-07-14', '2020-05-05', 0.2670429129195572],\n",
       " [13, '2020-07-13', '2020-05-04', 0.26310026180249146],\n",
       " [14, '2020-07-10', '2020-04-30', 0.26001347150661114],\n",
       " [15, '2020-07-09', '2020-04-29', 0.2598334606955248],\n",
       " [16, '2020-07-08', '2020-04-28', 0.2587660295096111],\n",
       " [17, '2020-07-07', '2020-04-27', 0.25029012909878173],\n",
       " [18, '2020-07-06', '2020-04-24', 0.24011362864683256],\n",
       " [19, '2020-07-03', '2020-04-23', 0.23841007283418647]]"
      ]
     },
     "execution_count": 9,
     "metadata": {},
     "output_type": "execute_result"
    }
   ],
   "source": [
    "test[0:20]"
   ]
  },
  {
   "cell_type": "code",
   "execution_count": null,
   "metadata": {},
   "outputs": [],
   "source": []
  }
 ],
 "metadata": {
  "kernelspec": {
   "display_name": "Python 3",
   "language": "python",
   "name": "python3"
  },
  "language_info": {
   "codemirror_mode": {
    "name": "ipython",
    "version": 3
   },
   "file_extension": ".py",
   "mimetype": "text/x-python",
   "name": "python",
   "nbconvert_exporter": "python",
   "pygments_lexer": "ipython3",
   "version": "3.7.4"
  }
 },
 "nbformat": 4,
 "nbformat_minor": 2
}
