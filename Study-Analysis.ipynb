{
 "cells": [
  {
   "cell_type": "code",
   "execution_count": 4,
   "metadata": {},
   "outputs": [
    {
     "data": {
      "text/plain": [
       "<module 'cointegration_mult' from 'D:\\\\trades\\\\pairs_trading_b3\\\\cointegration_mult.py'>"
      ]
     },
     "execution_count": 4,
     "metadata": {},
     "output_type": "execute_result"
    }
   ],
   "source": [
    "import pandas as pd\n",
    "import matplotlib.pyplot as plt\n",
    "import importlib\n",
    "import cointegration_mult as mult\n",
    "import Cointegration as coint\n",
    "\n",
    "importlib.reload(coint)\n",
    "importlib.reload(mult)"
   ]
  },
  {
   "cell_type": "code",
   "execution_count": 57,
   "metadata": {},
   "outputs": [],
   "source": [
    "dataset_meta = 'datasets/dataset_meta.csv'"
   ]
  },
  {
   "cell_type": "code",
   "execution_count": 58,
   "metadata": {},
   "outputs": [],
   "source": [
    "data = pd.read_csv(dataset_meta)"
   ]
  },
  {
   "cell_type": "code",
   "execution_count": 59,
   "metadata": {},
   "outputs": [],
   "source": [
    "del data['DateTime']"
   ]
  },
  {
   "cell_type": "code",
   "execution_count": 60,
   "metadata": {},
   "outputs": [
    {
     "data": {
      "text/plain": [
       "0"
      ]
     },
     "execution_count": 60,
     "metadata": {},
     "output_type": "execute_result"
    }
   ],
   "source": [
    "data.isnull().values.sum()"
   ]
  },
  {
   "cell_type": "code",
   "execution_count": 63,
   "metadata": {},
   "outputs": [
    {
     "name": "stderr",
     "output_type": "stream",
     "text": [
      "C:\\ProgramData\\Anaconda3\\lib\\site-packages\\numpy\\core\\fromnumeric.py:2389: FutureWarning: Method .ptp is deprecated and will be removed in a future version. Use numpy.ptp instead.\n",
      "  return ptp(axis=axis, out=out, **kwargs)\n",
      "C:\\ProgramData\\Anaconda3\\lib\\site-packages\\pandas\\core\\indexing.py:205: SettingWithCopyWarning: \n",
      "A value is trying to be set on a copy of a slice from a DataFrame\n",
      "\n",
      "See the caveats in the documentation: http://pandas.pydata.org/pandas-docs/stable/user_guide/indexing.html#returning-a-view-versus-a-copy\n",
      "  self._setitem_with_indexer(indexer, value)\n"
     ]
    }
   ],
   "source": [
    "pairs = mult.find_pairs(data,per_sort_reverse=False)\n",
    "mult.apply_periods(data, pairs)"
   ]
  },
  {
   "cell_type": "code",
   "execution_count": 64,
   "metadata": {},
   "outputs": [
    {
     "data": {
      "text/html": [
       "<div>\n",
       "<style scoped>\n",
       "    .dataframe tbody tr th:only-of-type {\n",
       "        vertical-align: middle;\n",
       "    }\n",
       "\n",
       "    .dataframe tbody tr th {\n",
       "        vertical-align: top;\n",
       "    }\n",
       "\n",
       "    .dataframe thead th {\n",
       "        text-align: right;\n",
       "    }\n",
       "</style>\n",
       "<table border=\"1\" class=\"dataframe\">\n",
       "  <thead>\n",
       "    <tr style=\"text-align: right;\">\n",
       "      <th></th>\n",
       "      <th>Period</th>\n",
       "      <th>Dependent</th>\n",
       "      <th>Independent</th>\n",
       "      <th>Dickey-Fuller</th>\n",
       "      <th>ADF</th>\n",
       "      <th>Beta</th>\n",
       "      <th>Std</th>\n",
       "      <th>PeriodQt</th>\n",
       "      <th>PeriodStr</th>\n",
       "    </tr>\n",
       "  </thead>\n",
       "  <tbody>\n",
       "    <tr>\n",
       "      <td>0</td>\n",
       "      <td>100</td>\n",
       "      <td>ABEV3</td>\n",
       "      <td>AZUL4</td>\n",
       "      <td>-5.108442</td>\n",
       "      <td>99</td>\n",
       "      <td>0.114604</td>\n",
       "      <td>0.666117</td>\n",
       "      <td>3</td>\n",
       "      <td>100,120,140</td>\n",
       "    </tr>\n",
       "    <tr>\n",
       "      <td>1</td>\n",
       "      <td>100</td>\n",
       "      <td>ABEV3</td>\n",
       "      <td>B3SA3</td>\n",
       "      <td>-4.089454</td>\n",
       "      <td>99</td>\n",
       "      <td>0.072791</td>\n",
       "      <td>1.426304</td>\n",
       "      <td>3</td>\n",
       "      <td>100,120,140</td>\n",
       "    </tr>\n",
       "    <tr>\n",
       "      <td>2</td>\n",
       "      <td>100</td>\n",
       "      <td>ABEV3</td>\n",
       "      <td>BBAS3</td>\n",
       "      <td>-4.892879</td>\n",
       "      <td>99</td>\n",
       "      <td>0.121621</td>\n",
       "      <td>1.161896</td>\n",
       "      <td>3</td>\n",
       "      <td>100,120,140</td>\n",
       "    </tr>\n",
       "    <tr>\n",
       "      <td>3</td>\n",
       "      <td>100</td>\n",
       "      <td>ABEV3</td>\n",
       "      <td>BBDC4</td>\n",
       "      <td>-4.783737</td>\n",
       "      <td>99</td>\n",
       "      <td>0.194603</td>\n",
       "      <td>0.578451</td>\n",
       "      <td>5</td>\n",
       "      <td>100,120,140,220,240</td>\n",
       "    </tr>\n",
       "    <tr>\n",
       "      <td>4</td>\n",
       "      <td>100</td>\n",
       "      <td>ABEV3</td>\n",
       "      <td>BBSE3</td>\n",
       "      <td>-4.726984</td>\n",
       "      <td>99</td>\n",
       "      <td>0.113935</td>\n",
       "      <td>0.407114</td>\n",
       "      <td>3</td>\n",
       "      <td>100,120,140</td>\n",
       "    </tr>\n",
       "    <tr>\n",
       "      <td>...</td>\n",
       "      <td>...</td>\n",
       "      <td>...</td>\n",
       "      <td>...</td>\n",
       "      <td>...</td>\n",
       "      <td>...</td>\n",
       "      <td>...</td>\n",
       "      <td>...</td>\n",
       "      <td>...</td>\n",
       "      <td>...</td>\n",
       "    </tr>\n",
       "    <tr>\n",
       "      <td>2291</td>\n",
       "      <td>140</td>\n",
       "      <td>VALE3</td>\n",
       "      <td>YDUQ3</td>\n",
       "      <td>-3.067822</td>\n",
       "      <td>95</td>\n",
       "      <td>0.492445</td>\n",
       "      <td>0.274161</td>\n",
       "      <td>7</td>\n",
       "      <td>140,160,180,200,220,240,250</td>\n",
       "    </tr>\n",
       "    <tr>\n",
       "      <td>2292</td>\n",
       "      <td>120</td>\n",
       "      <td>VIVT4</td>\n",
       "      <td>VVAR3</td>\n",
       "      <td>-3.226217</td>\n",
       "      <td>95</td>\n",
       "      <td>0.359484</td>\n",
       "      <td>1.600094</td>\n",
       "      <td>5</td>\n",
       "      <td>120,140,160,220,250</td>\n",
       "    </tr>\n",
       "    <tr>\n",
       "      <td>2293</td>\n",
       "      <td>140</td>\n",
       "      <td>VIVT4</td>\n",
       "      <td>WEGE3</td>\n",
       "      <td>-3.379351</td>\n",
       "      <td>95</td>\n",
       "      <td>0.083857</td>\n",
       "      <td>1.275025</td>\n",
       "      <td>2</td>\n",
       "      <td>140,160</td>\n",
       "    </tr>\n",
       "    <tr>\n",
       "      <td>2294</td>\n",
       "      <td>120</td>\n",
       "      <td>VIVT4</td>\n",
       "      <td>YDUQ3</td>\n",
       "      <td>-3.331518</td>\n",
       "      <td>95</td>\n",
       "      <td>-0.063875</td>\n",
       "      <td>1.125197</td>\n",
       "      <td>6</td>\n",
       "      <td>120,140,160,220,240,250</td>\n",
       "    </tr>\n",
       "    <tr>\n",
       "      <td>2295</td>\n",
       "      <td>100</td>\n",
       "      <td>WEGE3</td>\n",
       "      <td>YDUQ3</td>\n",
       "      <td>-3.100467</td>\n",
       "      <td>95</td>\n",
       "      <td>-0.014632</td>\n",
       "      <td>0.730280</td>\n",
       "      <td>3</td>\n",
       "      <td>100,120,180</td>\n",
       "    </tr>\n",
       "  </tbody>\n",
       "</table>\n",
       "<p>2296 rows × 9 columns</p>\n",
       "</div>"
      ],
      "text/plain": [
       "      Period Dependent Independent  Dickey-Fuller  ADF      Beta       Std  \\\n",
       "0        100     ABEV3       AZUL4      -5.108442   99  0.114604  0.666117   \n",
       "1        100     ABEV3       B3SA3      -4.089454   99  0.072791  1.426304   \n",
       "2        100     ABEV3       BBAS3      -4.892879   99  0.121621  1.161896   \n",
       "3        100     ABEV3       BBDC4      -4.783737   99  0.194603  0.578451   \n",
       "4        100     ABEV3       BBSE3      -4.726984   99  0.113935  0.407114   \n",
       "...      ...       ...         ...            ...  ...       ...       ...   \n",
       "2291     140     VALE3       YDUQ3      -3.067822   95  0.492445  0.274161   \n",
       "2292     120     VIVT4       VVAR3      -3.226217   95  0.359484  1.600094   \n",
       "2293     140     VIVT4       WEGE3      -3.379351   95  0.083857  1.275025   \n",
       "2294     120     VIVT4       YDUQ3      -3.331518   95 -0.063875  1.125197   \n",
       "2295     100     WEGE3       YDUQ3      -3.100467   95 -0.014632  0.730280   \n",
       "\n",
       "      PeriodQt                    PeriodStr  \n",
       "0            3                  100,120,140  \n",
       "1            3                  100,120,140  \n",
       "2            3                  100,120,140  \n",
       "3            5          100,120,140,220,240  \n",
       "4            3                  100,120,140  \n",
       "...        ...                          ...  \n",
       "2291         7  140,160,180,200,220,240,250  \n",
       "2292         5          120,140,160,220,250  \n",
       "2293         2                      140,160  \n",
       "2294         6      120,140,160,220,240,250  \n",
       "2295         3                  100,120,180  \n",
       "\n",
       "[2296 rows x 9 columns]"
      ]
     },
     "execution_count": 64,
     "metadata": {},
     "output_type": "execute_result"
    }
   ],
   "source": [
    "pairs"
   ]
  },
  {
   "cell_type": "code",
   "execution_count": 62,
   "metadata": {},
   "outputs": [
    {
     "data": {
      "text/html": [
       "<div>\n",
       "<style scoped>\n",
       "    .dataframe tbody tr th:only-of-type {\n",
       "        vertical-align: middle;\n",
       "    }\n",
       "\n",
       "    .dataframe tbody tr th {\n",
       "        vertical-align: top;\n",
       "    }\n",
       "\n",
       "    .dataframe thead th {\n",
       "        text-align: right;\n",
       "    }\n",
       "</style>\n",
       "<table border=\"1\" class=\"dataframe\">\n",
       "  <thead>\n",
       "    <tr style=\"text-align: right;\">\n",
       "      <th></th>\n",
       "      <th>Period</th>\n",
       "      <th>Dependent</th>\n",
       "      <th>Independent</th>\n",
       "      <th>Dickey-Fuller</th>\n",
       "      <th>ADF</th>\n",
       "      <th>Beta</th>\n",
       "      <th>Std</th>\n",
       "    </tr>\n",
       "  </thead>\n",
       "  <tbody>\n",
       "    <tr>\n",
       "      <td>0</td>\n",
       "      <td>100</td>\n",
       "      <td>ABEV3</td>\n",
       "      <td>IRBR3</td>\n",
       "      <td>-4.795174</td>\n",
       "      <td>99</td>\n",
       "      <td>0.205495</td>\n",
       "      <td>2.173091</td>\n",
       "    </tr>\n",
       "    <tr>\n",
       "      <td>1</td>\n",
       "      <td>100</td>\n",
       "      <td>AZUL4</td>\n",
       "      <td>NTCO3</td>\n",
       "      <td>-3.635358</td>\n",
       "      <td>99</td>\n",
       "      <td>-0.244980</td>\n",
       "      <td>2.123648</td>\n",
       "    </tr>\n",
       "    <tr>\n",
       "      <td>2</td>\n",
       "      <td>120</td>\n",
       "      <td>BBAS3</td>\n",
       "      <td>IRBR3</td>\n",
       "      <td>-3.556378</td>\n",
       "      <td>99</td>\n",
       "      <td>1.455749</td>\n",
       "      <td>2.310149</td>\n",
       "    </tr>\n",
       "    <tr>\n",
       "      <td>3</td>\n",
       "      <td>100</td>\n",
       "      <td>BBDC4</td>\n",
       "      <td>ELET3</td>\n",
       "      <td>-3.684713</td>\n",
       "      <td>99</td>\n",
       "      <td>0.157300</td>\n",
       "      <td>2.235241</td>\n",
       "    </tr>\n",
       "    <tr>\n",
       "      <td>4</td>\n",
       "      <td>100</td>\n",
       "      <td>BBDC4</td>\n",
       "      <td>ELET6</td>\n",
       "      <td>-3.716351</td>\n",
       "      <td>99</td>\n",
       "      <td>0.171252</td>\n",
       "      <td>2.236074</td>\n",
       "    </tr>\n",
       "    <tr>\n",
       "      <td>...</td>\n",
       "      <td>...</td>\n",
       "      <td>...</td>\n",
       "      <td>...</td>\n",
       "      <td>...</td>\n",
       "      <td>...</td>\n",
       "      <td>...</td>\n",
       "      <td>...</td>\n",
       "    </tr>\n",
       "    <tr>\n",
       "      <td>64</td>\n",
       "      <td>100</td>\n",
       "      <td>RAIL3</td>\n",
       "      <td>SUZB3</td>\n",
       "      <td>-4.128082</td>\n",
       "      <td>99</td>\n",
       "      <td>-0.074468</td>\n",
       "      <td>2.442986</td>\n",
       "    </tr>\n",
       "    <tr>\n",
       "      <td>65</td>\n",
       "      <td>100</td>\n",
       "      <td>RAIL3</td>\n",
       "      <td>TIMP3</td>\n",
       "      <td>-3.970941</td>\n",
       "      <td>99</td>\n",
       "      <td>0.769735</td>\n",
       "      <td>2.141651</td>\n",
       "    </tr>\n",
       "    <tr>\n",
       "      <td>66</td>\n",
       "      <td>100</td>\n",
       "      <td>RAIL3</td>\n",
       "      <td>TOTS3</td>\n",
       "      <td>-3.782723</td>\n",
       "      <td>99</td>\n",
       "      <td>0.230241</td>\n",
       "      <td>2.345595</td>\n",
       "    </tr>\n",
       "    <tr>\n",
       "      <td>67</td>\n",
       "      <td>100</td>\n",
       "      <td>RAIL3</td>\n",
       "      <td>VIVT4</td>\n",
       "      <td>-3.680103</td>\n",
       "      <td>99</td>\n",
       "      <td>0.379468</td>\n",
       "      <td>2.476402</td>\n",
       "    </tr>\n",
       "    <tr>\n",
       "      <td>68</td>\n",
       "      <td>100</td>\n",
       "      <td>RAIL3</td>\n",
       "      <td>YDUQ3</td>\n",
       "      <td>-4.104305</td>\n",
       "      <td>99</td>\n",
       "      <td>-0.061444</td>\n",
       "      <td>2.454523</td>\n",
       "    </tr>\n",
       "  </tbody>\n",
       "</table>\n",
       "<p>69 rows × 7 columns</p>\n",
       "</div>"
      ],
      "text/plain": [
       "    Period Dependent Independent  Dickey-Fuller  ADF      Beta       Std\n",
       "0      100     ABEV3       IRBR3      -4.795174   99  0.205495  2.173091\n",
       "1      100     AZUL4       NTCO3      -3.635358   99 -0.244980  2.123648\n",
       "2      120     BBAS3       IRBR3      -3.556378   99  1.455749  2.310149\n",
       "3      100     BBDC4       ELET3      -3.684713   99  0.157300  2.235241\n",
       "4      100     BBDC4       ELET6      -3.716351   99  0.171252  2.236074\n",
       "..     ...       ...         ...            ...  ...       ...       ...\n",
       "64     100     RAIL3       SUZB3      -4.128082   99 -0.074468  2.442986\n",
       "65     100     RAIL3       TIMP3      -3.970941   99  0.769735  2.141651\n",
       "66     100     RAIL3       TOTS3      -3.782723   99  0.230241  2.345595\n",
       "67     100     RAIL3       VIVT4      -3.680103   99  0.379468  2.476402\n",
       "68     100     RAIL3       YDUQ3      -4.104305   99 -0.061444  2.454523\n",
       "\n",
       "[69 rows x 7 columns]"
      ]
     },
     "execution_count": 62,
     "metadata": {},
     "output_type": "execute_result"
    }
   ],
   "source": [
    "pairs_signal = pairs.loc[\n",
    "    (pairs['Std'] > 2) \\\n",
    "    & (pairs['Std'] <= 2.5) \\\n",
    "    & (pairs['ADF'] >= 99) \\\n",
    "].copy()\n",
    "pairs_signal.reset_index(drop=True, inplace=True)\n",
    "pairs_signal"
   ]
  },
  {
   "cell_type": "code",
   "execution_count": 52,
   "metadata": {},
   "outputs": [
    {
     "data": {
      "image/png": "[encoded data removed]",
      "text/plain": [
       "<Figure size 1224x432 with 1 Axes>"
      ]
     },
     "metadata": {},
     "output_type": "display_data"
    }
   ],
   "source": [
    "mult.plot_residue(mult.residue(data['ABEV3'], data['IRBR3'], 100))"
   ]
  },
  {
   "cell_type": "code",
   "execution_count": null,
   "metadata": {},
   "outputs": [],
   "source": []
  },
  {
   "cell_type": "code",
   "execution_count": 2,
   "metadata": {},
   "outputs": [],
   "source": [
    "def loss_own(y, x, volume, period, desv_stop=3.1, price_input_test=0, y_short=True):\n",
    "    y_test = y.copy()\n",
    "    x_test = x.copy()\n",
    "    \n",
    "    volume = abs(volume)\n",
    "    if (price_input_test <= 0):\n",
    "        price_input_test=y_test[0]\n",
    "    \n",
    "    price_stop_loss, residue = loss_own_residue(y_test, x_test, period, desv_stop=desv_stop, y_short=y_short)\n",
    "    return -abs(((price_input_test*volume)-(price_stop_loss*volume)))\n",
    "\n",
    "def loss_own_residue(y, x, period, desv_stop=3.1, y_short=True):\n",
    "    y_test = y.copy()\n",
    "    x_test = x.copy()\n",
    "    \n",
    "    last_price = y_test[0].copy()\n",
    "    penny = 0\n",
    "    while (True):\n",
    "        penny=round(penny + 0.01, 2)\n",
    "        if (y_short):\n",
    "            y_test[0] = last_price + penny\n",
    "        else:\n",
    "            y_test[0] = last_price - penny\n",
    "\n",
    "        residue = mult.zscore(mult.residue(y_test, x_test, period))\n",
    "        if(abs(residue[0]) >= desv_stop):\n",
    "            break\n",
    "    return y_test[0], residue\n",
    "\n",
    "def gain_own(y, x, volume, period, price_input_test=0, y_short=True):\n",
    "    y_test = y.copy()\n",
    "    x_test = x.copy()\n",
    "    \n",
    "    volume = abs(volume)\n",
    "    if (price_input_test <= 0):\n",
    "        price_input_test=y_test[0]\n",
    "    \n",
    "    price_take_profit, residue = gain_own_residue(y_test, x_test, period, y_short=y_short)\n",
    "    return abs(((price_input_test*volume)-(price_take_profit*volume)))\n",
    "\n",
    "def gain_own_residue(y, x, period, y_short=True):\n",
    "    y_test = y.copy()\n",
    "    x_test = x.copy()\n",
    "    \n",
    "    last_price = y_test[0].copy()\n",
    "    penny = 0\n",
    "    while (True):\n",
    "        penny=round(penny + 0.01, 2)\n",
    "        if (y_short):\n",
    "            y_test[0] = last_price - penny\n",
    "            residue = mult.zscore(mult.residue(y_test, x_test, period))\n",
    "            if(residue[0] <= 0):\n",
    "                break\n",
    "        else:\n",
    "            y_test[0] = last_price + penny\n",
    "            residue = mult.zscore(mult.residue(y_test, x_test, period))\n",
    "            if(residue[0] >= 0):\n",
    "                break\n",
    "\n",
    "    return y_test[0], residue"
   ]
  },
  {
   "cell_type": "code",
   "execution_count": 3,
   "metadata": {},
   "outputs": [],
   "source": [
    "path_data_cart = 'datasets/data_cart.csv'\n",
    "path_data_yahoo = 'datasets/data_yahoo_adj.csv'\n",
    "path_data = 'datasets/data.csv'"
   ]
  },
  {
   "cell_type": "code",
   "execution_count": 4,
   "metadata": {},
   "outputs": [
    {
     "name": "stdout",
     "output_type": "stream",
     "text": [
      "2019-05-02 to 2020-07-30\n",
      "data: (311, 72)\n",
      "pairs: (2159, 12)\n"
     ]
    }
   ],
   "source": [
    "data = pd.read_csv(path_data_yahoo, index_col=0)\n",
    "data = data[::-1]\n",
    "pairs = pd.read_csv('datasets/cointegrated_pairs_mult.csv')\n",
    "\n",
    "print('{} to {}'.format(data.index[-1], data.index[0]))\n",
    "print('data: {}'.format(data.shape))\n",
    "print('pairs: {}'.format(pairs.shape))"
   ]
  },
  {
   "cell_type": "code",
   "execution_count": 5,
   "metadata": {},
   "outputs": [],
   "source": [
    "\"\"\"y_symbol = 'ELET3'\n",
    "x_symbol = 'PCAR3'\"\"\"\n",
    "\n",
    "\"\"\"y_symbol = 'CMIG4'\n",
    "x_symbol = 'ENGI11'\"\"\"\n",
    "\n",
    "y_symbol = 'BRKM5'\n",
    "x_symbol = 'LAME4'\n",
    "\n",
    "y = data[y_symbol]\n",
    "x = data[x_symbol]"
   ]
  },
  {
   "cell_type": "code",
   "execution_count": 9,
   "metadata": {},
   "outputs": [
    {
     "data": {
      "text/plain": [
       "-2.28343989003074"
      ]
     },
     "execution_count": 9,
     "metadata": {},
     "output_type": "execute_result"
    }
   ],
   "source": [
    "residues[0]"
   ]
  },
  {
   "cell_type": "code",
   "execution_count": 8,
   "metadata": {},
   "outputs": [
    {
     "data": {
      "text/plain": [
       "<matplotlib.axes._subplots.AxesSubplot at 0x26825672a08>"
      ]
     },
     "execution_count": 8,
     "metadata": {},
     "output_type": "execute_result"
    },
    {
     "data": {
      "image/png": "[encoded data removed]",
      "text/plain": [
       "<Figure size 1296x360 with 1 Axes>"
      ]
     },
     "metadata": {
      "needs_background": "light"
     },
     "output_type": "display_data"
    }
   ],
   "source": [
    "looping = -1\n",
    "n_recored = 100\n",
    "period = 50\n",
    "rows=[]\n",
    "test=[]\n",
    "while (looping < (n_recored-1)):\n",
    "    looping+=1\n",
    "    dataset = data[looping:]\n",
    "    y, x = mult.get_values(dataset['CIEL3'], dataset['ITUB4'], period)\n",
    "    \n",
    "    coef = mult.coefficients(y, x, period)\n",
    "    beta = coef['angular']\n",
    "    beta = coint.beta(y, x)\n",
    "    \n",
    "    rows.append([dataset.index[0], beta])\n",
    "    test.append([looping, y.index[0], y.index[-1], beta])\n",
    "\n",
    "rolling_beta = pd.DataFrame(rows, columns=['Data', 'Beta'])\n",
    "rolling_beta.set_index(\"Data\", inplace = True)\n",
    "rolling_beta[::-1].plot(figsize=(18, 5))\n",
    "#mult.zscore(rolling_beta[::-1]).plot(figsize=(18, 5))"
   ]
  },
  {
   "cell_type": "code",
   "execution_count": 15,
   "metadata": {},
   "outputs": [],
   "source": [
    "#rolling_beta"
   ]
  },
  {
   "cell_type": "code",
   "execution_count": 16,
   "metadata": {},
   "outputs": [
    {
     "data": {
      "text/plain": [
       "{'temp': -0.001969899700550911,\n",
       " 'angular': 0.6768165731215234,\n",
       " 'intercept': 20.569156818126967}"
      ]
     },
     "execution_count": 16,
     "metadata": {},
     "output_type": "execute_result"
    }
   ],
   "source": [
    "mult.coefficients(data['ENGI11'], data['RENT3'], 250)"
   ]
  },
  {
   "cell_type": "code",
   "execution_count": 9,
   "metadata": {},
   "outputs": [
    {
     "data": {
      "text/plain": [
       "[[0, '2020-07-30', '2020-05-21', 0.2828778671826724],\n",
       " [1, '2020-07-29', '2020-05-20', 0.2825895514207069],\n",
       " [2, '2020-07-28', '2020-05-19', 0.28458835799825777],\n",
       " [3, '2020-07-27', '2020-05-18', 0.285987973530931],\n",
       " [4, '2020-07-24', '2020-05-15', 0.28494463938512116],\n",
       " [5, '2020-07-23', '2020-05-14', 0.28592096656967547],\n",
       " [6, '2020-07-22', '2020-05-13', 0.2860491885744251],\n",
       " [7, '2020-07-21', '2020-05-12', 0.279658915961006],\n",
       " [8, '2020-07-20', '2020-05-11', 0.27787815551449047],\n",
       " [9, '2020-07-17', '2020-05-08', 0.2741090210348377],\n",
       " [10, '2020-07-16', '2020-05-07', 0.26842500583579587],\n",
       " [11, '2020-07-15', '2020-05-06', 0.2670180916239293],\n",
       " [12, '2020-07-14', '2020-05-05', 0.2670429129195572],\n",
       " [13, '2020-07-13', '2020-05-04', 0.26310026180249146],\n",
       " [14, '2020-07-10', '2020-04-30', 0.26001347150661114],\n",
       " [15, '2020-07-09', '2020-04-29', 0.2598334606955248],\n",
       " [16, '2020-07-08', '2020-04-28', 0.2587660295096111],\n",
       " [17, '2020-07-07', '2020-04-27', 0.25029012909878173],\n",
       " [18, '2020-07-06', '2020-04-24', 0.24011362864683256],\n",
       " [19, '2020-07-03', '2020-04-23', 0.23841007283418647]]"
      ]
     },
     "execution_count": 9,
     "metadata": {},
     "output_type": "execute_result"
    }
   ],
   "source": [
    "test[0:20]"
   ]
  },
  {
   "cell_type": "code",
   "execution_count": null,
   "metadata": {},
   "outputs": [],
   "source": []
  }
 ],
 "metadata": {
  "kernelspec": {
   "display_name": "Python 3",
   "language": "python",
   "name": "python3"
  },
  "language_info": {
   "codemirror_mode": {
    "name": "ipython",
    "version": 3
   },
   "file_extension": ".py",
   "mimetype": "text/x-python",
   "name": "python",
   "nbconvert_exporter": "python",
   "pygments_lexer": "ipython3",
   "version": "3.7.4"
  }
 },
 "nbformat": 4,
 "nbformat_minor": 2
}
