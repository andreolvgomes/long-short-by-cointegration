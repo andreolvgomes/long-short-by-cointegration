{
 "cells": [
  {
   "cell_type": "code",
   "execution_count": 1,
   "metadata": {},
   "outputs": [],
   "source": [
    "#https://medium.com/@constandinou.antonio/quant-post-3-1-a-guided-path-into-mean-reversion-8b33b3c279e4\n",
    "#https://medium.com/@bart.chr/pairs-trading-for-algorithmic-trading-breakdown-d8b709f59372\n",
    "\n",
    "import pandas as pd\n",
    "import statsmodels.api as sm\n",
    "import numpy as np\n",
    "import statsmodels.tsa.stattools as ts"
   ]
  },
  {
   "cell_type": "code",
   "execution_count": 73,
   "metadata": {},
   "outputs": [],
   "source": [
    "df = pd.read_csv('datasets/data.csv')\n",
    "data = df[['AALR3', 'ABCB4']]\n",
    "data.columns = ['y', 'x']\n",
    "x = sm.add_constant(data['x'])\n",
    "y = data['y']\n",
    "\n",
    "df = df[df.columns.difference(['Data'])]"
   ]
  },
  {
   "cell_type": "code",
   "execution_count": 63,
   "metadata": {},
   "outputs": [
    {
     "name": "stdout",
     "output_type": "stream",
     "text": [
      "const   -6.936373\n",
      "x        1.308303\n",
      "dtype: float64\n"
     ]
    }
   ],
   "source": [
    "# Fit and summarize OLS model\n",
    "mod = sm.OLS(y, x)\n",
    "results = mod.fit()\n",
    "print(results.params)\n",
    "#print(results.summary())"
   ]
  },
  {
   "cell_type": "code",
   "execution_count": 26,
   "metadata": {},
   "outputs": [
    {
     "data": {
      "text/plain": [
       "-0.7643490674975995"
      ]
     },
     "execution_count": 26,
     "metadata": {},
     "output_type": "execute_result"
    }
   ],
   "source": [
    "halflife = round(-np.log(2))/results.params[1]\n",
    "halflife"
   ]
  },
  {
   "cell_type": "code",
   "execution_count": 5,
   "metadata": {},
   "outputs": [
    {
     "name": "stdout",
     "output_type": "stream",
     "text": [
      "half life -0.5298064010995843\n"
     ]
    }
   ],
   "source": [
    "print('half life',-np.log(2)/results.params[1])"
   ]
  },
  {
   "cell_type": "code",
   "execution_count": 6,
   "metadata": {},
   "outputs": [
    {
     "name": "stdout",
     "output_type": "stream",
     "text": [
      "<F test: F=array([[9701.85022323]]), p=7.864479046236036e-106, df_denom=90, df_num=2>\n"
     ]
    }
   ],
   "source": [
    "print(results.f_test(np.identity(2)))"
   ]
  },
  {
   "cell_type": "code",
   "execution_count": 7,
   "metadata": {},
   "outputs": [],
   "source": [
    "#https://groups.google.com/forum/#!topic/pystatsmodels/HbUIeSuXqZs\n",
    "class DickeyFullerTest:\n",
    "    def __init__(self):\n",
    "        self.df = None\n",
    "        self.crit = None\n",
    "        self.slope = None\n",
    "        self.halflife = None\n",
    "        self.lookback = None\n",
    "        self.coint = None\n",
    "        \n",
    "    def adf(self, y, x):\n",
    "\n",
    "        model = sm.GLS(y,sm.add_constant(x)).fit()\n",
    "        coint = model.resid\n",
    "\n",
    "        print(model.params)\n",
    "\n",
    "        adfstat, pvalue, critvalues, res = ts.adfuller(coint, store=True, regresults=True)\n",
    "\n",
    "        self.df = model.params[1]/model.bse[1]\n",
    "        self.crit = res.critvalues\n",
    "        self.slope = model.params[1]\n",
    "        self.halflife = -np.log(2)/model.params[1]\n",
    "        self.lookback = int(round(-np.log(2)/model.params[1]))\n",
    "        self.coint = coint\n",
    "        \n",
    "        print('df: ', self.df)\n",
    "        #print('crit: ', self.crit)\n",
    "        print('slope: ', self.slope)\n",
    "        print('halflife: ', self.halflife)\n",
    "        print('lookback: ', self.lookback)"
   ]
  },
  {
   "cell_type": "code",
   "execution_count": 36,
   "metadata": {},
   "outputs": [
    {
     "name": "stdout",
     "output_type": "stream",
     "text": [
      "const   -6.936373\n",
      "x        1.308303\n",
      "dtype: float64\n",
      "df:  45.48603661109386\n",
      "slope:  1.3083027670510512\n",
      "halflife:  -0.5298064010995843\n",
      "lookback:  -1\n"
     ]
    }
   ],
   "source": [
    "test = DickeyFullerTest()\n",
    "test.adf(y, data['x'])"
   ]
  },
  {
   "cell_type": "code",
   "execution_count": 56,
   "metadata": {},
   "outputs": [],
   "source": [
    "#https://medium.com/@bart.chr/pairs-trading-for-algorithmic-trading-breakdown-d8b709f59372\n",
    "#https://github.com/aconstandinou/mean-reversion\n",
    "class ADF(object):\n",
    "    \"\"\"\n",
    "    Augmented Dickey–Fuller (ADF) unit root test\n",
    "    \"\"\"\n",
    "\n",
    "    def __init__(self):\n",
    "        self.p_value = None\n",
    "        self.five_perc_stat = None\n",
    "        self.perc_stat = None\n",
    "        self.p_min = .0\n",
    "        self.p_max = .05\n",
    "        self.look_back = 63\n",
    "\n",
    "    def apply_adf(self, time_series):\n",
    "        model = ts.adfuller(time_series, 1)\n",
    "        self.p_value = model[1]\n",
    "        self.five_perc_stat = model[4]['5%']\n",
    "        self.perc_stat = model[0]\n",
    "\n",
    "    def use_P(self):\n",
    "        return (self.p_value > self.p_min) and (self.p_value < self.p_max)\n",
    "    \n",
    "    def use_critical(self):\n",
    "        return abs(self.perc_stat) > abs(self.five_perc_stat)\n",
    "\n",
    "class Half_Life(object):\n",
    "    \"\"\"\n",
    "    Half Life test from the Ornstein-Uhlenbeck process \n",
    "    \"\"\"\n",
    "\n",
    "    def __init__(self):\n",
    "        self.hl_min = 1.0\n",
    "        self.hl_max = 42.0\n",
    "        self.look_back = 43\n",
    "        self.half_life = None\n",
    "\n",
    "    def apply_half_life(self, time_series):\n",
    "        lag = np.roll(time_series, 1)\n",
    "        lag[0] = 0\n",
    "        ret = time_series - lag\n",
    "        ret[0] = 0\n",
    "\n",
    "        # adds intercept terms to X variable for regression\n",
    "        lag2 = sm.add_constant(lag)\n",
    "\n",
    "        model = sm.OLS(ret, lag2)\n",
    "        res = model.fit()\n",
    "        \n",
    "        #self.half_life = round(-np.log(2) / res.params[1], 0)\n",
    "        self.half_life = -np.log(2) / res.params[1]\n",
    "\n",
    "    def use(self):\n",
    "        return (self.half_life < self.hl_max) and (self.half_life > self.hl_min)\n",
    "\n",
    "# a value > 0.5 indicates a trending time series. The greater the value above 0.5 the more trending it is.\n",
    "# a value = 0.5 indicates a random walk.\n",
    "# a value < 0.5 indicates a mean reverting time series. The closer the value gets to 0 the more mean reverting it is\n",
    "class Hurst():\n",
    "    \"\"\"\n",
    "    If Hurst Exponent is under the 0.5 value of a random walk, then the series is mean reverting\n",
    "    \"\"\"\n",
    "\n",
    "    def __init__(self):\n",
    "        self.h_min = 0.0\n",
    "        self.h_max = 0.4\n",
    "        self.look_back = 126\n",
    "        self.lag_max = 100\n",
    "        self.h_value = None\n",
    "    \n",
    "    def apply_hurst(self, time_series):\n",
    "        lags = range(2, self.lag_max)\n",
    "\n",
    "        tau = [np.sqrt(np.std(np.subtract(time_series[lag:], time_series[:-lag]))) for lag in lags]\n",
    "\n",
    "        #poly = np.polyfit(np.log10(lags), np.log10(tau), 1)\n",
    "        poly = np.polyfit(np.log(lags), np.log(tau), 1)\n",
    "\n",
    "        self.h_value = poly[0]*2.0 \n",
    "\n",
    "    def use(self):\n",
    "        return (self.h_value < self.h_max) and (self.h_value > self.h_min)"
   ]
  },
  {
   "cell_type": "code",
   "execution_count": 57,
   "metadata": {
    "scrolled": true
   },
   "outputs": [
    {
     "name": "stdout",
     "output_type": "stream",
     "text": [
      "True\n",
      "3.4749378345843525\n"
     ]
    }
   ],
   "source": [
    "life = Half_Life()\n",
    "life.apply_half_life(results.resid)\n",
    "print(life.use())\n",
    "print(life.half_life)"
   ]
  },
  {
   "cell_type": "code",
   "execution_count": 58,
   "metadata": {},
   "outputs": [
    {
     "name": "stdout",
     "output_type": "stream",
     "text": [
      "True\n",
      "True\n"
     ]
    }
   ],
   "source": [
    "adf = ADF()\n",
    "adf.apply_adf(results.resid)\n",
    "print(adf.use_P())\n",
    "print(adf.use_critical())"
   ]
  },
  {
   "cell_type": "code",
   "execution_count": null,
   "metadata": {},
   "outputs": [],
   "source": [
    "hurst = Hurst()\n",
    "hurst.apply_hurst(results.resid)"
   ]
  },
  {
   "cell_type": "code",
   "execution_count": null,
   "metadata": {},
   "outputs": [],
   "source": [
    "'cointegrated_pairs.csv'\n",
    "for col1 in df.columns:\n",
    "    for col2 in df.columns:\n",
    "        x = sm.add_constant(df[col2])\n",
    "        res = sm.OLS(df[col1], x).fit()\n",
    "        \n",
    "        life.apply_half_life(res.resid)\n",
    "        print(life.use(), life.half_life)"
   ]
  },
  {
   "cell_type": "code",
   "execution_count": 90,
   "metadata": {},
   "outputs": [
    {
     "name": "stdout",
     "output_type": "stream",
     "text": [
      "True 3.4749378345843525\n"
     ]
    }
   ],
   "source": [
    "x = sm.add_constant(df['ABCB4'])\n",
    "res = sm.OLS(df['AALR3'], x).fit()\n",
    "\n",
    "life.apply_half_life(res.resid)\n",
    "print(life.use(), life.half_life)"
   ]
  },
  {
   "cell_type": "code",
   "execution_count": 100,
   "metadata": {},
   "outputs": [],
   "source": [
    "def half_life(time_series):\n",
    "    lag = np.roll(time_series, 1)\n",
    "    lag[0] = 0\n",
    "    ret = time_series - lag\n",
    "    ret[0] = 0\n",
    "\n",
    "    # adds intercept terms to X variable for regression\n",
    "    lag2 = sm.add_constant(lag)\n",
    "\n",
    "    model = sm.OLS(ret, lag2)\n",
    "    res = model.fit()\n",
    "\n",
    "    halflife = int(round(-np.log(2) / res.params[1],0))#-np.log(2) / res.params[1]\n",
    "    if halflife <= 0:\n",
    "        halflife = 1\n",
    "    return halflife"
   ]
  },
  {
   "cell_type": "code",
   "execution_count": 110,
   "metadata": {},
   "outputs": [
    {
     "data": {
      "text/plain": [
       "3"
      ]
     },
     "execution_count": 110,
     "metadata": {},
     "output_type": "execute_result"
    }
   ],
   "source": [
    "half_life(res.resid)"
   ]
  }
 ],
 "metadata": {
  "kernelspec": {
   "display_name": "Python 3",
   "language": "python",
   "name": "python3"
  },
  "language_info": {
   "codemirror_mode": {
    "name": "ipython",
    "version": 3
   },
   "file_extension": ".py",
   "mimetype": "text/x-python",
   "name": "python",
   "nbconvert_exporter": "python",
   "pygments_lexer": "ipython3",
   "version": "3.7.4"
  }
 },
 "nbformat": 4,
 "nbformat_minor": 2
}
