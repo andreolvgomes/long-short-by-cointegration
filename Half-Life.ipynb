{
 "cells": [
  {
   "cell_type": "code",
   "execution_count": 101,
   "metadata": {},
   "outputs": [],
   "source": [
    "#https://medium.com/@constandinou.antonio/quant-post-3-1-a-guided-path-into-mean-reversion-8b33b3c279e4\n",
    "#https://medium.com/@bart.chr/pairs-trading-for-algorithmic-trading-breakdown-d8b709f59372\n",
    "\n",
    "import pandas as pd\n",
    "import statsmodels.api as sm\n",
    "import numpy as np\n",
    "import statsmodels.tsa.stattools as ts"
   ]
  },
  {
   "cell_type": "code",
   "execution_count": 33,
   "metadata": {},
   "outputs": [],
   "source": [
    "data = pd.read_csv('datasets/data.csv')[['AALR3', 'ABCB4']]\n",
    "data.columns = ['y', 'x']"
   ]
  },
  {
   "cell_type": "code",
   "execution_count": 90,
   "metadata": {},
   "outputs": [
    {
     "name": "stdout",
     "output_type": "stream",
     "text": [
      "const   -6.936373\n",
      "x        1.308303\n",
      "dtype: float64\n"
     ]
    }
   ],
   "source": [
    "x = sm.add_constant(data['x'])\n",
    "\n",
    "# Fit and summarize OLS model\n",
    "mod = sm.OLS(data['y'], x)\n",
    "results = mod.fit()\n",
    "print(results.params)\n",
    "#print(results.summary())"
   ]
  },
  {
   "cell_type": "code",
   "execution_count": 51,
   "metadata": {},
   "outputs": [
    {
     "data": {
      "text/plain": [
       "-0.7643490674975995"
      ]
     },
     "execution_count": 51,
     "metadata": {},
     "output_type": "execute_result"
    }
   ],
   "source": [
    "halflife = round(-np.log(2))/results.params[1]\n",
    "halflife"
   ]
  },
  {
   "cell_type": "code",
   "execution_count": 52,
   "metadata": {},
   "outputs": [
    {
     "name": "stdout",
     "output_type": "stream",
     "text": [
      "half life -0.5298064010995843\n"
     ]
    }
   ],
   "source": [
    "print('half life',-np.log(2)/results.params[1])"
   ]
  },
  {
   "cell_type": "code",
   "execution_count": 57,
   "metadata": {},
   "outputs": [
    {
     "name": "stdout",
     "output_type": "stream",
     "text": [
      "<F test: F=array([[9701.85022323]]), p=7.864479046236036e-106, df_denom=90, df_num=2>\n"
     ]
    }
   ],
   "source": [
    "print(results.f_test(np.identity(2)))"
   ]
  },
  {
   "cell_type": "code",
   "execution_count": 109,
   "metadata": {},
   "outputs": [],
   "source": [
    "#https://groups.google.com/forum/#!topic/pystatsmodels/HbUIeSuXqZs\n",
    "class DickeyFullerTest:\n",
    "    def __init__(self):\n",
    "        self.df = None\n",
    "        self.crit = None\n",
    "        self.slope = None\n",
    "        self.halflife = None\n",
    "        self.lookback = None\n",
    "        self.coint = None\n",
    "        \n",
    "    def adf(self, y, x):\n",
    "\n",
    "        model = sm.GLS(y,sm.add_constant(x)).fit()\n",
    "        coint = model.resid\n",
    "\n",
    "        print(model.params)\n",
    "\n",
    "        adfstat, pvalue, critvalues, res = ts.adfuller(coint, store=True, regresults=True)\n",
    "\n",
    "        self.df = model.params[1]/model.bse[1]\n",
    "        self.crit = res.critvalues\n",
    "        self.slope = model.params[1]\n",
    "        self.halflife = -np.log(2)/model.params[1]\n",
    "        self.lookback = int(round(-np.log(2)/model.params[1]))\n",
    "        self.coint = coint\n",
    "        \n",
    "        print('df: ', self.df)\n",
    "        #print('crit: ', self.crit)\n",
    "        print('slope: ', self.slope)\n",
    "        print('halflife: ', self.halflife)\n",
    "        print('lookback: ', self.lookback)"
   ]
  },
  {
   "cell_type": "code",
   "execution_count": 87,
   "metadata": {},
   "outputs": [],
   "source": [
    "x= []\n",
    "x.append(['2007-07-24',1.03660])\n",
    "x.append(['2007-07-25',1.04180])\n",
    "x.append(['2007-07-26',1.05360])\n",
    "x.append(['2007-07-27',1.06390])\n",
    "x.append(['2007-07-30',1.06556])\n",
    "x.append(['2007-07-31',1.06680])\n",
    "x.append(['2007-08-01',1.05600])\n",
    "x.append(['2007-08-02',1.05300])\n",
    "x.append(['2007-08-03',1.05210])\n",
    "x.append(['2007-08-06',1.05170])\n",
    "x.append(['2007-08-07',1.05510])\n",
    "x.append(['2007-08-08',1.04850])\n",
    "x.append(['2007-08-09',1.05705])\n",
    "x.append(['2007-08-10',1.05310])\n",
    "dt_x = pd.DataFrame(x)\n",
    "dt_x.columns=['data', 'x']\n",
    "\n",
    "y = []\n",
    "y.append(['2007-07-24',-0.01016])\n",
    "y.append(['2007-07-25',0.00520])\n",
    "y.append(['2007-07-26',0.01180])\n",
    "y.append(['2007-07-27',0.01030])\n",
    "y.append(['2007-07-30',0.00166])\n",
    "y.append(['2007-07-31',0.00124])\n",
    "y.append(['2007-08-01',-0.01080])\n",
    "y.append(['2007-08-02',-0.00300])\n",
    "y.append(['2007-08-03',-0.00090])\n",
    "y.append(['2007-08-06',-0.00040])\n",
    "y.append(['2007-08-07',0.00340])\n",
    "y.append(['2007-08-08',-0.00660])\n",
    "y.append(['2007-08-09',0.00855])\n",
    "y.append(['2007-08-10',-0.00395])\n",
    "dt_y = pd.DataFrame(y)\n",
    "dt_y.columns=['data', 'y']"
   ]
  },
  {
   "cell_type": "code",
   "execution_count": 112,
   "metadata": {},
   "outputs": [
    {
     "name": "stdout",
     "output_type": "stream",
     "text": [
      "const   -0.349714\n",
      "x        0.332254\n",
      "dtype: float64\n",
      "df:  1.4773934468234595\n",
      "slope:  0.3322535262683186\n",
      "halflife:  -2.0861996209490314\n",
      "lookback:  -2\n"
     ]
    }
   ],
   "source": [
    "test = DickeyFullerTest()\n",
    "test.adf(dt_y['y'], dt_x['x'])"
   ]
  },
  {
   "cell_type": "code",
   "execution_count": 113,
   "metadata": {},
   "outputs": [
    {
     "name": "stdout",
     "output_type": "stream",
     "text": [
      "const   -6.936373\n",
      "x        1.308303\n",
      "dtype: float64\n",
      "df:  45.48603661109386\n",
      "slope:  1.3083027670510512\n",
      "halflife:  -0.5298064010995843\n",
      "lookback:  -1\n"
     ]
    }
   ],
   "source": [
    "test = DickeyFullerTest()\n",
    "test.adf(data['y'], data['x'])"
   ]
  },
  {
   "cell_type": "code",
   "execution_count": null,
   "metadata": {},
   "outputs": [],
   "source": []
  }
 ],
 "metadata": {
  "kernelspec": {
   "display_name": "Python 3",
   "language": "python",
   "name": "python3"
  },
  "language_info": {
   "codemirror_mode": {
    "name": "ipython",
    "version": 3
   },
   "file_extension": ".py",
   "mimetype": "text/x-python",
   "name": "python",
   "nbconvert_exporter": "python",
   "pygments_lexer": "ipython3",
   "version": "3.7.4"
  }
 },
 "nbformat": 4,
 "nbformat_minor": 2
}
