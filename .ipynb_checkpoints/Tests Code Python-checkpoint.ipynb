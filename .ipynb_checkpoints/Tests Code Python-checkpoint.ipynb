{
 "cells": [
  {
   "cell_type": "code",
   "execution_count": 1,
   "metadata": {},
   "outputs": [],
   "source": [
    "import numpy as np\n",
    "import pandas as pd\n",
    "import os\n",
    "import statsmodels.api as sm\n",
    "import statsmodels.tsa.stattools as ts\n",
    "import matplotlib.pyplot as plt\n",
    "from pykalman import KalmanFilter\n",
    "import statistics\n",
    "import seaborn as sns; sns.set(style=\"whitegrid\")\n",
    "import math\n",
    "\n",
    "%matplotlib inline"
   ]
  },
  {
   "cell_type": "code",
   "execution_count": 12,
   "metadata": {},
   "outputs": [],
   "source": [
    "def display(message):\n",
    "    print(message[0].ljust(30, ' ') + '', message[1])\n",
    "\n",
    "def value(message):\n",
    "    return message[0].ljust(20, ' ') + message[1]\n",
    "\n",
    "def valuetwo(message1, message2):\n",
    "    print(value(message1) + '   ' + value(message2))\n",
    "\n",
    "def just(string, num=20):\n",
    "    return string.ljust(num, ' ')"
   ]
  },
  {
   "cell_type": "code",
   "execution_count": 13,
   "metadata": {},
   "outputs": [
    {
     "name": "stdout",
     "output_type": "stream",
     "text": [
      "Independente        ABEV3   Dependente          ITUB3\n",
      "R$                  25,00   R$                  54,00\n"
     ]
    }
   ],
   "source": [
    "valuetwo(['Independente', 'ABEV3'], ['Dependente', 'ITUB3'])\n",
    "valuetwo(['R$', '25,00'], ['R$', '54,00'])\n",
    "valuetwo(['p-value', '25,00'], ['R$', '54,00'])\n",
    "valuetwo(['ADF', '25,00'], ['R$', '54,00'])\n",
    "valuetwo(['Aceita t0', '25,00'], ['R$', '54,00'])"
   ]
  },
  {
   "cell_type": "code",
   "execution_count": null,
   "metadata": {},
   "outputs": [],
   "source": []
  },
  {
   "cell_type": "code",
   "execution_count": 3,
   "metadata": {},
   "outputs": [
    {
     "name": "stdout",
     "output_type": "stream",
     "text": [
      "INPUT: 250\n",
      "=================================================\n",
      "Independente                   ABEV3 : R$ 450\n",
      "Dependente                     ITUB3 : R$ 25,05\n",
      "=================================================\n",
      "p-value                        -4,4485\n",
      "ADF                            99,00%\n",
      "Aceita t0                      0,00%\n",
      "=================================================\n",
      "Meia Vida                      75\n",
      "Correção                       75%\n",
      "Inverter                       Sim\n",
      "=================================================\n",
      "Retorno                        7,64%\n",
      "Atual                          2,41%\n",
      "Loss                           -4,20%\n",
      "=================================================\n",
      "Gain                           177,35898\n",
      "Loss                           308,81\n",
      "=================================================\n",
      "Ratio Entrada                  3,0170\n",
      "Ratio Saída                    2,7866\n",
      "Ratio Stop                     3,1438\n",
      "=================================================\n",
      "Coef.Temp                      0,0775\n",
      "Coef.Ang                       2,337\n",
      "Coef.Lin                       -7,7\n",
      "=================================================\n",
      "Coef                           0,787\n",
      "Intercept                      2,337\n"
     ]
    }
   ],
   "source": [
    "print('INPUT: 250')\n",
    "print('=================================================')\n",
    "display(['Independente', 'ABEV3 : R$ 450'])\n",
    "display(['Dependente', 'ITUB3 : R$ 25,05'])\n",
    "print('=================================================')\n",
    "display(['p-value', '-4,4485'])\n",
    "display(['ADF', '99,00%'])\n",
    "display(['Aceita t0', '0,00%'])\n",
    "print('=================================================')\n",
    "display(['Meia Vida', '75'])\n",
    "display(['Correção', '75%'])\n",
    "display(['Inverter', 'Sim'])\n",
    "print('=================================================')\n",
    "display(['Retorno', '7,64%'])\n",
    "display(['Atual', '2,41%'])\n",
    "display(['Loss', '-4,20%'])\n",
    "print('=================================================')\n",
    "display(['Gain', '177,35898'])\n",
    "display(['Loss', '308,81'])\n",
    "print('=================================================')\n",
    "display(['Ratio Entrada', '3,0170'])\n",
    "display(['Ratio Saída', '2,7866'])\n",
    "display(['Ratio Stop', '3,1438'])\n",
    "print('=================================================')\n",
    "display(['Coef.Temp', '0,0775'])\n",
    "display(['Coef.Ang', '2,337'])\n",
    "display(['Coef.Lin', '-7,7'])\n",
    "print('=================================================')\n",
    "display(['Coef', '0,787'])\n",
    "display(['Intercept', '2,337'])"
   ]
  },
  {
   "cell_type": "code",
   "execution_count": 9,
   "metadata": {},
   "outputs": [],
   "source": [
    "x = [1.3,1.6,1.8,2.1,2.3,2.7]\n",
    "y = [4.1,4.7,5.8,5.9,6.5,7.7]\n",
    "\n",
    "x=[10.55]\n",
    "y=[14.26]\n",
    "x = sm.add_constant(x)\n",
    "model = sm.OLS(y, x).fit()"
   ]
  },
  {
   "cell_type": "code",
   "execution_count": 11,
   "metadata": {},
   "outputs": [
    {
     "name": "stdout",
     "output_type": "stream",
     "text": [
      "                            OLS Regression Results                            \n",
      "==============================================================================\n",
      "Dep. Variable:                      y   R-squared:                         nan\n",
      "Model:                            OLS   Adj. R-squared:                    nan\n",
      "Method:                 Least Squares   F-statistic:                       nan\n",
      "Date:                Mon, 06 Jul 2020   Prob (F-statistic):                nan\n",
      "Time:                        20:19:11   Log-Likelihood:                    inf\n",
      "No. Observations:                   1   AIC:                              -inf\n",
      "Df Residuals:                       0   BIC:                              -inf\n",
      "Df Model:                           0                                         \n",
      "Covariance Type:            nonrobust                                         \n",
      "==============================================================================\n",
      "                 coef    std err          t      P>|t|      [0.025      0.975]\n",
      "------------------------------------------------------------------------------\n",
      "const          1.3517        nan        nan        nan         nan         nan\n",
      "==============================================================================\n",
      "Omnibus:                          nan   Durbin-Watson:                     nan\n",
      "Prob(Omnibus):                    nan   Jarque-Bera (JB):                0.375\n",
      "Skew:                           0.000   Prob(JB):                        0.829\n",
      "Kurtosis:                       0.000   Cond. No.                         1.00\n",
      "==============================================================================\n",
      "\n",
      "Warnings:\n",
      "[1] Standard Errors assume that the covariance matrix of the errors is correctly specified.\n"
     ]
    },
    {
     "name": "stderr",
     "output_type": "stream",
     "text": [
      "C:\\ProgramData\\Anaconda3\\lib\\site-packages\\statsmodels\\stats\\stattools.py:71: ValueWarning: omni_normtest is not valid with less than 8 observations; 1 samples were given.\n",
      "  \"samples were given.\" % int(n), ValueWarning)\n"
     ]
    }
   ],
   "source": [
    "print(model.summary())"
   ]
  },
  {
   "cell_type": "code",
   "execution_count": 41,
   "metadata": {},
   "outputs": [],
   "source": [
    "from statsmodels.iolib.summary import Summary"
   ]
  },
  {
   "cell_type": "code",
   "execution_count": 42,
   "metadata": {},
   "outputs": [],
   "source": [
    "smry = Summary()"
   ]
  },
  {
   "cell_type": "code",
   "execution_count": 50,
   "metadata": {},
   "outputs": [],
   "source": [
    "top_left = [('Dep. Variable:', None),\n",
    "            ('Model:', None),\n",
    "            ('Method:', ['Least Squares']),\n",
    "            ('Date:', None),\n",
    "            ('Time:', None),\n",
    "            ('No. Observations:', None),\n",
    "            ('Df Residuals:', None),\n",
    "            ('Df Model:', None),\n",
    "            ]"
   ]
  },
  {
   "cell_type": "code",
   "execution_count": 53,
   "metadata": {},
   "outputs": [
    {
     "data": {
      "text/plain": [
       "[('Dep. Variable:', None),\n",
       " ('Model:', None),\n",
       " ('Method:', ['Least Squares']),\n",
       " ('Date:', None),\n",
       " ('Time:', None),\n",
       " ('No. Observations:', None),\n",
       " ('Df Residuals:', None),\n",
       " ('Df Model:', None)]"
      ]
     },
     "execution_count": 53,
     "metadata": {},
     "output_type": "execute_result"
    }
   ],
   "source": [
    "top_left"
   ]
  },
  {
   "cell_type": "code",
   "execution_count": 54,
   "metadata": {},
   "outputs": [],
   "source": [
    "rsquared_type = 'Meu nome'\n",
    "top_right = [('R-squared' + rsquared_type + ':', [\"%#8.3f\" % 10]),\n",
    "             ('Adj. R-squared' + rsquared_type + ':', [\"%#8.3f\" % 250]),\n",
    "             ('F-statistic:', [\"%#8.4g\" % 24]),\n",
    "             ('Prob (F-statistic):', [\"%#6.3g\" % 555]),\n",
    "             ('Log-Likelihood:', None),\n",
    "             ('AIC:', [\"%#8.4g\" % 10]),\n",
    "             ('BIC:', [\"%#8.4g\" % 11])\n",
    "             ]"
   ]
  },
  {
   "cell_type": "code",
   "execution_count": 55,
   "metadata": {},
   "outputs": [
    {
     "data": {
      "text/plain": [
       "[('R-squaredMeu nome:', ['  10.000']),\n",
       " ('Adj. R-squaredMeu nome:', [' 250.000']),\n",
       " ('F-statistic:', ['   24.00']),\n",
       " ('Prob (F-statistic):', ['  555.']),\n",
       " ('Log-Likelihood:', None),\n",
       " ('AIC:', ['   10.00']),\n",
       " ('BIC:', ['   11.00'])]"
      ]
     },
     "execution_count": 55,
     "metadata": {},
     "output_type": "execute_result"
    }
   ],
   "source": [
    "top_right"
   ]
  },
  {
   "cell_type": "code",
   "execution_count": 18,
   "metadata": {},
   "outputs": [
    {
     "data": {
      "text/plain": [
       "<module 'TestsCodePython' from 'D:\\\\trades\\\\pairs_trading_b3\\\\TestsCodePython.py'>"
      ]
     },
     "execution_count": 18,
     "metadata": {},
     "output_type": "execute_result"
    }
   ],
   "source": [
    "import TestsCodePython as test\n",
    "import importlib\n",
    "importlib.reload(test)"
   ]
  },
  {
   "cell_type": "code",
   "execution_count": 17,
   "metadata": {},
   "outputs": [
    {
     "data": {
      "text/plain": [
       "10"
      ]
     },
     "execution_count": 17,
     "metadata": {},
     "output_type": "execute_result"
    }
   ],
   "source": [
    "test.soma(2, 3)"
   ]
  },
  {
   "cell_type": "code",
   "execution_count": null,
   "metadata": {},
   "outputs": [],
   "source": []
  }
 ],
 "metadata": {
  "kernelspec": {
   "display_name": "Python 3",
   "language": "python",
   "name": "python3"
  },
  "language_info": {
   "codemirror_mode": {
    "name": "ipython",
    "version": 3
   },
   "file_extension": ".py",
   "mimetype": "text/x-python",
   "name": "python",
   "nbconvert_exporter": "python",
   "pygments_lexer": "ipython3",
   "version": "3.7.4"
  }
 },
 "nbformat": 4,
 "nbformat_minor": 2
}
