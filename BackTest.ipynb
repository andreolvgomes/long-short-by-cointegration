{
 "cells": [
  {
   "cell_type": "code",
   "execution_count": 1,
   "metadata": {},
   "outputs": [
    {
     "data": {
      "text/plain": [
       "<module 'cointegration_mult' from 'D:\\\\trades\\\\pairs_trading_b3\\\\cointegration_mult.py'>"
      ]
     },
     "execution_count": 1,
     "metadata": {},
     "output_type": "execute_result"
    }
   ],
   "source": [
    "#https://www.quantstart.com/articles/Backtesting-An-Intraday-Mean-Reversion-Pairs-Strategy-Between-SPY-And-IWM/\n",
    "import pandas as pd\n",
    "import matplotlib.pyplot as plt\n",
    "import importlib\n",
    "from enum import Enum\n",
    "import cointegration_mult as mult\n",
    "import Cointegration as coint\n",
    "import datetime\n",
    "import math\n",
    "\n",
    "importlib.reload(coint)\n",
    "importlib.reload(mult)"
   ]
  },
  {
   "cell_type": "code",
   "execution_count": 2,
   "metadata": {},
   "outputs": [],
   "source": [
    "class Historic(object):\n",
    "    def __init__(self):\n",
    "        self.type_input=TypeInput.Nada\n",
    "        self.day_input=None\n",
    "        self.price_y_input=None\n",
    "        self.price_x_input=None\n",
    "        self.day_output=None\n",
    "        self.price_y_output=None\n",
    "        self.price_x_output=None\n",
    "        self.type_output=TypeOutput.Nada\n",
    "        self.lot_y=100\n",
    "        self.lot_x=100\n",
    "        self.num_days=0\n",
    "        \n",
    "    def get(self):\n",
    "        return [self.type_input.name, self.lot_y, self.lot_x, self.day_input, self.price_y_input, self.price_x_input,\n",
    "                self.day_output, self.price_y_output, self.price_x_output, self.type_output.name,\n",
    "                 self.balance_result(), self.percent()*100, self.num_days]\n",
    "\n",
    "    def balance_result(self):\n",
    "        return self.balance_long()+self.balance_short()\n",
    "    \n",
    "    def balance_long(self):\n",
    "        if (self.type_input == TypeInput.LongShort):\n",
    "            return (self.price_y_output*self.lot_y)-(self.price_y_input*self.lot_y)\n",
    "        if (self.type_input == TypeInput.ShortLong):\n",
    "            return (self.price_x_output*self.lot_x)-(self.price_x_input*self.lot_x)\n",
    "        return 0\n",
    "    \n",
    "    def balance_short(self):\n",
    "        if (self.type_input == TypeInput.LongShort):\n",
    "            return (self.price_x_input*self.lot_x)-(self.price_x_output*self.lot_x)\n",
    "        if (self.type_input == TypeInput.ShortLong):\n",
    "            return (self.price_y_input*self.lot_y)-(self.price_y_output*self.lot_y)\n",
    "        return 0\n",
    "    \n",
    "    def financial_long(self):\n",
    "        if (self.type_input == TypeInput.LongShort):\n",
    "            return (self.price_y_output*self.lot_y)\n",
    "        if (self.type_input == TypeInput.ShortLong):\n",
    "            return (self.price_x_input*self.lot_x)\n",
    "        return 0\n",
    "        \n",
    "    def percent(self):\n",
    "        return self.balance_result()/self.financial_long()\n",
    "    \n",
    "def diff_dates(date1, date2):\n",
    "    date_one = datetime.datetime.strptime(date1, '%Y-%m-%d')\n",
    "    date_two = datetime.datetime.strptime(date2, '%Y-%m-%d')\n",
    "    return abs((date_one-date_two).days)\n",
    "\n",
    "class TypeOutput(Enum):\n",
    "    Nada = 0\n",
    "    Aberto = 1\n",
    "    Disintegrated = 2\n",
    "    TakeProfit = 3\n",
    "    StopLoss = 4\n",
    "    \n",
    "class TypeInput(Enum):\n",
    "    Nada=0\n",
    "    LongShort=1\n",
    "    ShortLong=2\n",
    "    \n",
    "def roundup(value):\n",
    "    #return int(math.ceil(value / 100.0)) * 100\n",
    "    ret = int(round(value, -2))\n",
    "    if (ret <= 0):\n",
    "        return 100\n",
    "    return ret"
   ]
  },
  {
   "cell_type": "code",
   "execution_count": 3,
   "metadata": {},
   "outputs": [],
   "source": [
    "class BackTest(object):\n",
    "    def __init__(self):\n",
    "        self.day_start=None\n",
    "        self.y_values=None\n",
    "        self.x_values=None\n",
    "        self.historic = Historic()\n",
    "        self.list_historic=[]\n",
    "        self.coef=None\n",
    "        self.stop_executed=False\n",
    "        self.cointegration=None\n",
    "         \n",
    "    def execute(self, desv_input=2, desc_input_max=2.5, desv_stop=3, desv_take=0.1, period=100, coef_fixed=False,\n",
    "               min_adf=90, num_periods=3, min_halflife=0):\n",
    "        \n",
    "        # define properties\n",
    "        self.min_adf = min_adf\n",
    "        self.period = period\n",
    "        self.num_periods = num_periods\n",
    "        self.min_halflife = min_halflife\n",
    "        \n",
    "        days = data.index[::-1].tolist()\n",
    "        for day in days:\n",
    "            test = data[data.index <= day]\n",
    "            if (len(test) < period):\n",
    "                continue\n",
    "                        \n",
    "            if (self.day_start == None):\n",
    "                self.day_start = day\n",
    "\n",
    "            self.y_values, self.x_values = mult.get_values(test[y_symbol], test[x_symbol], self.period)\n",
    "            \n",
    "            # check se retornou a média após ter stopado\n",
    "            if (self.check_return_mean_after_stoploss()==False):\n",
    "                continue\n",
    "                \n",
    "            self.cointegration = mult.check_cointegration(self.y_values, self.x_values, self.period)\n",
    "            if(self.cointegration['is_stationary']==False):\n",
    "                self.disintegrated(day)\n",
    "                continue\n",
    "\n",
    "            # check se é pra trabalhar com coieficientes fixo\n",
    "            if (self.check_trade() and coef_fixed):\n",
    "                resid = mult.residue(self.y_values, self.x_values, self.period, self.coef)\n",
    "            else:\n",
    "                self.coef = mult.coefficients(self.y_values, self.x_values, self.period)\n",
    "                resid = mult.residue(self.y_values, self.x_values, self.period, self.coef)\n",
    "            \n",
    "            z_resid = mult.zscore(resid)\n",
    "            \n",
    "            if (self.check_trade() == False):\n",
    "                if (self.valid_entry()):\n",
    "                    # procura por short/long\n",
    "                    if (z_resid[0] >= desv_input and z_resid[0] <= desc_input_max):\n",
    "                        self.short(day)\n",
    "                    # procura por long/short\n",
    "                    if (z_resid[0] <= -desv_input and z_resid[0] >= -desc_input_max):\n",
    "                        self.long(day)\n",
    "\n",
    "            if (self.check_trade()):\n",
    "                self.historic.num_days+=1\n",
    "                # check se short/long\n",
    "                if (self.isShort()):\n",
    "                    if (z_resid[0] >= desv_stop):# check stop loss\n",
    "                        self.stop(day)\n",
    "                    if (z_resid[0] <= desv_take):# check take profit\n",
    "                        self.take(day)\n",
    "                # check se long/short\n",
    "                if (self.isLong()):\n",
    "                    if (z_resid[0] <= -desv_stop):#  check stop loss\n",
    "                        self.stop(day)\n",
    "                    if (z_resid[0] >= desv_take):# check take profit\n",
    "                        self.take(day)\n",
    "        \n",
    "        # os dados acabaram, então zera operação aberta se tiver\n",
    "        self.zerar(day)\n",
    "\n",
    "    def valid_entry(self):\n",
    "        #if (self.valid_quant_periods()==False): return False\n",
    "        if (self.valid_adf()==False): return False\n",
    "        if (self.valid_haldlife()==False): return False\n",
    "        return True\n",
    "        \n",
    "    def valid_haldlife(self):\n",
    "        if (self.min_halflife <= 0):\n",
    "            return True\n",
    "        if(self.cointegration['halflife'] > self.min_halflife):\n",
    "            return False\n",
    "        return True\n",
    "    \n",
    "    def valid_adf(self):\n",
    "        # check best adf\n",
    "        if (self.cointegration['adf'] >= self.min_adf):\n",
    "            return True\n",
    "        return False\n",
    "    \n",
    "    def valid_quant_periods(self):\n",
    "        # check num periods\n",
    "        if (self.num_periods <= 0):\n",
    "            return True\n",
    "        periods = mult.check_periods(self.y_values, self.x_values)\n",
    "        if(self.num_periods_cointegrated > len(periods)):\n",
    "            return False\n",
    "        return True\n",
    "    \n",
    "    def check_return_mean_after_stoploss(self):\n",
    "        if (self.stop_executed==False):\n",
    "            return True\n",
    "        \n",
    "        resid = mult.residue(self.y_values, self.x_values, self.period)\n",
    "        z_resid = mult.zscore(resid)\n",
    "        if (abs(z_resid[0]) <= 0.2):\n",
    "            self.stop_executed=False\n",
    "            return True\n",
    "        return False\n",
    "            \n",
    "    def take(self, day):\n",
    "        self.define_historic_output(day, TypeOutput.TakeProfit)\n",
    "        self.startNew()\n",
    "        \n",
    "    def stop(self, day):\n",
    "        self.define_historic_output(day, TypeOutput.StopLoss)\n",
    "        self.stop_executed=True\n",
    "        self.startNew()\n",
    "        \n",
    "    def long(self, day):\n",
    "        lot_y_long = 100\n",
    "        lot_x_short = self.lot_short_cash_neutral(self.y_values[0], self.x_values[0], lot_y_long)\n",
    "        self.define_historic_input(day, lot_y_long, lot_x_short, TypeInput.LongShort)\n",
    "    \n",
    "    def short(self, day):\n",
    "        lot_x_long = 100\n",
    "        lot_y_short = self.lot_short_cash_neutral(self.x_values[0], self.y_values[0], lot_x_long)\n",
    "        self.define_historic_input(day, lot_y_short, lot_x_long, TypeInput.ShortLong)\n",
    "\n",
    "    def disintegrated(self, day):\n",
    "        if (self.check_trade() == False):\n",
    "            return False\n",
    "        self.define_historic_output(day, TypeOutput.Disintegrated)\n",
    "        self.startNew()\n",
    "        return True\n",
    "    \n",
    "    def zerar(self, day):\n",
    "        if (self.check_trade() == False):\n",
    "            return False\n",
    "        self.define_historic_output(day, TypeOutput.Aberto)\n",
    "        self.startNew()\n",
    "        return True\n",
    "\n",
    "    def define_historic_input(self, day, lot_y, lot_x, typeInput):\n",
    "        self.historic.day_input=day\n",
    "        self.historic.price_y_input=self.y_values[0]\n",
    "        self.historic.price_x_input=self.x_values[0]\n",
    "        self.historic.lot_y = lot_y\n",
    "        self.historic.lot_x = lot_x\n",
    "        self.historic.type_input=typeInput\n",
    "\n",
    "    def define_historic_output(self, day, type_outPut):\n",
    "        self.historic.day_output=day\n",
    "        self.historic.price_y_output=self.y_values[0]\n",
    "        self.historic.price_x_output=self.x_values[0]\n",
    "        self.historic.type_output=type_outPut\n",
    "\n",
    "    def startNew(self):\n",
    "        self.list_historic.append(self.historic)\n",
    "        self.historic = Historic()\n",
    "\n",
    "    def isShort(self):\n",
    "        return self.historic.type_input == TypeInput.ShortLong\n",
    "\n",
    "    def isLong(self):\n",
    "        return self.historic.type_input == TypeInput.LongShort\n",
    "    \n",
    "    def check_trade(self):\n",
    "        return self.isShort() or self.isLong()\n",
    "    \n",
    "    def dataframe(self):\n",
    "        rows = []\n",
    "        for his in self.list_historic:\n",
    "            rows.append(his.get())\n",
    "        hist = pd.DataFrame(rows, columns=['Oper', 'Lot. Dep', 'Lot. Ind', 'Ent. Data', 'Ent. Pç Dep', 'Ent. Pç Ind', 'Sai. Data', 'Sai. Pç Dep',\n",
    "                                           'Sai. Pç Ind', 'Sai. tipo', 'Resultado', \"Retorno %\", 'Dias'])\n",
    "        return hist\n",
    "    \n",
    "    def lot_short_cash_neutral(self, price_long, price_short, lot_long):\n",
    "        return roundup((price_long*lot_long)/price_short)\n",
    "\n",
    "    def lot_beta_cash_neutral(self, lot, beta):\n",
    "        return lot * beta\n",
    "\n",
    "    def results(self):\n",
    "        results={}\n",
    "        dfHist = self.dataframe()\n",
    "        results['NumTrades']= len(dfHist)\n",
    "        results['TakeProfit']= dfHist['Resultado'][dfHist['Sai. tipo'] == 'TakeProfit'].sum()\n",
    "        results['StopLoss']= dfHist['Resultado'][dfHist['Sai. tipo'] == 'StopLoss'].sum()\n",
    "        results['OperOpen']= dfHist['Resultado'][dfHist['Sai. tipo'] == 'Aberto'].sum()\n",
    "        results['TakeProfitDisint']= dfHist['Resultado'][(dfHist['Sai. tipo'] == 'Disintegrated')\\\n",
    "                                                         & (dfHist['Resultado'] > 0)].sum()\n",
    "        results['StopLossDisint']= dfHist['Resultado'][(dfHist['Sai. tipo'] == 'Disintegrated')\\\n",
    "                                                       & (dfHist['Resultado'] < 0)].sum()\n",
    "        results['Result']= results['TakeProfit']+results['StopLoss']+results['OperOpen']\\\n",
    "            +results['TakeProfitDisint']+results['StopLossDisint']\n",
    "        return results"
   ]
  },
  {
   "cell_type": "code",
   "execution_count": 4,
   "metadata": {},
   "outputs": [],
   "source": [
    "path_data_cart = 'datasets/data_cart.csv'\n",
    "path_data_yahoo = 'datasets/data_yahoo.csv'\n",
    "path_data = 'datasets/data.csv'"
   ]
  },
  {
   "cell_type": "code",
   "execution_count": 5,
   "metadata": {},
   "outputs": [
    {
     "name": "stdout",
     "output_type": "stream",
     "text": [
      "2019-05-02 to 2020-08-18\n",
      "data: (324, 72)\n",
      "pairs: (2159, 12)\n"
     ]
    }
   ],
   "source": [
    "data = pd.read_csv(path_data_yahoo, index_col=0)\n",
    "data = data[::-1]\n",
    "pairs = pd.read_csv('datasets/cointegrated_pairs_mult.csv')\n",
    "\n",
    "print('{} to {}'.format(data.index[-1], data.index[0]))\n",
    "print('data: {}'.format(data.shape))\n",
    "print('pairs: {}'.format(pairs.shape))"
   ]
  },
  {
   "cell_type": "code",
   "execution_count": 6,
   "metadata": {},
   "outputs": [
    {
     "data": {
      "text/plain": [
       "\"y_symbol = 'CIEL3'\\nx_symbol = 'ITUB4'\""
      ]
     },
     "execution_count": 6,
     "metadata": {},
     "output_type": "execute_result"
    }
   ],
   "source": [
    "# pares para analisar e melhorar o backtest\n",
    "\"\"\"y_symbol = 'CIEL3'\n",
    "x_symbol = 'ITUB4'\"\"\""
   ]
  },
  {
   "cell_type": "code",
   "execution_count": 7,
   "metadata": {},
   "outputs": [],
   "source": [
    "# A Fazer\n",
    "# 1. verificar se tá cointegrado em mais períodos\n",
    "# 2. buscar oper somente dentro de um X dias de half-life\n",
    "# 3. Stopar com X %\n",
    "# 4. Take com X %"
   ]
  },
  {
   "cell_type": "code",
   "execution_count": 9,
   "metadata": {},
   "outputs": [
    {
     "name": "stdout",
     "output_type": "stream",
     "text": [
      "MGLU3: 89.5 / VALE3: 63.06000137329102\n"
     ]
    }
   ],
   "source": [
    "y_symbol = 'MGLU3'\n",
    "x_symbol = 'VALE3'\n",
    "\n",
    "period = 100\n",
    "print('{}: {} / {}: {}'.format(y_symbol, data[y_symbol][0], x_symbol, data[x_symbol][0]))\n",
    "#mult.plot_residue(mult.residue(data[y_symbol], data[x_symbol], period))"
   ]
  },
  {
   "cell_type": "code",
   "execution_count": 10,
   "metadata": {},
   "outputs": [
    {
     "name": "stderr",
     "output_type": "stream",
     "text": [
      "C:\\ProgramData\\Anaconda3\\lib\\site-packages\\numpy\\core\\fromnumeric.py:2389: FutureWarning: Method .ptp is deprecated and will be removed in a future version. Use numpy.ptp instead.\n",
      "  return ptp(axis=axis, out=out, **kwargs)\n"
     ]
    },
    {
     "data": {
      "text/html": [
       "<div>\n",
       "<style scoped>\n",
       "    .dataframe tbody tr th:only-of-type {\n",
       "        vertical-align: middle;\n",
       "    }\n",
       "\n",
       "    .dataframe tbody tr th {\n",
       "        vertical-align: top;\n",
       "    }\n",
       "\n",
       "    .dataframe thead th {\n",
       "        text-align: right;\n",
       "    }\n",
       "</style>\n",
       "<table border=\"1\" class=\"dataframe\">\n",
       "  <thead>\n",
       "    <tr style=\"text-align: right;\">\n",
       "      <th></th>\n",
       "      <th>Oper</th>\n",
       "      <th>Lot. Dep</th>\n",
       "      <th>Lot. Ind</th>\n",
       "      <th>Ent. Data</th>\n",
       "      <th>Ent. Pç Dep</th>\n",
       "      <th>Ent. Pç Ind</th>\n",
       "      <th>Sai. Data</th>\n",
       "      <th>Sai. Pç Dep</th>\n",
       "      <th>Sai. Pç Ind</th>\n",
       "      <th>Sai. tipo</th>\n",
       "      <th>Resultado</th>\n",
       "      <th>Retorno %</th>\n",
       "      <th>Dias</th>\n",
       "    </tr>\n",
       "  </thead>\n",
       "  <tbody>\n",
       "    <tr>\n",
       "      <td>0</td>\n",
       "      <td>ShortLong</td>\n",
       "      <td>100</td>\n",
       "      <td>100</td>\n",
       "      <td>2020-01-14</td>\n",
       "      <td>53.645252</td>\n",
       "      <td>55.639999</td>\n",
       "      <td>2020-01-27</td>\n",
       "      <td>53.446564</td>\n",
       "      <td>50.509998</td>\n",
       "      <td>TakeProfit</td>\n",
       "      <td>-493.131256</td>\n",
       "      <td>-8.862891</td>\n",
       "      <td>10</td>\n",
       "    </tr>\n",
       "    <tr>\n",
       "      <td>1</td>\n",
       "      <td>LongShort</td>\n",
       "      <td>100</td>\n",
       "      <td>100</td>\n",
       "      <td>2020-02-28</td>\n",
       "      <td>50.188114</td>\n",
       "      <td>44.310001</td>\n",
       "      <td>2020-03-05</td>\n",
       "      <td>47.476044</td>\n",
       "      <td>46.849998</td>\n",
       "      <td>StopLoss</td>\n",
       "      <td>-525.206757</td>\n",
       "      <td>-11.062564</td>\n",
       "      <td>5</td>\n",
       "    </tr>\n",
       "    <tr>\n",
       "      <td>2</td>\n",
       "      <td>ShortLong</td>\n",
       "      <td>100</td>\n",
       "      <td>100</td>\n",
       "      <td>2020-07-09</td>\n",
       "      <td>79.217690</td>\n",
       "      <td>56.419998</td>\n",
       "      <td>2020-07-14</td>\n",
       "      <td>80.315163</td>\n",
       "      <td>61.700001</td>\n",
       "      <td>TakeProfit</td>\n",
       "      <td>418.252945</td>\n",
       "      <td>7.413204</td>\n",
       "      <td>4</td>\n",
       "    </tr>\n",
       "    <tr>\n",
       "      <td>3</td>\n",
       "      <td>LongShort</td>\n",
       "      <td>100</td>\n",
       "      <td>100</td>\n",
       "      <td>2020-08-10</td>\n",
       "      <td>81.930000</td>\n",
       "      <td>62.200001</td>\n",
       "      <td>2020-08-18</td>\n",
       "      <td>89.500000</td>\n",
       "      <td>63.060001</td>\n",
       "      <td>TakeProfit</td>\n",
       "      <td>670.999908</td>\n",
       "      <td>7.497206</td>\n",
       "      <td>7</td>\n",
       "    </tr>\n",
       "  </tbody>\n",
       "</table>\n",
       "</div>"
      ],
      "text/plain": [
       "        Oper  Lot. Dep  Lot. Ind   Ent. Data  Ent. Pç Dep  Ent. Pç Ind  \\\n",
       "0  ShortLong       100       100  2020-01-14    53.645252    55.639999   \n",
       "1  LongShort       100       100  2020-02-28    50.188114    44.310001   \n",
       "2  ShortLong       100       100  2020-07-09    79.217690    56.419998   \n",
       "3  LongShort       100       100  2020-08-10    81.930000    62.200001   \n",
       "\n",
       "    Sai. Data  Sai. Pç Dep  Sai. Pç Ind   Sai. tipo   Resultado  Retorno %  \\\n",
       "0  2020-01-27    53.446564    50.509998  TakeProfit -493.131256  -8.862891   \n",
       "1  2020-03-05    47.476044    46.849998    StopLoss -525.206757 -11.062564   \n",
       "2  2020-07-14    80.315163    61.700001  TakeProfit  418.252945   7.413204   \n",
       "3  2020-08-18    89.500000    63.060001  TakeProfit  670.999908   7.497206   \n",
       "\n",
       "   Dias  \n",
       "0    10  \n",
       "1     5  \n",
       "2     4  \n",
       "3     7  "
      ]
     },
     "execution_count": 10,
     "metadata": {},
     "output_type": "execute_result"
    }
   ],
   "source": [
    "coef_fixed = False\n",
    "back = BackTest()\n",
    "back.execute(period=period, desv_input=2, desc_input_max=2.5, desv_stop=3, coef_fixed=coef_fixed)\n",
    "hist = back.dataframe()\n",
    "hist"
   ]
  },
  {
   "cell_type": "code",
   "execution_count": 11,
   "metadata": {},
   "outputs": [
    {
     "data": {
      "text/plain": [
       "{'NumTrades': 4,\n",
       " 'TakeProfit': 596.1215972900372,\n",
       " 'StopLoss': -525.2067565917969,\n",
       " 'OperOpen': 0.0,\n",
       " 'TakeProfitDisint': 0.0,\n",
       " 'StopLossDisint': 0.0,\n",
       " 'Result': 70.91484069824037}"
      ]
     },
     "execution_count": 11,
     "metadata": {},
     "output_type": "execute_result"
    }
   ],
   "source": [
    "back.results()"
   ]
  },
  {
   "cell_type": "code",
   "execution_count": 37,
   "metadata": {},
   "outputs": [
    {
     "name": "stdout",
     "output_type": "stream",
     "text": [
      "---------------------------\n",
      "Período: 100\n",
      "Nº trades: 11\n",
      "Result: 455.82475662231377\n",
      "---------------------------\n",
      "Período: 120\n",
      "Nº trades: 7\n",
      "Result: 744.6464538574216\n",
      "---------------------------\n",
      "Período: 140\n",
      "Nº trades: 7\n",
      "Result: 484.15393829345703\n",
      "---------------------------\n",
      "Período: 160\n",
      "Nº trades: 4\n",
      "Result: 8.260440826415334\n",
      "---------------------------\n",
      "Período: 180\n",
      "Nº trades: 4\n",
      "Result: 343.08691024780137\n",
      "---------------------------\n",
      "Período: 200\n",
      "Nº trades: 3\n",
      "Result: -57.13052749633812\n",
      "---------------------------\n",
      "Período: 220\n",
      "Nº trades: 1\n",
      "Result: -204.00009155273438\n",
      "---------------------------\n",
      "Período: 240\n",
      "Nº trades: 2\n",
      "Result: -83.96596908569359\n",
      "---------------------------\n",
      "Período: 250\n",
      "Nº trades: 2\n",
      "Result: -74.99990463256813\n"
     ]
    }
   ],
   "source": [
    "for per in mult.list_periods():\n",
    "    back = BackTest()\n",
    "    back.execute(period=per)\n",
    "    print('---------------------------')\n",
    "    result = back.results()\n",
    "    print('Período: {}'.format(per))\n",
    "    print('Nº trades: {}'.format(result['NumTrades']))\n",
    "    print('Result: {}'.format(result['Result']))"
   ]
  },
  {
   "cell_type": "markdown",
   "metadata": {},
   "source": [
    "# Visualiza no Gráfico"
   ]
  },
  {
   "cell_type": "code",
   "execution_count": 12,
   "metadata": {},
   "outputs": [
    {
     "name": "stdout",
     "output_type": "stream",
     "text": [
      "Days: 6\n",
      "PONTO DE ENTRADA\n"
     ]
    },
    {
     "data": {
      "image/png": "[encoded data removed]",
      "text/plain": [
       "<Figure size 1224x432 with 1 Axes>"
      ]
     },
     "metadata": {
      "needs_background": "light"
     },
     "output_type": "display_data"
    },
    {
     "name": "stdout",
     "output_type": "stream",
     "text": [
      "PONTO DE SAÍDA\n"
     ]
    },
    {
     "data": {
      "image/png": "[encoded data removed]",
      "text/plain": [
       "<Figure size 1224x432 with 1 Axes>"
      ]
     },
     "metadata": {
      "needs_background": "light"
     },
     "output_type": "display_data"
    }
   ],
   "source": [
    "index=3\n",
    "oper = hist.iloc[index]\n",
    "day_start = oper['Ent. Data']\n",
    "day_end = oper['Sai. Data']\n",
    "\n",
    "test = data[data.index <= day_start]\n",
    "test_stop = data[data.index <= day_end]\n",
    "test_simu = data[(data.index >= day_start) & (data.index <= day_end)]\n",
    "\n",
    "print('Days: {}'.format(abs(len(test)-len(test_stop))))\n",
    "\n",
    "coef = mult.coefficients(test[y_symbol], test[x_symbol], period)\n",
    "if(coef_fixed==False):\n",
    "    coef=None\n",
    "\n",
    "print(\"PONTO DE ENTRADA\")\n",
    "mult.plot_residue(mult.residue(test[y_symbol], test[x_symbol], period, coef))\n",
    "print(\"PONTO DE SAÍDA\")\n",
    "mult.plot_residue(mult.residue(test_stop[y_symbol], test_stop[x_symbol], period, coef))"
   ]
  },
  {
   "cell_type": "code",
   "execution_count": null,
   "metadata": {},
   "outputs": [],
   "source": [
    "test_simu[::-1][[y_symbol, x_symbol]].to_excel('datasets/backtest/backtest.xlsx')\n",
    "#test_simu[[y_symbol, x_symbol]].to_excel('datasets/backtest/backtest.xlsx')"
   ]
  },
  {
   "cell_type": "code",
   "execution_count": 86,
   "metadata": {},
   "outputs": [],
   "source": [
    "#test_simu[::-1][[y_symbol, x_symbol]]"
   ]
  }
 ],
 "metadata": {
  "kernelspec": {
   "display_name": "Python 3",
   "language": "python",
   "name": "python3"
  },
  "language_info": {
   "codemirror_mode": {
    "name": "ipython",
    "version": 3
   },
   "file_extension": ".py",
   "mimetype": "text/x-python",
   "name": "python",
   "nbconvert_exporter": "python",
   "pygments_lexer": "ipython3",
   "version": "3.7.4"
  }
 },
 "nbformat": 4,
 "nbformat_minor": 2
}
