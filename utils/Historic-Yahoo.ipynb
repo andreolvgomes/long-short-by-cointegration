{
 "cells": [
  {
   "cell_type": "markdown",
   "metadata": {},
   "source": [
    "## Download do Histórico"
   ]
  },
  {
   "cell_type": "code",
   "execution_count": 14,
   "metadata": {},
   "outputs": [],
   "source": [
    "#https://aroussi.com/post/python-yahoo-finance\n",
    "import pandas as pd\n",
    "import yfinance as yf\n",
    "import matplotlib.pyplot as plt\n",
    "import pandas_datareader.data as web\n",
    "import numpy as np\n",
    "yf.pdr_override()"
   ]
  },
  {
   "cell_type": "code",
   "execution_count": 15,
   "metadata": {},
   "outputs": [
    {
     "data": {
      "text/plain": [
       "(75, ['ABEV3.SA', 'AZUL4.SA', 'B3SA3.SA', 'BBAS3.SA', 'BBDC3.SA'])"
      ]
     },
     "execution_count": 15,
     "metadata": {},
     "output_type": "execute_result"
    }
   ],
   "source": [
    "tickers = pd.read_csv('../datasets/composicao_indice.csv',names=['Código'])\n",
    "tickers['Código'] = tickers['Código'] + '.SA'\n",
    "tickers = tickers['Código'].tolist()\n",
    "len(tickers), tickers[0:5]"
   ]
  },
  {
   "cell_type": "code",
   "execution_count": 16,
   "metadata": {},
   "outputs": [],
   "source": [
    "#tickers = ['TAEE11.SA', 'CSAN3.SA', 'ENGI11.SA', 'USIM5.SA', 'FLRY3.SA', 'VVAR3.SA']\n",
    "#tickers=['BOVA11.SA']\n",
    "#historic = pd.read_csv('../datasets/data_yahoo.csv')"
   ]
  },
  {
   "cell_type": "code",
   "execution_count": 17,
   "metadata": {},
   "outputs": [
    {
     "name": "stdout",
     "output_type": "stream",
     "text": [
      "[*********************100%***********************]  75 of 75 completed\n"
     ]
    },
    {
     "data": {
      "text/plain": [
       "(312, 75)"
      ]
     },
     "execution_count": 17,
     "metadata": {},
     "output_type": "execute_result"
    }
   ],
   "source": [
    "#start=\"2019-10-01\"\n",
    "#historic = web.get_data_yahoo(tickers, start=\"2019-05-01\")['Close']\n",
    "historic = web.get_data_yahoo(tickers, start=\"2019-05-01\")['Adj Close']\n",
    "historic.shape"
   ]
  },
  {
   "cell_type": "code",
   "execution_count": 18,
   "metadata": {},
   "outputs": [
    {
     "data": {
      "text/plain": [
       "\"historic.columns =['BOVA11']\\nhistoric.index[-1]\""
      ]
     },
     "execution_count": 18,
     "metadata": {},
     "output_type": "execute_result"
    }
   ],
   "source": [
    "\"\"\"historic.columns =['BOVA11']\n",
    "historic.index[-1]\"\"\""
   ]
  },
  {
   "cell_type": "markdown",
   "metadata": {},
   "source": [
    "#### Renomear as colunas removendo o .SA"
   ]
  },
  {
   "cell_type": "code",
   "execution_count": 19,
   "metadata": {},
   "outputs": [],
   "source": [
    "columns=[]\n",
    "for col in historic.columns:\n",
    "    columns.append(col.replace('.SA', ''))\n",
    "historic.columns = columns"
   ]
  },
  {
   "cell_type": "code",
   "execution_count": 20,
   "metadata": {},
   "outputs": [
    {
     "data": {
      "text/html": [
       "<div>\n",
       "<style scoped>\n",
       "    .dataframe tbody tr th:only-of-type {\n",
       "        vertical-align: middle;\n",
       "    }\n",
       "\n",
       "    .dataframe tbody tr th {\n",
       "        vertical-align: top;\n",
       "    }\n",
       "\n",
       "    .dataframe thead th {\n",
       "        text-align: right;\n",
       "    }\n",
       "</style>\n",
       "<table border=\"1\" class=\"dataframe\">\n",
       "  <thead>\n",
       "    <tr style=\"text-align: right;\">\n",
       "      <th></th>\n",
       "      <th>ABEV3</th>\n",
       "      <th>AZUL4</th>\n",
       "      <th>B3SA3</th>\n",
       "      <th>BBAS3</th>\n",
       "      <th>BBDC3</th>\n",
       "      <th>BBDC4</th>\n",
       "      <th>BBSE3</th>\n",
       "      <th>BEEF3</th>\n",
       "      <th>BPAC11</th>\n",
       "      <th>BRAP4</th>\n",
       "      <th>...</th>\n",
       "      <th>TAEE11</th>\n",
       "      <th>TIMP3</th>\n",
       "      <th>TOTS3</th>\n",
       "      <th>UGPA3</th>\n",
       "      <th>USIM5</th>\n",
       "      <th>VALE3</th>\n",
       "      <th>VIVT4</th>\n",
       "      <th>VVAR3</th>\n",
       "      <th>WEGE3</th>\n",
       "      <th>YDUQ3</th>\n",
       "    </tr>\n",
       "    <tr>\n",
       "      <th>Date</th>\n",
       "      <th></th>\n",
       "      <th></th>\n",
       "      <th></th>\n",
       "      <th></th>\n",
       "      <th></th>\n",
       "      <th></th>\n",
       "      <th></th>\n",
       "      <th></th>\n",
       "      <th></th>\n",
       "      <th></th>\n",
       "      <th></th>\n",
       "      <th></th>\n",
       "      <th></th>\n",
       "      <th></th>\n",
       "      <th></th>\n",
       "      <th></th>\n",
       "      <th></th>\n",
       "      <th></th>\n",
       "      <th></th>\n",
       "      <th></th>\n",
       "      <th></th>\n",
       "    </tr>\n",
       "  </thead>\n",
       "  <tbody>\n",
       "    <tr>\n",
       "      <td>2019-05-02</td>\n",
       "      <td>17.490623</td>\n",
       "      <td>34.599998</td>\n",
       "      <td>32.765575</td>\n",
       "      <td>47.285667</td>\n",
       "      <td>29.430634</td>\n",
       "      <td>33.090145</td>\n",
       "      <td>25.347620</td>\n",
       "      <td>8.50550</td>\n",
       "      <td>39.803921</td>\n",
       "      <td>29.671921</td>\n",
       "      <td>...</td>\n",
       "      <td>24.696022</td>\n",
       "      <td>11.181540</td>\n",
       "      <td>43.758385</td>\n",
       "      <td>20.953539</td>\n",
       "      <td>8.361538</td>\n",
       "      <td>47.676651</td>\n",
       "      <td>41.943417</td>\n",
       "      <td>4.140000</td>\n",
       "      <td>18.479214</td>\n",
       "      <td>26.549526</td>\n",
       "    </tr>\n",
       "    <tr>\n",
       "      <td>2019-05-03</td>\n",
       "      <td>17.461390</td>\n",
       "      <td>36.080002</td>\n",
       "      <td>32.929890</td>\n",
       "      <td>47.561085</td>\n",
       "      <td>30.022650</td>\n",
       "      <td>33.440968</td>\n",
       "      <td>24.999784</td>\n",
       "      <td>8.62350</td>\n",
       "      <td>39.511600</td>\n",
       "      <td>30.749474</td>\n",
       "      <td>...</td>\n",
       "      <td>24.462599</td>\n",
       "      <td>11.113773</td>\n",
       "      <td>42.218254</td>\n",
       "      <td>20.699791</td>\n",
       "      <td>8.777142</td>\n",
       "      <td>49.098969</td>\n",
       "      <td>41.952549</td>\n",
       "      <td>4.520000</td>\n",
       "      <td>18.361071</td>\n",
       "      <td>25.950813</td>\n",
       "    </tr>\n",
       "    <tr>\n",
       "      <td>2019-05-06</td>\n",
       "      <td>17.597807</td>\n",
       "      <td>35.000000</td>\n",
       "      <td>32.572273</td>\n",
       "      <td>46.886795</td>\n",
       "      <td>29.048071</td>\n",
       "      <td>32.538929</td>\n",
       "      <td>25.436811</td>\n",
       "      <td>8.72182</td>\n",
       "      <td>39.268005</td>\n",
       "      <td>30.132330</td>\n",
       "      <td>...</td>\n",
       "      <td>24.383621</td>\n",
       "      <td>11.065369</td>\n",
       "      <td>41.830807</td>\n",
       "      <td>20.748590</td>\n",
       "      <td>8.688084</td>\n",
       "      <td>48.378067</td>\n",
       "      <td>41.577965</td>\n",
       "      <td>4.560000</td>\n",
       "      <td>18.075565</td>\n",
       "      <td>25.617104</td>\n",
       "    </tr>\n",
       "    <tr>\n",
       "      <td>2019-05-07</td>\n",
       "      <td>17.198299</td>\n",
       "      <td>35.279999</td>\n",
       "      <td>32.533607</td>\n",
       "      <td>47.000763</td>\n",
       "      <td>26.037483</td>\n",
       "      <td>29.394857</td>\n",
       "      <td>24.598429</td>\n",
       "      <td>8.55466</td>\n",
       "      <td>39.073124</td>\n",
       "      <td>30.347839</td>\n",
       "      <td>...</td>\n",
       "      <td>24.496378</td>\n",
       "      <td>11.104092</td>\n",
       "      <td>40.638409</td>\n",
       "      <td>20.885221</td>\n",
       "      <td>8.371434</td>\n",
       "      <td>48.417038</td>\n",
       "      <td>41.888592</td>\n",
       "      <td>4.720000</td>\n",
       "      <td>17.858973</td>\n",
       "      <td>26.156927</td>\n",
       "    </tr>\n",
       "    <tr>\n",
       "      <td>2019-05-08</td>\n",
       "      <td>17.461390</td>\n",
       "      <td>37.000000</td>\n",
       "      <td>33.200516</td>\n",
       "      <td>48.045422</td>\n",
       "      <td>29.313004</td>\n",
       "      <td>33.003910</td>\n",
       "      <td>24.464645</td>\n",
       "      <td>8.56450</td>\n",
       "      <td>38.829525</td>\n",
       "      <td>29.956003</td>\n",
       "      <td>...</td>\n",
       "      <td>24.797062</td>\n",
       "      <td>10.600680</td>\n",
       "      <td>39.247406</td>\n",
       "      <td>21.207283</td>\n",
       "      <td>8.490177</td>\n",
       "      <td>47.735104</td>\n",
       "      <td>41.797237</td>\n",
       "      <td>4.530000</td>\n",
       "      <td>18.321693</td>\n",
       "      <td>26.804716</td>\n",
       "    </tr>\n",
       "    <tr>\n",
       "      <td>...</td>\n",
       "      <td>...</td>\n",
       "      <td>...</td>\n",
       "      <td>...</td>\n",
       "      <td>...</td>\n",
       "      <td>...</td>\n",
       "      <td>...</td>\n",
       "      <td>...</td>\n",
       "      <td>...</td>\n",
       "      <td>...</td>\n",
       "      <td>...</td>\n",
       "      <td>...</td>\n",
       "      <td>...</td>\n",
       "      <td>...</td>\n",
       "      <td>...</td>\n",
       "      <td>...</td>\n",
       "      <td>...</td>\n",
       "      <td>...</td>\n",
       "      <td>...</td>\n",
       "      <td>...</td>\n",
       "      <td>...</td>\n",
       "      <td>...</td>\n",
       "    </tr>\n",
       "    <tr>\n",
       "      <td>2020-07-24</td>\n",
       "      <td>14.930000</td>\n",
       "      <td>20.540001</td>\n",
       "      <td>65.349998</td>\n",
       "      <td>33.950001</td>\n",
       "      <td>20.719999</td>\n",
       "      <td>22.639999</td>\n",
       "      <td>28.000000</td>\n",
       "      <td>14.00000</td>\n",
       "      <td>86.400002</td>\n",
       "      <td>41.340000</td>\n",
       "      <td>...</td>\n",
       "      <td>28.420000</td>\n",
       "      <td>14.410000</td>\n",
       "      <td>26.360001</td>\n",
       "      <td>19.150000</td>\n",
       "      <td>7.550000</td>\n",
       "      <td>58.599998</td>\n",
       "      <td>49.270000</td>\n",
       "      <td>19.540001</td>\n",
       "      <td>66.583199</td>\n",
       "      <td>33.450001</td>\n",
       "    </tr>\n",
       "    <tr>\n",
       "      <td>2020-07-27</td>\n",
       "      <td>15.280000</td>\n",
       "      <td>20.709999</td>\n",
       "      <td>66.230003</td>\n",
       "      <td>34.910000</td>\n",
       "      <td>21.580000</td>\n",
       "      <td>23.680000</td>\n",
       "      <td>28.490000</td>\n",
       "      <td>14.08000</td>\n",
       "      <td>87.709999</td>\n",
       "      <td>43.639999</td>\n",
       "      <td>...</td>\n",
       "      <td>28.639999</td>\n",
       "      <td>14.570000</td>\n",
       "      <td>26.240000</td>\n",
       "      <td>19.389999</td>\n",
       "      <td>8.090000</td>\n",
       "      <td>61.369999</td>\n",
       "      <td>49.750000</td>\n",
       "      <td>18.910000</td>\n",
       "      <td>69.949997</td>\n",
       "      <td>33.400002</td>\n",
       "    </tr>\n",
       "    <tr>\n",
       "      <td>2020-07-28</td>\n",
       "      <td>15.090000</td>\n",
       "      <td>21.520000</td>\n",
       "      <td>65.230003</td>\n",
       "      <td>35.029999</td>\n",
       "      <td>21.420000</td>\n",
       "      <td>23.520000</td>\n",
       "      <td>28.070000</td>\n",
       "      <td>14.74000</td>\n",
       "      <td>84.750000</td>\n",
       "      <td>42.919998</td>\n",
       "      <td>...</td>\n",
       "      <td>29.070000</td>\n",
       "      <td>14.880000</td>\n",
       "      <td>25.950001</td>\n",
       "      <td>19.500000</td>\n",
       "      <td>7.990000</td>\n",
       "      <td>60.340000</td>\n",
       "      <td>50.970001</td>\n",
       "      <td>20.410000</td>\n",
       "      <td>67.190002</td>\n",
       "      <td>33.380001</td>\n",
       "    </tr>\n",
       "    <tr>\n",
       "      <td>2020-07-29</td>\n",
       "      <td>15.150000</td>\n",
       "      <td>20.959999</td>\n",
       "      <td>64.629997</td>\n",
       "      <td>35.950001</td>\n",
       "      <td>22.059999</td>\n",
       "      <td>24.260000</td>\n",
       "      <td>28.240000</td>\n",
       "      <td>14.09000</td>\n",
       "      <td>87.830002</td>\n",
       "      <td>44.029999</td>\n",
       "      <td>...</td>\n",
       "      <td>28.940001</td>\n",
       "      <td>14.890000</td>\n",
       "      <td>26.090000</td>\n",
       "      <td>19.450001</td>\n",
       "      <td>8.150000</td>\n",
       "      <td>62.950001</td>\n",
       "      <td>50.599998</td>\n",
       "      <td>20.120001</td>\n",
       "      <td>66.980003</td>\n",
       "      <td>33.480000</td>\n",
       "    </tr>\n",
       "    <tr>\n",
       "      <td>2020-07-30</td>\n",
       "      <td>14.550000</td>\n",
       "      <td>21.020000</td>\n",
       "      <td>64.610001</td>\n",
       "      <td>34.799999</td>\n",
       "      <td>21.500000</td>\n",
       "      <td>23.410000</td>\n",
       "      <td>28.070000</td>\n",
       "      <td>13.97000</td>\n",
       "      <td>86.860001</td>\n",
       "      <td>42.860001</td>\n",
       "      <td>...</td>\n",
       "      <td>29.200001</td>\n",
       "      <td>14.800000</td>\n",
       "      <td>26.120001</td>\n",
       "      <td>19.750000</td>\n",
       "      <td>8.210000</td>\n",
       "      <td>61.270000</td>\n",
       "      <td>51.130001</td>\n",
       "      <td>20.200001</td>\n",
       "      <td>68.000000</td>\n",
       "      <td>35.090000</td>\n",
       "    </tr>\n",
       "  </tbody>\n",
       "</table>\n",
       "<p>312 rows × 75 columns</p>\n",
       "</div>"
      ],
      "text/plain": [
       "                ABEV3      AZUL4      B3SA3      BBAS3      BBDC3      BBDC4  \\\n",
       "Date                                                                           \n",
       "2019-05-02  17.490623  34.599998  32.765575  47.285667  29.430634  33.090145   \n",
       "2019-05-03  17.461390  36.080002  32.929890  47.561085  30.022650  33.440968   \n",
       "2019-05-06  17.597807  35.000000  32.572273  46.886795  29.048071  32.538929   \n",
       "2019-05-07  17.198299  35.279999  32.533607  47.000763  26.037483  29.394857   \n",
       "2019-05-08  17.461390  37.000000  33.200516  48.045422  29.313004  33.003910   \n",
       "...               ...        ...        ...        ...        ...        ...   \n",
       "2020-07-24  14.930000  20.540001  65.349998  33.950001  20.719999  22.639999   \n",
       "2020-07-27  15.280000  20.709999  66.230003  34.910000  21.580000  23.680000   \n",
       "2020-07-28  15.090000  21.520000  65.230003  35.029999  21.420000  23.520000   \n",
       "2020-07-29  15.150000  20.959999  64.629997  35.950001  22.059999  24.260000   \n",
       "2020-07-30  14.550000  21.020000  64.610001  34.799999  21.500000  23.410000   \n",
       "\n",
       "                BBSE3     BEEF3     BPAC11      BRAP4  ...     TAEE11  \\\n",
       "Date                                                   ...              \n",
       "2019-05-02  25.347620   8.50550  39.803921  29.671921  ...  24.696022   \n",
       "2019-05-03  24.999784   8.62350  39.511600  30.749474  ...  24.462599   \n",
       "2019-05-06  25.436811   8.72182  39.268005  30.132330  ...  24.383621   \n",
       "2019-05-07  24.598429   8.55466  39.073124  30.347839  ...  24.496378   \n",
       "2019-05-08  24.464645   8.56450  38.829525  29.956003  ...  24.797062   \n",
       "...               ...       ...        ...        ...  ...        ...   \n",
       "2020-07-24  28.000000  14.00000  86.400002  41.340000  ...  28.420000   \n",
       "2020-07-27  28.490000  14.08000  87.709999  43.639999  ...  28.639999   \n",
       "2020-07-28  28.070000  14.74000  84.750000  42.919998  ...  29.070000   \n",
       "2020-07-29  28.240000  14.09000  87.830002  44.029999  ...  28.940001   \n",
       "2020-07-30  28.070000  13.97000  86.860001  42.860001  ...  29.200001   \n",
       "\n",
       "                TIMP3      TOTS3      UGPA3     USIM5      VALE3      VIVT4  \\\n",
       "Date                                                                          \n",
       "2019-05-02  11.181540  43.758385  20.953539  8.361538  47.676651  41.943417   \n",
       "2019-05-03  11.113773  42.218254  20.699791  8.777142  49.098969  41.952549   \n",
       "2019-05-06  11.065369  41.830807  20.748590  8.688084  48.378067  41.577965   \n",
       "2019-05-07  11.104092  40.638409  20.885221  8.371434  48.417038  41.888592   \n",
       "2019-05-08  10.600680  39.247406  21.207283  8.490177  47.735104  41.797237   \n",
       "...               ...        ...        ...       ...        ...        ...   \n",
       "2020-07-24  14.410000  26.360001  19.150000  7.550000  58.599998  49.270000   \n",
       "2020-07-27  14.570000  26.240000  19.389999  8.090000  61.369999  49.750000   \n",
       "2020-07-28  14.880000  25.950001  19.500000  7.990000  60.340000  50.970001   \n",
       "2020-07-29  14.890000  26.090000  19.450001  8.150000  62.950001  50.599998   \n",
       "2020-07-30  14.800000  26.120001  19.750000  8.210000  61.270000  51.130001   \n",
       "\n",
       "                VVAR3      WEGE3      YDUQ3  \n",
       "Date                                         \n",
       "2019-05-02   4.140000  18.479214  26.549526  \n",
       "2019-05-03   4.520000  18.361071  25.950813  \n",
       "2019-05-06   4.560000  18.075565  25.617104  \n",
       "2019-05-07   4.720000  17.858973  26.156927  \n",
       "2019-05-08   4.530000  18.321693  26.804716  \n",
       "...               ...        ...        ...  \n",
       "2020-07-24  19.540001  66.583199  33.450001  \n",
       "2020-07-27  18.910000  69.949997  33.400002  \n",
       "2020-07-28  20.410000  67.190002  33.380001  \n",
       "2020-07-29  20.120001  66.980003  33.480000  \n",
       "2020-07-30  20.200001  68.000000  35.090000  \n",
       "\n",
       "[312 rows x 75 columns]"
      ]
     },
     "execution_count": 20,
     "metadata": {},
     "output_type": "execute_result"
    }
   ],
   "source": [
    "historic"
   ]
  },
  {
   "cell_type": "markdown",
   "metadata": {},
   "source": [
    "Tratar os dados faltantes, vou add um valor médio para todos os faltantes.. é o jeito"
   ]
  },
  {
   "cell_type": "code",
   "execution_count": 21,
   "metadata": {},
   "outputs": [
    {
     "data": {
      "text/plain": [
       "399"
      ]
     },
     "execution_count": 21,
     "metadata": {},
     "output_type": "execute_result"
    }
   ],
   "source": [
    "historic.isnull().values.sum()"
   ]
  },
  {
   "cell_type": "code",
   "execution_count": 22,
   "metadata": {},
   "outputs": [
    {
     "data": {
      "text/plain": [
       "[['NTCO3', 161], ['PCAR3', 161], ['YDUQ3', 5]]"
      ]
     },
     "execution_count": 22,
     "metadata": {},
     "output_type": "execute_result"
    }
   ],
   "source": [
    "rows=[]\n",
    "indexs = np.arange(0, len(historic))\n",
    "for col in historic.columns:\n",
    "    count = historic[col].isnull().sum()\n",
    "    if (count > 1):\n",
    "        rows.append([col, count])\n",
    "rows"
   ]
  },
  {
   "cell_type": "code",
   "execution_count": 23,
   "metadata": {},
   "outputs": [],
   "source": [
    "for ro in rows:\n",
    "    del historic[ro[0]]"
   ]
  },
  {
   "cell_type": "code",
   "execution_count": 24,
   "metadata": {},
   "outputs": [
    {
     "name": "stdout",
     "output_type": "stream",
     "text": [
      "Tinha 312, removido 1 ln, restou 311\n"
     ]
    }
   ],
   "source": [
    "having = historic.shape[0]\n",
    "historic.dropna(inplace=True)\n",
    "has = historic.shape[0]\n",
    "print('Tinha {}, removido {} ln, restou {}'.format(having, having-has, has))"
   ]
  },
  {
   "cell_type": "code",
   "execution_count": 12,
   "metadata": {},
   "outputs": [
    {
     "data": {
      "text/plain": [
       "0"
      ]
     },
     "execution_count": 12,
     "metadata": {},
     "output_type": "execute_result"
    }
   ],
   "source": [
    "historic.isnull().sum().sum()"
   ]
  },
  {
   "cell_type": "code",
   "execution_count": 25,
   "metadata": {},
   "outputs": [
    {
     "name": "stdout",
     "output_type": "stream",
     "text": [
      "Dataset salvo com sucesso!!!\n"
     ]
    }
   ],
   "source": [
    "historic.to_csv('../datasets/data_yahoo.csv')\n",
    "print(\"Dataset salvo com sucesso!!!\")"
   ]
  },
  {
   "cell_type": "code",
   "execution_count": null,
   "metadata": {},
   "outputs": [],
   "source": []
  }
 ],
 "metadata": {
  "kernelspec": {
   "display_name": "Python 3",
   "language": "python",
   "name": "python3"
  },
  "language_info": {
   "codemirror_mode": {
    "name": "ipython",
    "version": 3
   },
   "file_extension": ".py",
   "mimetype": "text/x-python",
   "name": "python",
   "nbconvert_exporter": "python",
   "pygments_lexer": "ipython3",
   "version": "3.7.4"
  }
 },
 "nbformat": 4,
 "nbformat_minor": 2
}
