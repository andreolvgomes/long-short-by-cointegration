{
 "cells": [
  {
   "cell_type": "markdown",
   "metadata": {},
   "source": [
    "## Download do Histórico"
   ]
  },
  {
   "cell_type": "code",
   "execution_count": 1,
   "metadata": {},
   "outputs": [],
   "source": [
    "#https://aroussi.com/post/python-yahoo-finance\n",
    "import pandas as pd\n",
    "import yfinance as yf\n",
    "import matplotlib.pyplot as plt\n",
    "import pandas_datareader.data as web\n",
    "import numpy as np\n",
    "yf.pdr_override()"
   ]
  },
  {
   "cell_type": "code",
   "execution_count": 2,
   "metadata": {},
   "outputs": [
    {
     "data": {
      "text/plain": [
       "(75, ['ABEV3.SA', 'AZUL4.SA', 'B3SA3.SA', 'BBAS3.SA', 'BBDC3.SA'])"
      ]
     },
     "execution_count": 2,
     "metadata": {},
     "output_type": "execute_result"
    }
   ],
   "source": [
    "tickers = pd.read_csv('../datasets/composicao_indice.csv',names=['Código'])\n",
    "tickers['Código'] = tickers['Código'] + '.SA'\n",
    "tickers = tickers['Código'].tolist()\n",
    "len(tickers), tickers[0:5]"
   ]
  },
  {
   "cell_type": "code",
   "execution_count": 3,
   "metadata": {},
   "outputs": [],
   "source": [
    "#tickers = ['TAEE11.SA', 'CSAN3.SA', 'ENGI11.SA', 'USIM5.SA', 'FLRY3.SA', 'VVAR3.SA']\n",
    "#tickers=['BOVA11.SA']\n",
    "#historic = pd.read_csv('../datasets/data_yahoo.csv')"
   ]
  },
  {
   "cell_type": "code",
   "execution_count": 4,
   "metadata": {},
   "outputs": [
    {
     "name": "stdout",
     "output_type": "stream",
     "text": [
      "[*********************100%***********************]  75 of 75 completed\n"
     ]
    },
    {
     "data": {
      "text/plain": [
       "(303, 75)"
      ]
     },
     "execution_count": 4,
     "metadata": {},
     "output_type": "execute_result"
    }
   ],
   "source": [
    "#start=\"2019-10-01\"\n",
    "historic = web.get_data_yahoo(tickers, start=\"2019-05-01\")['Close']\n",
    "#historic = web.get_data_yahoo(tickers, period='1y')['Adj Close']\n",
    "historic.shape"
   ]
  },
  {
   "cell_type": "code",
   "execution_count": 5,
   "metadata": {},
   "outputs": [
    {
     "data": {
      "text/plain": [
       "\"historic.columns =['BOVA11']\\nhistoric.index[-1]\""
      ]
     },
     "execution_count": 5,
     "metadata": {},
     "output_type": "execute_result"
    }
   ],
   "source": [
    "\"\"\"historic.columns =['BOVA11']\n",
    "historic.index[-1]\"\"\""
   ]
  },
  {
   "cell_type": "markdown",
   "metadata": {},
   "source": [
    "#### Renomear as colunas removendo o .SA"
   ]
  },
  {
   "cell_type": "code",
   "execution_count": 6,
   "metadata": {},
   "outputs": [],
   "source": [
    "columns=[]\n",
    "for col in historic.columns:\n",
    "    columns.append(col.replace('.SA', ''))\n",
    "historic.columns = columns"
   ]
  },
  {
   "cell_type": "code",
   "execution_count": 7,
   "metadata": {},
   "outputs": [
    {
     "data": {
      "text/html": [
       "<div>\n",
       "<style scoped>\n",
       "    .dataframe tbody tr th:only-of-type {\n",
       "        vertical-align: middle;\n",
       "    }\n",
       "\n",
       "    .dataframe tbody tr th {\n",
       "        vertical-align: top;\n",
       "    }\n",
       "\n",
       "    .dataframe thead th {\n",
       "        text-align: right;\n",
       "    }\n",
       "</style>\n",
       "<table border=\"1\" class=\"dataframe\">\n",
       "  <thead>\n",
       "    <tr style=\"text-align: right;\">\n",
       "      <th></th>\n",
       "      <th>ABEV3</th>\n",
       "      <th>AZUL4</th>\n",
       "      <th>B3SA3</th>\n",
       "      <th>BBAS3</th>\n",
       "      <th>BBDC3</th>\n",
       "      <th>BBDC4</th>\n",
       "      <th>BBSE3</th>\n",
       "      <th>BEEF3</th>\n",
       "      <th>BPAC11</th>\n",
       "      <th>BRAP4</th>\n",
       "      <th>...</th>\n",
       "      <th>TAEE11</th>\n",
       "      <th>TIMP3</th>\n",
       "      <th>TOTS3</th>\n",
       "      <th>UGPA3</th>\n",
       "      <th>USIM5</th>\n",
       "      <th>VALE3</th>\n",
       "      <th>VIVT4</th>\n",
       "      <th>VVAR3</th>\n",
       "      <th>WEGE3</th>\n",
       "      <th>YDUQ3</th>\n",
       "    </tr>\n",
       "    <tr>\n",
       "      <th>Date</th>\n",
       "      <th></th>\n",
       "      <th></th>\n",
       "      <th></th>\n",
       "      <th></th>\n",
       "      <th></th>\n",
       "      <th></th>\n",
       "      <th></th>\n",
       "      <th></th>\n",
       "      <th></th>\n",
       "      <th></th>\n",
       "      <th></th>\n",
       "      <th></th>\n",
       "      <th></th>\n",
       "      <th></th>\n",
       "      <th></th>\n",
       "      <th></th>\n",
       "      <th></th>\n",
       "      <th></th>\n",
       "      <th></th>\n",
       "      <th></th>\n",
       "      <th></th>\n",
       "    </tr>\n",
       "  </thead>\n",
       "  <tbody>\n",
       "    <tr>\n",
       "      <td>2019-05-02</td>\n",
       "      <td>17.950001</td>\n",
       "      <td>34.599998</td>\n",
       "      <td>33.900002</td>\n",
       "      <td>49.790001</td>\n",
       "      <td>31.120001</td>\n",
       "      <td>35.599998</td>\n",
       "      <td>28.420000</td>\n",
       "      <td>8.50550</td>\n",
       "      <td>40.849998</td>\n",
       "      <td>30.290001</td>\n",
       "      <td>...</td>\n",
       "      <td>26.450001</td>\n",
       "      <td>11.55</td>\n",
       "      <td>43.956501</td>\n",
       "      <td>21.469999</td>\n",
       "      <td>8.45</td>\n",
       "      <td>48.939999</td>\n",
       "      <td>45.910000</td>\n",
       "      <td>4.140000</td>\n",
       "      <td>18.770000</td>\n",
       "      <td>27.049999</td>\n",
       "    </tr>\n",
       "    <tr>\n",
       "      <td>2019-05-03</td>\n",
       "      <td>17.920000</td>\n",
       "      <td>36.080002</td>\n",
       "      <td>34.070000</td>\n",
       "      <td>50.080002</td>\n",
       "      <td>31.730000</td>\n",
       "      <td>35.959999</td>\n",
       "      <td>28.030001</td>\n",
       "      <td>8.62350</td>\n",
       "      <td>40.549999</td>\n",
       "      <td>31.389999</td>\n",
       "      <td>...</td>\n",
       "      <td>26.200001</td>\n",
       "      <td>11.48</td>\n",
       "      <td>42.409401</td>\n",
       "      <td>21.209999</td>\n",
       "      <td>8.87</td>\n",
       "      <td>50.400002</td>\n",
       "      <td>45.919998</td>\n",
       "      <td>4.520000</td>\n",
       "      <td>18.650000</td>\n",
       "      <td>26.440001</td>\n",
       "    </tr>\n",
       "    <tr>\n",
       "      <td>2019-05-06</td>\n",
       "      <td>18.059999</td>\n",
       "      <td>35.000000</td>\n",
       "      <td>33.700001</td>\n",
       "      <td>49.369999</td>\n",
       "      <td>30.700001</td>\n",
       "      <td>34.990002</td>\n",
       "      <td>28.520000</td>\n",
       "      <td>8.72182</td>\n",
       "      <td>40.299999</td>\n",
       "      <td>30.760000</td>\n",
       "      <td>...</td>\n",
       "      <td>25.950001</td>\n",
       "      <td>11.43</td>\n",
       "      <td>42.020199</td>\n",
       "      <td>21.260000</td>\n",
       "      <td>8.78</td>\n",
       "      <td>49.660000</td>\n",
       "      <td>45.509998</td>\n",
       "      <td>4.560000</td>\n",
       "      <td>18.360001</td>\n",
       "      <td>26.100000</td>\n",
       "    </tr>\n",
       "    <tr>\n",
       "      <td>2019-05-07</td>\n",
       "      <td>17.650000</td>\n",
       "      <td>35.279999</td>\n",
       "      <td>33.660000</td>\n",
       "      <td>49.490002</td>\n",
       "      <td>27.518200</td>\n",
       "      <td>31.609100</td>\n",
       "      <td>27.580000</td>\n",
       "      <td>8.55466</td>\n",
       "      <td>40.099998</td>\n",
       "      <td>30.980000</td>\n",
       "      <td>...</td>\n",
       "      <td>26.070000</td>\n",
       "      <td>11.47</td>\n",
       "      <td>40.822399</td>\n",
       "      <td>21.400000</td>\n",
       "      <td>8.46</td>\n",
       "      <td>49.700001</td>\n",
       "      <td>45.849998</td>\n",
       "      <td>4.720000</td>\n",
       "      <td>18.139999</td>\n",
       "      <td>26.650000</td>\n",
       "    </tr>\n",
       "    <tr>\n",
       "      <td>2019-05-08</td>\n",
       "      <td>17.920000</td>\n",
       "      <td>37.000000</td>\n",
       "      <td>34.349998</td>\n",
       "      <td>50.590000</td>\n",
       "      <td>30.980000</td>\n",
       "      <td>35.490002</td>\n",
       "      <td>27.430000</td>\n",
       "      <td>8.56450</td>\n",
       "      <td>39.849998</td>\n",
       "      <td>30.580000</td>\n",
       "      <td>...</td>\n",
       "      <td>26.389999</td>\n",
       "      <td>10.95</td>\n",
       "      <td>39.425098</td>\n",
       "      <td>21.730000</td>\n",
       "      <td>8.58</td>\n",
       "      <td>49.000000</td>\n",
       "      <td>45.750000</td>\n",
       "      <td>4.530000</td>\n",
       "      <td>18.610001</td>\n",
       "      <td>27.309999</td>\n",
       "    </tr>\n",
       "    <tr>\n",
       "      <td>...</td>\n",
       "      <td>...</td>\n",
       "      <td>...</td>\n",
       "      <td>...</td>\n",
       "      <td>...</td>\n",
       "      <td>...</td>\n",
       "      <td>...</td>\n",
       "      <td>...</td>\n",
       "      <td>...</td>\n",
       "      <td>...</td>\n",
       "      <td>...</td>\n",
       "      <td>...</td>\n",
       "      <td>...</td>\n",
       "      <td>...</td>\n",
       "      <td>...</td>\n",
       "      <td>...</td>\n",
       "      <td>...</td>\n",
       "      <td>...</td>\n",
       "      <td>...</td>\n",
       "      <td>...</td>\n",
       "      <td>...</td>\n",
       "      <td>...</td>\n",
       "    </tr>\n",
       "    <tr>\n",
       "      <td>2020-07-13</td>\n",
       "      <td>14.000000</td>\n",
       "      <td>21.160000</td>\n",
       "      <td>59.889999</td>\n",
       "      <td>33.799999</td>\n",
       "      <td>20.040001</td>\n",
       "      <td>21.959999</td>\n",
       "      <td>27.379999</td>\n",
       "      <td>13.06000</td>\n",
       "      <td>84.959999</td>\n",
       "      <td>38.150002</td>\n",
       "      <td>...</td>\n",
       "      <td>28.450001</td>\n",
       "      <td>14.79</td>\n",
       "      <td>24.670000</td>\n",
       "      <td>17.700001</td>\n",
       "      <td>7.39</td>\n",
       "      <td>57.650002</td>\n",
       "      <td>48.020000</td>\n",
       "      <td>17.650000</td>\n",
       "      <td>54.939999</td>\n",
       "      <td>33.980000</td>\n",
       "    </tr>\n",
       "    <tr>\n",
       "      <td>2020-07-14</td>\n",
       "      <td>13.910000</td>\n",
       "      <td>21.750000</td>\n",
       "      <td>61.139999</td>\n",
       "      <td>34.349998</td>\n",
       "      <td>20.320000</td>\n",
       "      <td>22.330000</td>\n",
       "      <td>27.309999</td>\n",
       "      <td>13.54000</td>\n",
       "      <td>83.400002</td>\n",
       "      <td>40.720001</td>\n",
       "      <td>...</td>\n",
       "      <td>28.370001</td>\n",
       "      <td>14.82</td>\n",
       "      <td>24.680000</td>\n",
       "      <td>18.840000</td>\n",
       "      <td>7.52</td>\n",
       "      <td>61.700001</td>\n",
       "      <td>47.990002</td>\n",
       "      <td>17.750000</td>\n",
       "      <td>53.990002</td>\n",
       "      <td>34.500000</td>\n",
       "    </tr>\n",
       "    <tr>\n",
       "      <td>2020-07-15</td>\n",
       "      <td>14.290000</td>\n",
       "      <td>22.730000</td>\n",
       "      <td>61.889999</td>\n",
       "      <td>34.689999</td>\n",
       "      <td>20.740000</td>\n",
       "      <td>22.700001</td>\n",
       "      <td>27.559999</td>\n",
       "      <td>14.22000</td>\n",
       "      <td>83.980003</td>\n",
       "      <td>40.720001</td>\n",
       "      <td>...</td>\n",
       "      <td>28.330000</td>\n",
       "      <td>15.16</td>\n",
       "      <td>25.000000</td>\n",
       "      <td>19.280001</td>\n",
       "      <td>7.51</td>\n",
       "      <td>61.790001</td>\n",
       "      <td>48.419998</td>\n",
       "      <td>18.450001</td>\n",
       "      <td>54.349998</td>\n",
       "      <td>34.000000</td>\n",
       "    </tr>\n",
       "    <tr>\n",
       "      <td>2020-07-16</td>\n",
       "      <td>14.050000</td>\n",
       "      <td>22.049999</td>\n",
       "      <td>61.500000</td>\n",
       "      <td>34.400002</td>\n",
       "      <td>20.400000</td>\n",
       "      <td>22.299999</td>\n",
       "      <td>27.400000</td>\n",
       "      <td>13.65000</td>\n",
       "      <td>86.029999</td>\n",
       "      <td>39.980000</td>\n",
       "      <td>...</td>\n",
       "      <td>28.120001</td>\n",
       "      <td>15.55</td>\n",
       "      <td>25.139999</td>\n",
       "      <td>19.340000</td>\n",
       "      <td>7.39</td>\n",
       "      <td>60.119999</td>\n",
       "      <td>49.750000</td>\n",
       "      <td>19.000000</td>\n",
       "      <td>54.549999</td>\n",
       "      <td>34.000000</td>\n",
       "    </tr>\n",
       "    <tr>\n",
       "      <td>2020-07-17</td>\n",
       "      <td>14.160000</td>\n",
       "      <td>21.799999</td>\n",
       "      <td>63.889999</td>\n",
       "      <td>35.459999</td>\n",
       "      <td>20.790001</td>\n",
       "      <td>22.410000</td>\n",
       "      <td>27.549999</td>\n",
       "      <td>14.22000</td>\n",
       "      <td>89.029999</td>\n",
       "      <td>40.790001</td>\n",
       "      <td>...</td>\n",
       "      <td>28.190001</td>\n",
       "      <td>15.83</td>\n",
       "      <td>25.709999</td>\n",
       "      <td>19.500000</td>\n",
       "      <td>7.49</td>\n",
       "      <td>61.040001</td>\n",
       "      <td>50.389999</td>\n",
       "      <td>19.719999</td>\n",
       "      <td>58.090000</td>\n",
       "      <td>34.299999</td>\n",
       "    </tr>\n",
       "  </tbody>\n",
       "</table>\n",
       "<p>303 rows × 75 columns</p>\n",
       "</div>"
      ],
      "text/plain": [
       "                ABEV3      AZUL4      B3SA3      BBAS3      BBDC3      BBDC4  \\\n",
       "Date                                                                           \n",
       "2019-05-02  17.950001  34.599998  33.900002  49.790001  31.120001  35.599998   \n",
       "2019-05-03  17.920000  36.080002  34.070000  50.080002  31.730000  35.959999   \n",
       "2019-05-06  18.059999  35.000000  33.700001  49.369999  30.700001  34.990002   \n",
       "2019-05-07  17.650000  35.279999  33.660000  49.490002  27.518200  31.609100   \n",
       "2019-05-08  17.920000  37.000000  34.349998  50.590000  30.980000  35.490002   \n",
       "...               ...        ...        ...        ...        ...        ...   \n",
       "2020-07-13  14.000000  21.160000  59.889999  33.799999  20.040001  21.959999   \n",
       "2020-07-14  13.910000  21.750000  61.139999  34.349998  20.320000  22.330000   \n",
       "2020-07-15  14.290000  22.730000  61.889999  34.689999  20.740000  22.700001   \n",
       "2020-07-16  14.050000  22.049999  61.500000  34.400002  20.400000  22.299999   \n",
       "2020-07-17  14.160000  21.799999  63.889999  35.459999  20.790001  22.410000   \n",
       "\n",
       "                BBSE3     BEEF3     BPAC11      BRAP4  ...     TAEE11  TIMP3  \\\n",
       "Date                                                   ...                     \n",
       "2019-05-02  28.420000   8.50550  40.849998  30.290001  ...  26.450001  11.55   \n",
       "2019-05-03  28.030001   8.62350  40.549999  31.389999  ...  26.200001  11.48   \n",
       "2019-05-06  28.520000   8.72182  40.299999  30.760000  ...  25.950001  11.43   \n",
       "2019-05-07  27.580000   8.55466  40.099998  30.980000  ...  26.070000  11.47   \n",
       "2019-05-08  27.430000   8.56450  39.849998  30.580000  ...  26.389999  10.95   \n",
       "...               ...       ...        ...        ...  ...        ...    ...   \n",
       "2020-07-13  27.379999  13.06000  84.959999  38.150002  ...  28.450001  14.79   \n",
       "2020-07-14  27.309999  13.54000  83.400002  40.720001  ...  28.370001  14.82   \n",
       "2020-07-15  27.559999  14.22000  83.980003  40.720001  ...  28.330000  15.16   \n",
       "2020-07-16  27.400000  13.65000  86.029999  39.980000  ...  28.120001  15.55   \n",
       "2020-07-17  27.549999  14.22000  89.029999  40.790001  ...  28.190001  15.83   \n",
       "\n",
       "                TOTS3      UGPA3  USIM5      VALE3      VIVT4      VVAR3  \\\n",
       "Date                                                                       \n",
       "2019-05-02  43.956501  21.469999   8.45  48.939999  45.910000   4.140000   \n",
       "2019-05-03  42.409401  21.209999   8.87  50.400002  45.919998   4.520000   \n",
       "2019-05-06  42.020199  21.260000   8.78  49.660000  45.509998   4.560000   \n",
       "2019-05-07  40.822399  21.400000   8.46  49.700001  45.849998   4.720000   \n",
       "2019-05-08  39.425098  21.730000   8.58  49.000000  45.750000   4.530000   \n",
       "...               ...        ...    ...        ...        ...        ...   \n",
       "2020-07-13  24.670000  17.700001   7.39  57.650002  48.020000  17.650000   \n",
       "2020-07-14  24.680000  18.840000   7.52  61.700001  47.990002  17.750000   \n",
       "2020-07-15  25.000000  19.280001   7.51  61.790001  48.419998  18.450001   \n",
       "2020-07-16  25.139999  19.340000   7.39  60.119999  49.750000  19.000000   \n",
       "2020-07-17  25.709999  19.500000   7.49  61.040001  50.389999  19.719999   \n",
       "\n",
       "                WEGE3      YDUQ3  \n",
       "Date                              \n",
       "2019-05-02  18.770000  27.049999  \n",
       "2019-05-03  18.650000  26.440001  \n",
       "2019-05-06  18.360001  26.100000  \n",
       "2019-05-07  18.139999  26.650000  \n",
       "2019-05-08  18.610001  27.309999  \n",
       "...               ...        ...  \n",
       "2020-07-13  54.939999  33.980000  \n",
       "2020-07-14  53.990002  34.500000  \n",
       "2020-07-15  54.349998  34.000000  \n",
       "2020-07-16  54.549999  34.000000  \n",
       "2020-07-17  58.090000  34.299999  \n",
       "\n",
       "[303 rows x 75 columns]"
      ]
     },
     "execution_count": 7,
     "metadata": {},
     "output_type": "execute_result"
    }
   ],
   "source": [
    "historic"
   ]
  },
  {
   "cell_type": "markdown",
   "metadata": {},
   "source": [
    "Tratar os dados faltantes, vou add um valor médio para todos os faltantes.. é o jeito"
   ]
  },
  {
   "cell_type": "code",
   "execution_count": 8,
   "metadata": {},
   "outputs": [
    {
     "data": {
      "text/plain": [
       "235"
      ]
     },
     "execution_count": 8,
     "metadata": {},
     "output_type": "execute_result"
    }
   ],
   "source": [
    "historic.isnull().values.sum()"
   ]
  },
  {
   "cell_type": "code",
   "execution_count": 9,
   "metadata": {},
   "outputs": [
    {
     "data": {
      "text/plain": [
       "[['ABEV3', 1],\n",
       " ['AZUL4', 1],\n",
       " ['B3SA3', 1],\n",
       " ['BBAS3', 1],\n",
       " ['BBDC3', 1],\n",
       " ['BBDC4', 1],\n",
       " ['BBSE3', 1],\n",
       " ['BEEF3', 1],\n",
       " ['BPAC11', 1],\n",
       " ['BRAP4', 1],\n",
       " ['BRDT3', 1],\n",
       " ['BRFS3', 1],\n",
       " ['BRKM5', 1],\n",
       " ['BRML3', 1],\n",
       " ['BTOW3', 1],\n",
       " ['CCRO3', 1],\n",
       " ['CIEL3', 1],\n",
       " ['CMIG4', 1],\n",
       " ['COGN3', 1],\n",
       " ['CPFE3', 1],\n",
       " ['CRFB3', 1],\n",
       " ['CSAN3', 1],\n",
       " ['CSNA3', 1],\n",
       " ['CVCB3', 1],\n",
       " ['CYRE3', 1],\n",
       " ['ECOR3', 1],\n",
       " ['EGIE3', 1],\n",
       " ['ELET3', 1],\n",
       " ['ELET6', 1],\n",
       " ['EMBR3', 1],\n",
       " ['ENBR3', 1],\n",
       " ['ENGI11', 1],\n",
       " ['EQTL3', 1],\n",
       " ['FLRY3', 1],\n",
       " ['GGBR4', 1],\n",
       " ['GNDI3', 1],\n",
       " ['GOAU4', 1],\n",
       " ['GOLL4', 1],\n",
       " ['HAPV3', 1],\n",
       " ['HGTX3', 1],\n",
       " ['HYPE3', 1],\n",
       " ['IGTA3', 1],\n",
       " ['IRBR3', 1],\n",
       " ['ITSA4', 1],\n",
       " ['ITUB4', 1],\n",
       " ['JBSS3', 1],\n",
       " ['KLBN11', 1],\n",
       " ['LAME4', 1],\n",
       " ['LREN3', 1],\n",
       " ['MGLU3', 1],\n",
       " ['MRFG3', 1],\n",
       " ['MRVE3', 1],\n",
       " ['MULT3', 1],\n",
       " ['NTCO3', 161],\n",
       " ['PCAR3', 1],\n",
       " ['PETR3', 1],\n",
       " ['PETR4', 1],\n",
       " ['QUAL3', 1],\n",
       " ['RADL3', 1],\n",
       " ['RAIL3', 1],\n",
       " ['RENT3', 1],\n",
       " ['SANB11', 1],\n",
       " ['SBSP3', 1],\n",
       " ['SULA11', 1],\n",
       " ['SUZB3', 1],\n",
       " ['TAEE11', 1],\n",
       " ['TIMP3', 1],\n",
       " ['TOTS3', 1],\n",
       " ['UGPA3', 1],\n",
       " ['USIM5', 1],\n",
       " ['VALE3', 1],\n",
       " ['VIVT4', 1],\n",
       " ['VVAR3', 1],\n",
       " ['WEGE3', 1],\n",
       " ['YDUQ3', 1]]"
      ]
     },
     "execution_count": 9,
     "metadata": {},
     "output_type": "execute_result"
    }
   ],
   "source": [
    "rows=[]\n",
    "indexs = np.arange(0, len(historic))\n",
    "for col in historic.columns:\n",
    "    count = historic[col].isnull().sum()\n",
    "    if (count > 0):\n",
    "        rows.append([col, count])\n",
    "rows"
   ]
  },
  {
   "cell_type": "code",
   "execution_count": 10,
   "metadata": {},
   "outputs": [],
   "source": [
    "del historic['NTCO3']"
   ]
  },
  {
   "cell_type": "code",
   "execution_count": 11,
   "metadata": {},
   "outputs": [
    {
     "name": "stdout",
     "output_type": "stream",
     "text": [
      "Tinha 303, removido 1 ln, restou 302\n"
     ]
    }
   ],
   "source": [
    "having = historic.shape[0]\n",
    "historic.dropna(inplace=True)\n",
    "has = historic.shape[0]\n",
    "print('Tinha {}, removido {} ln, restou {}'.format(having, having-has, has))"
   ]
  },
  {
   "cell_type": "code",
   "execution_count": 12,
   "metadata": {},
   "outputs": [
    {
     "data": {
      "text/plain": [
       "0"
      ]
     },
     "execution_count": 12,
     "metadata": {},
     "output_type": "execute_result"
    }
   ],
   "source": [
    "historic.isnull().sum().sum()"
   ]
  },
  {
   "cell_type": "code",
   "execution_count": 13,
   "metadata": {},
   "outputs": [
    {
     "name": "stdout",
     "output_type": "stream",
     "text": [
      "Dataset salvo com sucesso!!!\n"
     ]
    }
   ],
   "source": [
    "historic.to_csv('../datasets/data_yahoo.csv')\n",
    "print(\"Dataset salvo com sucesso!!!\")"
   ]
  },
  {
   "cell_type": "code",
   "execution_count": null,
   "metadata": {},
   "outputs": [],
   "source": []
  }
 ],
 "metadata": {
  "kernelspec": {
   "display_name": "Python 3",
   "language": "python",
   "name": "python3"
  },
  "language_info": {
   "codemirror_mode": {
    "name": "ipython",
    "version": 3
   },
   "file_extension": ".py",
   "mimetype": "text/x-python",
   "name": "python",
   "nbconvert_exporter": "python",
   "pygments_lexer": "ipython3",
   "version": "3.7.4"
  }
 },
 "nbformat": 4,
 "nbformat_minor": 2
}
