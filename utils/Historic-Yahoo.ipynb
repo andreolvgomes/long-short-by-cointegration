{
 "cells": [
  {
   "cell_type": "markdown",
   "metadata": {},
   "source": [
    "## Download do Histórico"
   ]
  },
  {
   "cell_type": "code",
   "execution_count": 1,
   "metadata": {},
   "outputs": [],
   "source": [
    "#https://aroussi.com/post/python-yahoo-finance\n",
    "import pandas as pd\n",
    "import yfinance as yf\n",
    "import matplotlib.pyplot as plt\n",
    "import pandas_datareader.data as web\n",
    "import numpy as np\n",
    "yf.pdr_override()"
   ]
  },
  {
   "cell_type": "code",
   "execution_count": 2,
   "metadata": {},
   "outputs": [
    {
     "data": {
      "text/plain": [
       "(75, ['ABEV3.SA', 'AZUL4.SA', 'B3SA3.SA', 'BBAS3.SA', 'BBDC3.SA'])"
      ]
     },
     "execution_count": 2,
     "metadata": {},
     "output_type": "execute_result"
    }
   ],
   "source": [
    "tickers = pd.read_csv('../datasets/composicao_indice.csv',names=['Código'])\n",
    "tickers['Código'] = tickers['Código'] + '.SA'\n",
    "tickers = tickers['Código'].tolist()\n",
    "len(tickers), tickers[0:5]"
   ]
  },
  {
   "cell_type": "code",
   "execution_count": 3,
   "metadata": {},
   "outputs": [],
   "source": [
    "#tickers = ['TAEE11.SA', 'CSAN3.SA', 'ENGI11.SA', 'USIM5.SA', 'FLRY3.SA', 'VVAR3.SA']\n",
    "#tickers=['BOVA11.SA']\n",
    "#historic = pd.read_csv('../datasets/data_yahoo.csv')"
   ]
  },
  {
   "cell_type": "code",
   "execution_count": 4,
   "metadata": {},
   "outputs": [
    {
     "name": "stdout",
     "output_type": "stream",
     "text": [
      "[*********************100%***********************]  75 of 75 completed\n"
     ]
    },
    {
     "data": {
      "text/plain": [
       "(299, 75)"
      ]
     },
     "execution_count": 4,
     "metadata": {},
     "output_type": "execute_result"
    }
   ],
   "source": [
    "#start=\"2019-10-01\"\n",
    "historic = web.get_data_yahoo(tickers, start=\"2019-05-01\")['Close']\n",
    "#historic = web.get_data_yahoo(tickers, period='1y')['Adj Close']\n",
    "historic.shape"
   ]
  },
  {
   "cell_type": "code",
   "execution_count": 5,
   "metadata": {},
   "outputs": [
    {
     "data": {
      "text/plain": [
       "\"historic.columns =['BOVA11']\\nhistoric.index[-1]\""
      ]
     },
     "execution_count": 5,
     "metadata": {},
     "output_type": "execute_result"
    }
   ],
   "source": [
    "\"\"\"historic.columns =['BOVA11']\n",
    "historic.index[-1]\"\"\""
   ]
  },
  {
   "cell_type": "markdown",
   "metadata": {},
   "source": [
    "#### Renomear as colunas removendo o .SA"
   ]
  },
  {
   "cell_type": "code",
   "execution_count": 6,
   "metadata": {},
   "outputs": [],
   "source": [
    "columns=[]\n",
    "for col in historic.columns:\n",
    "    columns.append(col.replace('.SA', ''))\n",
    "historic.columns = columns"
   ]
  },
  {
   "cell_type": "code",
   "execution_count": 8,
   "metadata": {},
   "outputs": [
    {
     "data": {
      "text/html": [
       "<div>\n",
       "<style scoped>\n",
       "    .dataframe tbody tr th:only-of-type {\n",
       "        vertical-align: middle;\n",
       "    }\n",
       "\n",
       "    .dataframe tbody tr th {\n",
       "        vertical-align: top;\n",
       "    }\n",
       "\n",
       "    .dataframe thead th {\n",
       "        text-align: right;\n",
       "    }\n",
       "</style>\n",
       "<table border=\"1\" class=\"dataframe\">\n",
       "  <thead>\n",
       "    <tr style=\"text-align: right;\">\n",
       "      <th></th>\n",
       "      <th>ABEV3</th>\n",
       "      <th>AZUL4</th>\n",
       "      <th>B3SA3</th>\n",
       "      <th>BBAS3</th>\n",
       "      <th>BBDC3</th>\n",
       "      <th>BBDC4</th>\n",
       "      <th>BBSE3</th>\n",
       "      <th>BEEF3</th>\n",
       "      <th>BPAC11</th>\n",
       "      <th>BRAP4</th>\n",
       "      <th>...</th>\n",
       "      <th>TAEE11</th>\n",
       "      <th>TIMP3</th>\n",
       "      <th>TOTS3</th>\n",
       "      <th>UGPA3</th>\n",
       "      <th>USIM5</th>\n",
       "      <th>VALE3</th>\n",
       "      <th>VIVT4</th>\n",
       "      <th>VVAR3</th>\n",
       "      <th>WEGE3</th>\n",
       "      <th>YDUQ3</th>\n",
       "    </tr>\n",
       "    <tr>\n",
       "      <th>Date</th>\n",
       "      <th></th>\n",
       "      <th></th>\n",
       "      <th></th>\n",
       "      <th></th>\n",
       "      <th></th>\n",
       "      <th></th>\n",
       "      <th></th>\n",
       "      <th></th>\n",
       "      <th></th>\n",
       "      <th></th>\n",
       "      <th></th>\n",
       "      <th></th>\n",
       "      <th></th>\n",
       "      <th></th>\n",
       "      <th></th>\n",
       "      <th></th>\n",
       "      <th></th>\n",
       "      <th></th>\n",
       "      <th></th>\n",
       "      <th></th>\n",
       "      <th></th>\n",
       "    </tr>\n",
       "  </thead>\n",
       "  <tbody>\n",
       "    <tr>\n",
       "      <td>2019-05-02</td>\n",
       "      <td>17.950001</td>\n",
       "      <td>34.599998</td>\n",
       "      <td>33.900002</td>\n",
       "      <td>49.790001</td>\n",
       "      <td>31.120001</td>\n",
       "      <td>35.599998</td>\n",
       "      <td>28.420000</td>\n",
       "      <td>8.50550</td>\n",
       "      <td>40.849998</td>\n",
       "      <td>30.290001</td>\n",
       "      <td>...</td>\n",
       "      <td>26.450001</td>\n",
       "      <td>11.55</td>\n",
       "      <td>43.956501</td>\n",
       "      <td>21.469999</td>\n",
       "      <td>8.45</td>\n",
       "      <td>48.939999</td>\n",
       "      <td>45.910000</td>\n",
       "      <td>4.140000</td>\n",
       "      <td>18.770000</td>\n",
       "      <td>27.049999</td>\n",
       "    </tr>\n",
       "    <tr>\n",
       "      <td>2019-05-03</td>\n",
       "      <td>17.920000</td>\n",
       "      <td>36.080002</td>\n",
       "      <td>34.070000</td>\n",
       "      <td>50.080002</td>\n",
       "      <td>31.730000</td>\n",
       "      <td>35.959999</td>\n",
       "      <td>28.030001</td>\n",
       "      <td>8.62350</td>\n",
       "      <td>40.549999</td>\n",
       "      <td>31.389999</td>\n",
       "      <td>...</td>\n",
       "      <td>26.200001</td>\n",
       "      <td>11.48</td>\n",
       "      <td>42.409401</td>\n",
       "      <td>21.209999</td>\n",
       "      <td>8.87</td>\n",
       "      <td>50.400002</td>\n",
       "      <td>45.919998</td>\n",
       "      <td>4.520000</td>\n",
       "      <td>18.650000</td>\n",
       "      <td>26.440001</td>\n",
       "    </tr>\n",
       "    <tr>\n",
       "      <td>2019-05-06</td>\n",
       "      <td>18.059999</td>\n",
       "      <td>35.000000</td>\n",
       "      <td>33.700001</td>\n",
       "      <td>49.369999</td>\n",
       "      <td>30.700001</td>\n",
       "      <td>34.990002</td>\n",
       "      <td>28.520000</td>\n",
       "      <td>8.72182</td>\n",
       "      <td>40.299999</td>\n",
       "      <td>30.760000</td>\n",
       "      <td>...</td>\n",
       "      <td>25.950001</td>\n",
       "      <td>11.43</td>\n",
       "      <td>42.020199</td>\n",
       "      <td>21.260000</td>\n",
       "      <td>8.78</td>\n",
       "      <td>49.660000</td>\n",
       "      <td>45.509998</td>\n",
       "      <td>4.560000</td>\n",
       "      <td>18.360001</td>\n",
       "      <td>26.100000</td>\n",
       "    </tr>\n",
       "    <tr>\n",
       "      <td>2019-05-07</td>\n",
       "      <td>17.650000</td>\n",
       "      <td>35.279999</td>\n",
       "      <td>33.660000</td>\n",
       "      <td>49.490002</td>\n",
       "      <td>27.518200</td>\n",
       "      <td>31.609100</td>\n",
       "      <td>27.580000</td>\n",
       "      <td>8.55466</td>\n",
       "      <td>40.099998</td>\n",
       "      <td>30.980000</td>\n",
       "      <td>...</td>\n",
       "      <td>26.070000</td>\n",
       "      <td>11.47</td>\n",
       "      <td>40.822399</td>\n",
       "      <td>21.400000</td>\n",
       "      <td>8.46</td>\n",
       "      <td>49.700001</td>\n",
       "      <td>45.849998</td>\n",
       "      <td>4.720000</td>\n",
       "      <td>18.139999</td>\n",
       "      <td>26.650000</td>\n",
       "    </tr>\n",
       "    <tr>\n",
       "      <td>2019-05-08</td>\n",
       "      <td>17.920000</td>\n",
       "      <td>37.000000</td>\n",
       "      <td>34.349998</td>\n",
       "      <td>50.590000</td>\n",
       "      <td>30.980000</td>\n",
       "      <td>35.490002</td>\n",
       "      <td>27.430000</td>\n",
       "      <td>8.56450</td>\n",
       "      <td>39.849998</td>\n",
       "      <td>30.580000</td>\n",
       "      <td>...</td>\n",
       "      <td>26.389999</td>\n",
       "      <td>10.95</td>\n",
       "      <td>39.425098</td>\n",
       "      <td>21.730000</td>\n",
       "      <td>8.58</td>\n",
       "      <td>49.000000</td>\n",
       "      <td>45.750000</td>\n",
       "      <td>4.530000</td>\n",
       "      <td>18.610001</td>\n",
       "      <td>27.309999</td>\n",
       "    </tr>\n",
       "    <tr>\n",
       "      <td>...</td>\n",
       "      <td>...</td>\n",
       "      <td>...</td>\n",
       "      <td>...</td>\n",
       "      <td>...</td>\n",
       "      <td>...</td>\n",
       "      <td>...</td>\n",
       "      <td>...</td>\n",
       "      <td>...</td>\n",
       "      <td>...</td>\n",
       "      <td>...</td>\n",
       "      <td>...</td>\n",
       "      <td>...</td>\n",
       "      <td>...</td>\n",
       "      <td>...</td>\n",
       "      <td>...</td>\n",
       "      <td>...</td>\n",
       "      <td>...</td>\n",
       "      <td>...</td>\n",
       "      <td>...</td>\n",
       "      <td>...</td>\n",
       "      <td>...</td>\n",
       "    </tr>\n",
       "    <tr>\n",
       "      <td>2020-07-07</td>\n",
       "      <td>14.450000</td>\n",
       "      <td>21.500000</td>\n",
       "      <td>57.169998</td>\n",
       "      <td>33.279999</td>\n",
       "      <td>19.879999</td>\n",
       "      <td>21.709999</td>\n",
       "      <td>27.799999</td>\n",
       "      <td>13.70000</td>\n",
       "      <td>80.949997</td>\n",
       "      <td>36.529999</td>\n",
       "      <td>...</td>\n",
       "      <td>28.459999</td>\n",
       "      <td>14.93</td>\n",
       "      <td>24.520000</td>\n",
       "      <td>18.040001</td>\n",
       "      <td>7.45</td>\n",
       "      <td>56.369999</td>\n",
       "      <td>48.380001</td>\n",
       "      <td>15.860000</td>\n",
       "      <td>53.910000</td>\n",
       "      <td>34.400002</td>\n",
       "    </tr>\n",
       "    <tr>\n",
       "      <td>2020-07-08</td>\n",
       "      <td>14.710000</td>\n",
       "      <td>21.530001</td>\n",
       "      <td>60.650002</td>\n",
       "      <td>34.090000</td>\n",
       "      <td>20.559999</td>\n",
       "      <td>22.450001</td>\n",
       "      <td>28.340000</td>\n",
       "      <td>13.59000</td>\n",
       "      <td>85.000000</td>\n",
       "      <td>37.169998</td>\n",
       "      <td>...</td>\n",
       "      <td>28.700001</td>\n",
       "      <td>15.26</td>\n",
       "      <td>24.320000</td>\n",
       "      <td>18.770000</td>\n",
       "      <td>7.70</td>\n",
       "      <td>57.320000</td>\n",
       "      <td>48.880001</td>\n",
       "      <td>16.370001</td>\n",
       "      <td>54.299999</td>\n",
       "      <td>34.549999</td>\n",
       "    </tr>\n",
       "    <tr>\n",
       "      <td>2020-07-09</td>\n",
       "      <td>14.640000</td>\n",
       "      <td>20.900000</td>\n",
       "      <td>58.889999</td>\n",
       "      <td>33.959999</td>\n",
       "      <td>20.299999</td>\n",
       "      <td>21.950001</td>\n",
       "      <td>28.049999</td>\n",
       "      <td>13.26000</td>\n",
       "      <td>82.860001</td>\n",
       "      <td>36.820000</td>\n",
       "      <td>...</td>\n",
       "      <td>28.549999</td>\n",
       "      <td>14.72</td>\n",
       "      <td>25.090000</td>\n",
       "      <td>18.590000</td>\n",
       "      <td>7.47</td>\n",
       "      <td>56.419998</td>\n",
       "      <td>49.750000</td>\n",
       "      <td>17.549999</td>\n",
       "      <td>54.459999</td>\n",
       "      <td>34.580002</td>\n",
       "    </tr>\n",
       "    <tr>\n",
       "      <td>2020-07-10</td>\n",
       "      <td>14.900000</td>\n",
       "      <td>21.910000</td>\n",
       "      <td>59.950001</td>\n",
       "      <td>34.139999</td>\n",
       "      <td>20.450001</td>\n",
       "      <td>22.180000</td>\n",
       "      <td>27.629999</td>\n",
       "      <td>13.44000</td>\n",
       "      <td>85.400002</td>\n",
       "      <td>37.560001</td>\n",
       "      <td>...</td>\n",
       "      <td>28.490000</td>\n",
       "      <td>14.91</td>\n",
       "      <td>25.250000</td>\n",
       "      <td>18.510000</td>\n",
       "      <td>7.43</td>\n",
       "      <td>57.119999</td>\n",
       "      <td>48.849998</td>\n",
       "      <td>17.639999</td>\n",
       "      <td>54.700001</td>\n",
       "      <td>35.549999</td>\n",
       "    </tr>\n",
       "    <tr>\n",
       "      <td>2020-07-13</td>\n",
       "      <td>14.000000</td>\n",
       "      <td>21.160000</td>\n",
       "      <td>59.889999</td>\n",
       "      <td>33.799999</td>\n",
       "      <td>20.040001</td>\n",
       "      <td>21.959999</td>\n",
       "      <td>27.379999</td>\n",
       "      <td>13.06000</td>\n",
       "      <td>84.519997</td>\n",
       "      <td>38.150002</td>\n",
       "      <td>...</td>\n",
       "      <td>28.450001</td>\n",
       "      <td>14.79</td>\n",
       "      <td>24.670000</td>\n",
       "      <td>17.700001</td>\n",
       "      <td>7.39</td>\n",
       "      <td>57.650002</td>\n",
       "      <td>48.020000</td>\n",
       "      <td>17.650000</td>\n",
       "      <td>54.939999</td>\n",
       "      <td>33.980000</td>\n",
       "    </tr>\n",
       "  </tbody>\n",
       "</table>\n",
       "<p>299 rows × 75 columns</p>\n",
       "</div>"
      ],
      "text/plain": [
       "                ABEV3      AZUL4      B3SA3      BBAS3      BBDC3      BBDC4  \\\n",
       "Date                                                                           \n",
       "2019-05-02  17.950001  34.599998  33.900002  49.790001  31.120001  35.599998   \n",
       "2019-05-03  17.920000  36.080002  34.070000  50.080002  31.730000  35.959999   \n",
       "2019-05-06  18.059999  35.000000  33.700001  49.369999  30.700001  34.990002   \n",
       "2019-05-07  17.650000  35.279999  33.660000  49.490002  27.518200  31.609100   \n",
       "2019-05-08  17.920000  37.000000  34.349998  50.590000  30.980000  35.490002   \n",
       "...               ...        ...        ...        ...        ...        ...   \n",
       "2020-07-07  14.450000  21.500000  57.169998  33.279999  19.879999  21.709999   \n",
       "2020-07-08  14.710000  21.530001  60.650002  34.090000  20.559999  22.450001   \n",
       "2020-07-09  14.640000  20.900000  58.889999  33.959999  20.299999  21.950001   \n",
       "2020-07-10  14.900000  21.910000  59.950001  34.139999  20.450001  22.180000   \n",
       "2020-07-13  14.000000  21.160000  59.889999  33.799999  20.040001  21.959999   \n",
       "\n",
       "                BBSE3     BEEF3     BPAC11      BRAP4  ...     TAEE11  TIMP3  \\\n",
       "Date                                                   ...                     \n",
       "2019-05-02  28.420000   8.50550  40.849998  30.290001  ...  26.450001  11.55   \n",
       "2019-05-03  28.030001   8.62350  40.549999  31.389999  ...  26.200001  11.48   \n",
       "2019-05-06  28.520000   8.72182  40.299999  30.760000  ...  25.950001  11.43   \n",
       "2019-05-07  27.580000   8.55466  40.099998  30.980000  ...  26.070000  11.47   \n",
       "2019-05-08  27.430000   8.56450  39.849998  30.580000  ...  26.389999  10.95   \n",
       "...               ...       ...        ...        ...  ...        ...    ...   \n",
       "2020-07-07  27.799999  13.70000  80.949997  36.529999  ...  28.459999  14.93   \n",
       "2020-07-08  28.340000  13.59000  85.000000  37.169998  ...  28.700001  15.26   \n",
       "2020-07-09  28.049999  13.26000  82.860001  36.820000  ...  28.549999  14.72   \n",
       "2020-07-10  27.629999  13.44000  85.400002  37.560001  ...  28.490000  14.91   \n",
       "2020-07-13  27.379999  13.06000  84.519997  38.150002  ...  28.450001  14.79   \n",
       "\n",
       "                TOTS3      UGPA3  USIM5      VALE3      VIVT4      VVAR3  \\\n",
       "Date                                                                       \n",
       "2019-05-02  43.956501  21.469999   8.45  48.939999  45.910000   4.140000   \n",
       "2019-05-03  42.409401  21.209999   8.87  50.400002  45.919998   4.520000   \n",
       "2019-05-06  42.020199  21.260000   8.78  49.660000  45.509998   4.560000   \n",
       "2019-05-07  40.822399  21.400000   8.46  49.700001  45.849998   4.720000   \n",
       "2019-05-08  39.425098  21.730000   8.58  49.000000  45.750000   4.530000   \n",
       "...               ...        ...    ...        ...        ...        ...   \n",
       "2020-07-07  24.520000  18.040001   7.45  56.369999  48.380001  15.860000   \n",
       "2020-07-08  24.320000  18.770000   7.70  57.320000  48.880001  16.370001   \n",
       "2020-07-09  25.090000  18.590000   7.47  56.419998  49.750000  17.549999   \n",
       "2020-07-10  25.250000  18.510000   7.43  57.119999  48.849998  17.639999   \n",
       "2020-07-13  24.670000  17.700001   7.39  57.650002  48.020000  17.650000   \n",
       "\n",
       "                WEGE3      YDUQ3  \n",
       "Date                              \n",
       "2019-05-02  18.770000  27.049999  \n",
       "2019-05-03  18.650000  26.440001  \n",
       "2019-05-06  18.360001  26.100000  \n",
       "2019-05-07  18.139999  26.650000  \n",
       "2019-05-08  18.610001  27.309999  \n",
       "...               ...        ...  \n",
       "2020-07-07  53.910000  34.400002  \n",
       "2020-07-08  54.299999  34.549999  \n",
       "2020-07-09  54.459999  34.580002  \n",
       "2020-07-10  54.700001  35.549999  \n",
       "2020-07-13  54.939999  33.980000  \n",
       "\n",
       "[299 rows x 75 columns]"
      ]
     },
     "execution_count": 8,
     "metadata": {},
     "output_type": "execute_result"
    }
   ],
   "source": [
    "historic"
   ]
  },
  {
   "cell_type": "markdown",
   "metadata": {},
   "source": [
    "Tratar os dados faltantes, vou add um valor médio para todos os faltantes.. é o jeito"
   ]
  },
  {
   "cell_type": "code",
   "execution_count": 19,
   "metadata": {},
   "outputs": [
    {
     "data": {
      "text/plain": [
       "0"
      ]
     },
     "execution_count": 19,
     "metadata": {},
     "output_type": "execute_result"
    }
   ],
   "source": [
    "historic.isnull().values.sum()"
   ]
  },
  {
   "cell_type": "code",
   "execution_count": 20,
   "metadata": {},
   "outputs": [
    {
     "data": {
      "text/plain": [
       "[]"
      ]
     },
     "execution_count": 20,
     "metadata": {},
     "output_type": "execute_result"
    }
   ],
   "source": [
    "rows=[]\n",
    "indexs = np.arange(0, len(historic))\n",
    "for col in historic.columns:\n",
    "    count = historic[col].isnull().sum()\n",
    "    if (count > 0):\n",
    "        rows.append([col, count])\n",
    "rows"
   ]
  },
  {
   "cell_type": "code",
   "execution_count": 14,
   "metadata": {},
   "outputs": [
    {
     "ename": "KeyError",
     "evalue": "'NTCO3'",
     "output_type": "error",
     "traceback": [
      "\u001b[1;31m---------------------------------------------------------------------------\u001b[0m",
      "\u001b[1;31mKeyError\u001b[0m                                  Traceback (most recent call last)",
      "\u001b[1;32mC:\\ProgramData\\Anaconda3\\lib\\site-packages\\pandas\\core\\indexes\\base.py\u001b[0m in \u001b[0;36mget_loc\u001b[1;34m(self, key, method, tolerance)\u001b[0m\n\u001b[0;32m   2896\u001b[0m             \u001b[1;32mtry\u001b[0m\u001b[1;33m:\u001b[0m\u001b[1;33m\u001b[0m\u001b[1;33m\u001b[0m\u001b[0m\n\u001b[1;32m-> 2897\u001b[1;33m                 \u001b[1;32mreturn\u001b[0m \u001b[0mself\u001b[0m\u001b[1;33m.\u001b[0m\u001b[0m_engine\u001b[0m\u001b[1;33m.\u001b[0m\u001b[0mget_loc\u001b[0m\u001b[1;33m(\u001b[0m\u001b[0mkey\u001b[0m\u001b[1;33m)\u001b[0m\u001b[1;33m\u001b[0m\u001b[1;33m\u001b[0m\u001b[0m\n\u001b[0m\u001b[0;32m   2898\u001b[0m             \u001b[1;32mexcept\u001b[0m \u001b[0mKeyError\u001b[0m\u001b[1;33m:\u001b[0m\u001b[1;33m\u001b[0m\u001b[1;33m\u001b[0m\u001b[0m\n",
      "\u001b[1;32mpandas\\_libs\\index.pyx\u001b[0m in \u001b[0;36mpandas._libs.index.IndexEngine.get_loc\u001b[1;34m()\u001b[0m\n",
      "\u001b[1;32mpandas\\_libs\\index.pyx\u001b[0m in \u001b[0;36mpandas._libs.index.IndexEngine.get_loc\u001b[1;34m()\u001b[0m\n",
      "\u001b[1;32mpandas\\_libs\\hashtable_class_helper.pxi\u001b[0m in \u001b[0;36mpandas._libs.hashtable.PyObjectHashTable.get_item\u001b[1;34m()\u001b[0m\n",
      "\u001b[1;32mpandas\\_libs\\hashtable_class_helper.pxi\u001b[0m in \u001b[0;36mpandas._libs.hashtable.PyObjectHashTable.get_item\u001b[1;34m()\u001b[0m\n",
      "\u001b[1;31mKeyError\u001b[0m: 'NTCO3'",
      "\nDuring handling of the above exception, another exception occurred:\n",
      "\u001b[1;31mKeyError\u001b[0m                                  Traceback (most recent call last)",
      "\u001b[1;32m<ipython-input-14-03462bedf463>\u001b[0m in \u001b[0;36m<module>\u001b[1;34m\u001b[0m\n\u001b[1;32m----> 1\u001b[1;33m \u001b[1;32mdel\u001b[0m \u001b[0mhistoric\u001b[0m\u001b[1;33m[\u001b[0m\u001b[1;34m'NTCO3'\u001b[0m\u001b[1;33m]\u001b[0m\u001b[1;33m\u001b[0m\u001b[1;33m\u001b[0m\u001b[0m\n\u001b[0m",
      "\u001b[1;32mC:\\ProgramData\\Anaconda3\\lib\\site-packages\\pandas\\core\\generic.py\u001b[0m in \u001b[0;36m__delitem__\u001b[1;34m(self, key)\u001b[0m\n\u001b[0;32m   3514\u001b[0m             \u001b[1;31m# there was no match, this call should raise the appropriate\u001b[0m\u001b[1;33m\u001b[0m\u001b[1;33m\u001b[0m\u001b[1;33m\u001b[0m\u001b[0m\n\u001b[0;32m   3515\u001b[0m             \u001b[1;31m# exception:\u001b[0m\u001b[1;33m\u001b[0m\u001b[1;33m\u001b[0m\u001b[1;33m\u001b[0m\u001b[0m\n\u001b[1;32m-> 3516\u001b[1;33m             \u001b[0mself\u001b[0m\u001b[1;33m.\u001b[0m\u001b[0m_data\u001b[0m\u001b[1;33m.\u001b[0m\u001b[0mdelete\u001b[0m\u001b[1;33m(\u001b[0m\u001b[0mkey\u001b[0m\u001b[1;33m)\u001b[0m\u001b[1;33m\u001b[0m\u001b[1;33m\u001b[0m\u001b[0m\n\u001b[0m\u001b[0;32m   3517\u001b[0m \u001b[1;33m\u001b[0m\u001b[0m\n\u001b[0;32m   3518\u001b[0m         \u001b[1;31m# delete from the caches\u001b[0m\u001b[1;33m\u001b[0m\u001b[1;33m\u001b[0m\u001b[1;33m\u001b[0m\u001b[0m\n",
      "\u001b[1;32mC:\\ProgramData\\Anaconda3\\lib\\site-packages\\pandas\\core\\internals\\managers.py\u001b[0m in \u001b[0;36mdelete\u001b[1;34m(self, item)\u001b[0m\n\u001b[0;32m    994\u001b[0m         \u001b[0mDelete\u001b[0m \u001b[0mselected\u001b[0m \u001b[0mitem\u001b[0m \u001b[1;33m(\u001b[0m\u001b[0mitems\u001b[0m \u001b[1;32mif\u001b[0m \u001b[0mnon\u001b[0m\u001b[1;33m-\u001b[0m\u001b[0munique\u001b[0m\u001b[1;33m)\u001b[0m \u001b[1;32min\u001b[0m\u001b[1;33m-\u001b[0m\u001b[0mplace\u001b[0m\u001b[1;33m.\u001b[0m\u001b[1;33m\u001b[0m\u001b[1;33m\u001b[0m\u001b[0m\n\u001b[0;32m    995\u001b[0m         \"\"\"\n\u001b[1;32m--> 996\u001b[1;33m         \u001b[0mindexer\u001b[0m \u001b[1;33m=\u001b[0m \u001b[0mself\u001b[0m\u001b[1;33m.\u001b[0m\u001b[0mitems\u001b[0m\u001b[1;33m.\u001b[0m\u001b[0mget_loc\u001b[0m\u001b[1;33m(\u001b[0m\u001b[0mitem\u001b[0m\u001b[1;33m)\u001b[0m\u001b[1;33m\u001b[0m\u001b[1;33m\u001b[0m\u001b[0m\n\u001b[0m\u001b[0;32m    997\u001b[0m \u001b[1;33m\u001b[0m\u001b[0m\n\u001b[0;32m    998\u001b[0m         \u001b[0mis_deleted\u001b[0m \u001b[1;33m=\u001b[0m \u001b[0mnp\u001b[0m\u001b[1;33m.\u001b[0m\u001b[0mzeros\u001b[0m\u001b[1;33m(\u001b[0m\u001b[0mself\u001b[0m\u001b[1;33m.\u001b[0m\u001b[0mshape\u001b[0m\u001b[1;33m[\u001b[0m\u001b[1;36m0\u001b[0m\u001b[1;33m]\u001b[0m\u001b[1;33m,\u001b[0m \u001b[0mdtype\u001b[0m\u001b[1;33m=\u001b[0m\u001b[0mnp\u001b[0m\u001b[1;33m.\u001b[0m\u001b[0mbool_\u001b[0m\u001b[1;33m)\u001b[0m\u001b[1;33m\u001b[0m\u001b[1;33m\u001b[0m\u001b[0m\n",
      "\u001b[1;32mC:\\ProgramData\\Anaconda3\\lib\\site-packages\\pandas\\core\\indexes\\base.py\u001b[0m in \u001b[0;36mget_loc\u001b[1;34m(self, key, method, tolerance)\u001b[0m\n\u001b[0;32m   2897\u001b[0m                 \u001b[1;32mreturn\u001b[0m \u001b[0mself\u001b[0m\u001b[1;33m.\u001b[0m\u001b[0m_engine\u001b[0m\u001b[1;33m.\u001b[0m\u001b[0mget_loc\u001b[0m\u001b[1;33m(\u001b[0m\u001b[0mkey\u001b[0m\u001b[1;33m)\u001b[0m\u001b[1;33m\u001b[0m\u001b[1;33m\u001b[0m\u001b[0m\n\u001b[0;32m   2898\u001b[0m             \u001b[1;32mexcept\u001b[0m \u001b[0mKeyError\u001b[0m\u001b[1;33m:\u001b[0m\u001b[1;33m\u001b[0m\u001b[1;33m\u001b[0m\u001b[0m\n\u001b[1;32m-> 2899\u001b[1;33m                 \u001b[1;32mreturn\u001b[0m \u001b[0mself\u001b[0m\u001b[1;33m.\u001b[0m\u001b[0m_engine\u001b[0m\u001b[1;33m.\u001b[0m\u001b[0mget_loc\u001b[0m\u001b[1;33m(\u001b[0m\u001b[0mself\u001b[0m\u001b[1;33m.\u001b[0m\u001b[0m_maybe_cast_indexer\u001b[0m\u001b[1;33m(\u001b[0m\u001b[0mkey\u001b[0m\u001b[1;33m)\u001b[0m\u001b[1;33m)\u001b[0m\u001b[1;33m\u001b[0m\u001b[1;33m\u001b[0m\u001b[0m\n\u001b[0m\u001b[0;32m   2900\u001b[0m         \u001b[0mindexer\u001b[0m \u001b[1;33m=\u001b[0m \u001b[0mself\u001b[0m\u001b[1;33m.\u001b[0m\u001b[0mget_indexer\u001b[0m\u001b[1;33m(\u001b[0m\u001b[1;33m[\u001b[0m\u001b[0mkey\u001b[0m\u001b[1;33m]\u001b[0m\u001b[1;33m,\u001b[0m \u001b[0mmethod\u001b[0m\u001b[1;33m=\u001b[0m\u001b[0mmethod\u001b[0m\u001b[1;33m,\u001b[0m \u001b[0mtolerance\u001b[0m\u001b[1;33m=\u001b[0m\u001b[0mtolerance\u001b[0m\u001b[1;33m)\u001b[0m\u001b[1;33m\u001b[0m\u001b[1;33m\u001b[0m\u001b[0m\n\u001b[0;32m   2901\u001b[0m         \u001b[1;32mif\u001b[0m \u001b[0mindexer\u001b[0m\u001b[1;33m.\u001b[0m\u001b[0mndim\u001b[0m \u001b[1;33m>\u001b[0m \u001b[1;36m1\u001b[0m \u001b[1;32mor\u001b[0m \u001b[0mindexer\u001b[0m\u001b[1;33m.\u001b[0m\u001b[0msize\u001b[0m \u001b[1;33m>\u001b[0m \u001b[1;36m1\u001b[0m\u001b[1;33m:\u001b[0m\u001b[1;33m\u001b[0m\u001b[1;33m\u001b[0m\u001b[0m\n",
      "\u001b[1;32mpandas\\_libs\\index.pyx\u001b[0m in \u001b[0;36mpandas._libs.index.IndexEngine.get_loc\u001b[1;34m()\u001b[0m\n",
      "\u001b[1;32mpandas\\_libs\\index.pyx\u001b[0m in \u001b[0;36mpandas._libs.index.IndexEngine.get_loc\u001b[1;34m()\u001b[0m\n",
      "\u001b[1;32mpandas\\_libs\\hashtable_class_helper.pxi\u001b[0m in \u001b[0;36mpandas._libs.hashtable.PyObjectHashTable.get_item\u001b[1;34m()\u001b[0m\n",
      "\u001b[1;32mpandas\\_libs\\hashtable_class_helper.pxi\u001b[0m in \u001b[0;36mpandas._libs.hashtable.PyObjectHashTable.get_item\u001b[1;34m()\u001b[0m\n",
      "\u001b[1;31mKeyError\u001b[0m: 'NTCO3'"
     ]
    }
   ],
   "source": [
    "del historic['NTCO3']"
   ]
  },
  {
   "cell_type": "code",
   "execution_count": 17,
   "metadata": {},
   "outputs": [
    {
     "name": "stdout",
     "output_type": "stream",
     "text": [
      "(298, 74)\n",
      "(298, 74)\n"
     ]
    }
   ],
   "source": [
    "print(historic.shape)\n",
    "historic.dropna(inplace=True)\n",
    "print(historic.shape)"
   ]
  },
  {
   "cell_type": "code",
   "execution_count": 18,
   "metadata": {},
   "outputs": [
    {
     "data": {
      "text/plain": [
       "0"
      ]
     },
     "execution_count": 18,
     "metadata": {},
     "output_type": "execute_result"
    }
   ],
   "source": [
    "historic.isnull().sum().sum()"
   ]
  },
  {
   "cell_type": "code",
   "execution_count": 21,
   "metadata": {},
   "outputs": [
    {
     "name": "stdout",
     "output_type": "stream",
     "text": [
      "Dataset salvo com sucesso!!!\n"
     ]
    }
   ],
   "source": [
    "historic.to_csv('../datasets/data_yahoo.csv')\n",
    "print(\"Dataset salvo com sucesso!!!\")"
   ]
  },
  {
   "cell_type": "code",
   "execution_count": null,
   "metadata": {},
   "outputs": [],
   "source": []
  }
 ],
 "metadata": {
  "kernelspec": {
   "display_name": "Python 3",
   "language": "python",
   "name": "python3"
  },
  "language_info": {
   "codemirror_mode": {
    "name": "ipython",
    "version": 3
   },
   "file_extension": ".py",
   "mimetype": "text/x-python",
   "name": "python",
   "nbconvert_exporter": "python",
   "pygments_lexer": "ipython3",
   "version": "3.7.4"
  }
 },
 "nbformat": 4,
 "nbformat_minor": 2
}
