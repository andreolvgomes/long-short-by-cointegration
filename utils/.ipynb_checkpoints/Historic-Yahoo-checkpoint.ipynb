{
 "cells": [
  {
   "cell_type": "markdown",
   "metadata": {},
   "source": [
    "## Download do Histórico"
   ]
  },
  {
   "cell_type": "code",
   "execution_count": 14,
   "metadata": {},
   "outputs": [],
   "source": [
    "#https://aroussi.com/post/python-yahoo-finance\n",
    "import pandas as pd\n",
    "import yfinance as yf\n",
    "import matplotlib.pyplot as plt\n",
    "import pandas_datareader.data as web\n",
    "import numpy as np\n",
    "yf.pdr_override()"
   ]
  },
  {
   "cell_type": "code",
   "execution_count": 2,
   "metadata": {},
   "outputs": [
    {
     "data": {
      "text/plain": [
       "(75, ['ABEV3.SA', 'AZUL4.SA', 'B3SA3.SA', 'BBAS3.SA', 'BBDC3.SA'])"
      ]
     },
     "execution_count": 2,
     "metadata": {},
     "output_type": "execute_result"
    }
   ],
   "source": [
    "tickers = pd.read_csv('../datasets/composicao_indice.csv',names=['Código'])\n",
    "tickers['Código'] = tickers['Código'] + '.SA'\n",
    "tickers = tickers['Código'].tolist()\n",
    "len(tickers), tickers[0:5]"
   ]
  },
  {
   "cell_type": "code",
   "execution_count": 3,
   "metadata": {},
   "outputs": [],
   "source": [
    "#tickers = ['TAEE11.SA', 'CSAN3.SA', 'ENGI11.SA', 'USIM5.SA', 'FLRY3.SA', 'VVAR3.SA']\n",
    "#tickers=['BOVA11.SA']\n",
    "#historic = pd.read_csv('../datasets/data_yahoo.csv')"
   ]
  },
  {
   "cell_type": "code",
   "execution_count": 4,
   "metadata": {},
   "outputs": [
    {
     "name": "stdout",
     "output_type": "stream",
     "text": [
      "[*********************100%***********************]  75 of 75 completed\n"
     ]
    },
    {
     "data": {
      "text/plain": [
       "(315, 75)"
      ]
     },
     "execution_count": 4,
     "metadata": {},
     "output_type": "execute_result"
    }
   ],
   "source": [
    "#start=\"2019-10-01\"\n",
    "historic = web.get_data_yahoo(tickers, start=\"2019-05-01\")['Close']\n",
    "#historic = web.get_data_yahoo(tickers, start=\"2019-05-01\")['Adj Close']\n",
    "historic.shape"
   ]
  },
  {
   "cell_type": "code",
   "execution_count": 5,
   "metadata": {},
   "outputs": [
    {
     "data": {
      "text/plain": [
       "\"historic.columns =['BOVA11']\\nhistoric.index[-1]\""
      ]
     },
     "execution_count": 5,
     "metadata": {},
     "output_type": "execute_result"
    }
   ],
   "source": [
    "\"\"\"historic.columns =['BOVA11']\n",
    "historic.index[-1]\"\"\""
   ]
  },
  {
   "cell_type": "markdown",
   "metadata": {},
   "source": [
    "#### Renomear as colunas removendo o .SA"
   ]
  },
  {
   "cell_type": "code",
   "execution_count": 6,
   "metadata": {},
   "outputs": [],
   "source": [
    "columns=[]\n",
    "for col in historic.columns:\n",
    "    columns.append(col.replace('.SA', ''))\n",
    "historic.columns = columns"
   ]
  },
  {
   "cell_type": "code",
   "execution_count": 7,
   "metadata": {},
   "outputs": [
    {
     "data": {
      "text/html": [
       "<div>\n",
       "<style scoped>\n",
       "    .dataframe tbody tr th:only-of-type {\n",
       "        vertical-align: middle;\n",
       "    }\n",
       "\n",
       "    .dataframe tbody tr th {\n",
       "        vertical-align: top;\n",
       "    }\n",
       "\n",
       "    .dataframe thead th {\n",
       "        text-align: right;\n",
       "    }\n",
       "</style>\n",
       "<table border=\"1\" class=\"dataframe\">\n",
       "  <thead>\n",
       "    <tr style=\"text-align: right;\">\n",
       "      <th></th>\n",
       "      <th>ABEV3</th>\n",
       "      <th>AZUL4</th>\n",
       "      <th>B3SA3</th>\n",
       "      <th>BBAS3</th>\n",
       "      <th>BBDC3</th>\n",
       "      <th>BBDC4</th>\n",
       "      <th>BBSE3</th>\n",
       "      <th>BEEF3</th>\n",
       "      <th>BPAC11</th>\n",
       "      <th>BRAP4</th>\n",
       "      <th>...</th>\n",
       "      <th>TAEE11</th>\n",
       "      <th>TIMP3</th>\n",
       "      <th>TOTS3</th>\n",
       "      <th>UGPA3</th>\n",
       "      <th>USIM5</th>\n",
       "      <th>VALE3</th>\n",
       "      <th>VIVT4</th>\n",
       "      <th>VVAR3</th>\n",
       "      <th>WEGE3</th>\n",
       "      <th>YDUQ3</th>\n",
       "    </tr>\n",
       "    <tr>\n",
       "      <th>Date</th>\n",
       "      <th></th>\n",
       "      <th></th>\n",
       "      <th></th>\n",
       "      <th></th>\n",
       "      <th></th>\n",
       "      <th></th>\n",
       "      <th></th>\n",
       "      <th></th>\n",
       "      <th></th>\n",
       "      <th></th>\n",
       "      <th></th>\n",
       "      <th></th>\n",
       "      <th></th>\n",
       "      <th></th>\n",
       "      <th></th>\n",
       "      <th></th>\n",
       "      <th></th>\n",
       "      <th></th>\n",
       "      <th></th>\n",
       "      <th></th>\n",
       "      <th></th>\n",
       "    </tr>\n",
       "  </thead>\n",
       "  <tbody>\n",
       "    <tr>\n",
       "      <td>2019-05-02</td>\n",
       "      <td>17.950001</td>\n",
       "      <td>34.599998</td>\n",
       "      <td>33.900002</td>\n",
       "      <td>49.790001</td>\n",
       "      <td>31.120001</td>\n",
       "      <td>35.599998</td>\n",
       "      <td>28.420000</td>\n",
       "      <td>8.50550</td>\n",
       "      <td>40.849998</td>\n",
       "      <td>30.290001</td>\n",
       "      <td>...</td>\n",
       "      <td>26.450001</td>\n",
       "      <td>11.55</td>\n",
       "      <td>43.956501</td>\n",
       "      <td>21.469999</td>\n",
       "      <td>8.45</td>\n",
       "      <td>48.939999</td>\n",
       "      <td>45.910000</td>\n",
       "      <td>4.140000</td>\n",
       "      <td>18.770000</td>\n",
       "      <td>27.049999</td>\n",
       "    </tr>\n",
       "    <tr>\n",
       "      <td>2019-05-03</td>\n",
       "      <td>17.920000</td>\n",
       "      <td>36.080002</td>\n",
       "      <td>34.070000</td>\n",
       "      <td>50.080002</td>\n",
       "      <td>31.730000</td>\n",
       "      <td>35.959999</td>\n",
       "      <td>28.030001</td>\n",
       "      <td>8.62350</td>\n",
       "      <td>40.549999</td>\n",
       "      <td>31.389999</td>\n",
       "      <td>...</td>\n",
       "      <td>26.200001</td>\n",
       "      <td>11.48</td>\n",
       "      <td>42.409401</td>\n",
       "      <td>21.209999</td>\n",
       "      <td>8.87</td>\n",
       "      <td>50.400002</td>\n",
       "      <td>45.919998</td>\n",
       "      <td>4.520000</td>\n",
       "      <td>18.650000</td>\n",
       "      <td>26.440001</td>\n",
       "    </tr>\n",
       "    <tr>\n",
       "      <td>2019-05-06</td>\n",
       "      <td>18.059999</td>\n",
       "      <td>35.000000</td>\n",
       "      <td>33.700001</td>\n",
       "      <td>49.369999</td>\n",
       "      <td>30.700001</td>\n",
       "      <td>34.990002</td>\n",
       "      <td>28.520000</td>\n",
       "      <td>8.72182</td>\n",
       "      <td>40.299999</td>\n",
       "      <td>30.760000</td>\n",
       "      <td>...</td>\n",
       "      <td>25.950001</td>\n",
       "      <td>11.43</td>\n",
       "      <td>42.020199</td>\n",
       "      <td>21.260000</td>\n",
       "      <td>8.78</td>\n",
       "      <td>49.660000</td>\n",
       "      <td>45.509998</td>\n",
       "      <td>4.560000</td>\n",
       "      <td>18.360001</td>\n",
       "      <td>26.100000</td>\n",
       "    </tr>\n",
       "    <tr>\n",
       "      <td>2019-05-07</td>\n",
       "      <td>17.650000</td>\n",
       "      <td>35.279999</td>\n",
       "      <td>33.660000</td>\n",
       "      <td>49.490002</td>\n",
       "      <td>27.518200</td>\n",
       "      <td>31.609100</td>\n",
       "      <td>27.580000</td>\n",
       "      <td>8.55466</td>\n",
       "      <td>40.099998</td>\n",
       "      <td>30.980000</td>\n",
       "      <td>...</td>\n",
       "      <td>26.070000</td>\n",
       "      <td>11.47</td>\n",
       "      <td>40.822399</td>\n",
       "      <td>21.400000</td>\n",
       "      <td>8.46</td>\n",
       "      <td>49.700001</td>\n",
       "      <td>45.849998</td>\n",
       "      <td>4.720000</td>\n",
       "      <td>18.139999</td>\n",
       "      <td>26.650000</td>\n",
       "    </tr>\n",
       "    <tr>\n",
       "      <td>2019-05-08</td>\n",
       "      <td>17.920000</td>\n",
       "      <td>37.000000</td>\n",
       "      <td>34.349998</td>\n",
       "      <td>50.590000</td>\n",
       "      <td>30.980000</td>\n",
       "      <td>35.490002</td>\n",
       "      <td>27.430000</td>\n",
       "      <td>8.56450</td>\n",
       "      <td>39.849998</td>\n",
       "      <td>30.580000</td>\n",
       "      <td>...</td>\n",
       "      <td>26.389999</td>\n",
       "      <td>10.95</td>\n",
       "      <td>39.425098</td>\n",
       "      <td>21.730000</td>\n",
       "      <td>8.58</td>\n",
       "      <td>49.000000</td>\n",
       "      <td>45.750000</td>\n",
       "      <td>4.530000</td>\n",
       "      <td>18.610001</td>\n",
       "      <td>27.309999</td>\n",
       "    </tr>\n",
       "    <tr>\n",
       "      <td>...</td>\n",
       "      <td>...</td>\n",
       "      <td>...</td>\n",
       "      <td>...</td>\n",
       "      <td>...</td>\n",
       "      <td>...</td>\n",
       "      <td>...</td>\n",
       "      <td>...</td>\n",
       "      <td>...</td>\n",
       "      <td>...</td>\n",
       "      <td>...</td>\n",
       "      <td>...</td>\n",
       "      <td>...</td>\n",
       "      <td>...</td>\n",
       "      <td>...</td>\n",
       "      <td>...</td>\n",
       "      <td>...</td>\n",
       "      <td>...</td>\n",
       "      <td>...</td>\n",
       "      <td>...</td>\n",
       "      <td>...</td>\n",
       "      <td>...</td>\n",
       "    </tr>\n",
       "    <tr>\n",
       "      <td>2020-07-29</td>\n",
       "      <td>15.150000</td>\n",
       "      <td>20.959999</td>\n",
       "      <td>64.629997</td>\n",
       "      <td>35.950001</td>\n",
       "      <td>22.059999</td>\n",
       "      <td>24.260000</td>\n",
       "      <td>28.240000</td>\n",
       "      <td>14.09000</td>\n",
       "      <td>87.830002</td>\n",
       "      <td>44.029999</td>\n",
       "      <td>...</td>\n",
       "      <td>28.940001</td>\n",
       "      <td>14.89</td>\n",
       "      <td>26.090000</td>\n",
       "      <td>19.450001</td>\n",
       "      <td>8.15</td>\n",
       "      <td>62.950001</td>\n",
       "      <td>50.599998</td>\n",
       "      <td>20.120001</td>\n",
       "      <td>66.980003</td>\n",
       "      <td>33.480000</td>\n",
       "    </tr>\n",
       "    <tr>\n",
       "      <td>2020-07-30</td>\n",
       "      <td>14.550000</td>\n",
       "      <td>21.020000</td>\n",
       "      <td>64.610001</td>\n",
       "      <td>34.799999</td>\n",
       "      <td>21.500000</td>\n",
       "      <td>23.410000</td>\n",
       "      <td>28.070000</td>\n",
       "      <td>13.97000</td>\n",
       "      <td>86.860001</td>\n",
       "      <td>42.860001</td>\n",
       "      <td>...</td>\n",
       "      <td>29.200001</td>\n",
       "      <td>14.80</td>\n",
       "      <td>26.120001</td>\n",
       "      <td>19.750000</td>\n",
       "      <td>8.21</td>\n",
       "      <td>61.270000</td>\n",
       "      <td>51.130001</td>\n",
       "      <td>20.200001</td>\n",
       "      <td>68.000000</td>\n",
       "      <td>35.090000</td>\n",
       "    </tr>\n",
       "    <tr>\n",
       "      <td>2020-07-31</td>\n",
       "      <td>13.900000</td>\n",
       "      <td>20.309999</td>\n",
       "      <td>63.439999</td>\n",
       "      <td>33.580002</td>\n",
       "      <td>20.730000</td>\n",
       "      <td>22.440001</td>\n",
       "      <td>27.830000</td>\n",
       "      <td>13.58000</td>\n",
       "      <td>86.419998</td>\n",
       "      <td>43.049999</td>\n",
       "      <td>...</td>\n",
       "      <td>29.030001</td>\n",
       "      <td>15.75</td>\n",
       "      <td>25.830000</td>\n",
       "      <td>18.940001</td>\n",
       "      <td>8.13</td>\n",
       "      <td>60.709999</td>\n",
       "      <td>52.650002</td>\n",
       "      <td>19.520000</td>\n",
       "      <td>67.349998</td>\n",
       "      <td>33.889999</td>\n",
       "    </tr>\n",
       "    <tr>\n",
       "      <td>2020-08-03</td>\n",
       "      <td>13.720000</td>\n",
       "      <td>20.100000</td>\n",
       "      <td>63.889999</td>\n",
       "      <td>34.349998</td>\n",
       "      <td>20.650000</td>\n",
       "      <td>22.230000</td>\n",
       "      <td>28.270000</td>\n",
       "      <td>13.51000</td>\n",
       "      <td>89.750000</td>\n",
       "      <td>43.240002</td>\n",
       "      <td>...</td>\n",
       "      <td>28.650000</td>\n",
       "      <td>15.28</td>\n",
       "      <td>25.750000</td>\n",
       "      <td>18.959999</td>\n",
       "      <td>8.40</td>\n",
       "      <td>60.680000</td>\n",
       "      <td>51.000000</td>\n",
       "      <td>20.059999</td>\n",
       "      <td>66.699997</td>\n",
       "      <td>33.750000</td>\n",
       "    </tr>\n",
       "    <tr>\n",
       "      <td>2020-08-04</td>\n",
       "      <td>13.430000</td>\n",
       "      <td>20.010000</td>\n",
       "      <td>63.450001</td>\n",
       "      <td>33.700001</td>\n",
       "      <td>20.059999</td>\n",
       "      <td>21.709999</td>\n",
       "      <td>28.270000</td>\n",
       "      <td>13.15000</td>\n",
       "      <td>87.260002</td>\n",
       "      <td>42.900002</td>\n",
       "      <td>...</td>\n",
       "      <td>28.530001</td>\n",
       "      <td>15.21</td>\n",
       "      <td>25.870001</td>\n",
       "      <td>18.549999</td>\n",
       "      <td>8.13</td>\n",
       "      <td>59.840000</td>\n",
       "      <td>50.639999</td>\n",
       "      <td>19.870001</td>\n",
       "      <td>66.279999</td>\n",
       "      <td>32.730000</td>\n",
       "    </tr>\n",
       "  </tbody>\n",
       "</table>\n",
       "<p>315 rows × 75 columns</p>\n",
       "</div>"
      ],
      "text/plain": [
       "                ABEV3      AZUL4      B3SA3      BBAS3      BBDC3      BBDC4  \\\n",
       "Date                                                                           \n",
       "2019-05-02  17.950001  34.599998  33.900002  49.790001  31.120001  35.599998   \n",
       "2019-05-03  17.920000  36.080002  34.070000  50.080002  31.730000  35.959999   \n",
       "2019-05-06  18.059999  35.000000  33.700001  49.369999  30.700001  34.990002   \n",
       "2019-05-07  17.650000  35.279999  33.660000  49.490002  27.518200  31.609100   \n",
       "2019-05-08  17.920000  37.000000  34.349998  50.590000  30.980000  35.490002   \n",
       "...               ...        ...        ...        ...        ...        ...   \n",
       "2020-07-29  15.150000  20.959999  64.629997  35.950001  22.059999  24.260000   \n",
       "2020-07-30  14.550000  21.020000  64.610001  34.799999  21.500000  23.410000   \n",
       "2020-07-31  13.900000  20.309999  63.439999  33.580002  20.730000  22.440001   \n",
       "2020-08-03  13.720000  20.100000  63.889999  34.349998  20.650000  22.230000   \n",
       "2020-08-04  13.430000  20.010000  63.450001  33.700001  20.059999  21.709999   \n",
       "\n",
       "                BBSE3     BEEF3     BPAC11      BRAP4  ...     TAEE11  TIMP3  \\\n",
       "Date                                                   ...                     \n",
       "2019-05-02  28.420000   8.50550  40.849998  30.290001  ...  26.450001  11.55   \n",
       "2019-05-03  28.030001   8.62350  40.549999  31.389999  ...  26.200001  11.48   \n",
       "2019-05-06  28.520000   8.72182  40.299999  30.760000  ...  25.950001  11.43   \n",
       "2019-05-07  27.580000   8.55466  40.099998  30.980000  ...  26.070000  11.47   \n",
       "2019-05-08  27.430000   8.56450  39.849998  30.580000  ...  26.389999  10.95   \n",
       "...               ...       ...        ...        ...  ...        ...    ...   \n",
       "2020-07-29  28.240000  14.09000  87.830002  44.029999  ...  28.940001  14.89   \n",
       "2020-07-30  28.070000  13.97000  86.860001  42.860001  ...  29.200001  14.80   \n",
       "2020-07-31  27.830000  13.58000  86.419998  43.049999  ...  29.030001  15.75   \n",
       "2020-08-03  28.270000  13.51000  89.750000  43.240002  ...  28.650000  15.28   \n",
       "2020-08-04  28.270000  13.15000  87.260002  42.900002  ...  28.530001  15.21   \n",
       "\n",
       "                TOTS3      UGPA3  USIM5      VALE3      VIVT4      VVAR3  \\\n",
       "Date                                                                       \n",
       "2019-05-02  43.956501  21.469999   8.45  48.939999  45.910000   4.140000   \n",
       "2019-05-03  42.409401  21.209999   8.87  50.400002  45.919998   4.520000   \n",
       "2019-05-06  42.020199  21.260000   8.78  49.660000  45.509998   4.560000   \n",
       "2019-05-07  40.822399  21.400000   8.46  49.700001  45.849998   4.720000   \n",
       "2019-05-08  39.425098  21.730000   8.58  49.000000  45.750000   4.530000   \n",
       "...               ...        ...    ...        ...        ...        ...   \n",
       "2020-07-29  26.090000  19.450001   8.15  62.950001  50.599998  20.120001   \n",
       "2020-07-30  26.120001  19.750000   8.21  61.270000  51.130001  20.200001   \n",
       "2020-07-31  25.830000  18.940001   8.13  60.709999  52.650002  19.520000   \n",
       "2020-08-03  25.750000  18.959999   8.40  60.680000  51.000000  20.059999   \n",
       "2020-08-04  25.870001  18.549999   8.13  59.840000  50.639999  19.870001   \n",
       "\n",
       "                WEGE3      YDUQ3  \n",
       "Date                              \n",
       "2019-05-02  18.770000  27.049999  \n",
       "2019-05-03  18.650000  26.440001  \n",
       "2019-05-06  18.360001  26.100000  \n",
       "2019-05-07  18.139999  26.650000  \n",
       "2019-05-08  18.610001  27.309999  \n",
       "...               ...        ...  \n",
       "2020-07-29  66.980003  33.480000  \n",
       "2020-07-30  68.000000  35.090000  \n",
       "2020-07-31  67.349998  33.889999  \n",
       "2020-08-03  66.699997  33.750000  \n",
       "2020-08-04  66.279999  32.730000  \n",
       "\n",
       "[315 rows x 75 columns]"
      ]
     },
     "execution_count": 7,
     "metadata": {},
     "output_type": "execute_result"
    }
   ],
   "source": [
    "historic"
   ]
  },
  {
   "cell_type": "markdown",
   "metadata": {},
   "source": [
    "Tratar os dados faltantes, vou add um valor médio para todos os faltantes.. é o jeito"
   ]
  },
  {
   "cell_type": "code",
   "execution_count": 8,
   "metadata": {},
   "outputs": [
    {
     "data": {
      "text/plain": [
       "399"
      ]
     },
     "execution_count": 8,
     "metadata": {},
     "output_type": "execute_result"
    }
   ],
   "source": [
    "historic.isnull().values.sum()"
   ]
  },
  {
   "cell_type": "code",
   "execution_count": 9,
   "metadata": {},
   "outputs": [
    {
     "data": {
      "text/plain": [
       "[['NTCO3', 161], ['PCAR3', 161], ['YDUQ3', 5]]"
      ]
     },
     "execution_count": 9,
     "metadata": {},
     "output_type": "execute_result"
    }
   ],
   "source": [
    "rows=[]\n",
    "indexs = np.arange(0, len(historic))\n",
    "for col in historic.columns:\n",
    "    count = historic[col].isnull().sum()\n",
    "    if (count > 1):\n",
    "        rows.append([col, count])\n",
    "rows"
   ]
  },
  {
   "cell_type": "code",
   "execution_count": 10,
   "metadata": {},
   "outputs": [],
   "source": [
    "for ro in rows:\n",
    "    del historic[ro[0]]"
   ]
  },
  {
   "cell_type": "code",
   "execution_count": 11,
   "metadata": {},
   "outputs": [
    {
     "name": "stdout",
     "output_type": "stream",
     "text": [
      "Tinha 315, removido 1 ln, restou 314\n"
     ]
    }
   ],
   "source": [
    "having = historic.shape[0]\n",
    "historic.dropna(inplace=True)\n",
    "has = historic.shape[0]\n",
    "print('Tinha {}, removido {} ln, restou {}'.format(having, having-has, has))"
   ]
  },
  {
   "cell_type": "code",
   "execution_count": 12,
   "metadata": {},
   "outputs": [
    {
     "data": {
      "text/plain": [
       "0"
      ]
     },
     "execution_count": 12,
     "metadata": {},
     "output_type": "execute_result"
    }
   ],
   "source": [
    "historic.isnull().sum().sum()"
   ]
  },
  {
   "cell_type": "code",
   "execution_count": 13,
   "metadata": {},
   "outputs": [
    {
     "name": "stdout",
     "output_type": "stream",
     "text": [
      "Dataset salvo com sucesso!!!\n"
     ]
    }
   ],
   "source": [
    "historic.to_csv('../datasets/data_yahoo.csv')\n",
    "print(\"Dataset salvo com sucesso!!!\")"
   ]
  },
  {
   "cell_type": "code",
   "execution_count": null,
   "metadata": {},
   "outputs": [],
   "source": []
  }
 ],
 "metadata": {
  "kernelspec": {
   "display_name": "Python 3",
   "language": "python",
   "name": "python3"
  },
  "language_info": {
   "codemirror_mode": {
    "name": "ipython",
    "version": 3
   },
   "file_extension": ".py",
   "mimetype": "text/x-python",
   "name": "python",
   "nbconvert_exporter": "python",
   "pygments_lexer": "ipython3",
   "version": "3.7.4"
  }
 },
 "nbformat": 4,
 "nbformat_minor": 2
}
