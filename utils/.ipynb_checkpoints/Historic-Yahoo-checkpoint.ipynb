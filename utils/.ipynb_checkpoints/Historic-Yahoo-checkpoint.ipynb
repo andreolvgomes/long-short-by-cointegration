{
 "cells": [
  {
   "cell_type": "markdown",
   "metadata": {},
   "source": [
    "## Download do Histórico"
   ]
  },
  {
   "cell_type": "code",
   "execution_count": 1,
   "metadata": {},
   "outputs": [],
   "source": [
    "#https://aroussi.com/post/python-yahoo-finance\n",
    "import pandas as pd\n",
    "import yfinance as yf\n",
    "import matplotlib.pyplot as plt\n",
    "import pandas_datareader.data as web\n",
    "import numpy as np\n",
    "yf.pdr_override()"
   ]
  },
  {
   "cell_type": "code",
   "execution_count": 2,
   "metadata": {},
   "outputs": [
    {
     "data": {
      "text/plain": [
       "(75, ['ABEV3.SA', 'AZUL4.SA', 'B3SA3.SA', 'BBAS3.SA', 'BBDC3.SA'])"
      ]
     },
     "execution_count": 2,
     "metadata": {},
     "output_type": "execute_result"
    }
   ],
   "source": [
    "tickers = pd.read_csv('../datasets/composicao_indice.csv',names=['Código'])\n",
    "tickers['Código'] = tickers['Código'] + '.SA'\n",
    "tickers = tickers['Código'].tolist()\n",
    "len(tickers), tickers[0:5]"
   ]
  },
  {
   "cell_type": "code",
   "execution_count": 3,
   "metadata": {},
   "outputs": [],
   "source": [
    "#tickers = ['TAEE11.SA', 'CSAN3.SA', 'ENGI11.SA', 'USIM5.SA', 'FLRY3.SA', 'VVAR3.SA']\n",
    "#tickers=['BOVA11.SA']\n",
    "#historic = pd.read_csv('../datasets/data_yahoo.csv')"
   ]
  },
  {
   "cell_type": "code",
   "execution_count": 4,
   "metadata": {},
   "outputs": [
    {
     "name": "stdout",
     "output_type": "stream",
     "text": [
      "[*********************100%***********************]  75 of 75 completed\n"
     ]
    },
    {
     "data": {
      "text/plain": [
       "(398, 75)"
      ]
     },
     "execution_count": 4,
     "metadata": {},
     "output_type": "execute_result"
    }
   ],
   "source": [
    "#start=\"2019-10-01\"\n",
    "#historic = web.get_data_yahoo(tickers, start=\"2019-01-01\")['Close']\n",
    "historic = web.get_data_yahoo(tickers, start=\"2019-05-01\")['Adj Close']\n",
    "historic.shape"
   ]
  },
  {
   "cell_type": "code",
   "execution_count": 5,
   "metadata": {},
   "outputs": [],
   "source": [
    "hist_bkp = historic.copy()"
   ]
  },
  {
   "cell_type": "code",
   "execution_count": 16,
   "metadata": {},
   "outputs": [],
   "source": [
    "#historic=hist_bkp"
   ]
  },
  {
   "cell_type": "code",
   "execution_count": 17,
   "metadata": {},
   "outputs": [
    {
     "data": {
      "text/plain": [
       "\"historic.columns =['BOVA11']\\nhistoric.index[-1]\""
      ]
     },
     "execution_count": 17,
     "metadata": {},
     "output_type": "execute_result"
    }
   ],
   "source": [
    "\"\"\"historic.columns =['BOVA11']\n",
    "historic.index[-1]\"\"\""
   ]
  },
  {
   "cell_type": "markdown",
   "metadata": {},
   "source": [
    "#### Renomear as colunas removendo o .SA"
   ]
  },
  {
   "cell_type": "code",
   "execution_count": 18,
   "metadata": {},
   "outputs": [],
   "source": [
    "columns=[]\n",
    "for col in historic.columns:\n",
    "    columns.append(col.replace('.SA', ''))\n",
    "historic.columns = columns"
   ]
  },
  {
   "cell_type": "code",
   "execution_count": 19,
   "metadata": {},
   "outputs": [],
   "source": [
    "#historic"
   ]
  },
  {
   "cell_type": "markdown",
   "metadata": {},
   "source": [
    "Tratar os dados faltantes, vou add um valor médio para todos os faltantes.. é o jeito"
   ]
  },
  {
   "cell_type": "code",
   "execution_count": 20,
   "metadata": {},
   "outputs": [
    {
     "data": {
      "text/plain": [
       "390"
      ]
     },
     "execution_count": 20,
     "metadata": {},
     "output_type": "execute_result"
    }
   ],
   "source": [
    "historic.isnull().values.sum()"
   ]
  },
  {
   "cell_type": "code",
   "execution_count": 22,
   "metadata": {},
   "outputs": [
    {
     "data": {
      "text/plain": [
       "[['ABEV3', 2],\n",
       " ['AZUL4', 2],\n",
       " ['B3SA3', 2],\n",
       " ['BBAS3', 2],\n",
       " ['BBDC3', 2],\n",
       " ['BBDC4', 2],\n",
       " ['BBSE3', 2],\n",
       " ['BEEF3', 2],\n",
       " ['BPAC11', 2],\n",
       " ['BRAP4', 2],\n",
       " ['BRDT3', 2],\n",
       " ['BRFS3', 2],\n",
       " ['BRKM5', 2],\n",
       " ['BRML3', 2],\n",
       " ['BTOW3', 2],\n",
       " ['CCRO3', 2],\n",
       " ['CIEL3', 2],\n",
       " ['CMIG4', 2],\n",
       " ['COGN3', 2],\n",
       " ['CPFE3', 2],\n",
       " ['CRFB3', 2],\n",
       " ['CSAN3', 2],\n",
       " ['CSNA3', 2],\n",
       " ['CVCB3', 2],\n",
       " ['CYRE3', 2],\n",
       " ['ECOR3', 2],\n",
       " ['EGIE3', 2],\n",
       " ['ELET3', 2],\n",
       " ['ELET6', 2],\n",
       " ['EMBR3', 2],\n",
       " ['ENBR3', 2],\n",
       " ['ENGI11', 2],\n",
       " ['EQTL3', 2],\n",
       " ['FLRY3', 2],\n",
       " ['GGBR4', 2],\n",
       " ['GNDI3', 2],\n",
       " ['GOAU4', 2],\n",
       " ['GOLL4', 2],\n",
       " ['HAPV3', 2],\n",
       " ['HGTX3', 2],\n",
       " ['HYPE3', 2],\n",
       " ['IGTA3', 2],\n",
       " ['IRBR3', 2],\n",
       " ['ITSA4', 2],\n",
       " ['ITUB4', 2],\n",
       " ['JBSS3', 2],\n",
       " ['KLBN11', 2],\n",
       " ['LAME4', 2],\n",
       " ['LREN3', 2],\n",
       " ['MGLU3', 2],\n",
       " ['MRFG3', 2],\n",
       " ['MRVE3', 2],\n",
       " ['MULT3', 2],\n",
       " ['NTCO3', 242],\n",
       " ['PCAR3', 2],\n",
       " ['PETR3', 2],\n",
       " ['PETR4', 2],\n",
       " ['QUAL3', 2],\n",
       " ['RADL3', 2],\n",
       " ['RAIL3', 2],\n",
       " ['RENT3', 2],\n",
       " ['SANB11', 2],\n",
       " ['SBSP3', 2],\n",
       " ['SULA11', 2],\n",
       " ['SUZB3', 2],\n",
       " ['TAEE11', 2],\n",
       " ['TIMP3', 2],\n",
       " ['TOTS3', 2],\n",
       " ['UGPA3', 2],\n",
       " ['USIM5', 2],\n",
       " ['VALE3', 2],\n",
       " ['VIVT4', 2],\n",
       " ['VVAR3', 2],\n",
       " ['WEGE3', 2],\n",
       " ['YDUQ3', 2]]"
      ]
     },
     "execution_count": 22,
     "metadata": {},
     "output_type": "execute_result"
    }
   ],
   "source": [
    "rows=[]\n",
    "indexs = np.arange(0, len(historic))\n",
    "for col in historic.columns:\n",
    "    count = historic[col].isnull().sum()\n",
    "    if (count > 1):\n",
    "        rows.append([col, count])\n",
    "rows"
   ]
  },
  {
   "cell_type": "code",
   "execution_count": 11,
   "metadata": {},
   "outputs": [],
   "source": [
    "for ro in rows:\n",
    "    del historic[ro[0]]"
   ]
  },
  {
   "cell_type": "code",
   "execution_count": 12,
   "metadata": {},
   "outputs": [
    {
     "name": "stdout",
     "output_type": "stream",
     "text": [
      "Tinha 398, removido 2 ln, restou 396\n"
     ]
    }
   ],
   "source": [
    "having = historic.shape[0]\n",
    "historic.dropna(inplace=True)\n",
    "has = historic.shape[0]\n",
    "print('Tinha {}, removido {} ln, restou {}'.format(having, having-has, has))"
   ]
  },
  {
   "cell_type": "code",
   "execution_count": 13,
   "metadata": {},
   "outputs": [
    {
     "data": {
      "text/plain": [
       "0"
      ]
     },
     "execution_count": 13,
     "metadata": {},
     "output_type": "execute_result"
    }
   ],
   "source": [
    "historic.isnull().sum().sum()"
   ]
  },
  {
   "cell_type": "code",
   "execution_count": 14,
   "metadata": {},
   "outputs": [
    {
     "name": "stdout",
     "output_type": "stream",
     "text": [
      "Dataset salvo com sucesso!!!\n"
     ]
    }
   ],
   "source": [
    "historic.to_csv('../datasets/data_yahoo.csv')\n",
    "print(\"Dataset salvo com sucesso!!!\")"
   ]
  },
  {
   "cell_type": "code",
   "execution_count": null,
   "metadata": {},
   "outputs": [],
   "source": []
  }
 ],
 "metadata": {
  "kernelspec": {
   "display_name": "Python 3",
   "language": "python",
   "name": "python3"
  },
  "language_info": {
   "codemirror_mode": {
    "name": "ipython",
    "version": 3
   },
   "file_extension": ".py",
   "mimetype": "text/x-python",
   "name": "python",
   "nbconvert_exporter": "python",
   "pygments_lexer": "ipython3",
   "version": "3.7.4"
  }
 },
 "nbformat": 4,
 "nbformat_minor": 2
}
