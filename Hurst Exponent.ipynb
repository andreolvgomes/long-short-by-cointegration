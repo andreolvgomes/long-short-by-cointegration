{
 "cells": [
  {
   "cell_type": "code",
   "execution_count": 1,
   "metadata": {},
   "outputs": [],
   "source": [
    "#https://robotwealth.com/demystifying-the-hurst-exponent-part-1/\n",
    "#https://robotwealth.com/demystifying-the-hurst-exponent-part-2/\n",
    "\n",
    "import pandas as pd\n",
    "import statsmodels.api as sm\n",
    "import numpy as np\n",
    "import statsmodels.tsa.stattools as ts"
   ]
  },
  {
   "cell_type": "code",
   "execution_count": 2,
   "metadata": {},
   "outputs": [
    {
     "name": "stderr",
     "output_type": "stream",
     "text": [
      "C:\\ProgramData\\Anaconda3\\lib\\site-packages\\numpy\\core\\fromnumeric.py:2389: FutureWarning: Method .ptp is deprecated and will be removed in a future version. Use numpy.ptp instead.\n",
      "  return ptp(axis=axis, out=out, **kwargs)\n"
     ]
    }
   ],
   "source": [
    "df = pd.read_csv('datasets/data.csv')\n",
    "data = df[['AALR3', 'ABCB4']]\n",
    "data.columns = ['y', 'x']\n",
    "x_var = sm.add_constant(data['x'])\n",
    "y_var = data['y']\n",
    "\n",
    "df = df[df.columns.difference(['Data'])]"
   ]
  },
  {
   "cell_type": "code",
   "execution_count": 4,
   "metadata": {},
   "outputs": [],
   "source": [
    "class Hurst():\n",
    "    \"\"\"\n",
    "    If Hurst Exponent is under the 0.5 value of a random walk, then the series is mean reverting\n",
    "    \"\"\"\n",
    "\n",
    "    def __init__(self):\n",
    "        self.h_min = 0.0\n",
    "        self.h_max = 0.4\n",
    "        self.look_back = 126\n",
    "        self.lag_max = 20#100\n",
    "        self.h_value = None\n",
    "    \n",
    "    def apply_hurst(self, time_series):\n",
    "        lags = range(2, self.lag_max)\n",
    "\n",
    "        tau = [np.sqrt(np.std(np.subtract(time_series[lag:], time_series[:-lag]))) for lag in lags]\n",
    "        poly = np.polyfit(np.log(lags), np.log(tau), 1)\n",
    "        self.h_value = poly[0]*2.0 \n",
    "\n",
    "    def use(self):\n",
    "        return (self.h_value < self.h_max) and (self.h_value > self.h_min)"
   ]
  },
  {
   "cell_type": "code",
   "execution_count": 19,
   "metadata": {},
   "outputs": [
    {
     "name": "stdout",
     "output_type": "stream",
     "text": [
      "0.6776821383134018\n"
     ]
    },
    {
     "name": "stderr",
     "output_type": "stream",
     "text": [
      "C:\\ProgramData\\Anaconda3\\lib\\site-packages\\ipykernel_launcher.py:2: FutureWarning: Method .as_matrix will be removed in a future version. Use .values instead.\n",
      "  \n"
     ]
    }
   ],
   "source": [
    "hurst = Hurst()\n",
    "hurst.apply_hurst(y_var.as_matrix())\n",
    "print(hurst.h_value)"
   ]
  },
  {
   "cell_type": "code",
   "execution_count": 36,
   "metadata": {},
   "outputs": [],
   "source": [
    "def hurst_ernie_chan(p):\n",
    "    lags = range(2, 20)\n",
    "    variancetau = []\n",
    "    for lag in lags: \n",
    "        #tau.append(lag)\n",
    "\n",
    "        # Compute the log returns on all days, then compute the variance on the difference in log returns\n",
    "        # call this pp or the price difference\n",
    "        pp = np.subtract(p[lag:], p[:-lag])\n",
    "        variancetau.append(np.var(pp))\n",
    "\n",
    "    # we now have a set of tau or lags and a corresponding set of variances.\n",
    "    # plot the log of those variance against the log of tau and get the slope\n",
    "    m = np.polyfit(np.log10(lags),np.log10(variancetau), 1)\n",
    "\n",
    "    hurst = m[0] / 2\n",
    "\n",
    "    return hurst"
   ]
  },
  {
   "cell_type": "code",
   "execution_count": 37,
   "metadata": {},
   "outputs": [
    {
     "name": "stderr",
     "output_type": "stream",
     "text": [
      "C:\\ProgramData\\Anaconda3\\lib\\site-packages\\ipykernel_launcher.py:1: FutureWarning: Method .as_matrix will be removed in a future version. Use .values instead.\n",
      "  \"\"\"Entry point for launching an IPython kernel.\n"
     ]
    },
    {
     "data": {
      "text/plain": [
       "2.7107285532536096"
      ]
     },
     "execution_count": 37,
     "metadata": {},
     "output_type": "execute_result"
    }
   ],
   "source": [
    "hurst_ernie_chan(y_var.as_matrix())"
   ]
  },
  {
   "cell_type": "code",
   "execution_count": 28,
   "metadata": {},
   "outputs": [
    {
     "name": "stderr",
     "output_type": "stream",
     "text": [
      "C:\\ProgramData\\Anaconda3\\lib\\site-packages\\ipykernel_launcher.py:5: FutureWarning: Method .as_matrix will be removed in a future version. Use .values instead.\n",
      "  \"\"\"\n"
     ]
    },
    {
     "data": {
      "image/png": "[encoded data removed]",
      "text/plain": [
       "<Figure size 432x288 with 1 Axes>"
      ]
     },
     "metadata": {
      "needs_background": "light"
     },
     "output_type": "display_data"
    },
    {
     "name": "stdout",
     "output_type": "stream",
     "text": [
      "hurst =  0.6776821383134018\n"
     ]
    }
   ],
   "source": [
    "#https://robotwealth.com/demystifying-the-hurst-exponent-part-1/\n",
    "from pylab import plot, show\n",
    "\n",
    "# first, create an arbitrary time series, ts\n",
    "ts = y_var.as_matrix()\n",
    "\n",
    "# calculate standard deviation of differenced series using various lags\n",
    "lags = range(2, 20)\n",
    "tau = [np.sqrt(np.std(np.subtract(ts[lag:], ts[:-lag]))) for lag in lags]\n",
    "# plot on log-log scale\n",
    "plot(np.log(lags), np.log(tau)); \n",
    "show()\n",
    "# calculate Hurst as slope of log-log plot\n",
    "m = np.polyfit(np.log(lags), np.log(tau), 1)\n",
    "hurst = m[0]*2.0\n",
    "print('hurst = ',hurst)"
   ]
  },
  {
   "cell_type": "code",
   "execution_count": null,
   "metadata": {},
   "outputs": [],
   "source": []
  }
 ],
 "metadata": {
  "kernelspec": {
   "display_name": "Python 3",
   "language": "python",
   "name": "python3"
  },
  "language_info": {
   "codemirror_mode": {
    "name": "ipython",
    "version": 3
   },
   "file_extension": ".py",
   "mimetype": "text/x-python",
   "name": "python",
   "nbconvert_exporter": "python",
   "pygments_lexer": "ipython3",
   "version": "3.7.4"
  }
 },
 "nbformat": 4,
 "nbformat_minor": 2
}
