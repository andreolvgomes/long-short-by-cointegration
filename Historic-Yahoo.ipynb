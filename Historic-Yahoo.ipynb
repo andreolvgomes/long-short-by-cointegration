{
 "cells": [
  {
   "cell_type": "markdown",
   "metadata": {},
   "source": [
    "## Download do Histórico"
   ]
  },
  {
   "cell_type": "code",
   "execution_count": 169,
   "metadata": {},
   "outputs": [],
   "source": [
    "#https://aroussi.com/post/python-yahoo-finance\n",
    "import pandas as pd\n",
    "import yfinance as yf\n",
    "import matplotlib.pyplot as plt\n",
    "import pandas_datareader.data as web\n",
    "import numpy as np\n",
    "yf.pdr_override()"
   ]
  },
  {
   "cell_type": "code",
   "execution_count": 163,
   "metadata": {},
   "outputs": [
    {
     "data": {
      "text/plain": [
       "(75, ['ABEV3.SA', 'AZUL4.SA', 'B3SA3.SA', 'BBAS3.SA', 'BBDC3.SA'])"
      ]
     },
     "execution_count": 163,
     "metadata": {},
     "output_type": "execute_result"
    }
   ],
   "source": [
    "tickers = pd.read_csv('datasets/composicao_indice.csv',names=['Código'])\n",
    "tickers['Código'] = tickers['Código'] + '.SA'\n",
    "tickers = tickers['Código'].tolist()\n",
    "len(tickers), tickers[0:5]"
   ]
  },
  {
   "cell_type": "code",
   "execution_count": 121,
   "metadata": {},
   "outputs": [],
   "source": [
    "#tickers = ['ABEV3.SA', 'AZUL4.SA', 'B3SA3.SA', 'BBAS3.SA', 'BBDC3.SA']"
   ]
  },
  {
   "cell_type": "code",
   "execution_count": 122,
   "metadata": {},
   "outputs": [
    {
     "name": "stdout",
     "output_type": "stream",
     "text": [
      "[*********************100%***********************]  75 of 75 completed\n"
     ]
    },
    {
     "data": {
      "text/plain": [
       "(277, 75)"
      ]
     },
     "execution_count": 122,
     "metadata": {},
     "output_type": "execute_result"
    }
   ],
   "source": [
    "#start=\"2019-10-01\"\n",
    "historic = web.get_data_yahoo(tickers, start=\"2019-05-01\")['Adj Close']\n",
    "#historic = web.get_data_yahoo(tickers, period='1y')['Adj Close']\n",
    "historic.shape"
   ]
  },
  {
   "cell_type": "markdown",
   "metadata": {},
   "source": [
    "#### Renomear as colunas removendo o .SA"
   ]
  },
  {
   "cell_type": "code",
   "execution_count": 123,
   "metadata": {},
   "outputs": [],
   "source": [
    "columns=[]\n",
    "for col in historic.columns:\n",
    "    columns.append(col.replace('.SA', ''))\n",
    "historic.columns = columns"
   ]
  },
  {
   "cell_type": "code",
   "execution_count": 124,
   "metadata": {},
   "outputs": [
    {
     "data": {
      "text/html": [
       "<div>\n",
       "<style scoped>\n",
       "    .dataframe tbody tr th:only-of-type {\n",
       "        vertical-align: middle;\n",
       "    }\n",
       "\n",
       "    .dataframe tbody tr th {\n",
       "        vertical-align: top;\n",
       "    }\n",
       "\n",
       "    .dataframe thead th {\n",
       "        text-align: right;\n",
       "    }\n",
       "</style>\n",
       "<table border=\"1\" class=\"dataframe\">\n",
       "  <thead>\n",
       "    <tr style=\"text-align: right;\">\n",
       "      <th></th>\n",
       "      <th>ABEV3</th>\n",
       "      <th>AZUL4</th>\n",
       "      <th>B3SA3</th>\n",
       "      <th>BBAS3</th>\n",
       "      <th>BBDC3</th>\n",
       "      <th>BBDC4</th>\n",
       "      <th>BBSE3</th>\n",
       "      <th>BEEF3</th>\n",
       "      <th>BPAC11</th>\n",
       "      <th>BRAP4</th>\n",
       "      <th>...</th>\n",
       "      <th>TAEE11</th>\n",
       "      <th>TIMP3</th>\n",
       "      <th>TOTS3</th>\n",
       "      <th>UGPA3</th>\n",
       "      <th>USIM5</th>\n",
       "      <th>VALE3</th>\n",
       "      <th>VIVT4</th>\n",
       "      <th>VVAR3</th>\n",
       "      <th>WEGE3</th>\n",
       "      <th>YDUQ3</th>\n",
       "    </tr>\n",
       "    <tr>\n",
       "      <th>Date</th>\n",
       "      <th></th>\n",
       "      <th></th>\n",
       "      <th></th>\n",
       "      <th></th>\n",
       "      <th></th>\n",
       "      <th></th>\n",
       "      <th></th>\n",
       "      <th></th>\n",
       "      <th></th>\n",
       "      <th></th>\n",
       "      <th></th>\n",
       "      <th></th>\n",
       "      <th></th>\n",
       "      <th></th>\n",
       "      <th></th>\n",
       "      <th></th>\n",
       "      <th></th>\n",
       "      <th></th>\n",
       "      <th></th>\n",
       "      <th></th>\n",
       "      <th></th>\n",
       "    </tr>\n",
       "  </thead>\n",
       "  <tbody>\n",
       "    <tr>\n",
       "      <td>2020-06-04</td>\n",
       "      <td>13.38</td>\n",
       "      <td>19.080000</td>\n",
       "      <td>49.580002</td>\n",
       "      <td>34.939999</td>\n",
       "      <td>19.990000</td>\n",
       "      <td>21.900000</td>\n",
       "      <td>28.049999</td>\n",
       "      <td>13.36</td>\n",
       "      <td>60.250000</td>\n",
       "      <td>36.799999</td>\n",
       "      <td>...</td>\n",
       "      <td>28.260000</td>\n",
       "      <td>14.13</td>\n",
       "      <td>21.690001</td>\n",
       "      <td>18.629999</td>\n",
       "      <td>6.88</td>\n",
       "      <td>55.660000</td>\n",
       "      <td>47.299999</td>\n",
       "      <td>13.95</td>\n",
       "      <td>43.799999</td>\n",
       "      <td>35.110001</td>\n",
       "    </tr>\n",
       "    <tr>\n",
       "      <td>2020-06-05</td>\n",
       "      <td>14.05</td>\n",
       "      <td>21.160000</td>\n",
       "      <td>49.070000</td>\n",
       "      <td>35.200001</td>\n",
       "      <td>20.450001</td>\n",
       "      <td>22.299999</td>\n",
       "      <td>28.490000</td>\n",
       "      <td>13.01</td>\n",
       "      <td>60.240002</td>\n",
       "      <td>36.060001</td>\n",
       "      <td>...</td>\n",
       "      <td>28.930000</td>\n",
       "      <td>14.60</td>\n",
       "      <td>20.760000</td>\n",
       "      <td>18.680000</td>\n",
       "      <td>6.90</td>\n",
       "      <td>54.610001</td>\n",
       "      <td>47.770000</td>\n",
       "      <td>14.85</td>\n",
       "      <td>44.330002</td>\n",
       "      <td>38.560001</td>\n",
       "    </tr>\n",
       "    <tr>\n",
       "      <td>2020-06-08</td>\n",
       "      <td>14.60</td>\n",
       "      <td>27.350000</td>\n",
       "      <td>51.720001</td>\n",
       "      <td>36.389999</td>\n",
       "      <td>21.430000</td>\n",
       "      <td>23.469999</td>\n",
       "      <td>28.400000</td>\n",
       "      <td>13.05</td>\n",
       "      <td>66.019997</td>\n",
       "      <td>35.660000</td>\n",
       "      <td>...</td>\n",
       "      <td>28.940001</td>\n",
       "      <td>14.44</td>\n",
       "      <td>21.030001</td>\n",
       "      <td>19.129999</td>\n",
       "      <td>7.45</td>\n",
       "      <td>54.779999</td>\n",
       "      <td>48.540001</td>\n",
       "      <td>15.50</td>\n",
       "      <td>45.799999</td>\n",
       "      <td>37.150002</td>\n",
       "    </tr>\n",
       "    <tr>\n",
       "      <td>2020-06-09</td>\n",
       "      <td>14.32</td>\n",
       "      <td>25.780001</td>\n",
       "      <td>51.070000</td>\n",
       "      <td>35.790001</td>\n",
       "      <td>21.209999</td>\n",
       "      <td>22.950001</td>\n",
       "      <td>27.620001</td>\n",
       "      <td>12.59</td>\n",
       "      <td>65.580002</td>\n",
       "      <td>36.139999</td>\n",
       "      <td>...</td>\n",
       "      <td>28.809999</td>\n",
       "      <td>14.48</td>\n",
       "      <td>21.110001</td>\n",
       "      <td>19.270000</td>\n",
       "      <td>7.30</td>\n",
       "      <td>54.990002</td>\n",
       "      <td>49.000000</td>\n",
       "      <td>14.97</td>\n",
       "      <td>45.810001</td>\n",
       "      <td>36.639999</td>\n",
       "    </tr>\n",
       "    <tr>\n",
       "      <td>2020-06-10</td>\n",
       "      <td>13.99</td>\n",
       "      <td>23.469999</td>\n",
       "      <td>50.740002</td>\n",
       "      <td>34.299999</td>\n",
       "      <td>20.500000</td>\n",
       "      <td>21.990000</td>\n",
       "      <td>27.120001</td>\n",
       "      <td>12.77</td>\n",
       "      <td>63.360001</td>\n",
       "      <td>35.799999</td>\n",
       "      <td>...</td>\n",
       "      <td>29.049999</td>\n",
       "      <td>14.30</td>\n",
       "      <td>21.580000</td>\n",
       "      <td>18.510000</td>\n",
       "      <td>6.94</td>\n",
       "      <td>54.480000</td>\n",
       "      <td>49.590000</td>\n",
       "      <td>14.98</td>\n",
       "      <td>45.099998</td>\n",
       "      <td>34.900002</td>\n",
       "    </tr>\n",
       "  </tbody>\n",
       "</table>\n",
       "<p>5 rows × 75 columns</p>\n",
       "</div>"
      ],
      "text/plain": [
       "            ABEV3      AZUL4      B3SA3      BBAS3      BBDC3      BBDC4  \\\n",
       "Date                                                                       \n",
       "2020-06-04  13.38  19.080000  49.580002  34.939999  19.990000  21.900000   \n",
       "2020-06-05  14.05  21.160000  49.070000  35.200001  20.450001  22.299999   \n",
       "2020-06-08  14.60  27.350000  51.720001  36.389999  21.430000  23.469999   \n",
       "2020-06-09  14.32  25.780001  51.070000  35.790001  21.209999  22.950001   \n",
       "2020-06-10  13.99  23.469999  50.740002  34.299999  20.500000  21.990000   \n",
       "\n",
       "                BBSE3  BEEF3     BPAC11      BRAP4  ...     TAEE11  TIMP3  \\\n",
       "Date                                                ...                     \n",
       "2020-06-04  28.049999  13.36  60.250000  36.799999  ...  28.260000  14.13   \n",
       "2020-06-05  28.490000  13.01  60.240002  36.060001  ...  28.930000  14.60   \n",
       "2020-06-08  28.400000  13.05  66.019997  35.660000  ...  28.940001  14.44   \n",
       "2020-06-09  27.620001  12.59  65.580002  36.139999  ...  28.809999  14.48   \n",
       "2020-06-10  27.120001  12.77  63.360001  35.799999  ...  29.049999  14.30   \n",
       "\n",
       "                TOTS3      UGPA3  USIM5      VALE3      VIVT4  VVAR3  \\\n",
       "Date                                                                   \n",
       "2020-06-04  21.690001  18.629999   6.88  55.660000  47.299999  13.95   \n",
       "2020-06-05  20.760000  18.680000   6.90  54.610001  47.770000  14.85   \n",
       "2020-06-08  21.030001  19.129999   7.45  54.779999  48.540001  15.50   \n",
       "2020-06-09  21.110001  19.270000   7.30  54.990002  49.000000  14.97   \n",
       "2020-06-10  21.580000  18.510000   6.94  54.480000  49.590000  14.98   \n",
       "\n",
       "                WEGE3      YDUQ3  \n",
       "Date                              \n",
       "2020-06-04  43.799999  35.110001  \n",
       "2020-06-05  44.330002  38.560001  \n",
       "2020-06-08  45.799999  37.150002  \n",
       "2020-06-09  45.810001  36.639999  \n",
       "2020-06-10  45.099998  34.900002  \n",
       "\n",
       "[5 rows x 75 columns]"
      ]
     },
     "execution_count": 124,
     "metadata": {},
     "output_type": "execute_result"
    }
   ],
   "source": [
    "historic.tail()"
   ]
  },
  {
   "cell_type": "code",
   "execution_count": 77,
   "metadata": {},
   "outputs": [
    {
     "name": "stdout",
     "output_type": "stream",
     "text": [
      "Dataset salvo com sucesso!!!\n"
     ]
    }
   ],
   "source": [
    "historic.to_csv('datasets/data_yahoo.csv')\n",
    "print(\"Dataset salvo com sucesso!!!\")"
   ]
  },
  {
   "cell_type": "markdown",
   "metadata": {},
   "source": [
    "Tratar os dados faltantes, vou add um valor médio para todos os faltantes.. é o jeito"
   ]
  },
  {
   "cell_type": "code",
   "execution_count": 196,
   "metadata": {},
   "outputs": [],
   "source": [
    "# Lista de missing values:\n",
    "missing_values = ['n/a','na','--','.']\n",
    "historic = pd.read_csv('datasets/data_yahoo.csv',na_values=missing_values)"
   ]
  },
  {
   "cell_type": "code",
   "execution_count": 221,
   "metadata": {},
   "outputs": [
    {
     "data": {
      "text/plain": [
       "(249, 75)"
      ]
     },
     "execution_count": 221,
     "metadata": {},
     "output_type": "execute_result"
    }
   ],
   "source": [
    "historic.shape"
   ]
  },
  {
   "cell_type": "code",
   "execution_count": 200,
   "metadata": {},
   "outputs": [
    {
     "data": {
      "text/html": [
       "<div>\n",
       "<style scoped>\n",
       "    .dataframe tbody tr th:only-of-type {\n",
       "        vertical-align: middle;\n",
       "    }\n",
       "\n",
       "    .dataframe tbody tr th {\n",
       "        vertical-align: top;\n",
       "    }\n",
       "\n",
       "    .dataframe thead th {\n",
       "        text-align: right;\n",
       "    }\n",
       "</style>\n",
       "<table border=\"1\" class=\"dataframe\">\n",
       "  <thead>\n",
       "    <tr style=\"text-align: right;\">\n",
       "      <th></th>\n",
       "      <th>Date</th>\n",
       "      <th>ABEV3</th>\n",
       "      <th>AZUL4</th>\n",
       "      <th>B3SA3</th>\n",
       "      <th>BBAS3</th>\n",
       "      <th>BBDC3</th>\n",
       "      <th>BBDC4</th>\n",
       "      <th>BBSE3</th>\n",
       "      <th>BEEF3</th>\n",
       "      <th>BPAC11</th>\n",
       "      <th>...</th>\n",
       "      <th>TAEE11</th>\n",
       "      <th>TIMP3</th>\n",
       "      <th>TOTS3</th>\n",
       "      <th>UGPA3</th>\n",
       "      <th>USIM5</th>\n",
       "      <th>VALE3</th>\n",
       "      <th>VIVT4</th>\n",
       "      <th>VVAR3</th>\n",
       "      <th>WEGE3</th>\n",
       "      <th>YDUQ3</th>\n",
       "    </tr>\n",
       "  </thead>\n",
       "  <tbody>\n",
       "    <tr>\n",
       "      <td>177</td>\n",
       "      <td>2020-02-26</td>\n",
       "      <td>NaN</td>\n",
       "      <td>NaN</td>\n",
       "      <td>NaN</td>\n",
       "      <td>NaN</td>\n",
       "      <td>NaN</td>\n",
       "      <td>NaN</td>\n",
       "      <td>NaN</td>\n",
       "      <td>NaN</td>\n",
       "      <td>NaN</td>\n",
       "      <td>...</td>\n",
       "      <td>NaN</td>\n",
       "      <td>NaN</td>\n",
       "      <td>NaN</td>\n",
       "      <td>NaN</td>\n",
       "      <td>NaN</td>\n",
       "      <td>NaN</td>\n",
       "      <td>NaN</td>\n",
       "      <td>NaN</td>\n",
       "      <td>NaN</td>\n",
       "      <td>NaN</td>\n",
       "    </tr>\n",
       "  </tbody>\n",
       "</table>\n",
       "<p>1 rows × 76 columns</p>\n",
       "</div>"
      ],
      "text/plain": [
       "           Date  ABEV3  AZUL4  B3SA3  BBAS3  BBDC3  BBDC4  BBSE3  BEEF3  \\\n",
       "177  2020-02-26    NaN    NaN    NaN    NaN    NaN    NaN    NaN    NaN   \n",
       "\n",
       "     BPAC11  ...  TAEE11  TIMP3  TOTS3  UGPA3  USIM5  VALE3  VIVT4  VVAR3  \\\n",
       "177     NaN  ...     NaN    NaN    NaN    NaN    NaN    NaN    NaN    NaN   \n",
       "\n",
       "     WEGE3  YDUQ3  \n",
       "177    NaN    NaN  \n",
       "\n",
       "[1 rows x 76 columns]"
      ]
     },
     "execution_count": 200,
     "metadata": {},
     "output_type": "execute_result"
    }
   ],
   "source": [
    "historic.loc[historic['VVAR3'].isnull()==True]"
   ]
  },
  {
   "cell_type": "code",
   "execution_count": 126,
   "metadata": {},
   "outputs": [
    {
     "data": {
      "text/plain": [
       "235"
      ]
     },
     "execution_count": 126,
     "metadata": {},
     "output_type": "execute_result"
    }
   ],
   "source": [
    "historic.isnull().values.sum()"
   ]
  },
  {
   "cell_type": "code",
   "execution_count": 220,
   "metadata": {},
   "outputs": [],
   "source": [
    "#historic.dropna(inplace=True)"
   ]
  },
  {
   "cell_type": "code",
   "execution_count": 219,
   "metadata": {},
   "outputs": [
    {
     "data": {
      "text/plain": [
       "Date     False\n",
       "ABEV3    False\n",
       "AZUL4    False\n",
       "B3SA3    False\n",
       "BBAS3    False\n",
       "         ...  \n",
       "VALE3    False\n",
       "VIVT4    False\n",
       "VVAR3    False\n",
       "WEGE3    False\n",
       "YDUQ3    False\n",
       "Length: 75, dtype: bool"
      ]
     },
     "execution_count": 219,
     "metadata": {},
     "output_type": "execute_result"
    }
   ],
   "source": [
    "(historic.isnull().sum() > 1)"
   ]
  },
  {
   "cell_type": "code",
   "execution_count": 227,
   "metadata": {},
   "outputs": [
    {
     "data": {
      "text/plain": [
       "[['Date', 249],\n",
       " ['ABEV3', 0],\n",
       " ['AZUL4', 0],\n",
       " ['B3SA3', 0],\n",
       " ['BBAS3', 0],\n",
       " ['BBDC3', 0],\n",
       " ['BBDC4', 0],\n",
       " ['BBSE3', 0],\n",
       " ['BEEF3', 0],\n",
       " ['BPAC11', 0],\n",
       " ['BRAP4', 0],\n",
       " ['BRDT3', 0],\n",
       " ['BRFS3', 0],\n",
       " ['BRKM5', 0],\n",
       " ['BRML3', 0],\n",
       " ['BTOW3', 0],\n",
       " ['CCRO3', 0],\n",
       " ['CIEL3', 0],\n",
       " ['CMIG4', 0],\n",
       " ['COGN3', 0],\n",
       " ['CPFE3', 0],\n",
       " ['CRFB3', 0],\n",
       " ['CSAN3', 0],\n",
       " ['CSNA3', 0],\n",
       " ['CVCB3', 0],\n",
       " ['CYRE3', 0],\n",
       " ['ECOR3', 0],\n",
       " ['EGIE3', 0],\n",
       " ['ELET3', 0],\n",
       " ['ELET6', 0],\n",
       " ['EMBR3', 0],\n",
       " ['ENBR3', 0],\n",
       " ['ENGI11', 0],\n",
       " ['EQTL3', 0],\n",
       " ['FLRY3', 0],\n",
       " ['GGBR4', 0],\n",
       " ['GNDI3', 0],\n",
       " ['GOAU4', 0],\n",
       " ['GOLL4', 0],\n",
       " ['HAPV3', 0],\n",
       " ['HGTX3', 0],\n",
       " ['HYPE3', 0],\n",
       " ['IGTA3', 0],\n",
       " ['IRBR3', 0],\n",
       " ['ITSA4', 0],\n",
       " ['ITUB4', 0],\n",
       " ['JBSS3', 0],\n",
       " ['KLBN11', 0],\n",
       " ['LAME4', 0],\n",
       " ['LREN3', 0],\n",
       " ['MGLU3', 0],\n",
       " ['MRFG3', 0],\n",
       " ['MRVE3', 0],\n",
       " ['MULT3', 0],\n",
       " ['PCAR3', 0],\n",
       " ['PETR3', 0],\n",
       " ['PETR4', 0],\n",
       " ['QUAL3', 0],\n",
       " ['RADL3', 0],\n",
       " ['RAIL3', 0],\n",
       " ['RENT3', 0],\n",
       " ['SANB11', 0],\n",
       " ['SBSP3', 0],\n",
       " ['SULA11', 0],\n",
       " ['SUZB3', 0],\n",
       " ['TAEE11', 0],\n",
       " ['TIMP3', 0],\n",
       " ['TOTS3', 0],\n",
       " ['UGPA3', 0],\n",
       " ['USIM5', 0],\n",
       " ['VALE3', 0],\n",
       " ['VIVT4', 0],\n",
       " ['VVAR3', 0],\n",
       " ['WEGE3', 0],\n",
       " ['YDUQ3', 0]]"
      ]
     },
     "execution_count": 227,
     "metadata": {},
     "output_type": "execute_result"
    }
   ],
   "source": [
    "rows=[]\n",
    "for col in historic.columns:\n",
    "    count=0\n",
    "    for row in historic[col]:\n",
    "        try:\n",
    "            #print(row)\n",
    "            int(row)\n",
    "            #historic.loc[count,'OWN_OCCUPIED'] = np.nan\n",
    "        except ValueError:\n",
    "            pass\n",
    "            count+=1\n",
    "    rows.append([col, count])\n",
    "rows"
   ]
  },
  {
   "cell_type": "code",
   "execution_count": 218,
   "metadata": {},
   "outputs": [
    {
     "ename": "KeyError",
     "evalue": "'NTCO3'",
     "output_type": "error",
     "traceback": [
      "\u001b[1;31m---------------------------------------------------------------------------\u001b[0m",
      "\u001b[1;31mKeyError\u001b[0m                                  Traceback (most recent call last)",
      "\u001b[1;32mC:\\ProgramData\\Anaconda3\\lib\\site-packages\\pandas\\core\\indexes\\base.py\u001b[0m in \u001b[0;36mget_loc\u001b[1;34m(self, key, method, tolerance)\u001b[0m\n\u001b[0;32m   2896\u001b[0m             \u001b[1;32mtry\u001b[0m\u001b[1;33m:\u001b[0m\u001b[1;33m\u001b[0m\u001b[1;33m\u001b[0m\u001b[0m\n\u001b[1;32m-> 2897\u001b[1;33m                 \u001b[1;32mreturn\u001b[0m \u001b[0mself\u001b[0m\u001b[1;33m.\u001b[0m\u001b[0m_engine\u001b[0m\u001b[1;33m.\u001b[0m\u001b[0mget_loc\u001b[0m\u001b[1;33m(\u001b[0m\u001b[0mkey\u001b[0m\u001b[1;33m)\u001b[0m\u001b[1;33m\u001b[0m\u001b[1;33m\u001b[0m\u001b[0m\n\u001b[0m\u001b[0;32m   2898\u001b[0m             \u001b[1;32mexcept\u001b[0m \u001b[0mKeyError\u001b[0m\u001b[1;33m:\u001b[0m\u001b[1;33m\u001b[0m\u001b[1;33m\u001b[0m\u001b[0m\n",
      "\u001b[1;32mpandas\\_libs\\index.pyx\u001b[0m in \u001b[0;36mpandas._libs.index.IndexEngine.get_loc\u001b[1;34m()\u001b[0m\n",
      "\u001b[1;32mpandas\\_libs\\index.pyx\u001b[0m in \u001b[0;36mpandas._libs.index.IndexEngine.get_loc\u001b[1;34m()\u001b[0m\n",
      "\u001b[1;32mpandas\\_libs\\hashtable_class_helper.pxi\u001b[0m in \u001b[0;36mpandas._libs.hashtable.PyObjectHashTable.get_item\u001b[1;34m()\u001b[0m\n",
      "\u001b[1;32mpandas\\_libs\\hashtable_class_helper.pxi\u001b[0m in \u001b[0;36mpandas._libs.hashtable.PyObjectHashTable.get_item\u001b[1;34m()\u001b[0m\n",
      "\u001b[1;31mKeyError\u001b[0m: 'NTCO3'",
      "\nDuring handling of the above exception, another exception occurred:\n",
      "\u001b[1;31mKeyError\u001b[0m                                  Traceback (most recent call last)",
      "\u001b[1;32m<ipython-input-218-dd022e314fe2>\u001b[0m in \u001b[0;36m<module>\u001b[1;34m\u001b[0m\n\u001b[1;32m----> 1\u001b[1;33m \u001b[0mhistoric\u001b[0m\u001b[1;33m[\u001b[0m\u001b[1;34m'NTCO3'\u001b[0m\u001b[1;33m]\u001b[0m\u001b[1;33m\u001b[0m\u001b[1;33m\u001b[0m\u001b[0m\n\u001b[0m",
      "\u001b[1;32mC:\\ProgramData\\Anaconda3\\lib\\site-packages\\pandas\\core\\frame.py\u001b[0m in \u001b[0;36m__getitem__\u001b[1;34m(self, key)\u001b[0m\n\u001b[0;32m   2978\u001b[0m             \u001b[1;32mif\u001b[0m \u001b[0mself\u001b[0m\u001b[1;33m.\u001b[0m\u001b[0mcolumns\u001b[0m\u001b[1;33m.\u001b[0m\u001b[0mnlevels\u001b[0m \u001b[1;33m>\u001b[0m \u001b[1;36m1\u001b[0m\u001b[1;33m:\u001b[0m\u001b[1;33m\u001b[0m\u001b[1;33m\u001b[0m\u001b[0m\n\u001b[0;32m   2979\u001b[0m                 \u001b[1;32mreturn\u001b[0m \u001b[0mself\u001b[0m\u001b[1;33m.\u001b[0m\u001b[0m_getitem_multilevel\u001b[0m\u001b[1;33m(\u001b[0m\u001b[0mkey\u001b[0m\u001b[1;33m)\u001b[0m\u001b[1;33m\u001b[0m\u001b[1;33m\u001b[0m\u001b[0m\n\u001b[1;32m-> 2980\u001b[1;33m             \u001b[0mindexer\u001b[0m \u001b[1;33m=\u001b[0m \u001b[0mself\u001b[0m\u001b[1;33m.\u001b[0m\u001b[0mcolumns\u001b[0m\u001b[1;33m.\u001b[0m\u001b[0mget_loc\u001b[0m\u001b[1;33m(\u001b[0m\u001b[0mkey\u001b[0m\u001b[1;33m)\u001b[0m\u001b[1;33m\u001b[0m\u001b[1;33m\u001b[0m\u001b[0m\n\u001b[0m\u001b[0;32m   2981\u001b[0m             \u001b[1;32mif\u001b[0m \u001b[0mis_integer\u001b[0m\u001b[1;33m(\u001b[0m\u001b[0mindexer\u001b[0m\u001b[1;33m)\u001b[0m\u001b[1;33m:\u001b[0m\u001b[1;33m\u001b[0m\u001b[1;33m\u001b[0m\u001b[0m\n\u001b[0;32m   2982\u001b[0m                 \u001b[0mindexer\u001b[0m \u001b[1;33m=\u001b[0m \u001b[1;33m[\u001b[0m\u001b[0mindexer\u001b[0m\u001b[1;33m]\u001b[0m\u001b[1;33m\u001b[0m\u001b[1;33m\u001b[0m\u001b[0m\n",
      "\u001b[1;32mC:\\ProgramData\\Anaconda3\\lib\\site-packages\\pandas\\core\\indexes\\base.py\u001b[0m in \u001b[0;36mget_loc\u001b[1;34m(self, key, method, tolerance)\u001b[0m\n\u001b[0;32m   2897\u001b[0m                 \u001b[1;32mreturn\u001b[0m \u001b[0mself\u001b[0m\u001b[1;33m.\u001b[0m\u001b[0m_engine\u001b[0m\u001b[1;33m.\u001b[0m\u001b[0mget_loc\u001b[0m\u001b[1;33m(\u001b[0m\u001b[0mkey\u001b[0m\u001b[1;33m)\u001b[0m\u001b[1;33m\u001b[0m\u001b[1;33m\u001b[0m\u001b[0m\n\u001b[0;32m   2898\u001b[0m             \u001b[1;32mexcept\u001b[0m \u001b[0mKeyError\u001b[0m\u001b[1;33m:\u001b[0m\u001b[1;33m\u001b[0m\u001b[1;33m\u001b[0m\u001b[0m\n\u001b[1;32m-> 2899\u001b[1;33m                 \u001b[1;32mreturn\u001b[0m \u001b[0mself\u001b[0m\u001b[1;33m.\u001b[0m\u001b[0m_engine\u001b[0m\u001b[1;33m.\u001b[0m\u001b[0mget_loc\u001b[0m\u001b[1;33m(\u001b[0m\u001b[0mself\u001b[0m\u001b[1;33m.\u001b[0m\u001b[0m_maybe_cast_indexer\u001b[0m\u001b[1;33m(\u001b[0m\u001b[0mkey\u001b[0m\u001b[1;33m)\u001b[0m\u001b[1;33m)\u001b[0m\u001b[1;33m\u001b[0m\u001b[1;33m\u001b[0m\u001b[0m\n\u001b[0m\u001b[0;32m   2900\u001b[0m         \u001b[0mindexer\u001b[0m \u001b[1;33m=\u001b[0m \u001b[0mself\u001b[0m\u001b[1;33m.\u001b[0m\u001b[0mget_indexer\u001b[0m\u001b[1;33m(\u001b[0m\u001b[1;33m[\u001b[0m\u001b[0mkey\u001b[0m\u001b[1;33m]\u001b[0m\u001b[1;33m,\u001b[0m \u001b[0mmethod\u001b[0m\u001b[1;33m=\u001b[0m\u001b[0mmethod\u001b[0m\u001b[1;33m,\u001b[0m \u001b[0mtolerance\u001b[0m\u001b[1;33m=\u001b[0m\u001b[0mtolerance\u001b[0m\u001b[1;33m)\u001b[0m\u001b[1;33m\u001b[0m\u001b[1;33m\u001b[0m\u001b[0m\n\u001b[0;32m   2901\u001b[0m         \u001b[1;32mif\u001b[0m \u001b[0mindexer\u001b[0m\u001b[1;33m.\u001b[0m\u001b[0mndim\u001b[0m \u001b[1;33m>\u001b[0m \u001b[1;36m1\u001b[0m \u001b[1;32mor\u001b[0m \u001b[0mindexer\u001b[0m\u001b[1;33m.\u001b[0m\u001b[0msize\u001b[0m \u001b[1;33m>\u001b[0m \u001b[1;36m1\u001b[0m\u001b[1;33m:\u001b[0m\u001b[1;33m\u001b[0m\u001b[1;33m\u001b[0m\u001b[0m\n",
      "\u001b[1;32mpandas\\_libs\\index.pyx\u001b[0m in \u001b[0;36mpandas._libs.index.IndexEngine.get_loc\u001b[1;34m()\u001b[0m\n",
      "\u001b[1;32mpandas\\_libs\\index.pyx\u001b[0m in \u001b[0;36mpandas._libs.index.IndexEngine.get_loc\u001b[1;34m()\u001b[0m\n",
      "\u001b[1;32mpandas\\_libs\\hashtable_class_helper.pxi\u001b[0m in \u001b[0;36mpandas._libs.hashtable.PyObjectHashTable.get_item\u001b[1;34m()\u001b[0m\n",
      "\u001b[1;32mpandas\\_libs\\hashtable_class_helper.pxi\u001b[0m in \u001b[0;36mpandas._libs.hashtable.PyObjectHashTable.get_item\u001b[1;34m()\u001b[0m\n",
      "\u001b[1;31mKeyError\u001b[0m: 'NTCO3'"
     ]
    }
   ],
   "source": [
    "historic['NTCO3']"
   ]
  },
  {
   "cell_type": "code",
   "execution_count": 217,
   "metadata": {},
   "outputs": [],
   "source": [
    "del historic['NTCO3']"
   ]
  },
  {
   "cell_type": "code",
   "execution_count": null,
   "metadata": {},
   "outputs": [],
   "source": []
  }
 ],
 "metadata": {
  "kernelspec": {
   "display_name": "Python 3",
   "language": "python",
   "name": "python3"
  },
  "language_info": {
   "codemirror_mode": {
    "name": "ipython",
    "version": 3
   },
   "file_extension": ".py",
   "mimetype": "text/x-python",
   "name": "python",
   "nbconvert_exporter": "python",
   "pygments_lexer": "ipython3",
   "version": "3.7.4"
  }
 },
 "nbformat": 4,
 "nbformat_minor": 2
}
