{
 "cells": [
  {
   "cell_type": "markdown",
   "metadata": {},
   "source": [
    "https://www.youtube.com/watch?v=kB4jCoVyLRI&t=10s\n",
    "\n",
    "https://www.alphavantage.co/"
   ]
  },
  {
   "cell_type": "code",
   "execution_count": 33,
   "metadata": {},
   "outputs": [],
   "source": [
    "#C5MCLHHUILEE2IWO\n",
    "import pandas as pd\n",
    "from alpha_vantage.timeseries import TimeSeries\n",
    "import time\n",
    "import os.path"
   ]
  },
  {
   "cell_type": "code",
   "execution_count": 37,
   "metadata": {},
   "outputs": [],
   "source": [
    "def delete_file(file, verbose=False):\n",
    "    if os.path.exists(file):\n",
    "        os.remove(file)\n",
    "    elif (verbose):\n",
    "        print(\"File doesn't exists\")\n",
    "\n",
    "def clear_foler(path):\n",
    "    path+='/'\n",
    "    for file in os.listdir(path):\n",
    "        delete_file(path + file)"
   ]
  },
  {
   "cell_type": "code",
   "execution_count": 2,
   "metadata": {},
   "outputs": [
    {
     "data": {
      "text/plain": [
       "(75, ['ABEV3.SAO', 'AZUL4.SAO', 'B3SA3.SAO', 'BBAS3.SAO', 'BBDC3.SAO'])"
      ]
     },
     "execution_count": 2,
     "metadata": {},
     "output_type": "execute_result"
    }
   ],
   "source": [
    "tickers = pd.read_csv('datasets/composicao_indice.csv',names=['Código'])\n",
    "tickers['Código'] = tickers['Código'] + '.SAO'\n",
    "tickers = tickers['Código'].tolist()\n",
    "len(tickers), tickers[0:5]"
   ]
  },
  {
   "cell_type": "code",
   "execution_count": 3,
   "metadata": {},
   "outputs": [],
   "source": [
    "ts = TimeSeries(key='C5MCLHHUILEE2IWO', output_format='pandas')"
   ]
  },
  {
   "cell_type": "code",
   "execution_count": 4,
   "metadata": {},
   "outputs": [],
   "source": [
    "#ts.get_symbol_search('ABEV3')"
   ]
  },
  {
   "cell_type": "code",
   "execution_count": 46,
   "metadata": {},
   "outputs": [
    {
     "data": {
      "text/plain": [
       "(5012, 8)"
      ]
     },
     "execution_count": 46,
     "metadata": {},
     "output_type": "execute_result"
    }
   ],
   "source": [
    "dados, meta_dados = ts.get_daily_adjusted('BBAS3.SAO', outputsize='full')\n",
    "dados.shape"
   ]
  },
  {
   "cell_type": "code",
   "execution_count": 48,
   "metadata": {},
   "outputs": [
    {
     "data": {
      "text/html": [
       "<div>\n",
       "<style scoped>\n",
       "    .dataframe tbody tr th:only-of-type {\n",
       "        vertical-align: middle;\n",
       "    }\n",
       "\n",
       "    .dataframe tbody tr th {\n",
       "        vertical-align: top;\n",
       "    }\n",
       "\n",
       "    .dataframe thead th {\n",
       "        text-align: right;\n",
       "    }\n",
       "</style>\n",
       "<table border=\"1\" class=\"dataframe\">\n",
       "  <thead>\n",
       "    <tr style=\"text-align: right;\">\n",
       "      <th></th>\n",
       "      <th>1. open</th>\n",
       "      <th>2. high</th>\n",
       "      <th>3. low</th>\n",
       "      <th>4. close</th>\n",
       "      <th>5. adjusted close</th>\n",
       "      <th>6. volume</th>\n",
       "      <th>7. dividend amount</th>\n",
       "      <th>8. split coefficient</th>\n",
       "    </tr>\n",
       "    <tr>\n",
       "      <th>date</th>\n",
       "      <th></th>\n",
       "      <th></th>\n",
       "      <th></th>\n",
       "      <th></th>\n",
       "      <th></th>\n",
       "      <th></th>\n",
       "      <th></th>\n",
       "      <th></th>\n",
       "    </tr>\n",
       "  </thead>\n",
       "  <tbody>\n",
       "    <tr>\n",
       "      <td>2020-06-12</td>\n",
       "      <td>33.00</td>\n",
       "      <td>33.88</td>\n",
       "      <td>33.00</td>\n",
       "      <td>33.23</td>\n",
       "      <td>33.2300</td>\n",
       "      <td>11294300.0</td>\n",
       "      <td>0.0</td>\n",
       "      <td>1.0</td>\n",
       "    </tr>\n",
       "    <tr>\n",
       "      <td>2020-06-10</td>\n",
       "      <td>36.36</td>\n",
       "      <td>36.41</td>\n",
       "      <td>34.21</td>\n",
       "      <td>34.21</td>\n",
       "      <td>34.2100</td>\n",
       "      <td>27346200.0</td>\n",
       "      <td>0.0</td>\n",
       "      <td>1.0</td>\n",
       "    </tr>\n",
       "    <tr>\n",
       "      <td>2020-06-09</td>\n",
       "      <td>35.54</td>\n",
       "      <td>37.08</td>\n",
       "      <td>35.12</td>\n",
       "      <td>35.79</td>\n",
       "      <td>35.7900</td>\n",
       "      <td>28728300.0</td>\n",
       "      <td>0.0</td>\n",
       "      <td>1.0</td>\n",
       "    </tr>\n",
       "    <tr>\n",
       "      <td>2020-06-08</td>\n",
       "      <td>35.82</td>\n",
       "      <td>36.81</td>\n",
       "      <td>35.50</td>\n",
       "      <td>36.39</td>\n",
       "      <td>36.3900</td>\n",
       "      <td>22264000.0</td>\n",
       "      <td>0.0</td>\n",
       "      <td>1.0</td>\n",
       "    </tr>\n",
       "    <tr>\n",
       "      <td>2020-06-05</td>\n",
       "      <td>37.41</td>\n",
       "      <td>38.17</td>\n",
       "      <td>35.01</td>\n",
       "      <td>35.20</td>\n",
       "      <td>35.2000</td>\n",
       "      <td>35546100.0</td>\n",
       "      <td>0.0</td>\n",
       "      <td>1.0</td>\n",
       "    </tr>\n",
       "    <tr>\n",
       "      <td>...</td>\n",
       "      <td>...</td>\n",
       "      <td>...</td>\n",
       "      <td>...</td>\n",
       "      <td>...</td>\n",
       "      <td>...</td>\n",
       "      <td>...</td>\n",
       "      <td>...</td>\n",
       "      <td>...</td>\n",
       "    </tr>\n",
       "    <tr>\n",
       "      <td>2019-12-05</td>\n",
       "      <td>49.16</td>\n",
       "      <td>49.27</td>\n",
       "      <td>48.31</td>\n",
       "      <td>48.67</td>\n",
       "      <td>47.8175</td>\n",
       "      <td>9473100.0</td>\n",
       "      <td>0.0</td>\n",
       "      <td>1.0</td>\n",
       "    </tr>\n",
       "    <tr>\n",
       "      <td>2019-12-04</td>\n",
       "      <td>48.39</td>\n",
       "      <td>49.13</td>\n",
       "      <td>48.30</td>\n",
       "      <td>49.09</td>\n",
       "      <td>48.2302</td>\n",
       "      <td>15029100.0</td>\n",
       "      <td>0.0</td>\n",
       "      <td>1.0</td>\n",
       "    </tr>\n",
       "    <tr>\n",
       "      <td>2019-12-03</td>\n",
       "      <td>48.14</td>\n",
       "      <td>48.69</td>\n",
       "      <td>47.95</td>\n",
       "      <td>48.39</td>\n",
       "      <td>47.5424</td>\n",
       "      <td>17536700.0</td>\n",
       "      <td>0.0</td>\n",
       "      <td>1.0</td>\n",
       "    </tr>\n",
       "    <tr>\n",
       "      <td>2019-12-02</td>\n",
       "      <td>47.81</td>\n",
       "      <td>48.33</td>\n",
       "      <td>47.43</td>\n",
       "      <td>47.43</td>\n",
       "      <td>46.5992</td>\n",
       "      <td>9727400.0</td>\n",
       "      <td>0.0</td>\n",
       "      <td>1.0</td>\n",
       "    </tr>\n",
       "    <tr>\n",
       "      <td>2019-11-29</td>\n",
       "      <td>47.64</td>\n",
       "      <td>47.99</td>\n",
       "      <td>47.41</td>\n",
       "      <td>47.81</td>\n",
       "      <td>46.9726</td>\n",
       "      <td>7285500.0</td>\n",
       "      <td>0.0</td>\n",
       "      <td>1.0</td>\n",
       "    </tr>\n",
       "  </tbody>\n",
       "</table>\n",
       "<p>130 rows × 8 columns</p>\n",
       "</div>"
      ],
      "text/plain": [
       "            1. open  2. high  3. low  4. close  5. adjusted close   6. volume  \\\n",
       "date                                                                            \n",
       "2020-06-12    33.00    33.88   33.00     33.23            33.2300  11294300.0   \n",
       "2020-06-10    36.36    36.41   34.21     34.21            34.2100  27346200.0   \n",
       "2020-06-09    35.54    37.08   35.12     35.79            35.7900  28728300.0   \n",
       "2020-06-08    35.82    36.81   35.50     36.39            36.3900  22264000.0   \n",
       "2020-06-05    37.41    38.17   35.01     35.20            35.2000  35546100.0   \n",
       "...             ...      ...     ...       ...                ...         ...   \n",
       "2019-12-05    49.16    49.27   48.31     48.67            47.8175   9473100.0   \n",
       "2019-12-04    48.39    49.13   48.30     49.09            48.2302  15029100.0   \n",
       "2019-12-03    48.14    48.69   47.95     48.39            47.5424  17536700.0   \n",
       "2019-12-02    47.81    48.33   47.43     47.43            46.5992   9727400.0   \n",
       "2019-11-29    47.64    47.99   47.41     47.81            46.9726   7285500.0   \n",
       "\n",
       "            7. dividend amount  8. split coefficient  \n",
       "date                                                  \n",
       "2020-06-12                 0.0                   1.0  \n",
       "2020-06-10                 0.0                   1.0  \n",
       "2020-06-09                 0.0                   1.0  \n",
       "2020-06-08                 0.0                   1.0  \n",
       "2020-06-05                 0.0                   1.0  \n",
       "...                        ...                   ...  \n",
       "2019-12-05                 0.0                   1.0  \n",
       "2019-12-04                 0.0                   1.0  \n",
       "2019-12-03                 0.0                   1.0  \n",
       "2019-12-02                 0.0                   1.0  \n",
       "2019-11-29                 0.0                   1.0  \n",
       "\n",
       "[130 rows x 8 columns]"
      ]
     },
     "execution_count": 48,
     "metadata": {},
     "output_type": "execute_result"
    }
   ],
   "source": [
    "data_date_changed = dados[:'2019-11-29']\n",
    "data_date_changed"
   ]
  },
  {
   "cell_type": "code",
   "execution_count": 56,
   "metadata": {},
   "outputs": [],
   "source": [
    "meta_dados"
   ]
  },
  {
   "cell_type": "markdown",
   "metadata": {},
   "source": [
    "### Baixa os dados"
   ]
  },
  {
   "cell_type": "code",
   "execution_count": 70,
   "metadata": {},
   "outputs": [
    {
     "name": "stdout",
     "output_type": "stream",
     "text": [
      "0 except\n"
     ]
    }
   ],
   "source": [
    "#clear_foler('datasets-alpha')\n",
    "counter=0\n",
    "list_except=[]\n",
    "for symbol in tickers:\n",
    "    # if exists csv, not need down\n",
    "    if os.path.exists('datasets-alpha/{}.csv'.format(symbol)):\n",
    "        continue\n",
    "        \n",
    "    try:\n",
    "        data, meta_dados = ts.get_daily_adjusted(symbol, outputsize='full')\n",
    "        data.to_csv('datasets-alpha/{}.csv'.format(symbol))\n",
    "    except:\n",
    "        list_except.append(symbol)\n",
    "    \n",
    "    counter+=1\n",
    "    if(counter==4):\n",
    "        counter=0\n",
    "        time.sleep(60) # Delay for 1 minute (60 seconds).\n",
    "        time.sleep(10) # +10s só pra garantir\n",
    "\n",
    "# mostra os que deram erro\n",
    "print('{} except'.format(len(list_except)))"
   ]
  },
  {
   "cell_type": "code",
   "execution_count": null,
   "metadata": {},
   "outputs": [],
   "source": []
  }
 ],
 "metadata": {
  "kernelspec": {
   "display_name": "Python 3",
   "language": "python",
   "name": "python3"
  },
  "language_info": {
   "codemirror_mode": {
    "name": "ipython",
    "version": 3
   },
   "file_extension": ".py",
   "mimetype": "text/x-python",
   "name": "python",
   "nbconvert_exporter": "python",
   "pygments_lexer": "ipython3",
   "version": "3.7.4"
  }
 },
 "nbformat": 4,
 "nbformat_minor": 2
}
