{
 "cells": [
  {
   "cell_type": "markdown",
   "metadata": {},
   "source": [
    "https://www.youtube.com/watch?v=kB4jCoVyLRI&t=10s\n",
    "\n",
    "https://www.alphavantage.co/"
   ]
  },
  {
   "cell_type": "code",
   "execution_count": 2,
   "metadata": {},
   "outputs": [],
   "source": [
    "#C5MCLHHUILEE2IWO\n",
    "import pandas as pd\n",
    "from alpha_vantage.timeseries import TimeSeries"
   ]
  },
  {
   "cell_type": "code",
   "execution_count": 18,
   "metadata": {},
   "outputs": [
    {
     "data": {
      "text/plain": [
       "(75, ['ABEV3.SAO', 'AZUL4.SAO', 'B3SA3.SAO', 'BBAS3.SAO', 'BBDC3.SAO'])"
      ]
     },
     "execution_count": 18,
     "metadata": {},
     "output_type": "execute_result"
    }
   ],
   "source": [
    "tickers = pd.read_csv('datasets/composicao_indice.csv',names=['Código'])\n",
    "tickers['Código'] = tickers['Código'] + '.SAO'\n",
    "tickers = tickers['Código'].tolist()\n",
    "len(tickers), tickers[0:5]"
   ]
  },
  {
   "cell_type": "code",
   "execution_count": 5,
   "metadata": {},
   "outputs": [],
   "source": [
    "ts = TimeSeries(key='C5MCLHHUILEE2IWO', output_format='pandas')"
   ]
  },
  {
   "cell_type": "code",
   "execution_count": 13,
   "metadata": {},
   "outputs": [],
   "source": [
    "#ts.get_symbol_search('ABEV3')"
   ]
  },
  {
   "cell_type": "code",
   "execution_count": 29,
   "metadata": {},
   "outputs": [
    {
     "ename": "TypeError",
     "evalue": "tuple indices must be integers or slices, not str",
     "output_type": "error",
     "traceback": [
      "\u001b[1;31m---------------------------------------------------------------------------\u001b[0m",
      "\u001b[1;31mTypeError\u001b[0m                                 Traceback (most recent call last)",
      "\u001b[1;32m<ipython-input-29-4c5fd771a4b0>\u001b[0m in \u001b[0;36m<module>\u001b[1;34m\u001b[0m\n\u001b[1;32m----> 1\u001b[1;33m \u001b[0mdados\u001b[0m\u001b[1;33m,\u001b[0m \u001b[0mmeta_dados\u001b[0m \u001b[1;33m=\u001b[0m \u001b[0mts\u001b[0m\u001b[1;33m.\u001b[0m\u001b[0mget_daily\u001b[0m\u001b[1;33m(\u001b[0m\u001b[1;34m'BBAS3.SAO'\u001b[0m\u001b[1;33m)\u001b[0m\u001b[1;33m[\u001b[0m\u001b[1;34m'4. close'\u001b[0m\u001b[1;33m]\u001b[0m\u001b[1;33m\u001b[0m\u001b[1;33m\u001b[0m\u001b[0m\n\u001b[0m\u001b[0;32m      2\u001b[0m \u001b[0mdados\u001b[0m\u001b[1;33m.\u001b[0m\u001b[0mshape\u001b[0m\u001b[1;33m\u001b[0m\u001b[1;33m\u001b[0m\u001b[0m\n",
      "\u001b[1;31mTypeError\u001b[0m: tuple indices must be integers or slices, not str"
     ]
    }
   ],
   "source": [
    "dados, meta_dados = ts.get_daily('BBAS3.SAO')['4. close']\n",
    "dados.shape"
   ]
  },
  {
   "cell_type": "code",
   "execution_count": 26,
   "metadata": {},
   "outputs": [
    {
     "data": {
      "text/html": [
       "<div>\n",
       "<style scoped>\n",
       "    .dataframe tbody tr th:only-of-type {\n",
       "        vertical-align: middle;\n",
       "    }\n",
       "\n",
       "    .dataframe tbody tr th {\n",
       "        vertical-align: top;\n",
       "    }\n",
       "\n",
       "    .dataframe thead th {\n",
       "        text-align: right;\n",
       "    }\n",
       "</style>\n",
       "<table border=\"1\" class=\"dataframe\">\n",
       "  <thead>\n",
       "    <tr style=\"text-align: right;\">\n",
       "      <th></th>\n",
       "      <th>1. open</th>\n",
       "      <th>2. high</th>\n",
       "      <th>3. low</th>\n",
       "      <th>4. close</th>\n",
       "      <th>5. volume</th>\n",
       "    </tr>\n",
       "    <tr>\n",
       "      <th>date</th>\n",
       "      <th></th>\n",
       "      <th></th>\n",
       "      <th></th>\n",
       "      <th></th>\n",
       "      <th></th>\n",
       "    </tr>\n",
       "  </thead>\n",
       "  <tbody>\n",
       "    <tr>\n",
       "      <td>2020-06-10</td>\n",
       "      <td>51.60</td>\n",
       "      <td>51.70</td>\n",
       "      <td>50.34</td>\n",
       "      <td>50.74</td>\n",
       "      <td>12835600.0</td>\n",
       "    </tr>\n",
       "    <tr>\n",
       "      <td>2020-06-09</td>\n",
       "      <td>51.05</td>\n",
       "      <td>51.67</td>\n",
       "      <td>50.80</td>\n",
       "      <td>51.07</td>\n",
       "      <td>11314800.0</td>\n",
       "    </tr>\n",
       "    <tr>\n",
       "      <td>2020-06-08</td>\n",
       "      <td>49.35</td>\n",
       "      <td>51.82</td>\n",
       "      <td>49.35</td>\n",
       "      <td>51.72</td>\n",
       "      <td>10005500.0</td>\n",
       "    </tr>\n",
       "    <tr>\n",
       "      <td>2020-06-05</td>\n",
       "      <td>50.80</td>\n",
       "      <td>51.97</td>\n",
       "      <td>48.81</td>\n",
       "      <td>49.07</td>\n",
       "      <td>15744300.0</td>\n",
       "    </tr>\n",
       "    <tr>\n",
       "      <td>2020-06-04</td>\n",
       "      <td>48.31</td>\n",
       "      <td>49.84</td>\n",
       "      <td>47.91</td>\n",
       "      <td>49.58</td>\n",
       "      <td>13161100.0</td>\n",
       "    </tr>\n",
       "    <tr>\n",
       "      <td>...</td>\n",
       "      <td>...</td>\n",
       "      <td>...</td>\n",
       "      <td>...</td>\n",
       "      <td>...</td>\n",
       "      <td>...</td>\n",
       "    </tr>\n",
       "    <tr>\n",
       "      <td>2020-01-21</td>\n",
       "      <td>44.85</td>\n",
       "      <td>45.65</td>\n",
       "      <td>44.57</td>\n",
       "      <td>44.70</td>\n",
       "      <td>8746100.0</td>\n",
       "    </tr>\n",
       "    <tr>\n",
       "      <td>2020-01-20</td>\n",
       "      <td>45.00</td>\n",
       "      <td>45.50</td>\n",
       "      <td>44.76</td>\n",
       "      <td>45.50</td>\n",
       "      <td>5926700.0</td>\n",
       "    </tr>\n",
       "    <tr>\n",
       "      <td>2020-01-17</td>\n",
       "      <td>44.06</td>\n",
       "      <td>45.34</td>\n",
       "      <td>44.01</td>\n",
       "      <td>45.34</td>\n",
       "      <td>11994000.0</td>\n",
       "    </tr>\n",
       "    <tr>\n",
       "      <td>2020-01-16</td>\n",
       "      <td>43.95</td>\n",
       "      <td>44.17</td>\n",
       "      <td>43.31</td>\n",
       "      <td>43.95</td>\n",
       "      <td>13588600.0</td>\n",
       "    </tr>\n",
       "    <tr>\n",
       "      <td>2020-01-15</td>\n",
       "      <td>44.40</td>\n",
       "      <td>44.71</td>\n",
       "      <td>42.95</td>\n",
       "      <td>43.45</td>\n",
       "      <td>20797400.0</td>\n",
       "    </tr>\n",
       "  </tbody>\n",
       "</table>\n",
       "<p>100 rows × 5 columns</p>\n",
       "</div>"
      ],
      "text/plain": [
       "            1. open  2. high  3. low  4. close   5. volume\n",
       "date                                                      \n",
       "2020-06-10    51.60    51.70   50.34     50.74  12835600.0\n",
       "2020-06-09    51.05    51.67   50.80     51.07  11314800.0\n",
       "2020-06-08    49.35    51.82   49.35     51.72  10005500.0\n",
       "2020-06-05    50.80    51.97   48.81     49.07  15744300.0\n",
       "2020-06-04    48.31    49.84   47.91     49.58  13161100.0\n",
       "...             ...      ...     ...       ...         ...\n",
       "2020-01-21    44.85    45.65   44.57     44.70   8746100.0\n",
       "2020-01-20    45.00    45.50   44.76     45.50   5926700.0\n",
       "2020-01-17    44.06    45.34   44.01     45.34  11994000.0\n",
       "2020-01-16    43.95    44.17   43.31     43.95  13588600.0\n",
       "2020-01-15    44.40    44.71   42.95     43.45  20797400.0\n",
       "\n",
       "[100 rows x 5 columns]"
      ]
     },
     "execution_count": 26,
     "metadata": {},
     "output_type": "execute_result"
    }
   ],
   "source": [
    "dados"
   ]
  },
  {
   "cell_type": "code",
   "execution_count": 24,
   "metadata": {},
   "outputs": [
    {
     "data": {
      "text/plain": [
       "{'1. Information': 'Daily Prices (open, high, low, close) and Volumes',\n",
       " '2. Symbol': 'B3SA3.SAO',\n",
       " '3. Last Refreshed': '2020-06-10',\n",
       " '4. Output Size': 'Compact',\n",
       " '5. Time Zone': 'US/Eastern'}"
      ]
     },
     "execution_count": 24,
     "metadata": {},
     "output_type": "execute_result"
    }
   ],
   "source": [
    "meta_dados"
   ]
  },
  {
   "cell_type": "code",
   "execution_count": null,
   "metadata": {},
   "outputs": [],
   "source": []
  }
 ],
 "metadata": {
  "kernelspec": {
   "display_name": "Python 3",
   "language": "python",
   "name": "python3"
  },
  "language_info": {
   "codemirror_mode": {
    "name": "ipython",
    "version": 3
   },
   "file_extension": ".py",
   "mimetype": "text/x-python",
   "name": "python",
   "nbconvert_exporter": "python",
   "pygments_lexer": "ipython3",
   "version": "3.7.4"
  }
 },
 "nbformat": 4,
 "nbformat_minor": 2
}
