{
 "cells": [
  {
   "cell_type": "code",
   "execution_count": 1,
   "metadata": {},
   "outputs": [],
   "source": [
    "#%%writefile cointegration_mult.py\n",
    "\n",
    "import numpy as np\n",
    "import pandas as pd\n",
    "import statsmodels.api as sm\n",
    "import statsmodels.tsa.stattools as ts\n",
    "import matplotlib.pyplot as plt\n",
    "import statistics\n",
    "import seaborn as sns; sns.set(style=\"whitegrid\")\n",
    "\n",
    "def coefficients(y, x, period):\n",
    "    model = regression(y, x, period)\n",
    "    return {\"temp\":model.params['temp'],\n",
    "            \"angular\":model.params['x'],\n",
    "            \"intercept\":model.params['const']}\n",
    "\n",
    "def regression(y, x, period):\n",
    "    y, x = get_values(y, x, period)\n",
    "    pairs = pd.DataFrame()\n",
    "    \n",
    "    pairs['y'] = y\n",
    "    pairs['x'] = x\n",
    "    pairs['temp'] = timeline(period)\n",
    "    \n",
    "    X = pairs[['x', 'temp']]\n",
    "    X = sm.add_constant(X)\n",
    "    model = sm.OLS(pairs['y'], X).fit()\n",
    "    return model\n",
    "\n",
    "#https://support.minitab.com/pt-br/minitab/18/help-and-how-to/modeling-statistics/regression/how-to/\n",
    "#   fit-regression-model/interpret-the-results/all-statistics-and-graphs/coefficients-table/#t-value\n",
    "#https://pt.slideshare.net/klevertonsaath/testes-de-especificao-diagnstico-e-interpretao-de-modelo-ols-ordinary-least-squares\n",
    "#verificar se o tempo tem relevância\n",
    "def accept_temp(y, x, period):\n",
    "    y, x = get_values(y, x, period)\n",
    "    reg = regression(y, x, period)\n",
    "    p_values  = reg.summary2().tables[1]['P>|t|']\n",
    "    \n",
    "    # quanto menor q 0.05 melhor\n",
    "    if(p_values['temp'] < 0.05):\n",
    "        return True\n",
    "    return False\n",
    "\n",
    "#O desvio padrão de uma estimativa é chamado de erro padrão\n",
    "def stderr(y, x, period):\n",
    "    model = regression(y, x, period)\n",
    "    return {\"temp\":model.bse['temp'],\n",
    "            \"angular\":model.bse['x'],\n",
    "            \"intercept\":model.bse['const']}\n",
    "    \n",
    "def residue(y, x, period, coef=None):\n",
    "    y, x = get_values(y, x, period)\n",
    "    if (coef == None):\n",
    "        coef = coefficients(y, x, period)\n",
    "    temp = timeline(period)\n",
    "    res = y-coef['angular']*x-temp*coef['temp']-coef['intercept']\n",
    "    #res[0]=0\n",
    "    return res\n",
    "\n",
    "def timeline(period):\n",
    "    numbers = np.arange(1, period+1)\n",
    "    temp = period - numbers + 1\n",
    "    return temp\n",
    "\n",
    "def volume_beta_neutral(coef, y_volume):\n",
    "    return [y_volume, int(-y_volume*coef['angular'])]\n",
    "\n",
    "def volume_cash_neutral(y, x, volume):\n",
    "    y_price = round(y[0], 2)\n",
    "    x_price = round(x[0], 2)\n",
    "    y_volume = round((volume * y_price), 4)\n",
    "    x_volume = round((volume * y_price)/x_price, 4)\n",
    "    if (volume < 0):\n",
    "        y_volume = 0-(round(abs(volume*x_price)/y_price, 4))\n",
    "        x_volume = abs(volume)\n",
    "    else:\n",
    "        y_volume = abs(volume)\n",
    "        x_volume = 0-(round(abs(volume*y_price)/x_price, 4))\n",
    "        \n",
    "    return [y_volume, x_volume]\n",
    "\n",
    "def returns(y, x, period):\n",
    "    y, x = get_values(y, x, period)\n",
    "    y_log = np.log(y/y.shift(1))\n",
    "    x_log = np.log(x/x.shift(1))\n",
    "    return [y_log, x_log]\n",
    "    \n",
    "def get_values(y, x, period):\n",
    "    if(period <= 0):\n",
    "        return y, x\n",
    "    \n",
    "    y = y.iloc[:period]\n",
    "    x = x.iloc[:period]\n",
    "    return y, x\n",
    "\n",
    "def correlation(y, x, period):\n",
    "    y_log, x_log = returns(y, x, period)\n",
    "    return y_log.corr(x_log)\n",
    "\n",
    "def getdata(data, period):\n",
    "    data_max = data[:period]\n",
    "    return data_max\n",
    "\n",
    "def invert(y, x, period):\n",
    "    coef_main = coefficients(y, x, period)\n",
    "    coef_invert = coefficients(x, y, period)\n",
    "    if (abs(coef_main['temp'])<=abs(coef_invert['temp'])):\n",
    "        return False\n",
    "    return True\n",
    "\n",
    "def ratio_diff(y, x, period):\n",
    "    coef = coefficients(y, x, period)\n",
    "    res = residue(y, x, period)\n",
    "    diff = res.shift(1)-res\n",
    "    diff[0]=0\n",
    "    return diff\n",
    "\n",
    "def ratio_continuo(y, x, period):\n",
    "    y, x = get_values(y, x, period)\n",
    "    return y-x\n",
    "    \n",
    "def intercept_coef(y, x, period):\n",
    "    res = residue(y, x, period)\n",
    "    diff = ratio_diff(y, x, period)\n",
    "\n",
    "    target = pd.DataFrame(res, columns=[\"target\"])\n",
    "    target = sm.add_constant(target)\n",
    "    model = sm.OLS(diff, target).fit()\n",
    "    return model.params['target']\n",
    "\n",
    "def intercept_inter(y, x, period):\n",
    "    ratio_cont = ratio_continuo(y, x, period)\n",
    "    ratio_cont[0]=0\n",
    "    diff_r = ratio_diff(y, x, period)\n",
    "    \n",
    "    ratio_cont = sm.add_constant(ratio_cont)\n",
    "    model = sm.OLS(diff_r, ratio_cont).fit()\n",
    "    return model.params['const']\n",
    "\n",
    "def ornstein_uhlenbeck(y, x, period):\n",
    "    coef = intercept_coef(y, x, period)\n",
    "    \n",
    "    beta = -np.log(1+intercept_coef(y, x, period))\n",
    "    alpha = -(coef/intercept_inter(y, x, period))\n",
    "    \n",
    "    std = residue(y, x, period).std()\n",
    "    sigma=std*np.sqrt(np.log(1+coef)/(np.power((1+coef),2)-1))\n",
    "    \n",
    "    half = 2/beta\n",
    "    return {\n",
    "        \"halffile\": half,\n",
    "        \"beta\": beta,\n",
    "        \"alpha\": alpha,\n",
    "        \"sigma\": sigma\n",
    "    }\n",
    "\n",
    "def halflife_ser(y, x, period):\n",
    "    return ornstein_uhlenbeck(y, x, period)['halffile']\n",
    "\n",
    "def halflile(series):\n",
    "    lag = np.roll(series, 1)\n",
    "    lag[0] = 0\n",
    "    ret = series - lag\n",
    "    ret[0] = 0\n",
    "\n",
    "    # adds intercept terms to X variable for regression\n",
    "    lag2 = sm.add_constant(lag)\n",
    "    res = sm.OLS(ret, lag2).fit()\n",
    "    half_life = int(round(-np.log(2) / res.params[1],0))\n",
    "\n",
    "    if half_life <= 0:\n",
    "        half_life = 1\n",
    "    return half_life\n",
    "    \n",
    "def statisticspair(y, x, desv_input, period):\n",
    "    res = residue(y, x, period)\n",
    "    std = res.std()\n",
    "    return {\n",
    "        \"std\": std,\n",
    "        \"std_up\": desv_input*std,\n",
    "        \"std_down\": -desv_input*std,\n",
    "        \"mean\": res.mean(),\n",
    "        \"min\": np.min(res)-2*std,\n",
    "        \"max\": np.max(res)+2*std\n",
    "    }\n",
    "\n",
    "\n",
    "# acima do quadro \"ESTATÍSTICAS\"\n",
    "def desv_stop(y, x, period, desv_stop=3.1):\n",
    "    resid = residue(y, x, period)\n",
    "    std_down = resid.mean()-desv_stop*resid.std()\n",
    "    std_up = resid.mean()+desv_stop*resid.std()\n",
    "    return {\n",
    "        'up': std_up,\n",
    "        'down':std_down\n",
    "    }\n",
    "\n",
    "def ratio_trade_stop(y, x, period, desv_stop=3.1):\n",
    "    resid = residue(y, x, period)\n",
    "    \n",
    "    # acima do quadro \"ESTATÍSTICAS\"\n",
    "    std_down = resid.mean()-desv_stop*resid.std()\n",
    "    std_up = resid.mean()+desv_stop*resid.std()\n",
    "    \n",
    "    coef = coefficients(y, x, period)\n",
    "    last_resid = resid[0]\n",
    "    last_price = x[0]\n",
    "    \n",
    "    formula = (last_price*coef['angular']+coef['intercept']+last_resid+coef['temp']*period+min(last_resid-std_down,std_up-last_resid)*sinal(last_resid))\n",
    "    return max(formula/last_price, last_price/formula)\n",
    "    \n",
    "def ratio_trade_output(y, x, period):\n",
    "    last_price = x[0]\n",
    "    coef = coefficients(y, x, period)\n",
    "    formula = (coef['angular']*last_price+coef['intercept']+coef['temp']*period)/last_price\n",
    "    return max(formula, 1/formula)\n",
    "\n",
    "def ratio_trade_input(y, x, period):\n",
    "    price = x[0]\n",
    "    resid = residue(y, x, period)\n",
    "    last_resid = resid[0]\n",
    "    coef = coefficients(y, x, period)\n",
    "    std_up = 2*resid.std()\n",
    "    std_down = -2*resid.std()\n",
    "    \n",
    "    formula = (price*coef['angular']+coef['intercept']+last_resid+coef['temp']*period+min(last_resid-std_down,std_up-last_resid)*sinal(last_resid))\n",
    "    return max(formula/price, price/formula)\n",
    "\n",
    "def ratio_trade(y, x, period, desv_stop=3.1):\n",
    "    ratio_input = ratio_trade_input(y, x, period)\n",
    "    ratio_stop = ratio_trade_stop(y, x, period, desv_stop=desv_stop)\n",
    "    ratio_output = ratio_trade_output(y, x, period)\n",
    "    return {\n",
    "        'input': ratio_input,\n",
    "        'stop': ratio_stop,\n",
    "        'output': ratio_output,\n",
    "    }\n",
    "    \n",
    "def ratio_current(y, x):\n",
    "    ratio = y[0]/x[0]\n",
    "    return {\n",
    "        \"ratio\": ratio,\n",
    "        \"value\": 1/ratio\n",
    "    }\n",
    "\n",
    "def loss_percent(y, x, period, desv_stop=3.1):\n",
    "    return -abs(ratio_trade_stop(y, x, period, desv_stop=desv_stop)/ratio_trade_input(y, x, period)-1)\n",
    "\n",
    "def current_percent(y, x, period):\n",
    "    ratio = ratio_current(y, x)\n",
    "    return abs(ratio_trade_output(y, x, period)/max(ratio['ratio'], ratio['value'])-1)\n",
    "\n",
    "def return_percent(y, x, period):\n",
    "    return abs(ratio_trade_output(y, x, period)/ratio_trade_input(y, x, period)-1)\n",
    "\n",
    "def loss(y, x, volume, period, desv_stop=3.1):\n",
    "    return loss_percent(y, x, period, desv_stop=desv_stop)*abs(volume)*y[0]\n",
    "\n",
    "def gain(y, x, volume, period):\n",
    "    return current_percent(y, x, period)*abs(volume)*y[0]\n",
    "\n",
    "def zscore(series):\n",
    "    return (series - series.mean()) / np.std(series)\n",
    "\n",
    "#função SINAL do excel\n",
    "def sinal(value):\n",
    "    if(value < 0):\n",
    "        return -1\n",
    "    return 1\n",
    "\n",
    "def dickey_fuller(series):\n",
    "    model = ts.adfuller(series, 1)\n",
    "    p_value = model[1]\n",
    "    statistic = model[0]\n",
    "\n",
    "    # Dickey-Fuller\n",
    "    is_stationary = False\n",
    "    if (p_value < .05):\n",
    "        is_stationary = True\n",
    "\n",
    "    # Augmented Dickey Fuller (ADF)\n",
    "    perc_stat = 0\n",
    "    if (abs(statistic) > abs(model[4]['1%'])):\n",
    "        perc_stat = 99\n",
    "    elif (abs(statistic) > abs(model[4]['5%'])):\n",
    "        perc_stat = 95\n",
    "    elif (abs(statistic) > abs(model[4]['10%'])):\n",
    "        perc_stat = 90\n",
    "        \n",
    "    return {\n",
    "        \"is_stationary\": is_stationary,\n",
    "        \"p-value\": p_value,\n",
    "        \"adf\": perc_stat,\n",
    "        \"statistic\": statistic\n",
    "    }\n",
    "\n",
    "#função DESVQ do excel\n",
    "def desvq(values):\n",
    "    return np.power(values-values.mean(), 2).sum()\n",
    "\n",
    "#função EPADYX do excel\n",
    "def epadyx(y, x, period):\n",
    "    res = residue(y, x, period)\n",
    "    rdiff = ratio_diff(y, x, period)\n",
    "    X = sm.add_constant(res)\n",
    "    fit = sm.OLS(rdiff, X).fit()\n",
    "    return np.sqrt(fit.mse_resid)\n",
    "    \n",
    "def adf_ser(y, x, period):\n",
    "    res = residue(y, x, period)\n",
    "    rdiff = ratio_diff(y, x, period)\n",
    "    res[0]=0\n",
    "    rdiff[0]=0\n",
    "\n",
    "    inter_cof = intercept_coef(y, x, period)\n",
    "    return inter_cof/(epadyx(rdiff, res, period)/np.sqrt(desvq(res)))\n",
    "\n",
    "def rejeitado_h0(adf):\n",
    "    if adf<=0:\n",
    "        if adf<=-4.32: return 99\n",
    "        if adf<=-3.67: return 95\n",
    "        if adf<=-3.28: return 90\n",
    "    else:\n",
    "        if adf<=-3.58: return 99\n",
    "        if adf<=-3.22: return 95\n",
    "        if adf<=-2.6: return 90\n",
    "    return 0\n",
    "\n",
    "def dickey_fuller_ger(y, x, period):\n",
    "    adf_statistic = adf_ser(y, x, period)\n",
    "    rej = rejeitado_h0(adf_statistic)\n",
    "    return {\n",
    "        \"statistic\": adf_statistic,\n",
    "        \"adf\": rej\n",
    "    }\n",
    "\n",
    "def predy(y, x, period):\n",
    "    last_price = x[0]\n",
    "    coef = coefficients(y, x, period)\n",
    "    last_resid = residue(y, x, period)[0]\n",
    "    pred = last_price*coef['angular']+coef['intercept']+last_resid+coef['temp']*period\n",
    "    return pred\n",
    "\n",
    "def signal(y, x, desv_input, period):\n",
    "    y, x, get_values(y, x, period)\n",
    "    resid = residue(y, x, period)[::-1]\n",
    "    \n",
    "    std = resid.std()\n",
    "    resid_current = resid.iloc[-1]\n",
    "    zscore_up = desv_input*std\n",
    "    zscore_down = -desv_input*std\n",
    "    zcurrent = 0\n",
    "    descr = ''\n",
    "    \n",
    "    # >0; resíduo acima da linha 0\n",
    "    if(resid_current > resid.mean()):\n",
    "        descr = 'Short/Long'\n",
    "        zcurrent = zscore_up\n",
    "    else:\n",
    "        descr = 'Long/Short'\n",
    "        zcurrent = zscore_down\n",
    "    \n",
    "    oper_str = ''\n",
    "    if (resid_current >= zscore_up):\n",
    "        oper_str='Short'\n",
    "    if (resid_current <= zscore_down):\n",
    "        oper_str='Long'\n",
    "        \n",
    "    percent = (abs(resid_current)/abs(zcurrent))\n",
    "    #1-descr\n",
    "    #2-resíduo atual\n",
    "    #3-percent distância da linha 0, quanto maior, melhor\n",
    "    return {\n",
    "        \"descr\": descr,\n",
    "        \"signal\": oper_str,\n",
    "        \"is_signal\": oper_str!='',\n",
    "        \"resid_current\": resid_current,\n",
    "        \"percent_dist_mean\": percent}\n",
    "\n",
    "def list_periods(sort_reverse=False):\n",
    "    list_per = [100, 120, 140, 160, 180, 200, 220, 240, 250]\n",
    "    list_per.sort(reverse=sort_reverse)\n",
    "    return list_per\n",
    "\n",
    "def check_periods(y, x):\n",
    "    rows=[]\n",
    "    for period in list_periods():\n",
    "        if (dickey_fuller(residue(y, x, period))['is_stationary']):\n",
    "            rows.append(period)\n",
    "    return rows\n",
    "\n",
    "def analysis_by_periods(y, x):\n",
    "    rows=[]\n",
    "    for period in list_periods():\n",
    "        # filter by period\n",
    "        y_values, x_values = get_values(y, x, period)\n",
    "        resid = residue(y_values, x_values, period)\n",
    "        \n",
    "        check = check_cointegration(y_values, x_values, period)\n",
    "        corr = correlation(y_values, x_values, period)\n",
    "        rows.append([period, check['is_stationary'], check['std'], check['statistic'], check['adf'], check['coef.ang'], check['halflife'], corr, check['model']])\n",
    "        \n",
    "    analysis = pd.DataFrame(rows, columns=['Period', 'Stationary', 'Std', 'Dickey-Fuller', 'ADF', 'Beta', 'HalfLife', 'Corr', 'Model'])\n",
    "    return analysis\n",
    "\n",
    "def check_cointegration(y, x, period):\n",
    "    if (period == 0):\n",
    "        period = len(y)\n",
    "    \n",
    "    resid = residue(y, x, period)\n",
    "    dickey = dickey_fuller(resid)\n",
    "    coeff = coefficients(y, x, period)\n",
    "    half = halflile(resid)\n",
    "    \n",
    "    # regressão simples ou múltipla?\n",
    "    type_mrl = 'MRLS'\n",
    "    if (accept_temp(y, x, period)):\n",
    "        type_mrl = 'MRLM'\n",
    "    \n",
    "    return {\"period\": period,\n",
    "            \"is_stationary\": dickey['is_stationary'],\n",
    "            \"std\": abs(zscore(resid)[0]),\n",
    "            \"model\": type_mrl,\n",
    "            \"halflife\": half,\n",
    "            \"p-value\": dickey['p-value'],\n",
    "            'statistic': dickey['statistic'],\n",
    "            \"adf\": dickey['adf'],\n",
    "            \"coef.temp\": coeff['temp'],\n",
    "            \"coef.ang\": coeff['angular'],\n",
    "            \"coef.linear\": coeff['intercept']\n",
    "           }\n",
    "\n",
    "def find(data, per_sort_reverse=False):\n",
    "    rows = []\n",
    "    index=-1\n",
    "    \n",
    "    for y_symbol in data.columns:\n",
    "        index = index + 1\n",
    "        for x_symbol in data.columns[index+1:data.shape[1]]:#for x_symbol in data.columns:\n",
    "            if (y_symbol == x_symbol):\n",
    "                continue\n",
    "\n",
    "            for period in list_periods(sort_reverse=per_sort_reverse):\n",
    "                check = check_cointegration(data[y_symbol], data[x_symbol], period)\n",
    "                # find only an is stationary, then break looping\n",
    "                if (check['is_stationary']):\n",
    "                    rows.append([period, y_symbol, x_symbol, check['statistic'], check['adf'], check['coef.ang'], check['std']])\n",
    "                    break\n",
    "    return rows\n",
    "\n",
    "def find_pairs(data, per_sort_reverse=False):\n",
    "    df_pairs = pd.DataFrame(find(data, per_sort_reverse=per_sort_reverse), columns=['Period', 'Dependent', 'Independent', 'Dickey-Fuller', 'ADF', 'Beta', 'Std'])\n",
    "    return df_pairs\n",
    "\n",
    "def apply_halflife(data, pairs):\n",
    "    pairs['HalfLife'] = 0\n",
    "    for i, row in pairs.iterrows():\n",
    "        period = row['Period']\n",
    "        y, x = get_values(data[row['Dependent']], data[row['Independent']], period)\n",
    "        \n",
    "        half = halflile(residue(y, x, period))\n",
    "        pairs['HalfLife'].iloc[i]=half\n",
    "\n",
    "def apply_corr(data, pairs):\n",
    "    pairs['Corr'] = 0\n",
    "    for i, row in pairs.iterrows():\n",
    "        period = row['Period']\n",
    "        y, x = get_values(data[row['Dependent']], data[row['Independent']], period)\n",
    "\n",
    "        corr = correlation(y, x, period)\n",
    "        pairs['Corr'].iloc[i] = corr\n",
    "\n",
    "def apply_signal(data, pairs, desv_input):\n",
    "    pairs['Signal'] = 0\n",
    "    pairs['SignalStr'] = ''\n",
    "    \n",
    "    for i, row in pairs.iterrows():\n",
    "        period = row['Period']\n",
    "        y, x = get_values(data[row['Dependent']], data[row['Independent']], period)\n",
    "        \n",
    "        sig = signal(y, x, desv_input, period)\n",
    "        pairs['Signal'].iloc[i] = sig['percent_dist_mean']\n",
    "        pairs['SignalStr'].iloc[i] = sig['descr']\n",
    "        \n",
    "def apply_periods(data, pairs):\n",
    "    pairs['PeriodQt'] = 0\n",
    "    pairs['PeriodStr'] = ''\n",
    "    for i, row in pairs.iterrows():\n",
    "        periods_ok = check_periods(data[row['Dependent']],  data[row['Independent']])\n",
    "\n",
    "        descr = ''\n",
    "        for per in periods_ok:\n",
    "            if (descr!=''): descr=descr+','\n",
    "            descr=descr+str(per)\n",
    "\n",
    "        pairs['PeriodQt'].iloc[i] = len(periods_ok)\n",
    "        pairs['PeriodStr'].iloc[i] = descr\n",
    "\n",
    "def valuestr(message1=[], message2=[]):\n",
    "    space = 40\n",
    "    right = ''\n",
    "    if (len(message1)>0):\n",
    "        n = space-len(message1[1])\n",
    "        right =  message1[0].ljust(n, ' ') + message1[1]\n",
    "    \n",
    "    lefht = ''\n",
    "    if(len(message2) > 0):\n",
    "        n = space-len(message2[1])\n",
    "        lefht =  message2[0].ljust(n, ' ') + message2[1]\n",
    "    \n",
    "    print(right.ljust(n, ' ') + '   ' + lefht)\n",
    "    \n",
    "def summary(data, y_symbol, x_symbol, period, y_volume=100, display_statistic=False):\n",
    "    line = '==================================================================================='\n",
    "    y, x = get_values(data[y_symbol], data[x_symbol], period)\n",
    "    resid = residue(y, x, period)\n",
    "    coef = coefficients(y, x, period)\n",
    "    sig = signal(y, x, 2, period)    \n",
    "    \n",
    "    oper = 'Não'\n",
    "    if (sig['signal']=='Short'):\n",
    "        oper = 'Venda:{} / Compra:{}'.format(y_symbol, x_symbol)\n",
    "    if (sig['signal']=='Long'):\n",
    "        oper = 'Compra:{} / Venda:{}'.format(y_symbol, x_symbol)\n",
    "\n",
    "    if (sig['signal']=='Short'):\n",
    "        y_volume = -abs(y_volume)\n",
    "    \n",
    "    volume = volume_beta_neutral(coef, y_volume)\n",
    "    y_price = round(y[0], 2)\n",
    "    x_price = round(x[0], 2)\n",
    "    \n",
    "    print(line)\n",
    "    valuestr(['Período de Análise', str(period)], ['Entrada', oper])\n",
    "    print(line)\n",
    "    valuestr(['Independente', y_symbol], ['Dependente', x_symbol])\n",
    "    valuestr(['R$', str(y_price)], ['R$', str(x_price)])\n",
    "    valuestr(['Ratio', str(y[0]/x[0])])\n",
    "    #valuestr(['Volume', str(volume[0])], ['Volume', str(volume[1])])\n",
    "    y_finan = round(y[0]*volume[0], 2)\n",
    "    x_finan = round(x[0]*volume[1], 2)\n",
    "    \n",
    "    if (sig['is_signal']):\n",
    "        print(line)\n",
    "        \n",
    "        print('→ CASH NEUTRAL ←')\n",
    "        if (sig['signal']=='Short'):\n",
    "            volume_y, volume_x = volume_cash_neutral(data[y_symbol], data[x_symbol], y_volume)\n",
    "            valuestr([y_symbol, str(volume_y)], ['Financeiro R$', str(round(volume_y*y_price, 4))])\n",
    "            valuestr([x_symbol, str(volume_x)], ['Financeiro R$', str(round(volume_x*x_price, 4))])\n",
    "            valuestr(['', ''], ['', str(round(round(volume_y*y_price, 4)+round(volume_x*x_price, 4), 4))])\n",
    "        \n",
    "        if (sig['signal']=='Long'):\n",
    "            volume_y, volume_x = volume_cash_neutral(data[y_symbol], data[x_symbol], y_volume)\n",
    "            valuestr([y_symbol, str(volume_y)], ['Financeiro', str(round(volume_y*y_price, 4))])\n",
    "            valuestr([x_symbol, str(volume_x)], ['Financeiro', str(round(volume_x*x_price, 4))])            \n",
    "            valuestr(['', ''], ['', str(round(round(volume_y*y_price, 4)+round(volume_x*x_price, 4), 2))])\n",
    "                \n",
    "        print('→ BETA NEUTRAL ←')\n",
    "        valuestr([x_symbol, str(volume[1])], ['Financeiro R$', str(x_finan)])\n",
    "        valuestr([y_symbol, str(volume[0])], ['Financeiro R$', str(y_finan)])\n",
    "        valuestr(['', ''], ['', str(round(y_finan+x_finan, 2))])\n",
    "            \n",
    "    print(line)\n",
    "    print('Somente para operação Beta Neutral:')    \n",
    "    valuestr(['Retorno  (%)', str(return_percent(y, x, period)*100)], ['Gain', str(gain(y, x, volume[0], period))])\n",
    "    valuestr(['Atual    (%)', str(current_percent(y, x, period)*100)], ['Loss', str(loss(y, x, volume[0], period))])\n",
    "    valuestr(['Loss     (%)', str(loss_percent(y, x, period)*100)], ['', ''])\n",
    "    \n",
    "    dickey = dickey_fuller(residue(y, x, period))\n",
    "    print(line)\n",
    "    valuestr(['Dickey Fuller', str(dickey['statistic'])], ['Meia Vida', str(halflile(resid))])\n",
    "    valuestr(['ADF', str(dickey['adf'])], ['Correlação  (%)', str(correlation(y, x, period)*100)])\n",
    "    valuestr(['p-value', str(dickey['p-value'])], ['Inverter', str(invert(y, x, period))])\n",
    "    valuestr(['', ''], ['Beta', str(coef['angular'])])\n",
    "    \n",
    "    print(line)\n",
    "    valuestr(['Ratio Entrada', str(ratio_trade_input(y, x, period))])\n",
    "    valuestr(['Ratio Saída', str(ratio_trade_output(y, x, period))])\n",
    "    valuestr(['Ratio Stop', str(ratio_trade_stop(y, x, period))])\n",
    "    \n",
    "    print(line)\n",
    "    listperiods = check_periods(data[y_symbol], data[x_symbol])\n",
    "    print('Cointegrado em ({}): {}'.format(len(listperiods), listperiods))\n",
    "    \n",
    "    if (display_statistic):\n",
    "        print(line)\n",
    "        valuestr(['Coef.Temp', str(coef['temp'])], ['Coef', str(intercept_coef(y, x, period))])\n",
    "        valuestr(['Coef.Ang', str(coef['angular'])], ['Intercept', str(intercept_inter(y, x, period))])\n",
    "        valuestr(['Coef.Lin', str(coef['intercept'])], ['', ''])\n",
    "        \n",
    "    print(line)\n",
    "\n",
    "def plot_residue2(y, x, period, desv_input=2, padronizar=True):\n",
    "    plot_residue(residue(y, x, period), desv_input=desv_input, padronizar=padronizar)\n",
    "\n",
    "def plot_residue3(data, y_symbol, x_symbol, period, desv_input=2, padronizar=True):\n",
    "    plot_residue(residue(data[y_symbol], data[x_symbol], period), desv_input=desv_input, padronizar=padronizar, y_symbol=y_symbol, x_symbol=x_symbol)\n",
    "    \n",
    "def plot_residue(resid, desv_input=2, padronizar=True, y_symbol='', x_symbol=''):\n",
    "    resid = resid[::-1]\n",
    "    if (padronizar):\n",
    "        resid = zscore(resid)\n",
    "    std = resid.std()\n",
    "    resid.plot(figsize=(17, 6), linewidth=2)\n",
    "\n",
    "    if (y_symbol != '' and x_symbol != ''):\n",
    "        plt.title('{} / {}'.format(y_symbol, x_symbol))\n",
    "    plt.xlabel('')\n",
    "    plt.axhline(resid.mean())\n",
    "    plt.axhline(0, color='black',label='mean') # Add the mean of residual\n",
    "    plt.axhline(desv_input*std, color='red', linestyle='--', linewidth=2)\n",
    "    plt.axhline(-desv_input*std, color='green', linestyle='--', linewidth=2)\n",
    "    plt.show()"
   ]
  },
  {
   "cell_type": "code",
   "execution_count": 2,
   "metadata": {},
   "outputs": [
    {
     "data": {
      "text/plain": [
       "<module 'Cointegration' from 'D:\\\\trades\\\\pairs_trading_b3\\\\Cointegration.py'>"
      ]
     },
     "execution_count": 2,
     "metadata": {},
     "output_type": "execute_result"
    }
   ],
   "source": [
    "import importlib\n",
    "%matplotlib inline\n",
    "#%run Cointegration.py\n",
    "import Cointegration as coint\n",
    "importlib.reload(coint)"
   ]
  },
  {
   "cell_type": "code",
   "execution_count": 3,
   "metadata": {},
   "outputs": [
    {
     "name": "stdout",
     "output_type": "stream",
     "text": [
      "[100, 120, 140, 160, 180, 200, 220, 240, 250]\n"
     ]
    }
   ],
   "source": [
    "print(list_periods(False))"
   ]
  },
  {
   "cell_type": "code",
   "execution_count": 4,
   "metadata": {},
   "outputs": [],
   "source": [
    "path_data_cart = 'datasets/data_cart.csv'\n",
    "path_data_yahoo = 'datasets/data_yahoo.csv'\n",
    "path_data = 'datasets/data.csv'"
   ]
  },
  {
   "cell_type": "code",
   "execution_count": 5,
   "metadata": {},
   "outputs": [],
   "source": [
    "data = pd.read_csv(path_data_yahoo, index_col=0)\n",
    "data = data[::-1]"
   ]
  },
  {
   "cell_type": "markdown",
   "metadata": {},
   "source": [
    "# GERA PARES"
   ]
  },
  {
   "cell_type": "code",
   "execution_count": 6,
   "metadata": {},
   "outputs": [
    {
     "name": "stderr",
     "output_type": "stream",
     "text": [
      "C:\\ProgramData\\Anaconda3\\lib\\site-packages\\numpy\\core\\fromnumeric.py:2389: FutureWarning: Method .ptp is deprecated and will be removed in a future version. Use numpy.ptp instead.\n",
      "  return ptp(axis=axis, out=out, **kwargs)\n",
      "C:\\ProgramData\\Anaconda3\\lib\\site-packages\\pandas\\core\\indexing.py:205: SettingWithCopyWarning: \n",
      "A value is trying to be set on a copy of a slice from a DataFrame\n",
      "\n",
      "See the caveats in the documentation: http://pandas.pydata.org/pandas-docs/stable/user_guide/indexing.html#returning-a-view-versus-a-copy\n",
      "  self._setitem_with_indexer(indexer, value)\n"
     ]
    }
   ],
   "source": [
    "pairs = find_pairs(data,per_sort_reverse=False)\n",
    "apply_halflife(data, pairs)\n",
    "apply_corr(data, pairs)\n",
    "apply_periods(data, pairs)"
   ]
  },
  {
   "cell_type": "code",
   "execution_count": 7,
   "metadata": {},
   "outputs": [
    {
     "data": {
      "text/html": [
       "<div>\n",
       "<style scoped>\n",
       "    .dataframe tbody tr th:only-of-type {\n",
       "        vertical-align: middle;\n",
       "    }\n",
       "\n",
       "    .dataframe tbody tr th {\n",
       "        vertical-align: top;\n",
       "    }\n",
       "\n",
       "    .dataframe thead th {\n",
       "        text-align: right;\n",
       "    }\n",
       "</style>\n",
       "<table border=\"1\" class=\"dataframe\">\n",
       "  <thead>\n",
       "    <tr style=\"text-align: right;\">\n",
       "      <th></th>\n",
       "      <th>Period</th>\n",
       "      <th>Dependent</th>\n",
       "      <th>Independent</th>\n",
       "      <th>Dickey-Fuller</th>\n",
       "      <th>ADF</th>\n",
       "      <th>Beta</th>\n",
       "      <th>Std</th>\n",
       "      <th>HalfLife</th>\n",
       "      <th>Corr</th>\n",
       "      <th>PeriodQt</th>\n",
       "      <th>PeriodStr</th>\n",
       "    </tr>\n",
       "  </thead>\n",
       "  <tbody>\n",
       "    <tr>\n",
       "      <td>0</td>\n",
       "      <td>100</td>\n",
       "      <td>ABEV3</td>\n",
       "      <td>AZUL4</td>\n",
       "      <td>-4.106537</td>\n",
       "      <td>99</td>\n",
       "      <td>0.169632</td>\n",
       "      <td>2.751306</td>\n",
       "      <td>3</td>\n",
       "      <td>0.442744</td>\n",
       "      <td>3</td>\n",
       "      <td>100,120,140</td>\n",
       "    </tr>\n",
       "    <tr>\n",
       "      <td>1</td>\n",
       "      <td>100</td>\n",
       "      <td>ABEV3</td>\n",
       "      <td>B3SA3</td>\n",
       "      <td>-3.456112</td>\n",
       "      <td>95</td>\n",
       "      <td>0.122632</td>\n",
       "      <td>1.883905</td>\n",
       "      <td>3</td>\n",
       "      <td>0.400432</td>\n",
       "      <td>2</td>\n",
       "      <td>100,120</td>\n",
       "    </tr>\n",
       "    <tr>\n",
       "      <td>2</td>\n",
       "      <td>100</td>\n",
       "      <td>ABEV3</td>\n",
       "      <td>BBAS3</td>\n",
       "      <td>-4.549424</td>\n",
       "      <td>99</td>\n",
       "      <td>0.227999</td>\n",
       "      <td>2.277055</td>\n",
       "      <td>3</td>\n",
       "      <td>0.503552</td>\n",
       "      <td>8</td>\n",
       "      <td>100,120,140,160,180,200,240,250</td>\n",
       "    </tr>\n",
       "    <tr>\n",
       "      <td>3</td>\n",
       "      <td>100</td>\n",
       "      <td>ABEV3</td>\n",
       "      <td>BBDC3</td>\n",
       "      <td>-4.554400</td>\n",
       "      <td>99</td>\n",
       "      <td>0.340198</td>\n",
       "      <td>2.725376</td>\n",
       "      <td>3</td>\n",
       "      <td>0.498752</td>\n",
       "      <td>6</td>\n",
       "      <td>100,120,140,160,180,200</td>\n",
       "    </tr>\n",
       "    <tr>\n",
       "      <td>4</td>\n",
       "      <td>100</td>\n",
       "      <td>ABEV3</td>\n",
       "      <td>BBDC4</td>\n",
       "      <td>-4.729748</td>\n",
       "      <td>99</td>\n",
       "      <td>0.317526</td>\n",
       "      <td>2.745548</td>\n",
       "      <td>3</td>\n",
       "      <td>0.511257</td>\n",
       "      <td>6</td>\n",
       "      <td>100,120,140,160,180,200</td>\n",
       "    </tr>\n",
       "    <tr>\n",
       "      <td>...</td>\n",
       "      <td>...</td>\n",
       "      <td>...</td>\n",
       "      <td>...</td>\n",
       "      <td>...</td>\n",
       "      <td>...</td>\n",
       "      <td>...</td>\n",
       "      <td>...</td>\n",
       "      <td>...</td>\n",
       "      <td>...</td>\n",
       "      <td>...</td>\n",
       "      <td>...</td>\n",
       "    </tr>\n",
       "    <tr>\n",
       "      <td>2198</td>\n",
       "      <td>100</td>\n",
       "      <td>VALE3</td>\n",
       "      <td>VIVT4</td>\n",
       "      <td>-4.405357</td>\n",
       "      <td>99</td>\n",
       "      <td>-0.154065</td>\n",
       "      <td>0.595764</td>\n",
       "      <td>2</td>\n",
       "      <td>0.072823</td>\n",
       "      <td>3</td>\n",
       "      <td>100,120,140</td>\n",
       "    </tr>\n",
       "    <tr>\n",
       "      <td>2199</td>\n",
       "      <td>100</td>\n",
       "      <td>VALE3</td>\n",
       "      <td>VVAR3</td>\n",
       "      <td>-4.257448</td>\n",
       "      <td>99</td>\n",
       "      <td>0.074880</td>\n",
       "      <td>0.667313</td>\n",
       "      <td>2</td>\n",
       "      <td>0.122354</td>\n",
       "      <td>7</td>\n",
       "      <td>100,120,140,200,220,240,250</td>\n",
       "    </tr>\n",
       "    <tr>\n",
       "      <td>2200</td>\n",
       "      <td>100</td>\n",
       "      <td>VALE3</td>\n",
       "      <td>WEGE3</td>\n",
       "      <td>-4.835714</td>\n",
       "      <td>99</td>\n",
       "      <td>-0.154135</td>\n",
       "      <td>0.282099</td>\n",
       "      <td>2</td>\n",
       "      <td>0.026697</td>\n",
       "      <td>2</td>\n",
       "      <td>100,120</td>\n",
       "    </tr>\n",
       "    <tr>\n",
       "      <td>2201</td>\n",
       "      <td>100</td>\n",
       "      <td>VIVT4</td>\n",
       "      <td>VVAR3</td>\n",
       "      <td>-3.188820</td>\n",
       "      <td>95</td>\n",
       "      <td>0.423131</td>\n",
       "      <td>1.511109</td>\n",
       "      <td>3</td>\n",
       "      <td>0.312834</td>\n",
       "      <td>9</td>\n",
       "      <td>100,120,140,160,180,200,220,240,250</td>\n",
       "    </tr>\n",
       "    <tr>\n",
       "      <td>2202</td>\n",
       "      <td>100</td>\n",
       "      <td>VIVT4</td>\n",
       "      <td>WEGE3</td>\n",
       "      <td>-3.875667</td>\n",
       "      <td>99</td>\n",
       "      <td>0.158429</td>\n",
       "      <td>0.579011</td>\n",
       "      <td>3</td>\n",
       "      <td>-0.026061</td>\n",
       "      <td>9</td>\n",
       "      <td>100,120,140,160,180,200,220,240,250</td>\n",
       "    </tr>\n",
       "  </tbody>\n",
       "</table>\n",
       "<p>2203 rows × 11 columns</p>\n",
       "</div>"
      ],
      "text/plain": [
       "      Period Dependent Independent  Dickey-Fuller  ADF      Beta       Std  \\\n",
       "0        100     ABEV3       AZUL4      -4.106537   99  0.169632  2.751306   \n",
       "1        100     ABEV3       B3SA3      -3.456112   95  0.122632  1.883905   \n",
       "2        100     ABEV3       BBAS3      -4.549424   99  0.227999  2.277055   \n",
       "3        100     ABEV3       BBDC3      -4.554400   99  0.340198  2.725376   \n",
       "4        100     ABEV3       BBDC4      -4.729748   99  0.317526  2.745548   \n",
       "...      ...       ...         ...            ...  ...       ...       ...   \n",
       "2198     100     VALE3       VIVT4      -4.405357   99 -0.154065  0.595764   \n",
       "2199     100     VALE3       VVAR3      -4.257448   99  0.074880  0.667313   \n",
       "2200     100     VALE3       WEGE3      -4.835714   99 -0.154135  0.282099   \n",
       "2201     100     VIVT4       VVAR3      -3.188820   95  0.423131  1.511109   \n",
       "2202     100     VIVT4       WEGE3      -3.875667   99  0.158429  0.579011   \n",
       "\n",
       "      HalfLife      Corr  PeriodQt                            PeriodStr  \n",
       "0            3  0.442744         3                          100,120,140  \n",
       "1            3  0.400432         2                              100,120  \n",
       "2            3  0.503552         8      100,120,140,160,180,200,240,250  \n",
       "3            3  0.498752         6              100,120,140,160,180,200  \n",
       "4            3  0.511257         6              100,120,140,160,180,200  \n",
       "...        ...       ...       ...                                  ...  \n",
       "2198         2  0.072823         3                          100,120,140  \n",
       "2199         2  0.122354         7          100,120,140,200,220,240,250  \n",
       "2200         2  0.026697         2                              100,120  \n",
       "2201         3  0.312834         9  100,120,140,160,180,200,220,240,250  \n",
       "2202         3 -0.026061         9  100,120,140,160,180,200,220,240,250  \n",
       "\n",
       "[2203 rows x 11 columns]"
      ]
     },
     "execution_count": 7,
     "metadata": {},
     "output_type": "execute_result"
    }
   ],
   "source": [
    "pairs"
   ]
  },
  {
   "cell_type": "code",
   "execution_count": 8,
   "metadata": {},
   "outputs": [
    {
     "name": "stdout",
     "output_type": "stream",
     "text": [
      "Saved successfully!!!\n"
     ]
    }
   ],
   "source": [
    "pairs.to_csv('datasets/cointegrated_pairs_mult.csv', index=False)\n",
    "print('Saved successfully!!!')"
   ]
  },
  {
   "cell_type": "markdown",
   "metadata": {},
   "source": [
    "# TESTES"
   ]
  },
  {
   "cell_type": "code",
   "execution_count": 9,
   "metadata": {},
   "outputs": [],
   "source": [
    "#ABEV3 AZUL4'CMIG4', 'ENGI11'\n",
    "y_symbol = 'CMIG4'\n",
    "x_symbol = 'ENGI11'\n",
    "period = 250"
   ]
  },
  {
   "cell_type": "code",
   "execution_count": 10,
   "metadata": {},
   "outputs": [],
   "source": [
    "y, x = get_values(data[y_symbol], data[x_symbol], 0)"
   ]
  },
  {
   "cell_type": "code",
   "execution_count": 11,
   "metadata": {},
   "outputs": [
    {
     "name": "stdout",
     "output_type": "stream",
     "text": [
      "CMIG4:  11.1899995803833 ENGI11:  49.2400016784668\n",
      "halflile: 6\n",
      "halflife_ser: 17.07055089865516\n",
      "correlation: 0.7664346291981535\n",
      "ratio_trade_stop: 3.932719208130191\n",
      "ratio_trade_output: 4.617583761731094\n",
      "ratio_trade_input: 4.151190067394093\n",
      "loss_percent: -5.262848863026082\n",
      "current_percent: 4.936552792100901\n",
      "return_percent: 11.235180436577297\n",
      "loss: -588.9127656888259\n",
      "gain: 552.400236721491\n",
      "intercept_coef: -0.11055787191197519\n",
      "intercept_inter: -0.16006511550748379\n",
      "invert: False\n"
     ]
    }
   ],
   "source": [
    "print('{}:  {} {}:  {}'.format(y_symbol, y[0], x_symbol, x[0]))\n",
    "print('halflile: {}'.format(halflile(residue(y, x, period))))\n",
    "print('halflife_ser: {}'.format(halflife_ser(y, x, period)))\n",
    "print('correlation: {}'.format(correlation(y, x, period)))\n",
    "print('ratio_trade_stop: {}'.format(ratio_trade_stop(y, x, period)))\n",
    "print('ratio_trade_output: {}'.format(ratio_trade_output(y, x, period)))\n",
    "print('ratio_trade_input: {}'.format(ratio_trade_input(y, x, period)))\n",
    "print('loss_percent: {}'.format(loss_percent(y, x, period)*100))\n",
    "print('current_percent: {}'.format(current_percent(y, x, period)*100))\n",
    "print('return_percent: {}'.format(return_percent(y, x, period)*100))\n",
    "print('loss: {}'.format(loss(y, x, 1000, period)))\n",
    "print('gain: {}'.format(gain(y, x, 1000, period)))\n",
    "print('intercept_coef: {}'.format(intercept_coef(y, x, period)))\n",
    "print('intercept_inter: {}'.format(intercept_inter(y, x, period)))\n",
    "print('invert: {}'.format(invert(y, x, period)))"
   ]
  },
  {
   "cell_type": "code",
   "execution_count": 12,
   "metadata": {},
   "outputs": [
    {
     "name": "stdout",
     "output_type": "stream",
     "text": [
      "===================================================================================\n",
      "Período de Análise                   250   Entrada                              Não\n",
      "===================================================================================\n",
      "Independente                       CMIG4   Dependente                        ENGI11\n",
      "R$                                 11.19   R$                                 49.24\n",
      "Ratio                0.22725424855695756   \n",
      "===================================================================================\n",
      "Somente para operação Beta Neutral:\n",
      "Retorno  (%)          11.235180436577297   Gain                   55.24002367214909\n",
      "Atual    (%)           4.936552792100901   Loss                  -58.89127656888259\n",
      "Loss     (%)          -5.262848863026082                                           \n",
      "===================================================================================\n",
      "Dickey Fuller        -3.8004323403128453   Meia Vida                              6\n",
      "ADF                                   99   Correlação  (%)        76.64346291981535\n",
      "p-value             0.002902894682639777   Inverter                           False\n",
      "                                           Beta                  0.3004514892813691\n",
      "===================================================================================\n",
      "Ratio Entrada          4.151190067394093   \n",
      "Ratio Saída            4.617583761731094   \n",
      "Ratio Stop             3.932719208130191   \n",
      "===================================================================================\n",
      "Cointegrado em (8): [120, 140, 160, 180, 200, 220, 240, 250]\n",
      "===================================================================================\n"
     ]
    }
   ],
   "source": [
    "summary(data, y_symbol, x_symbol, period)"
   ]
  },
  {
   "cell_type": "code",
   "execution_count": 13,
   "metadata": {},
   "outputs": [
    {
     "data": {
      "text/plain": [
       "0.27412315744554167"
      ]
     },
     "execution_count": 13,
     "metadata": {},
     "output_type": "execute_result"
    }
   ],
   "source": [
    "epadyx(y, x, period)"
   ]
  },
  {
   "cell_type": "code",
   "execution_count": 14,
   "metadata": {},
   "outputs": [
    {
     "data": {
      "text/plain": [
       "9.452637563671217"
      ]
     },
     "execution_count": 14,
     "metadata": {},
     "output_type": "execute_result"
    }
   ],
   "source": [
    "np.sqrt(desvq(residue(y, x, period)))"
   ]
  },
  {
   "cell_type": "code",
   "execution_count": 15,
   "metadata": {},
   "outputs": [
    {
     "data": {
      "text/plain": [
       "{'period': 250,\n",
       " 'is_stationary': True,\n",
       " 'std': 0.8805298043948128,\n",
       " 'model': 'MRLM',\n",
       " 'halflife': 6,\n",
       " 'p-value': 0.002902894682639777,\n",
       " 'statistic': -3.8004323403128453,\n",
       " 'adf': 99,\n",
       " 'coef.temp': -0.01385691147832672,\n",
       " 'coef.ang': 0.3004514892813691,\n",
       " 'coef.linear': -0.6664179402839991}"
      ]
     },
     "execution_count": 15,
     "metadata": {},
     "output_type": "execute_result"
    }
   ],
   "source": [
    "check_cointegration(y, x, period)"
   ]
  },
  {
   "cell_type": "code",
   "execution_count": 16,
   "metadata": {},
   "outputs": [
    {
     "data": {
      "text/plain": [
       "{'is_stationary': True,\n",
       " 'p-value': 0.002902894682639777,\n",
       " 'adf': 99,\n",
       " 'statistic': -3.8004323403128453}"
      ]
     },
     "execution_count": 16,
     "metadata": {},
     "output_type": "execute_result"
    }
   ],
   "source": [
    "dickey_fuller(residue(y, x, period))"
   ]
  },
  {
   "cell_type": "code",
   "execution_count": 17,
   "metadata": {},
   "outputs": [
    {
     "data": {
      "text/plain": [
       "{'statistic': -3.810127977844878, 'adf': 95}"
      ]
     },
     "execution_count": 17,
     "metadata": {},
     "output_type": "execute_result"
    }
   ],
   "source": [
    "dickey_fuller_ger(y, x, period)"
   ]
  },
  {
   "cell_type": "code",
   "execution_count": 18,
   "metadata": {},
   "outputs": [
    {
     "data": {
      "text/plain": [
       "{'std': 0.5990365655517067,\n",
       " 'std_up': 1.1980731311034134,\n",
       " 'std_down': -1.1980731311034134,\n",
       " 'mean': -2.05702122002549e-14,\n",
       " 'min': -2.8502668857624105,\n",
       " 'max': 2.5547574777580295}"
      ]
     },
     "execution_count": 18,
     "metadata": {},
     "output_type": "execute_result"
    }
   ],
   "source": [
    "statisticspair(y, x, 2, period)"
   ]
  },
  {
   "cell_type": "code",
   "execution_count": 19,
   "metadata": {},
   "outputs": [
    {
     "data": {
      "text/plain": [
       "{'halffile': 17.07055089865516,\n",
       " 'beta': 0.11716083516423377,\n",
       " 'alpha': -0.690705601663756,\n",
       " 'sigma': 0.4486244405240018}"
      ]
     },
     "execution_count": 19,
     "metadata": {},
     "output_type": "execute_result"
    }
   ],
   "source": [
    "ornstein_uhlenbeck(y, x, period)"
   ]
  },
  {
   "cell_type": "code",
   "execution_count": 20,
   "metadata": {},
   "outputs": [
    {
     "data": {
      "text/plain": [
       "{'temp': -0.01385691147832672,\n",
       " 'angular': 0.3004514892813691,\n",
       " 'intercept': -0.6664179402839991}"
      ]
     },
     "execution_count": 20,
     "metadata": {},
     "output_type": "execute_result"
    }
   ],
   "source": [
    "coef = coefficients(y, x, period)\n",
    "coef"
   ]
  },
  {
   "cell_type": "code",
   "execution_count": 21,
   "metadata": {},
   "outputs": [],
   "source": [
    "reg = regression(y, x, period)"
   ]
  },
  {
   "cell_type": "code",
   "execution_count": 22,
   "metadata": {},
   "outputs": [
    {
     "data": {
      "text/plain": [
       "{'temp': 0.0005366577065171096,\n",
       " 'angular': 0.007697067620110665,\n",
       " 'intercept': 0.392526044885028}"
      ]
     },
     "execution_count": 22,
     "metadata": {},
     "output_type": "execute_result"
    }
   ],
   "source": [
    "stderr(y, x, period)"
   ]
  },
  {
   "cell_type": "code",
   "execution_count": 23,
   "metadata": {},
   "outputs": [
    {
     "data": {
      "text/plain": [
       "{'descr': 'Short/Long',\n",
       " 'signal': '',\n",
       " 'is_signal': False,\n",
       " 'resid_current': 0.5264135537365155,\n",
       " 'percent_dist_mean': 0.43938349009771543}"
      ]
     },
     "execution_count": 23,
     "metadata": {},
     "output_type": "execute_result"
    }
   ],
   "source": [
    "signal(y, x, 2, period)"
   ]
  },
  {
   "cell_type": "code",
   "execution_count": 24,
   "metadata": {},
   "outputs": [
    {
     "data": {
      "text/plain": [
       "[120, 140, 160, 180, 200, 220, 240, 250]"
      ]
     },
     "execution_count": 24,
     "metadata": {},
     "output_type": "execute_result"
    }
   ],
   "source": [
    "check_periods(data[y_symbol], data[x_symbol])"
   ]
  },
  {
   "cell_type": "code",
   "execution_count": 25,
   "metadata": {},
   "outputs": [
    {
     "data": {
      "image/png": "[encoded data removed]",
      "text/plain": [
       "<Figure size 1224x432 with 1 Axes>"
      ]
     },
     "metadata": {
      "needs_background": "light"
     },
     "output_type": "display_data"
    }
   ],
   "source": [
    "plot_residue(residue(y, x, period))"
   ]
  },
  {
   "cell_type": "code",
   "execution_count": 26,
   "metadata": {},
   "outputs": [
    {
     "data": {
      "image/png": "[encoded data removed]",
      "text/plain": [
       "<Figure size 1224x432 with 1 Axes>"
      ]
     },
     "metadata": {
      "needs_background": "light"
     },
     "output_type": "display_data"
    }
   ],
   "source": [
    "coint.show(data[::-1], y_symbol, x_symbol)"
   ]
  },
  {
   "cell_type": "code",
   "execution_count": 27,
   "metadata": {},
   "outputs": [
    {
     "data": {
      "text/plain": [
       "<matplotlib.axes._subplots.AxesSubplot at 0x1f6cd0ee5c8>"
      ]
     },
     "execution_count": 27,
     "metadata": {},
     "output_type": "execute_result"
    },
    {
     "data": {
      "image/png": "[encoded data removed]",
      "text/plain": [
       "<Figure size 1080x432 with 1 Axes>"
      ]
     },
     "metadata": {
      "needs_background": "light"
     },
     "output_type": "display_data"
    }
   ],
   "source": [
    "ratio_continuo(y, x, period)[::-1].plot(figsize=(15,6))"
   ]
  },
  {
   "cell_type": "code",
   "execution_count": null,
   "metadata": {},
   "outputs": [],
   "source": []
  }
 ],
 "metadata": {
  "kernelspec": {
   "display_name": "Python 3",
   "language": "python",
   "name": "python3"
  },
  "language_info": {
   "codemirror_mode": {
    "name": "ipython",
    "version": 3
   },
   "file_extension": ".py",
   "mimetype": "text/x-python",
   "name": "python",
   "nbconvert_exporter": "python",
   "pygments_lexer": "ipython3",
   "version": "3.7.4"
  }
 },
 "nbformat": 4,
 "nbformat_minor": 2
}
