{
 "cells": [
  {
   "cell_type": "code",
   "execution_count": 249,
   "metadata": {},
   "outputs": [],
   "source": [
    "#%%writefile cointegration_mult.py\n",
    "\n",
    "import numpy as np\n",
    "import pandas as pd\n",
    "import statsmodels.api as sm\n",
    "import statsmodels.tsa.stattools as ts\n",
    "import matplotlib.pyplot as plt\n",
    "import statistics\n",
    "import seaborn as sns; sns.set(style=\"whitegrid\")\n",
    "\n",
    "def coefficients(y, x, period):\n",
    "    model = regression(y, x, period)\n",
    "    return {\"temp\":model.params['temp'],\n",
    "            \"angular\":model.params['x'],\n",
    "            \"intercept\":model.params['const']}\n",
    "\n",
    "def regression(y, x, period):\n",
    "    y, x = get_values(y, x, period)\n",
    "    pairs = pd.DataFrame()\n",
    "    \n",
    "    pairs['y'] = y\n",
    "    pairs['x'] = x\n",
    "    pairs['temp'] = timeline(period)\n",
    "    \n",
    "    X = pairs[['x', 'temp']]\n",
    "    X = sm.add_constant(X)\n",
    "    model = sm.OLS(pairs['y'], X).fit()\n",
    "    return model\n",
    "\n",
    "#O desvio padrão de uma estimativa é chamado de erro padrão\n",
    "def stderr(y, x, period):\n",
    "    model = regression(y, x, period)\n",
    "    return {\"temp\":model.bse['temp'],\n",
    "            \"angular\":model.bse['x'],\n",
    "            \"intercept\":model.bse['const']}\n",
    "    \n",
    "def residue(y, x, period):\n",
    "    y, x = get_values(y, x, period)\n",
    "    coef = coefficients(y, x, period)\n",
    "    temp = timeline(period)\n",
    "    res = y-coef['angular']*x-temp*coef['temp']-coef['intercept']\n",
    "    #res[0]=0\n",
    "    return res\n",
    "\n",
    "def timeline(period):\n",
    "    numbers = np.arange(1, period+1)\n",
    "    temp = period - numbers + 1\n",
    "    return temp\n",
    "\n",
    "def getvolume(coef, y_volume, x_volume=0):\n",
    "    return [y_volume, int(-y_volume*coef['angular'])]\n",
    "\n",
    "def returns(y, x, period):\n",
    "    y, x = get_values(y, x, period)\n",
    "    y_log = np.log(y/y.shift(1))\n",
    "    x_log = np.log(x/x.shift(1))\n",
    "    return [y_log, x_log]\n",
    "    \n",
    "def get_values(y, x, period):\n",
    "    if(period <= 0):\n",
    "        return y, x\n",
    "    \n",
    "    y = y.iloc[:period]\n",
    "    x = x.iloc[:period]\n",
    "    return y, x\n",
    "\n",
    "def correlation(y, x, period):\n",
    "    y_log, x_log = returns(y, x, period)\n",
    "    return y_log.corr(x_log)\n",
    "\n",
    "def getdata(data, period):\n",
    "    data_max = data[:period]\n",
    "    return data_max\n",
    "\n",
    "def invert(y, x, period):\n",
    "    coef_main = coefficients(y, x, period)\n",
    "    coef_invert = coefficients(x, y, period)\n",
    "    if (abs(coef_main['temp'])<=abs(coef_invert['temp'])):\n",
    "        return False\n",
    "    return True\n",
    "\n",
    "def ratio_diff(y, x, period):\n",
    "    coef = coefficients(y, x, period)\n",
    "    res = residue(y, x, period)\n",
    "    diff = res.shift(1)-res\n",
    "    diff[0]=0\n",
    "    return diff\n",
    "\n",
    "def ratio_continuo(y, x, period):\n",
    "    y, x = get_values(y, x, period)\n",
    "    return y-x\n",
    "    \n",
    "def intercept_coef(y, x, period):\n",
    "    res = residue(y, x, period)\n",
    "    diff = ratio_diff(y, x, period)\n",
    "\n",
    "    target = pd.DataFrame(res, columns=[\"target\"])\n",
    "    target = sm.add_constant(target)\n",
    "    model = sm.OLS(diff, target).fit()\n",
    "    return model.params['target']\n",
    "\n",
    "def intercept_inter(y, x, period):\n",
    "    ratio_cont = ratio_continuo(y, x, period)\n",
    "    ratio_cont[0]=0\n",
    "    diff_r = ratio_diff(y, x, period)\n",
    "    \n",
    "    ratio_cont = sm.add_constant(ratio_cont)\n",
    "    model = sm.OLS(diff_r, ratio_cont).fit()\n",
    "    return model.params['const']\n",
    "\n",
    "def ornstein_uhlenbeck(y, x, period):\n",
    "    coef = intercept_coef(y, x, period)\n",
    "    \n",
    "    beta = -np.log(1+intercept_coef(y, x, period))\n",
    "    alpha = -(coef/intercept_inter(y, x, period))\n",
    "    \n",
    "    std = residue(y, x, period).std()\n",
    "    sigma=std*np.sqrt(np.log(1+coef)/(np.power((1+coef),2)-1))\n",
    "    \n",
    "    half = 2/beta\n",
    "    return {\n",
    "        \"halffile\": half,\n",
    "        \"beta\": beta,\n",
    "        \"alpha\": alpha,\n",
    "        \"sigma\": sigma\n",
    "    }\n",
    "\n",
    "def halflife_ser(y, x, period):\n",
    "    return ornstein_uhlenbeck(y, x, period)['halffile']\n",
    "\n",
    "def halflile(series):\n",
    "    lag = np.roll(series, 1)\n",
    "    lag[0] = 0\n",
    "    ret = series - lag\n",
    "    ret[0] = 0\n",
    "\n",
    "    # adds intercept terms to X variable for regression\n",
    "    lag2 = sm.add_constant(lag)\n",
    "    res = sm.OLS(ret, lag2).fit()\n",
    "    half_life = int(round(-np.log(2) / res.params[1],0))\n",
    "\n",
    "    if half_life <= 0:\n",
    "        half_life = 1\n",
    "    return half_life\n",
    "    \n",
    "def statisticspair(y, x, desv_input, period):\n",
    "    res = residue(y, x, period)\n",
    "    std = res.std()\n",
    "    return {\n",
    "        \"std\": std,\n",
    "        \"std_up\": desv_input*std,\n",
    "        \"std_down\": -desv_input*std,\n",
    "        \"mean\": res.mean(),\n",
    "        \"min\": np.min(res)-2*std,\n",
    "        \"max\": np.max(res)+2*std\n",
    "    }\n",
    "\n",
    "\n",
    "# acima do quadro \"ESTATÍSTICAS\"\n",
    "def desv_stop(y, x, period):\n",
    "    resid = residue(y, x, period)\n",
    "    std_down = resid.mean()-3.1*resid.std()\n",
    "    std_up = resid.mean()+3.1*resid.std()\n",
    "    return {\n",
    "        'up': std_up,\n",
    "        'down':std_down\n",
    "    }\n",
    "\n",
    "def ratio_trade_stop(y, x, period):\n",
    "    resid = residue(y, x, period)\n",
    "    \n",
    "    # acima do quadro \"ESTATÍSTICAS\"\n",
    "    std_down = resid.mean()-3.1*resid.std()\n",
    "    std_up = resid.mean()+3.1*resid.std()\n",
    "    \n",
    "    coef = coefficients(y, x, period)\n",
    "    last_resid = resid[0]\n",
    "    last_price = x[0]\n",
    "    \n",
    "    formula = (last_price*coef['angular']+coef['intercept']+last_resid+coef['temp']*period+min(last_resid-std_down,std_up-last_resid)*sinal(last_resid))\n",
    "    return max(formula/last_price, last_price/formula)\n",
    "    \n",
    "def ratio_trade_output(y, x, period):\n",
    "    price = x[0]\n",
    "    coef = coefficients(y, x, period)\n",
    "    formula = (coef['angular']*price+coef['intercept']+coef['temp']*period)/price\n",
    "    return max(formula, 1/formula)\n",
    "\n",
    "def ratio_trade_input(y, x, period):\n",
    "    price = x[0]\n",
    "    resid = residue(y, x, period)\n",
    "    last_resid = resid[0]\n",
    "    coef = coefficients(y, x, period)\n",
    "    std_up = 2*resid.std()\n",
    "    std_down = -2*resid.std()\n",
    "    \n",
    "    formula = (price*coef['angular']+coef['intercept']+last_resid+coef['temp']*period+min(last_resid-std_down,std_up-last_resid)*sinal(last_resid))\n",
    "    return max(formula/price, price/formula)\n",
    "\n",
    "def ratio_trade(y, x, period):\n",
    "    ratio_input = ratio_trade_input(y, x, period)\n",
    "    ratio_stop = ratio_trade_stop(y, x, period)\n",
    "    ratio_output = ratio_trade_output(y, x, period)\n",
    "    return {\n",
    "        'input': ratio_input,\n",
    "        'stop': ratio_stop,\n",
    "        'output': ratio_output,\n",
    "    }\n",
    "    \n",
    "def ratio_current(y, x):\n",
    "    ratio = y[0]/x[0]\n",
    "    return {\n",
    "        \"ratio\": ratio,\n",
    "        \"value\": 1/ratio\n",
    "    }\n",
    "\n",
    "def loss_percent(y, x, period):\n",
    "    return -abs(ratio_trade_stop(y, x, period)/ratio_trade_input(y, x, period)-1)\n",
    "\n",
    "def current_percent(y, x, period):\n",
    "    ratio = ratio_current(y, x)\n",
    "    return abs(ratio_trade_output(y, x, period)/max(ratio['ratio'], ratio['value'])-1)\n",
    "\n",
    "def return_percent(y, x, period):\n",
    "    return abs(ratio_trade_output(y, x, period)/ratio_trade_input(y, x, period)-1)\n",
    "\n",
    "def loss(y, x, volume, period):\n",
    "    return y[0]*abs(volume)*loss_percent(y, x, period)\n",
    "\n",
    "def gain(y, x, volume, period):\n",
    "    return current_percent(y, x, period)*abs(volume)*y[0]\n",
    "\n",
    "def zscore(series):\n",
    "    return (series - series.mean()) / np.std(series)\n",
    "\n",
    "def sinal(value):\n",
    "    if(value < 0):\n",
    "        return -1\n",
    "    return 1\n",
    "\n",
    "def dickey_fuller(series):\n",
    "    model = ts.adfuller(series, 1)\n",
    "    p_value = model[1]\n",
    "    statistic = model[0]\n",
    "\n",
    "    # Dickey-Fuller\n",
    "    is_stationary = False\n",
    "    if (p_value < .05):\n",
    "        is_stationary = True\n",
    "\n",
    "    # Augmented Dickey Fuller (ADF)\n",
    "    perc_stat = 0\n",
    "    if (abs(statistic) > abs(model[4]['1%'])):\n",
    "        perc_stat = 99\n",
    "    elif (abs(statistic) > abs(model[4]['5%'])):\n",
    "        perc_stat = 95\n",
    "    elif (abs(statistic) > abs(model[4]['10%'])):\n",
    "        perc_stat = 90\n",
    "        \n",
    "    return {\n",
    "        \"is_stationary\": is_stationary,\n",
    "        \"p-value\": p_value,\n",
    "        \"adf\": perc_stat,\n",
    "        \"statistic\": statistic\n",
    "    }\n",
    "\n",
    "#função DESVQ do excel\n",
    "def desvq(values):\n",
    "    return np.power(values-values.mean(), 2).sum()\n",
    "\n",
    "#função EPADYX do excel\n",
    "def epadyx(y, x, period):\n",
    "    res = residue(y, x, period)\n",
    "    rdiff = ratio_diff(y, x, period)\n",
    "    X = sm.add_constant(res)\n",
    "    fit = sm.OLS(rdiff, X).fit()\n",
    "    return np.sqrt(fit.mse_resid)\n",
    "    \n",
    "def adf_ser(y, x, period):\n",
    "    res = residue(y, x, period)\n",
    "    rdiff = ratio_diff(y, x, period)\n",
    "    res[0]=0\n",
    "    rdiff[0]=0\n",
    "\n",
    "    inter_cof = intercept_coef(y, x, period)\n",
    "    return inter_cof/(epadyx(rdiff, res, period)/np.sqrt(desvq(res)))\n",
    "\n",
    "def rejeitado_h0(adf):\n",
    "    if adf<=0:\n",
    "        if adf<=-4.32: return 99\n",
    "        if adf<=-3.67: return 95\n",
    "        if adf<=-3.28: return 90\n",
    "    else:\n",
    "        if adf<=-3.58: return 99\n",
    "        if adf<=-3.22: return 95\n",
    "        if adf<=-2.6: return 90\n",
    "    return 0\n",
    "\n",
    "def dickey_fuller_ger(y, x, period):\n",
    "    adf_statistic = adf_ser(y, x, period)\n",
    "    rej = rejeitado_h0(adf_statistic)\n",
    "    return {\n",
    "        \"statistic\": adf_statistic,\n",
    "        \"adf\": rej\n",
    "    }\n",
    "\n",
    "def predy(y, x, period):\n",
    "    last_price = x[0]\n",
    "    coef = coefficients(y, x, period)\n",
    "    last_resid = residue(y, x, period)[0]\n",
    "    pred = last_price*coef['angular']+coef['intercept']+last_resid+coef['temp']*period\n",
    "    return pred\n",
    "\n",
    "def signal(y, x, desv_input, period):\n",
    "    y, x, get_values(y, x, period)\n",
    "    resid = residue(y, x, period)[::-1]\n",
    "    \n",
    "    std = resid.std()\n",
    "    resid_current = resid.iloc[-1]\n",
    "    zscore_up = desv_input*std\n",
    "    zscore_down = -desv_input*std\n",
    "    zcurrent = 0\n",
    "    descr = ''\n",
    "    \n",
    "    # >0; resíduo acima da linha 0\n",
    "    if(resid_current > resid.mean()):\n",
    "        descr = 'Short/Long'\n",
    "        zcurrent = zscore_up\n",
    "    else:\n",
    "        descr = 'Long/Short'\n",
    "        zcurrent = zscore_down\n",
    "    \n",
    "    oper_str = ''\n",
    "    if (resid_current >= zscore_up):\n",
    "        oper_str='Short'\n",
    "    if (resid_current <= zscore_down):\n",
    "        oper_str='Long'\n",
    "        \n",
    "    percent = (abs(resid_current)/abs(zcurrent))\n",
    "    #1-descr\n",
    "    #2-resíduo atual\n",
    "    #3-percent distância da linha 0, quanto maior, melhor\n",
    "    return {\n",
    "        \"descr\": descr,\n",
    "        \"signal\": oper_str,\n",
    "        \"is_signal\": oper_str!='',\n",
    "        \"resid_current\": resid_current,\n",
    "        \"percent_dist_mean\": percent}\n",
    "\n",
    "def list_periods():\n",
    "    return [100, 120, 140, 160, 180, 200, 220, 240, 250]\n",
    "\n",
    "def check_periods(y, x):\n",
    "    rows=[]\n",
    "    for period in list_periods():\n",
    "        if (dickey_fuller(residue(y, x, period))['is_stationary']):\n",
    "            rows.append(period)\n",
    "    return rows\n",
    "\n",
    "def analysis_by_periods(y, x):\n",
    "    rows=[]\n",
    "    for period in list_periods():\n",
    "        # filter by period\n",
    "        y_values, x_values = get_values(y, x, period)\n",
    "        resid = residue(y_values, x_values, period)\n",
    "        \n",
    "        check = check_cointegration(y_values, x_values, period)\n",
    "        half = halflile(resid)\n",
    "        corr = correlation(y_values, x_values, period)\n",
    "        \n",
    "        rows.append([period, check['is_stationary'], check['p-value'], check['adf'], check['coef.ang'], half, corr])\n",
    "        \n",
    "    analysis = pd.DataFrame(rows, columns=['Period', 'Stationary', 'Dickey-Fuller', 'ADF', 'Beta', 'HalfLife', 'Corr'])\n",
    "    return analysis\n",
    "\n",
    "def check_cointegration(y, x, period):\n",
    "    if (period == 0):\n",
    "        period = len(y)\n",
    "        \n",
    "    dickey = dickey_fuller(residue(y, x, period))\n",
    "    coeff = coefficients(y, x, period)\n",
    "    \n",
    "    return {\"period\": period,\n",
    "            \"is_stationary\": dickey['is_stationary'],\n",
    "            \"p-value\": dickey['p-value'],\n",
    "            \"adf\": dickey['adf'],\n",
    "            \"coef.temp\": coeff['temp'],\n",
    "            \"coef.ang\": coeff['angular'],\n",
    "            \"coef.linear\": coeff['intercept']\n",
    "           }\n",
    "\n",
    "def find(data):\n",
    "    rows = []\n",
    "    index=-1\n",
    "    \n",
    "    for y_symbol in data.columns:\n",
    "        index = index + 1\n",
    "        for x_symbol in data.columns[index+1:data.shape[1]]:#for x_symbol in data.columns:\n",
    "            if (y_symbol == x_symbol):\n",
    "                continue\n",
    "                \n",
    "            for period in [250, 240, 220, 200, 180, 160, 140, 120, 100]:\n",
    "                check = check_cointegration(data[y_symbol], data[x_symbol], period)\n",
    "                # find only an is stationary, then break looping\n",
    "                if (check['is_stationary']):\n",
    "                    rows.append([period, y_symbol, x_symbol, check['p-value'], check['adf'], check['coef.ang']])\n",
    "                    break\n",
    "    return rows\n",
    "\n",
    "def find_pairs(data):\n",
    "    df_pairs = pd.DataFrame(find(data), columns=['Period', 'Dependent', 'Independent', 'Dickey-Fuller', 'ADF', 'Beta'])\n",
    "    return df_pairs\n",
    "\n",
    "def apply_halflife(data, pairs):\n",
    "    pairs['HalfLife'] = 0\n",
    "    for i, row in pairs.iterrows():\n",
    "        period = row['Period']\n",
    "        y, x = get_values(data[row['Dependent']], data[row['Independent']], period)\n",
    "        \n",
    "        half = halflile(residue(y, x, period))\n",
    "        pairs['HalfLife'].iloc[i]=half\n",
    "\n",
    "def apply_corr(data, pairs):\n",
    "    pairs['Corr'] = 0\n",
    "    for i, row in pairs.iterrows():\n",
    "        period = row['Period']\n",
    "        y, x = get_values(data[row['Dependent']], data[row['Independent']], period)\n",
    "\n",
    "        corr = correlation(y, x, period)\n",
    "        pairs['Corr'].iloc[i] = corr\n",
    "        \n",
    "def apply_signal(data, pairs, desv_input):\n",
    "    pairs['Signal'] = 0\n",
    "    pairs['SignalStr'] = ''\n",
    "    \n",
    "    for i, row in pairs.iterrows():\n",
    "        period = row['Period']\n",
    "        y, x = get_values(data[row['Dependent']], data[row['Independent']], period)\n",
    "        \n",
    "        sig = signal(y, x, desv_input, period)\n",
    "        pairs['Signal'].iloc[i] = sig['percent_dist_mean']\n",
    "        pairs['SignalStr'].iloc[i] = sig['descr']\n",
    "        \n",
    "def apply_periods(data, pairs):\n",
    "    pairs['PeriodQt'] = 0\n",
    "    pairs['PeriodStr'] = ''\n",
    "    for i, row in pairs.iterrows():\n",
    "        periods_ok = check_periods(data[row['Dependent']],  data[row['Independent']])\n",
    "\n",
    "        descr = ''\n",
    "        for per in periods_ok:\n",
    "            if (descr!=''): descr=descr+','\n",
    "            descr=descr+str(per)\n",
    "\n",
    "        pairs['PeriodQt'].iloc[i] = len(periods_ok)\n",
    "        pairs['PeriodStr'].iloc[i] = descr\n",
    "\n",
    "def valuestr(message1=[], message2=[]):\n",
    "    space = 40\n",
    "    right = ''\n",
    "    if (len(message1)>0):\n",
    "        n = space-len(message1[1])\n",
    "        right =  message1[0].ljust(n, ' ') + message1[1]\n",
    "    \n",
    "    lefht = ''\n",
    "    if(len(message2) > 0):\n",
    "        n = space-len(message2[1])\n",
    "        lefht =  message2[0].ljust(n, ' ') + message2[1]\n",
    "    \n",
    "    print(right.ljust(n, ' ') + '   ' + lefht)\n",
    "    \n",
    "def summary(data, y_symbol, x_symbol, period, y_volume=100, x_volume=0, display_statistic=False):\n",
    "    line = '==================================================================================='\n",
    "    y, x = get_values(data[y_symbol], data[x_symbol], period)\n",
    "    resid = residue(y, x, period)\n",
    "    coef = coefficients(y, x, period)\n",
    "    volume = getvolume(coef, y_volume, x_volume)\n",
    "    sig = signal(y, x, 2, period)\n",
    "    \n",
    "    oper = 'Não'\n",
    "    if (sig['signal']=='Short'):\n",
    "        oper = 'Venda: {} / Compra:{}'.format(y_symbol, x_symbol)\n",
    "    if (sig['signal']=='Long'):\n",
    "        oper = 'Compra: {} / Venda:{}'.format(y_symbol, x_symbol)\n",
    "    \n",
    "    print(line)\n",
    "    valuestr(['Período de Análise', str(period)], ['Entrada', oper])\n",
    "    print(line)\n",
    "    valuestr(['Independente', y_symbol], ['Dependente', x_symbol])\n",
    "    valuestr(['R$', str(y[0])], ['R$', str(x[0])])\n",
    "    valuestr(['Volume', str(volume[0])], ['Volume', str(volume[1])])\n",
    "    \n",
    "    y_finan = -y[0]*volume[0]\n",
    "    x_finan = -x[0]*volume[1]\n",
    "    print(line)\n",
    "    valuestr(['Finan({}) R$'.format(y_symbol), str(y_finan)], ['Ratio', str(y[0]/x[0])])\n",
    "    valuestr(['Finan({}) R$'.format(x_symbol), str(x_finan)], ['', ''])\n",
    "    valuestr(['Margem  R$', str(abs(y_finan+x_finan))], ['', ''])\n",
    "    \n",
    "    print(line)\n",
    "    valuestr(['Retorno  (%)', str(return_percent(y, x, period)*100)], ['Gain', str(gain(y, x, volume[0], period))])\n",
    "    valuestr(['Atual    (%)', str(current_percent(y, x, period)*100)], ['Loss', str(loss(y, x, volume[0], period))])\n",
    "    valuestr(['Loss     (%)', str(loss_percent(y, x, period)*100)], ['', ''])\n",
    "    \n",
    "    dickey = dickey_fuller(residue(y, x, period))\n",
    "    print(line)\n",
    "    valuestr(['Dickey Fuller', str(dickey['statistic'])], ['Meia Vida', str(halflile(resid))])    \n",
    "    valuestr(['ADF', str(dickey['adf'])], ['Correlação  (%)', str(correlation(y, x, period)*100)])\n",
    "    valuestr(['p-value', str(dickey['p-value'])], ['Inverter', str(invert(y, x, period))])\n",
    "    valuestr(['', ''], ['Beta', str(coef['angular'])])\n",
    "    \n",
    "    print(line)\n",
    "    valuestr(['Ratio Entrada', str(ratio_trade_input(y, x, period))])\n",
    "    valuestr(['Ratio Saída', str(ratio_trade_output(y, x, period))])\n",
    "    valuestr(['Ratio Stop', str(ratio_trade_stop(y, x, period))])\n",
    "    \n",
    "    print(line)\n",
    "    listperiods = check_periods(data[y_symbol], data[x_symbol])\n",
    "    print('Cointegrado em ({}): {}'.format(len(listperiods), listperiods))\n",
    "    \n",
    "    if (display_statistic):\n",
    "        print(line)\n",
    "        valuestr(['Coef.Temp', str(coef['temp'])], ['Coef', str(intercept_coef(y, x, period))])\n",
    "        valuestr(['Coef.Ang', str(coef['angular'])], ['Intercept', str(intercept_inter(y, x, period))])\n",
    "        valuestr(['Coef.Lin', str(coef['intercept'])], ['', ''])\n",
    "        \n",
    "    print(line)\n",
    "\n",
    "def plot_residue2(y, x, period, desv_input=2, padronizar=True):\n",
    "    plot_residue(residue(y, x, period), desv_input=desv_input, padronizar=padronizar)\n",
    "    \n",
    "def plot_residue(resid, desv_input=2, padronizar=True):\n",
    "    resid = resid[::-1]\n",
    "    if (padronizar):\n",
    "        resid = zscore(resid)\n",
    "    std = resid.std()\n",
    "    resid.plot(figsize=(17, 6), linewidth=2)\n",
    "\n",
    "    plt.xlabel('')\n",
    "    plt.axhline(resid.mean())\n",
    "    plt.axhline(0, color='black',label='mean') # Add the mean of residual\n",
    "    plt.axhline(desv_input*std, color='red', linestyle='--', linewidth=2)\n",
    "    plt.axhline(-desv_input*std, color='green', linestyle='--', linewidth=2)"
   ]
  },
  {
   "cell_type": "code",
   "execution_count": 250,
   "metadata": {},
   "outputs": [
    {
     "name": "stdout",
     "output_type": "stream",
     "text": [
      "===================================================================================\n",
      "Período de Análise                   140   Entrada                              Não\n",
      "===================================================================================\n",
      "Independente                      ENGI11   Dependente                         VVAR3\n",
      "R$                                 47.58   R$                                 15.86\n",
      "Volume                               100   Volume                              -146\n",
      "===================================================================================\n",
      "Finan(ENGI11) R$                 -4758.0   Ratio                                3.0\n",
      "Finan(VVAR3) R$                  2315.56                                           \n",
      "Margem  R$                       2442.44                                           \n",
      "===================================================================================\n",
      "Retorno  (%)           8.805110522837168   Gain                  157.35282779466147\n",
      "Atual    (%)          3.3071212230908253   Loss                  -230.4209372721282\n",
      "Loss     (%)         -4.8428107875604915                                           \n",
      "===================================================================================\n",
      "Dickey Fuller         -3.741519887340069   Meia Vida                              4\n",
      "ADF                                   99   Correlação  (%)         65.7253371129565\n",
      "p-value            0.0035656287535486965   Inverter                            True\n",
      "                                           Beta                  1.4603995996121066\n",
      "===================================================================================\n",
      "Ratio Entrada         2.8484081508673524   \n",
      "Ratio Saída            3.099213636692725   \n",
      "Ratio Stop             2.710465133663396   \n",
      "===================================================================================\n",
      "Cointegrado em (9): [100, 120, 140, 160, 180, 200, 220, 240, 250]\n",
      "===================================================================================\n"
     ]
    }
   ],
   "source": [
    "summary(data, 'ENGI11', 'VVAR3', 140, y_volume=100)"
   ]
  },
  {
   "cell_type": "code",
   "execution_count": 229,
   "metadata": {},
   "outputs": [
    {
     "data": {
      "text/plain": [
       "73.5"
      ]
     },
     "execution_count": 229,
     "metadata": {},
     "output_type": "execute_result"
    }
   ],
   "source": [
    "predy(y, x, period)"
   ]
  },
  {
   "cell_type": "code",
   "execution_count": 62,
   "metadata": {},
   "outputs": [
    {
     "name": "stderr",
     "output_type": "stream",
     "text": [
      "C:\\ProgramData\\Anaconda3\\lib\\site-packages\\numpy\\core\\fromnumeric.py:2389: FutureWarning: Method .ptp is deprecated and will be removed in a future version. Use numpy.ptp instead.\n",
      "  return ptp(axis=axis, out=out, **kwargs)\n"
     ]
    },
    {
     "data": {
      "text/plain": [
       "{'up': 9.195128008517367, 'down': -9.195128008517257}"
      ]
     },
     "execution_count": 62,
     "metadata": {},
     "output_type": "execute_result"
    }
   ],
   "source": [
    "desv_stop(y, x, period)"
   ]
  },
  {
   "cell_type": "code",
   "execution_count": 65,
   "metadata": {},
   "outputs": [
    {
     "data": {
      "text/plain": [
       "{'input': 3.01704518712235,\n",
       " 'stop': 3.1438046027346664,\n",
       " 'output': 2.7865735223726866}"
      ]
     },
     "execution_count": 65,
     "metadata": {},
     "output_type": "execute_result"
    }
   ],
   "source": [
    "ratio_trade(y, x, period)"
   ]
  },
  {
   "cell_type": "code",
   "execution_count": 5,
   "metadata": {},
   "outputs": [
    {
     "data": {
      "text/plain": [
       "<module 'Cointegration' from 'D:\\\\trades\\\\pairs_trading_b3\\\\Cointegration.py'>"
      ]
     },
     "execution_count": 5,
     "metadata": {},
     "output_type": "execute_result"
    }
   ],
   "source": [
    "import importlib\n",
    "%matplotlib inline\n",
    "#%run Cointegration.py\n",
    "import Cointegration as coint\n",
    "importlib.reload(coint)"
   ]
  },
  {
   "cell_type": "code",
   "execution_count": 6,
   "metadata": {},
   "outputs": [],
   "source": [
    "data = pd.read_csv('datasets/data_cart.csv', index_col=0)\n",
    "data = data[::-1]"
   ]
  },
  {
   "cell_type": "code",
   "execution_count": null,
   "metadata": {},
   "outputs": [],
   "source": [
    "pairs = find_pairs(data)\n",
    "apply_halflife(data, pairs)\n",
    "apply_corr(data, pairs)\n",
    "apply_signal(data, pairs, 2)\n",
    "apply_periods(data, pairs)"
   ]
  },
  {
   "cell_type": "code",
   "execution_count": 16,
   "metadata": {},
   "outputs": [
    {
     "data": {
      "text/html": [
       "<div>\n",
       "<style scoped>\n",
       "    .dataframe tbody tr th:only-of-type {\n",
       "        vertical-align: middle;\n",
       "    }\n",
       "\n",
       "    .dataframe tbody tr th {\n",
       "        vertical-align: top;\n",
       "    }\n",
       "\n",
       "    .dataframe thead th {\n",
       "        text-align: right;\n",
       "    }\n",
       "</style>\n",
       "<table border=\"1\" class=\"dataframe\">\n",
       "  <thead>\n",
       "    <tr style=\"text-align: right;\">\n",
       "      <th></th>\n",
       "      <th>Period</th>\n",
       "      <th>Dependent</th>\n",
       "      <th>Independent</th>\n",
       "      <th>Dickey-Fuller</th>\n",
       "      <th>ADF</th>\n",
       "      <th>Beta</th>\n",
       "      <th>HalfLife</th>\n",
       "      <th>Corr</th>\n",
       "      <th>Signal</th>\n",
       "      <th>SignalStr</th>\n",
       "      <th>PeriodQt</th>\n",
       "      <th>PeriodStr</th>\n",
       "    </tr>\n",
       "  </thead>\n",
       "  <tbody>\n",
       "    <tr>\n",
       "      <td>0</td>\n",
       "      <td>250</td>\n",
       "      <td>ABEV3</td>\n",
       "      <td>AZUL4</td>\n",
       "      <td>0.031658</td>\n",
       "      <td>95</td>\n",
       "      <td>0.117314</td>\n",
       "      <td>9</td>\n",
       "      <td>0.615632</td>\n",
       "      <td>1.172332</td>\n",
       "      <td>Short/Long</td>\n",
       "      <td>2</td>\n",
       "      <td>100,250</td>\n",
       "    </tr>\n",
       "    <tr>\n",
       "      <td>1</td>\n",
       "      <td>100</td>\n",
       "      <td>ABEV3</td>\n",
       "      <td>B3SA3</td>\n",
       "      <td>0.000085</td>\n",
       "      <td>99</td>\n",
       "      <td>0.228449</td>\n",
       "      <td>2</td>\n",
       "      <td>0.628667</td>\n",
       "      <td>0.108828</td>\n",
       "      <td>Long/Short</td>\n",
       "      <td>1</td>\n",
       "      <td>100</td>\n",
       "    </tr>\n",
       "    <tr>\n",
       "      <td>2</td>\n",
       "      <td>250</td>\n",
       "      <td>ABEV3</td>\n",
       "      <td>BBAS3</td>\n",
       "      <td>0.041324</td>\n",
       "      <td>95</td>\n",
       "      <td>0.222135</td>\n",
       "      <td>10</td>\n",
       "      <td>0.551361</td>\n",
       "      <td>0.885949</td>\n",
       "      <td>Short/Long</td>\n",
       "      <td>7</td>\n",
       "      <td>100,160,180,200,220,240,250</td>\n",
       "    </tr>\n",
       "    <tr>\n",
       "      <td>3</td>\n",
       "      <td>250</td>\n",
       "      <td>ABEV3</td>\n",
       "      <td>BBDC3</td>\n",
       "      <td>0.037843</td>\n",
       "      <td>95</td>\n",
       "      <td>0.341824</td>\n",
       "      <td>11</td>\n",
       "      <td>0.575381</td>\n",
       "      <td>0.946095</td>\n",
       "      <td>Short/Long</td>\n",
       "      <td>8</td>\n",
       "      <td>100,120,140,160,180,200,220,250</td>\n",
       "    </tr>\n",
       "    <tr>\n",
       "      <td>4</td>\n",
       "      <td>250</td>\n",
       "      <td>ABEV3</td>\n",
       "      <td>BBDC4</td>\n",
       "      <td>0.035837</td>\n",
       "      <td>95</td>\n",
       "      <td>0.350037</td>\n",
       "      <td>11</td>\n",
       "      <td>0.561564</td>\n",
       "      <td>0.830845</td>\n",
       "      <td>Short/Long</td>\n",
       "      <td>9</td>\n",
       "      <td>100,120,140,160,180,200,220,240,250</td>\n",
       "    </tr>\n",
       "    <tr>\n",
       "      <td>...</td>\n",
       "      <td>...</td>\n",
       "      <td>...</td>\n",
       "      <td>...</td>\n",
       "      <td>...</td>\n",
       "      <td>...</td>\n",
       "      <td>...</td>\n",
       "      <td>...</td>\n",
       "      <td>...</td>\n",
       "      <td>...</td>\n",
       "      <td>...</td>\n",
       "      <td>...</td>\n",
       "      <td>...</td>\n",
       "    </tr>\n",
       "    <tr>\n",
       "      <td>1892</td>\n",
       "      <td>250</td>\n",
       "      <td>USIM5</td>\n",
       "      <td>WEGE3</td>\n",
       "      <td>0.017591</td>\n",
       "      <td>95</td>\n",
       "      <td>0.280947</td>\n",
       "      <td>11</td>\n",
       "      <td>0.456577</td>\n",
       "      <td>0.318768</td>\n",
       "      <td>Long/Short</td>\n",
       "      <td>6</td>\n",
       "      <td>160,180,200,220,240,250</td>\n",
       "    </tr>\n",
       "    <tr>\n",
       "      <td>1893</td>\n",
       "      <td>100</td>\n",
       "      <td>VALE3</td>\n",
       "      <td>VIVT4</td>\n",
       "      <td>0.026121</td>\n",
       "      <td>95</td>\n",
       "      <td>1.221917</td>\n",
       "      <td>5</td>\n",
       "      <td>0.491082</td>\n",
       "      <td>0.116558</td>\n",
       "      <td>Long/Short</td>\n",
       "      <td>1</td>\n",
       "      <td>100</td>\n",
       "    </tr>\n",
       "    <tr>\n",
       "      <td>1894</td>\n",
       "      <td>250</td>\n",
       "      <td>VALE3</td>\n",
       "      <td>VVAR3</td>\n",
       "      <td>0.027792</td>\n",
       "      <td>95</td>\n",
       "      <td>1.157682</td>\n",
       "      <td>9</td>\n",
       "      <td>0.537557</td>\n",
       "      <td>0.426913</td>\n",
       "      <td>Short/Long</td>\n",
       "      <td>5</td>\n",
       "      <td>100,200,220,240,250</td>\n",
       "    </tr>\n",
       "    <tr>\n",
       "      <td>1895</td>\n",
       "      <td>180</td>\n",
       "      <td>VIVT4</td>\n",
       "      <td>VVAR3</td>\n",
       "      <td>0.048437</td>\n",
       "      <td>90</td>\n",
       "      <td>0.648441</td>\n",
       "      <td>7</td>\n",
       "      <td>0.430804</td>\n",
       "      <td>0.405852</td>\n",
       "      <td>Long/Short</td>\n",
       "      <td>5</td>\n",
       "      <td>100,120,140,160,180</td>\n",
       "    </tr>\n",
       "    <tr>\n",
       "      <td>1896</td>\n",
       "      <td>240</td>\n",
       "      <td>VIVT4</td>\n",
       "      <td>WEGE3</td>\n",
       "      <td>0.024649</td>\n",
       "      <td>95</td>\n",
       "      <td>0.456191</td>\n",
       "      <td>10</td>\n",
       "      <td>0.346330</td>\n",
       "      <td>0.885246</td>\n",
       "      <td>Long/Short</td>\n",
       "      <td>8</td>\n",
       "      <td>100,120,140,160,180,200,220,240</td>\n",
       "    </tr>\n",
       "  </tbody>\n",
       "</table>\n",
       "<p>1897 rows × 12 columns</p>\n",
       "</div>"
      ],
      "text/plain": [
       "      Period Dependent Independent  Dickey-Fuller  ADF      Beta  HalfLife  \\\n",
       "0        250     ABEV3       AZUL4       0.031658   95  0.117314         9   \n",
       "1        100     ABEV3       B3SA3       0.000085   99  0.228449         2   \n",
       "2        250     ABEV3       BBAS3       0.041324   95  0.222135        10   \n",
       "3        250     ABEV3       BBDC3       0.037843   95  0.341824        11   \n",
       "4        250     ABEV3       BBDC4       0.035837   95  0.350037        11   \n",
       "...      ...       ...         ...            ...  ...       ...       ...   \n",
       "1892     250     USIM5       WEGE3       0.017591   95  0.280947        11   \n",
       "1893     100     VALE3       VIVT4       0.026121   95  1.221917         5   \n",
       "1894     250     VALE3       VVAR3       0.027792   95  1.157682         9   \n",
       "1895     180     VIVT4       VVAR3       0.048437   90  0.648441         7   \n",
       "1896     240     VIVT4       WEGE3       0.024649   95  0.456191        10   \n",
       "\n",
       "          Corr    Signal   SignalStr  PeriodQt  \\\n",
       "0     0.615632  1.172332  Short/Long         2   \n",
       "1     0.628667  0.108828  Long/Short         1   \n",
       "2     0.551361  0.885949  Short/Long         7   \n",
       "3     0.575381  0.946095  Short/Long         8   \n",
       "4     0.561564  0.830845  Short/Long         9   \n",
       "...        ...       ...         ...       ...   \n",
       "1892  0.456577  0.318768  Long/Short         6   \n",
       "1893  0.491082  0.116558  Long/Short         1   \n",
       "1894  0.537557  0.426913  Short/Long         5   \n",
       "1895  0.430804  0.405852  Long/Short         5   \n",
       "1896  0.346330  0.885246  Long/Short         8   \n",
       "\n",
       "                                PeriodStr  \n",
       "0                                 100,250  \n",
       "1                                     100  \n",
       "2             100,160,180,200,220,240,250  \n",
       "3         100,120,140,160,180,200,220,250  \n",
       "4     100,120,140,160,180,200,220,240,250  \n",
       "...                                   ...  \n",
       "1892              160,180,200,220,240,250  \n",
       "1893                                  100  \n",
       "1894                  100,200,220,240,250  \n",
       "1895                  100,120,140,160,180  \n",
       "1896      100,120,140,160,180,200,220,240  \n",
       "\n",
       "[1897 rows x 12 columns]"
      ]
     },
     "execution_count": 16,
     "metadata": {},
     "output_type": "execute_result"
    }
   ],
   "source": [
    "pairs"
   ]
  },
  {
   "cell_type": "code",
   "execution_count": 18,
   "metadata": {},
   "outputs": [
    {
     "name": "stdout",
     "output_type": "stream",
     "text": [
      "Saved successfully!!!\n"
     ]
    }
   ],
   "source": [
    "pairs.to_csv('datasets/cointegrated_pairs_mult.csv', index=False)\n",
    "print('Saved successfully!!!')"
   ]
  },
  {
   "cell_type": "markdown",
   "metadata": {},
   "source": [
    "# Other"
   ]
  },
  {
   "cell_type": "code",
   "execution_count": 91,
   "metadata": {},
   "outputs": [],
   "source": [
    "#ABEV3 AZUL4\n",
    "y_symbol = 'CSAN3'\n",
    "x_symbol = 'FLRY3'\n",
    "period = 250"
   ]
  },
  {
   "cell_type": "code",
   "execution_count": 92,
   "metadata": {},
   "outputs": [],
   "source": [
    "y, x = get_values(data[y_symbol], data[x_symbol], 0)"
   ]
  },
  {
   "cell_type": "code",
   "execution_count": 93,
   "metadata": {},
   "outputs": [
    {
     "name": "stdout",
     "output_type": "stream",
     "text": [
      "CSAN3:  73.5 FLRY3:  25.74\n",
      "halflile: 5\n",
      "halflife_ser: 12.657391674226682\n",
      "correlation: 0.6391875601817154\n",
      "ratio_trade_stop: 3.1438046027346664\n",
      "ratio_trade_output: 2.7865735223726866\n",
      "ratio_trade_input: 3.01704518712235\n",
      "loss_percent: -4.2014423964666925\n",
      "current_percent: 2.4130578695606197\n",
      "return_percent: 7.638986175393903\n",
      "loss: -3088.060161403019\n",
      "gain: 1773.5975341270555\n",
      "intercept_coef: -0.14615913030833613\n",
      "intercept_inter: 0.6429854892270765\n",
      "invert: True\n"
     ]
    }
   ],
   "source": [
    "print('{}:  {} {}:  {}'.format(y_symbol, y[0], x_symbol, x[0]))\n",
    "print('halflile: {}'.format(halflile(residue(y, x, period))))\n",
    "print('halflife_ser: {}'.format(halflife_ser(y, x, period)))\n",
    "print('correlation: {}'.format(correlation(y, x, period)))\n",
    "print('ratio_trade_stop: {}'.format(ratio_trade_stop(y, x, period)))\n",
    "print('ratio_trade_output: {}'.format(ratio_trade_output(y, x, period)))\n",
    "print('ratio_trade_input: {}'.format(ratio_trade_input(y, x, period)))\n",
    "print('loss_percent: {}'.format(loss_percent(y, x, period)*100))\n",
    "print('current_percent: {}'.format(current_percent(y, x, period)*100))\n",
    "print('return_percent: {}'.format(return_percent(y, x, period)*100))\n",
    "print('loss: {}'.format(loss(y, x, 1000, period)))\n",
    "print('gain: {}'.format(gain(y, x, 1000, period)))\n",
    "print('intercept_coef: {}'.format(intercept_coef(y, x, period)))\n",
    "print('intercept_inter: {}'.format(intercept_inter(y, x, period)))\n",
    "print('invert: {}'.format(invert(y, x, period)))"
   ]
  },
  {
   "cell_type": "code",
   "execution_count": null,
   "metadata": {},
   "outputs": [],
   "source": []
  },
  {
   "cell_type": "code",
   "execution_count": 94,
   "metadata": {},
   "outputs": [
    {
     "data": {
      "text/plain": [
       "1.5359790914654732"
      ]
     },
     "execution_count": 94,
     "metadata": {},
     "output_type": "execute_result"
    }
   ],
   "source": [
    "epadyx(y, x, period)"
   ]
  },
  {
   "cell_type": "code",
   "execution_count": 95,
   "metadata": {},
   "outputs": [
    {
     "data": {
      "text/plain": [
       "46.8053782520288"
      ]
     },
     "execution_count": 95,
     "metadata": {},
     "output_type": "execute_result"
    }
   ],
   "source": [
    "np.sqrt(desvq(residue(y, x, period)))"
   ]
  },
  {
   "cell_type": "code",
   "execution_count": 96,
   "metadata": {},
   "outputs": [
    {
     "data": {
      "text/plain": [
       "{'period': 250,\n",
       " 'is_stationary': True,\n",
       " 'p-value': 0.0003939304681746343,\n",
       " 'adf': 99,\n",
       " 'coef.temp': 0.07747302462131306,\n",
       " 'coef.ang': 2.3368757788503745,\n",
       " 'coef.linear': -7.793036237063955}"
      ]
     },
     "execution_count": 96,
     "metadata": {},
     "output_type": "execute_result"
    }
   ],
   "source": [
    "check_cointegration(y, x, period)"
   ]
  },
  {
   "cell_type": "code",
   "execution_count": 97,
   "metadata": {},
   "outputs": [
    {
     "data": {
      "text/plain": [
       "{'is_stationary': True,\n",
       " 'p-value': 0.0003939304681746343,\n",
       " 'adf': 99,\n",
       " 'statistic': -4.330027289051755}"
      ]
     },
     "execution_count": 97,
     "metadata": {},
     "output_type": "execute_result"
    }
   ],
   "source": [
    "dickey_fuller(residue(y, x, period))"
   ]
  },
  {
   "cell_type": "code",
   "execution_count": 98,
   "metadata": {},
   "outputs": [
    {
     "data": {
      "text/plain": [
       "{'statistic': -4.455007781289907, 'adf': 99}"
      ]
     },
     "execution_count": 98,
     "metadata": {},
     "output_type": "execute_result"
    }
   ],
   "source": [
    "dickey_fuller_ger(y, x, period)"
   ]
  },
  {
   "cell_type": "code",
   "execution_count": 99,
   "metadata": {},
   "outputs": [
    {
     "data": {
      "text/plain": [
       "{'std': 2.966170325328165,\n",
       " 'std_up': 5.93234065065633,\n",
       " 'std_down': -5.93234065065633,\n",
       " 'mean': 5.4797055781818925e-14,\n",
       " 'min': -16.137959381625446,\n",
       " 'max': 13.446655225529899}"
      ]
     },
     "execution_count": 99,
     "metadata": {},
     "output_type": "execute_result"
    }
   ],
   "source": [
    "statisticspair(y, x, 2, period)"
   ]
  },
  {
   "cell_type": "code",
   "execution_count": 100,
   "metadata": {},
   "outputs": [
    {
     "data": {
      "text/plain": [
       "{'halffile': 12.657391674226682,\n",
       " 'beta': 0.15801043781180077,\n",
       " 'alpha': 0.22731326407386251,\n",
       " 'sigma': 2.2651124788923895}"
      ]
     },
     "execution_count": 100,
     "metadata": {},
     "output_type": "execute_result"
    }
   ],
   "source": [
    "ornstein_uhlenbeck(y, x, period)"
   ]
  },
  {
   "cell_type": "code",
   "execution_count": 12,
   "metadata": {},
   "outputs": [
    {
     "data": {
      "text/plain": [
       "{'temp': 0.15756965168607628,\n",
       " 'angular': 1.257713868250663,\n",
       " 'intercept': -13.850534756052681}"
      ]
     },
     "execution_count": 12,
     "metadata": {},
     "output_type": "execute_result"
    }
   ],
   "source": [
    "coefficients(y, x, period)"
   ]
  },
  {
   "cell_type": "code",
   "execution_count": 13,
   "metadata": {},
   "outputs": [],
   "source": [
    "reg = regression(y, x, period)"
   ]
  },
  {
   "cell_type": "code",
   "execution_count": 14,
   "metadata": {},
   "outputs": [
    {
     "data": {
      "text/plain": [
       "{'temp': 0.0025803159344561957,\n",
       " 'angular': 0.0225437786212992,\n",
       " 'intercept': 1.2212294585292138}"
      ]
     },
     "execution_count": 14,
     "metadata": {},
     "output_type": "execute_result"
    }
   ],
   "source": [
    "stderr(y, x, period)"
   ]
  },
  {
   "cell_type": "code",
   "execution_count": 15,
   "metadata": {},
   "outputs": [
    {
     "data": {
      "text/plain": [
       "{'descr': 'Short/Long',\n",
       " 'resid_current': 6.140895890533791,\n",
       " 'percent_dist_mean': 1.289733040788447}"
      ]
     },
     "execution_count": 15,
     "metadata": {},
     "output_type": "execute_result"
    }
   ],
   "source": [
    "signal(y, x, 2, period)"
   ]
  },
  {
   "cell_type": "code",
   "execution_count": 217,
   "metadata": {},
   "outputs": [
    {
     "data": {
      "text/plain": [
       "[120, 140, 160, 180, 200, 220, 240, 250]"
      ]
     },
     "execution_count": 217,
     "metadata": {},
     "output_type": "execute_result"
    }
   ],
   "source": [
    "check_periods(data[y_symbol], data[x_symbol])"
   ]
  },
  {
   "cell_type": "code",
   "execution_count": 20,
   "metadata": {},
   "outputs": [
    {
     "data": {
      "image/png": "[encoded data removed]",
      "text/plain": [
       "<Figure size 1080x432 with 1 Axes>"
      ]
     },
     "metadata": {
      "needs_background": "light"
     },
     "output_type": "display_data"
    }
   ],
   "source": [
    "plot_residue(residue(y, x, period))"
   ]
  },
  {
   "cell_type": "code",
   "execution_count": 22,
   "metadata": {},
   "outputs": [
    {
     "data": {
      "image/png": "[encoded data removed]",
      "text/plain": [
       "<Figure size 1080x432 with 1 Axes>"
      ]
     },
     "metadata": {
      "needs_background": "light"
     },
     "output_type": "display_data"
    }
   ],
   "source": [
    "coint.show(data[::-1], y_symbol, x_symbol)"
   ]
  },
  {
   "cell_type": "code",
   "execution_count": 19,
   "metadata": {},
   "outputs": [
    {
     "data": {
      "text/plain": [
       "<matplotlib.axes._subplots.AxesSubplot at 0x1356f1540c8>"
      ]
     },
     "execution_count": 19,
     "metadata": {},
     "output_type": "execute_result"
    },
    {
     "data": {
      "image/png": "[encoded data removed]",
      "text/plain": [
       "<Figure size 1080x432 with 1 Axes>"
      ]
     },
     "metadata": {
      "needs_background": "light"
     },
     "output_type": "display_data"
    }
   ],
   "source": [
    "ratio_continuo(y, x, period)[::-1].plot(figsize=(15,6))"
   ]
  },
  {
   "cell_type": "code",
   "execution_count": null,
   "metadata": {},
   "outputs": [],
   "source": []
  }
 ],
 "metadata": {
  "kernelspec": {
   "display_name": "Python 3",
   "language": "python",
   "name": "python3"
  },
  "language_info": {
   "codemirror_mode": {
    "name": "ipython",
    "version": 3
   },
   "file_extension": ".py",
   "mimetype": "text/x-python",
   "name": "python",
   "nbconvert_exporter": "python",
   "pygments_lexer": "ipython3",
   "version": "3.7.4"
  }
 },
 "nbformat": 4,
 "nbformat_minor": 2
}
