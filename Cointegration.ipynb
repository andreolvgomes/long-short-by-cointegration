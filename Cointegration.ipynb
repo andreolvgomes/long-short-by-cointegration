{
 "cells": [
  {
   "cell_type": "code",
   "execution_count": 1,
   "metadata": {},
   "outputs": [],
   "source": [
    "#https://medium.com/techbloghotmart/o-que-s%C3%A3o-s%C3%A9ries-temporais-e-como-aplicar-em-machine-learning-6ea5d94bec78\n",
    "#https://machinelearningmastery.com/time-series-data-stationary-python/\n",
    "#https://github.com/je-suis-tm/quant-trading\n",
    "#https://github.com/lukstei/trading-backtest\n",
    "#https://github.com/dv-lebedev/pair-trading-view\n",
    "\n",
    "import numpy as np\n",
    "import pandas as pd\n",
    "import os\n",
    "import statsmodels.api as sm\n",
    "import statsmodels.tsa.stattools as ts"
   ]
  },
  {
   "cell_type": "code",
   "execution_count": 53,
   "metadata": {},
   "outputs": [],
   "source": [
    "# http://www.insightsbot.com/augmented-dickey-fuller-test-in-python/\n",
    "\n",
    "#p-value > 0.05: Fail to reject the null hypothesis (H0), the data has a unit root and is non-stationary.\n",
    "#p-value <= 0.05: Reject the null hypothesis (H0), the data does not have a unit root and is stationary.\n",
    "class StationarityTests:\n",
    "    def __init__(self, significance=.05):\n",
    "        self.SignificanceLevel = significance\n",
    "        self.pValue = None\n",
    "        self.isStationary = None\n",
    "        self.ADFTestStatistic = None\n",
    "        \n",
    "    def CheckStationarity(self, y, x, printResults = False):\n",
    "        x = sm.add_constant(x)\n",
    "        ols_result = sm.OLS(y, x).fit()\n",
    "\n",
    "        #Dickey-Fuller test:\n",
    "        adfTest = ts.adfuller(ols_result.resid)\n",
    "        \n",
    "        self.pValue = adfTest[1]\n",
    "        self.ADFTestStatistic = adfTest[0:1][0]\n",
    "        \n",
    "        if (self.pValue < self.SignificanceLevel):\n",
    "            self.isStationary = True\n",
    "        else:\n",
    "            self.isStationary = False\n",
    "        \n",
    "        if printResults:\n",
    "            print('Augmented Dickey-Fuller Test Results:')\n",
    "            print('ADF Test Statistic    ', adfTest[0:1][0])\n",
    "            print('P-Value               ', adfTest[1:2][0])\n",
    "            print('# Lags Used           ', adfTest[2:3][0])\n",
    "            print('# Observations Used   ', adfTest[3:4][0])\n",
    "            \n",
    "            dfResults = pd.Series()\n",
    "            #Add Critical Values\n",
    "            for key,value in adfTest[4].items():\n",
    "                dfResults['Critical Value (%s)'%key] = value\n",
    "            print(dfResults)\n",
    "            \n",
    "            print(\"Is the time series stationary? {0}\".format(self.isStationary))\n",
    "            \n",
    "def namefile(file):\n",
    "    return os.path.splitext(file)[0]\n",
    "\n",
    "# check cointegrated pairs from dataframe\n",
    "def find_cointegrated_pairs(data, num_pairs=0):\n",
    "    sTest = StationarityTests()\n",
    "    rows = []\n",
    "    isBreak = False\n",
    "        \n",
    "    for numerador in data.columns:\n",
    "        for denominador in data.columns:\n",
    "            if (numerador == denominador):\n",
    "                continue\n",
    "\n",
    "            sTest.CheckStationarity(data[numerador], data[denominador])\n",
    "            if(sTest.isStationary):\n",
    "                rows.append([numerador,denominador,sTest.pValue, sTest.ADFTestStatistic])\n",
    "        \n",
    "            # break for two\n",
    "            isBreak = (num_pairs > 0 and len(rows) >= num_pairs)\n",
    "            if (isBreak == True): break\n",
    "        \n",
    "        # break for one\n",
    "        if (isBreak == True): break\n",
    "            \n",
    "    df_pairs = pd.DataFrame(rows, columns=['Independente', 'Dependente', 'pValue', 'ADFTestStatistic'])\n",
    "    return df_pairs\n",
    "\n",
    "# check cointegrated pairs from directory of csv's\n",
    "def find_cointegrated_pairs_foldercsv(path, num_pairs=0):\n",
    "    test = StationarityTests()\n",
    "    rows = []\n",
    "    isBreak = False\n",
    "    \n",
    "    # for each all files csv in directory 'datasets', read\n",
    "    for fnum in os.listdir(path):\n",
    "        # read the first csv        \n",
    "        num = pd.read_csv(path + '/'+fnum)['Fechamento']\n",
    "        \n",
    "        for fden in os.listdir(path):\n",
    "            csv_name1 = namefile(fnum)\n",
    "            csv_name2 = namefile(fden)\n",
    "\n",
    "            # continue if it is the same csv\n",
    "            if(csv_name1 == csv_name2):\n",
    "                continue\n",
    "\n",
    "            # read then second csv\n",
    "            den = pd.read_csv(path+'/'+fden)['Fechamento']\n",
    "            test.CheckStationarity(num, den)\n",
    "\n",
    "            if(test.isStationary):\n",
    "                rows.append([csv_name1,csv_name2,test.pValue, test.ADFTestStatistic])\n",
    "            \n",
    "            # break for two\n",
    "            isBreak = (num_pairs > 0 and len(rows) >= num_pairs)\n",
    "            if (isBreak == True): break\n",
    "        \n",
    "        # break for one\n",
    "        if (isBreak == True): break\n",
    "            \n",
    "    df_pairs = pd.DataFrame(rows, columns=['Independente', 'Dependente', 'pValue', 'ADFTestStatistic'])\n",
    "    return df_pairs"
   ]
  },
  {
   "cell_type": "markdown",
   "metadata": {},
   "source": [
    "### Test with csv"
   ]
  },
  {
   "cell_type": "code",
   "execution_count": 50,
   "metadata": {},
   "outputs": [
    {
     "name": "stdout",
     "output_type": "stream",
     "text": [
      "Augmented Dickey-Fuller Test Results:\n",
      "ADF Test Statistic     -3.6373142127726843\n",
      "P-Value                0.005086448368083348\n",
      "# Lags Used            0\n",
      "# Observations Used    91\n",
      "Critical Value (1%)    -3.504343\n",
      "Critical Value (5%)    -2.893866\n",
      "Critical Value (10%)   -2.584015\n",
      "dtype: float64\n",
      "Is the time series stationary? True\n"
     ]
    }
   ],
   "source": [
    "y = pd.read_csv('datasets-b3/AALR3.csv')['Fechamento']\n",
    "x = pd.read_csv('datasets-b3/ALSO3.csv')['Fechamento']\n",
    "\n",
    "par = StationarityTests()\n",
    "par.CheckStationarity(y, x, printResults = True)"
   ]
  },
  {
   "cell_type": "markdown",
   "metadata": {},
   "source": [
    "### Read CSV"
   ]
  },
  {
   "cell_type": "code",
   "execution_count": 51,
   "metadata": {},
   "outputs": [],
   "source": [
    "df = pd.read_csv('datasets/data.csv')\n",
    "data = df[df.columns.difference(['Data'])]"
   ]
  },
  {
   "cell_type": "code",
   "execution_count": 52,
   "metadata": {},
   "outputs": [
    {
     "data": {
      "text/html": [
       "<div>\n",
       "<style scoped>\n",
       "    .dataframe tbody tr th:only-of-type {\n",
       "        vertical-align: middle;\n",
       "    }\n",
       "\n",
       "    .dataframe tbody tr th {\n",
       "        vertical-align: top;\n",
       "    }\n",
       "\n",
       "    .dataframe thead th {\n",
       "        text-align: right;\n",
       "    }\n",
       "</style>\n",
       "<table border=\"1\" class=\"dataframe\">\n",
       "  <thead>\n",
       "    <tr style=\"text-align: right;\">\n",
       "      <th></th>\n",
       "      <th>Independente</th>\n",
       "      <th>Dependente</th>\n",
       "      <th>pValue</th>\n",
       "      <th>ADFTestStatistic</th>\n",
       "    </tr>\n",
       "  </thead>\n",
       "  <tbody>\n",
       "    <tr>\n",
       "      <td>0</td>\n",
       "      <td>AALR3</td>\n",
       "      <td>ABCB4</td>\n",
       "      <td>0.023039</td>\n",
       "      <td>-3.150434</td>\n",
       "    </tr>\n",
       "    <tr>\n",
       "      <td>1</td>\n",
       "      <td>AALR3</td>\n",
       "      <td>ALSO3</td>\n",
       "      <td>0.005086</td>\n",
       "      <td>-3.637314</td>\n",
       "    </tr>\n",
       "    <tr>\n",
       "      <td>2</td>\n",
       "      <td>AALR3</td>\n",
       "      <td>ALUP11</td>\n",
       "      <td>0.012425</td>\n",
       "      <td>-3.359362</td>\n",
       "    </tr>\n",
       "  </tbody>\n",
       "</table>\n",
       "</div>"
      ],
      "text/plain": [
       "  Independente Dependente    pValue  ADFTestStatistic\n",
       "0        AALR3      ABCB4  0.023039         -3.150434\n",
       "1        AALR3      ALSO3  0.005086         -3.637314\n",
       "2        AALR3     ALUP11  0.012425         -3.359362"
      ]
     },
     "execution_count": 52,
     "metadata": {},
     "output_type": "execute_result"
    }
   ],
   "source": [
    "find_cointegrated_pairs(data, 3)"
   ]
  },
  {
   "cell_type": "code",
   "execution_count": null,
   "metadata": {},
   "outputs": [],
   "source": []
  }
 ],
 "metadata": {
  "kernelspec": {
   "display_name": "Python 3",
   "language": "python",
   "name": "python3"
  },
  "language_info": {
   "codemirror_mode": {
    "name": "ipython",
    "version": 3
   },
   "file_extension": ".py",
   "mimetype": "text/x-python",
   "name": "python",
   "nbconvert_exporter": "python",
   "pygments_lexer": "ipython3",
   "version": "3.7.4"
  }
 },
 "nbformat": 4,
 "nbformat_minor": 2
}
