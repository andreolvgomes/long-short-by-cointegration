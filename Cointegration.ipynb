{
 "cells": [
  {
   "cell_type": "code",
   "execution_count": 1,
   "metadata": {},
   "outputs": [],
   "source": [
    "#https://medium.com/techbloghotmart/o-que-s%C3%A3o-s%C3%A9ries-temporais-e-como-aplicar-em-machine-learning-6ea5d94bec78\n",
    "#https://machinelearningmastery.com/time-series-data-stationary-python/\n",
    "#https://github.com/je-suis-tm/quant-trading\n",
    "#https://github.com/lukstei/trading-backtest\n",
    "#https://github.com/dv-lebedev/pair-trading-view\n",
    "\n",
    "import numpy as np\n",
    "import pandas as pd\n",
    "import os\n",
    "import statsmodels.api as sm\n",
    "import statsmodels.tsa.stattools as ts"
   ]
  },
  {
   "cell_type": "code",
   "execution_count": 2,
   "metadata": {},
   "outputs": [],
   "source": [
    "# http://www.insightsbot.com/augmented-dickey-fuller-test-in-python/\n",
    "\n",
    "#p-value > 0.05: Fail to reject the null hypothesis (H0), the data has a unit root and is non-stationary.\n",
    "#p-value <= 0.05: Reject the null hypothesis (H0), the data does not have a unit root and is stationary.\n",
    "class StationarityTests:\n",
    "    def __init__(self, significance=.05):\n",
    "        self.SignificanceLevel = significance\n",
    "        self.pValue = None\n",
    "        self.isStationary = None\n",
    "        self.ADFTestStatistic = None\n",
    "        \n",
    "    def CheckStationarityYX(self, y, x, printResults = False):\n",
    "        ols_result = sm.OLS(y, x).fit()\n",
    "        self.CheckStationarity(ols_result.resid, printResults)\n",
    "        \n",
    "    def CheckStationarity(self, timeseries, printResults = False):\n",
    "        #Dickey-Fuller test:\n",
    "        adfTest = ts.adfuller(timeseries)\n",
    "        \n",
    "        self.pValue = adfTest[1]\n",
    "        self.ADFTestStatistic = adfTest[0:1][0]\n",
    "        \n",
    "        if (self.pValue < self.SignificanceLevel):\n",
    "            self.isStationary = True\n",
    "        else:\n",
    "            self.isStationary = False\n",
    "        \n",
    "        if printResults:\n",
    "            print('Augmented Dickey-Fuller Test Results:')\n",
    "            print('ADF Test Statistic    ', adfTest[0:1][0])\n",
    "            print('P-Value               ', adfTest[1:2][0])\n",
    "            print('# Lags Used           ', adfTest[2:3][0])\n",
    "            print('# Observations Used   ', adfTest[3:4][0])\n",
    "            \n",
    "            dfResults = pd.Series()\n",
    "            #Add Critical Values\n",
    "            for key,value in adfTest[4].items():\n",
    "                dfResults['Critical Value (%s)'%key] = value\n",
    "            print(dfResults)\n",
    "            \n",
    "            print(\"Is the time series stationary? {0}\".format(self.isStationary))"
   ]
  },
  {
   "cell_type": "code",
   "execution_count": 3,
   "metadata": {},
   "outputs": [],
   "source": [
    "def namefile(file):\n",
    "    return os.path.splitext(file)[0]\n",
    "\n",
    "# check cointegrated pairs from dataframe\n",
    "def find_cointegrated_pairs(data, num_pairs=0):\n",
    "    sTest = StationarityTests()\n",
    "    rows = []\n",
    "    isBreak = False\n",
    "        \n",
    "    for numerador in data.columns:\n",
    "        for denominador in data.columns:\n",
    "            if (numerador == denominador):\n",
    "                continue\n",
    "\n",
    "            sTest.CheckStationarityYX(data[numerador], data[denominador])\n",
    "            if(sTest.isStationary):\n",
    "                rows.append([numerador,denominador,sTest.pValue, sTest.ADFTestStatistic])\n",
    "        \n",
    "            # break for two\n",
    "            isBreak = (num_pairs > 0 and len(rows) >= num_pairs)\n",
    "            if (isBreak == True): break\n",
    "        \n",
    "        # break for one\n",
    "        if (isBreak == True): break\n",
    "            \n",
    "    df_pairs = pd.DataFrame(rows, columns=['Independente', 'Dependente', 'pValue', 'ADFTestStatistic'])\n",
    "    return df_pairs\n",
    "\n",
    "# check cointegrated pairs from directory of csv's\n",
    "def find_cointegrated_pairs_foldercsv(path, num_pairs=0):\n",
    "    test = StationarityTests()\n",
    "    rows = []\n",
    "    isBreak = False\n",
    "    \n",
    "    # for each all files csv in directory 'datasets', read\n",
    "    for fnum in os.listdir(path):\n",
    "        # read the first csv        \n",
    "        num = pd.read_csv(path + '/'+fnum)['Fechamento']\n",
    "        \n",
    "        for fden in os.listdir(path):\n",
    "            csv_name1 = namefile(fnum)\n",
    "            csv_name2 = namefile(fden)\n",
    "\n",
    "            # continue if it is the same csv\n",
    "            if(csv_name1 == csv_name2):\n",
    "                continue\n",
    "\n",
    "            # read then second csv\n",
    "            den = pd.read_csv(path+'/'+fden)['Fechamento']\n",
    "            test.CheckStationarityYX(num, den)\n",
    "\n",
    "            if(test.isStationary):\n",
    "                rows.append([csv_name1,csv_name2,test.pValue, test.ADFTestStatistic])\n",
    "            \n",
    "            # break for two\n",
    "            isBreak = (num_pairs > 0 and len(rows) >= num_pairs)\n",
    "            if (isBreak == True): break\n",
    "        \n",
    "        # break for one\n",
    "        if (isBreak == True): break\n",
    "            \n",
    "    df_pairs = pd.DataFrame(rows, columns=['Independente', 'Dependente', 'pValue', 'ADFTestStatistic'])\n",
    "    return df_pairs"
   ]
  },
  {
   "cell_type": "markdown",
   "metadata": {},
   "source": [
    "### Test with csv"
   ]
  },
  {
   "cell_type": "code",
   "execution_count": 4,
   "metadata": {},
   "outputs": [
    {
     "name": "stdout",
     "output_type": "stream",
     "text": [
      "Augmented Dickey-Fuller Test Results:\n",
      "ADF Test Statistic     -2.448526430242179\n",
      "P-Value                0.12850576820535847\n",
      "# Lags Used            2\n",
      "# Observations Used    89\n",
      "Critical Value (1%)    -3.506057\n",
      "Critical Value (5%)    -2.894607\n",
      "Critical Value (10%)   -2.584410\n",
      "dtype: float64\n",
      "Is the time series stationary? False\n"
     ]
    }
   ],
   "source": [
    "y = pd.read_csv('datasets-b3/SMAL11.csv')['Fechamento']\n",
    "x = pd.read_csv('datasets-b3/ABCB4.csv')['Fechamento']\n",
    "\n",
    "par = StationarityTests()\n",
    "ols_result = sm.OLS(y, x).fit()\n",
    "par.CheckStationarity(ols_result.resid, printResults = True)"
   ]
  },
  {
   "cell_type": "code",
   "execution_count": 9,
   "metadata": {},
   "outputs": [
    {
     "name": "stdout",
     "output_type": "stream",
     "text": [
      "Augmented Dickey-Fuller Test Results:\n",
      "ADF Test Statistic     -3.295211907894818\n",
      "P-Value                0.015093863693394742\n",
      "# Lags Used            0\n",
      "# Observations Used    91\n",
      "Critical Value (1%)    -3.504343\n",
      "Critical Value (5%)    -2.893866\n",
      "Critical Value (10%)   -2.584015\n",
      "dtype: float64\n",
      "Is the time series stationary? True\n"
     ]
    }
   ],
   "source": [
    "data[['AALR3','ALSO3']]\n",
    "test = StationarityTests()\n",
    "test.CheckStationarityYX(data['AALR3'], data['ALSO3'], True)"
   ]
  },
  {
   "cell_type": "code",
   "execution_count": 10,
   "metadata": {},
   "outputs": [
    {
     "name": "stdout",
     "output_type": "stream",
     "text": [
      "Augmented Dickey-Fuller Test Results:\n",
      "ADF Test Statistic     -3.295211907894818\n",
      "P-Value                0.015093863693394742\n",
      "# Lags Used            0\n",
      "# Observations Used    91\n",
      "Critical Value (1%)    -3.504343\n",
      "Critical Value (5%)    -2.893866\n",
      "Critical Value (10%)   -2.584015\n",
      "dtype: float64\n",
      "Is the time series stationary? True\n"
     ]
    }
   ],
   "source": [
    "ALSO3 = pd.read_csv('datasets-b3/ALSO3.csv')['Fechamento']\n",
    "AALR3 = pd.read_csv('datasets-b3/AALR3.csv')['Fechamento']\n",
    "test = StationarityTests()\n",
    "test.CheckStationarityYX(AALR3, ALSO3, True)"
   ]
  },
  {
   "cell_type": "code",
   "execution_count": null,
   "metadata": {},
   "outputs": [],
   "source": []
  }
 ],
 "metadata": {
  "kernelspec": {
   "display_name": "Python 3",
   "language": "python",
   "name": "python3"
  },
  "language_info": {
   "codemirror_mode": {
    "name": "ipython",
    "version": 3
   },
   "file_extension": ".py",
   "mimetype": "text/x-python",
   "name": "python",
   "nbconvert_exporter": "python",
   "pygments_lexer": "ipython3",
   "version": "3.7.4"
  }
 },
 "nbformat": 4,
 "nbformat_minor": 2
}
