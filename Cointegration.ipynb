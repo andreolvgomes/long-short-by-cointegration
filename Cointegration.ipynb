{
 "cells": [
  {
   "cell_type": "code",
   "execution_count": 1,
   "metadata": {},
   "outputs": [],
   "source": [
    "#https://medium.com/techbloghotmart/o-que-s%C3%A3o-s%C3%A9ries-temporais-e-como-aplicar-em-machine-learning-6ea5d94bec78\n",
    "#https://machinelearningmastery.com/time-series-data-stationary-python/\n",
    "#https://github.com/je-suis-tm/quant-trading\n",
    "#https://github.com/lukstei/trading-backtest\n",
    "#https://github.com/dv-lebedev/pair-trading-view\n",
    "\n",
    "import numpy as np\n",
    "import pandas as pd\n",
    "import os\n",
    "import statsmodels.api as sm\n",
    "import statsmodels.tsa.stattools as ts\n",
    "import statistics\n",
    "import matplotlib.pyplot as plt"
   ]
  },
  {
   "cell_type": "code",
   "execution_count": 2,
   "metadata": {},
   "outputs": [],
   "source": [
    "# http://www.insightsbot.com/augmented-dickey-fuller-test-in-python/\n",
    "\n",
    "#p-value > 0.05: Fail to reject the null hypothesis (H0), the data has a unit root and is non-stationary.\n",
    "#p-value <= 0.05: Reject the null hypothesis (H0), the data does not have a unit root and is stationary.\n",
    "class StationarityTests:\n",
    "    def __init__(self, significance=.05):\n",
    "        self.SignificanceLevel = significance\n",
    "        self.pValue = None\n",
    "        self.isStationary = None\n",
    "        self.ADFTestStatistic = None\n",
    "        \n",
    "    def CheckStationarity(self, y, x, printResults = False):\n",
    "        model = model_ols(y, x)\n",
    "\n",
    "        #Dickey-Fuller test:\n",
    "        adfTest = ts.adfuller(model.resid)\n",
    "        \n",
    "        self.pValue = adfTest[1]\n",
    "        self.ADFTestStatistic = adfTest[0:1][0]\n",
    "        \n",
    "        if (self.pValue < self.SignificanceLevel):\n",
    "            self.isStationary = True\n",
    "        else:\n",
    "            self.isStationary = False\n",
    "        \n",
    "        if printResults:\n",
    "            print('Augmented Dickey-Fuller Test Results:')\n",
    "            print('ADF Test Statistic    ', adfTest[0:1][0])\n",
    "            print('P-Value               ', adfTest[1:2][0])\n",
    "            print('# Lags Used           ', adfTest[2:3][0])\n",
    "            print('# Observations Used   ', adfTest[3:4][0])\n",
    "            \n",
    "            dfResults = pd.Series()\n",
    "            #Add Critical Values\n",
    "            for key,value in adfTest[4].items():\n",
    "                dfResults['Critical Value (%s)'%key] = value\n",
    "            print(dfResults)\n",
    "            \n",
    "            print(\"Is the time series stationary? {0}\".format(self.isStationary))\n",
    "\n",
    "def model_ols(y, x):\n",
    "    x = sm.add_constant(x)\n",
    "    model = sm.OLS(y, x).fit()\n",
    "    return model\n",
    "\n",
    "def namefile(file):\n",
    "    return os.path.splitext(file)[0]\n",
    "\n",
    "def checkStationarity(y, x, printResults = True):\n",
    "    check = StationarityTests()\n",
    "    return check.CheckStationarity(y, x , printResults = printResults)\n",
    "    \n",
    "# check cointegrated pairs from dataframe\n",
    "def find_cointegrated_pairs(data, num_pairs=0, noStationary=False):\n",
    "    test = StationarityTests()\n",
    "    rows = []\n",
    "    isBreak = False\n",
    "        \n",
    "    for col_depen in data.columns:\n",
    "        for col_indepen in data.columns:\n",
    "            if (col_depen == col_indepen):\n",
    "                continue\n",
    "\n",
    "            test.CheckStationarity(data[col_depen], data[col_indepen])\n",
    "            # if get only not stationary\n",
    "            if (noStationary):\n",
    "                if(test.isStationary==False):\n",
    "                    rows.append([col_depen,col_indepen,test.pValue, test.ADFTestStatistic])\n",
    "            elif (test.isStationary):\n",
    "                    rows.append([col_depen,col_indepen,test.pValue, test.ADFTestStatistic])\n",
    "                    \n",
    "            # break for two\n",
    "            isBreak = (num_pairs > 0 and len(rows) >= num_pairs)\n",
    "            if (isBreak == True): break\n",
    "        \n",
    "        # break for one\n",
    "        if (isBreak == True): break\n",
    "            \n",
    "    df_pairs = pd.DataFrame(rows, columns=['Depen', 'Indepen', 'pValue', 'ADFTestStatistic'])\n",
    "    return df_pairs\n",
    "\n",
    "# check cointegrated pairs from directory of csv's\n",
    "def find_cointegrated_pairs_foldercsv(path, num_pairs=0, noStationary=False):\n",
    "    test = StationarityTests()\n",
    "    rows = []\n",
    "    isBreak = False\n",
    "    \n",
    "    # for each all files csv in directory 'datasets', read\n",
    "    for fdepen in os.listdir(path):\n",
    "        # read the first csv\n",
    "        y_depen = pd.read_csv(path + '/'+fdepen)['Fechamento']\n",
    "        \n",
    "        for findepen in os.listdir(path):\n",
    "            csv_name1 = namefile(fdepen)\n",
    "            csv_name2 = namefile(findepen)\n",
    "\n",
    "            # continue if it is the same csv\n",
    "            if(csv_name1 == csv_name2):\n",
    "                continue\n",
    "\n",
    "            # read then second csv\n",
    "            x_indepen = pd.read_csv(path+'/'+findepen)['Fechamento']\n",
    "            test.CheckStationarity(y_depen, x_indepen)\n",
    "            \n",
    "            # if get only not stationary\n",
    "            if (noStationary):\n",
    "                if(test.isStationary==False):\n",
    "                    rows.append([csv_name1,csv_name2,test.pValue, test.ADFTestStatistic])\n",
    "            elif (test.isStationary):\n",
    "                    rows.append([csv_name1,csv_name2,test.pValue, test.ADFTestStatistic])\n",
    "            \n",
    "            # break for two\n",
    "            isBreak = (num_pairs > 0 and len(rows) >= num_pairs)\n",
    "            if (isBreak == True): break\n",
    "        \n",
    "        # break for one\n",
    "        if (isBreak == True): break\n",
    "            \n",
    "    df_pairs = pd.DataFrame(rows, columns=['Depen', 'Indepen', 'pValue', 'ADFTestStatistic'])\n",
    "    return df_pairs\n",
    "\n",
    "def signal(y, x):\n",
    "    model = model_ols(y, x)\n",
    "    std = statistics.stdev(model.resid)\n",
    "    resi_curr = model.resid.iloc[-1]\n",
    "    zscore_up = 2*std\n",
    "    zscore_down = -2*std\n",
    "    zcurrent = 0\n",
    "    desc = ''\n",
    "    \n",
    "    # >0; resíduo acima da linha 0\n",
    "    if(resi_curr > 0):\n",
    "        desc = 'Acima'\n",
    "        zcurrent = zscore_up\n",
    "    else:\n",
    "        desc = 'Abaixo'\n",
    "        zcurrent = zscore_down\n",
    "    \n",
    "    percent = (abs(resi_curr)/abs(zcurrent))\n",
    "    #1-descr\n",
    "    #2-resíduo atual\n",
    "    #3-percent distância da linha 0, quanto maior, melhor\n",
    "    return [desc, resi_curr, percent]\n",
    "\n",
    "def find_pairs_oper(pairs, data, perc_dist=0.9, num_pairs=0):\n",
    "    rows = []\n",
    "    isBreak = False\n",
    "    \n",
    "    for i, j in pairs.iterrows():\n",
    "        sinal = signal(data[j['Depen']], data[j['Indepen']])\n",
    "        perc = sinal[2]\n",
    "\n",
    "        # % de distância da linha 0\n",
    "        if(perc >= perc_dist):\n",
    "            rows.append([j['Depen'], j['Indepen'], perc])\n",
    "            \n",
    "        # break for two\n",
    "        isBreak = (num_pairs > 0 and len(rows) >= num_pairs)\n",
    "        if (isBreak == True): break\n",
    "                \n",
    "    df_operations = pd.DataFrame(rows, columns=['Depen', 'Indepen', 'PercDist'])\n",
    "    return df_operations\n",
    "\n",
    "def graphicShow(data, y_name, x_name):\n",
    "    y = data[y_name]\n",
    "    x = data[x_name]\n",
    "    \n",
    "    model=model_ols(y, x)\n",
    "    std = statistics.stdev(model.resid)\n",
    "    entry_threshold = 2 # entrada em 2 desvio padrão\n",
    "\n",
    "    #plt.figure(figsize=(15,6))\n",
    "    plt.figure(figsize=(10,5))\n",
    "    plt.plot(model.resid)\n",
    "    plt.ylabel('Residual')\n",
    "    plt.title(y_name + ' / ' + x_name)\n",
    "\n",
    "    plt.axhline(0, linewidth=1,color='black',label='mean') # Add the mean of residual\n",
    "    plt.axhline(entry_threshold*std, color='green', linestyle='--',label='trade')\n",
    "    plt.axhline(-entry_threshold*std, color='green', linestyle='--')\n",
    "\n",
    "    plt.legend()\n",
    "    plt.show()"
   ]
  },
  {
   "cell_type": "markdown",
   "metadata": {},
   "source": [
    "### Test with csv"
   ]
  },
  {
   "cell_type": "code",
   "execution_count": 3,
   "metadata": {},
   "outputs": [
    {
     "name": "stdout",
     "output_type": "stream",
     "text": [
      "Augmented Dickey-Fuller Test Results:\n",
      "ADF Test Statistic     -3.6373142127726843\n",
      "P-Value                0.005086448368083348\n",
      "# Lags Used            0\n",
      "# Observations Used    91\n",
      "Critical Value (1%)    -3.504343\n",
      "Critical Value (5%)    -2.893866\n",
      "Critical Value (10%)   -2.584015\n",
      "dtype: float64\n",
      "Is the time series stationary? True\n"
     ]
    },
    {
     "name": "stderr",
     "output_type": "stream",
     "text": [
      "C:\\ProgramData\\Anaconda3\\lib\\site-packages\\numpy\\core\\fromnumeric.py:2389: FutureWarning: Method .ptp is deprecated and will be removed in a future version. Use numpy.ptp instead.\n",
      "  return ptp(axis=axis, out=out, **kwargs)\n"
     ]
    }
   ],
   "source": [
    "y = pd.read_csv('datasets-b3/AALR3.csv')['Fechamento']\n",
    "x = pd.read_csv('datasets-b3/ALSO3.csv')['Fechamento']\n",
    "\n",
    "par = StationarityTests()\n",
    "par.CheckStationarity(y, x, printResults = True)"
   ]
  },
  {
   "cell_type": "markdown",
   "metadata": {},
   "source": [
    "### Read CSV"
   ]
  },
  {
   "cell_type": "code",
   "execution_count": 4,
   "metadata": {},
   "outputs": [],
   "source": [
    "df = pd.read_csv('datasets/data.csv')\n",
    "data = df[df.columns.difference(['Data'])]"
   ]
  },
  {
   "cell_type": "markdown",
   "metadata": {},
   "source": [
    "## Single test"
   ]
  },
  {
   "cell_type": "code",
   "execution_count": 9,
   "metadata": {
    "scrolled": true
   },
   "outputs": [
    {
     "name": "stdout",
     "output_type": "stream",
     "text": [
      "Augmented Dickey-Fuller Test Results:\n",
      "ADF Test Statistic     -3.2141908124356218\n",
      "P-Value                0.01917781427486066\n",
      "# Lags Used            0\n",
      "# Observations Used    91\n",
      "Critical Value (1%)    -3.504343\n",
      "Critical Value (5%)    -2.893866\n",
      "Critical Value (10%)   -2.584015\n",
      "dtype: float64\n",
      "Is the time series stationary? True\n"
     ]
    }
   ],
   "source": [
    "checkStationarity(data['ABCB4'], data['AZUL4'], printResults = True)"
   ]
  },
  {
   "cell_type": "markdown",
   "metadata": {},
   "source": [
    "### Pairs Cointegrated"
   ]
  },
  {
   "cell_type": "code",
   "execution_count": 10,
   "metadata": {},
   "outputs": [
    {
     "ename": "TypeError",
     "evalue": "find_cointegrated_pairs() got multiple values for argument 'num_pairs'",
     "output_type": "error",
     "traceback": [
      "\u001b[1;31m---------------------------------------------------------------------------\u001b[0m",
      "\u001b[1;31mTypeError\u001b[0m                                 Traceback (most recent call last)",
      "\u001b[1;32m<ipython-input-10-a3b866455c37>\u001b[0m in \u001b[0;36m<module>\u001b[1;34m\u001b[0m\n\u001b[1;32m----> 1\u001b[1;33m \u001b[0mpairs\u001b[0m \u001b[1;33m=\u001b[0m \u001b[0mfind_cointegrated_pairs\u001b[0m\u001b[1;33m(\u001b[0m\u001b[0mdata\u001b[0m\u001b[1;33m,\u001b[0m \u001b[1;36m0\u001b[0m\u001b[1;33m,\u001b[0m \u001b[0mnum_pairs\u001b[0m\u001b[1;33m=\u001b[0m\u001b[1;36m5\u001b[0m\u001b[1;33m)\u001b[0m\u001b[1;33m\u001b[0m\u001b[1;33m\u001b[0m\u001b[0m\n\u001b[0m\u001b[0;32m      2\u001b[0m \u001b[0mpairs\u001b[0m\u001b[1;33m\u001b[0m\u001b[1;33m\u001b[0m\u001b[0m\n",
      "\u001b[1;31mTypeError\u001b[0m: find_cointegrated_pairs() got multiple values for argument 'num_pairs'"
     ]
    }
   ],
   "source": [
    "pairs = find_cointegrated_pairs(data, 0, num_pairs=5)\n",
    "pairs"
   ]
  },
  {
   "cell_type": "markdown",
   "metadata": {},
   "source": [
    "### Some example of graphic"
   ]
  },
  {
   "cell_type": "code",
   "execution_count": null,
   "metadata": {},
   "outputs": [],
   "source": [
    "graphicShow(data, 'AALR3', 'ABCB4')\n",
    "graphicShow(data, 'AALR3', 'CYRE3')"
   ]
  },
  {
   "cell_type": "markdown",
   "metadata": {},
   "source": [
    "### Graphic Cointegrated all Pairs"
   ]
  },
  {
   "cell_type": "code",
   "execution_count": null,
   "metadata": {},
   "outputs": [],
   "source": [
    "quantOnly = 5 # quantidade de gráficos exibir\n",
    "for i, j in pairs.iterrows():\n",
    "    graphicShow(data, j['Depen'], j['Indepen'])\n",
    "    \n",
    "    # somente alguns\n",
    "    if((i+1) >= quantOnly):\n",
    "        break"
   ]
  },
  {
   "cell_type": "markdown",
   "metadata": {},
   "source": [
    "# Trades"
   ]
  },
  {
   "cell_type": "markdown",
   "metadata": {},
   "source": [
    "### Signal trade, example"
   ]
  },
  {
   "cell_type": "code",
   "execution_count": null,
   "metadata": {},
   "outputs": [],
   "source": [
    "print(signal(data['AALR3'], data['ABCB4']))\n",
    "print(signal(data['AALR3'], data['CYRE3']))"
   ]
  },
  {
   "cell_type": "markdown",
   "metadata": {},
   "source": [
    "### Find pairs to operator"
   ]
  },
  {
   "cell_type": "code",
   "execution_count": null,
   "metadata": {},
   "outputs": [],
   "source": [
    "df_operations = find_pairs_oper(pairs, data, perc_dist=0.95, num_pairs=5)\n",
    "print(str(df_operations.shape[0])+' pares sinalizando entrada')"
   ]
  },
  {
   "cell_type": "code",
   "execution_count": null,
   "metadata": {},
   "outputs": [],
   "source": [
    "df_operations"
   ]
  },
  {
   "cell_type": "code",
   "execution_count": null,
   "metadata": {},
   "outputs": [],
   "source": [
    "oper_quantOnly = 5 # quantidade de gráficos exibir\n",
    "for i, j in df_operations.iterrows():\n",
    "    graphicShow(data, j['Depen'], j['Indepen'])\n",
    "    \n",
    "    # somente alguns\n",
    "    if((i+1) >= oper_quantOnly):\n",
    "        break"
   ]
  },
  {
   "cell_type": "markdown",
   "metadata": {},
   "source": [
    "# Non-stationary pairs, examples"
   ]
  },
  {
   "cell_type": "code",
   "execution_count": null,
   "metadata": {},
   "outputs": [],
   "source": [
    "nopairs = find_cointegrated_pairs(data, 2, noStationary=True)\n",
    "nopairs"
   ]
  },
  {
   "cell_type": "code",
   "execution_count": null,
   "metadata": {},
   "outputs": [],
   "source": [
    "graphicShow(data, 'AALR3', 'AAPL34')\n",
    "graphicShow(data, 'AALR3', 'ABEV3')"
   ]
  },
  {
   "cell_type": "code",
   "execution_count": null,
   "metadata": {},
   "outputs": [],
   "source": []
  }
 ],
 "metadata": {
  "kernelspec": {
   "display_name": "Python 3",
   "language": "python",
   "name": "python3"
  },
  "language_info": {
   "codemirror_mode": {
    "name": "ipython",
    "version": 3
   },
   "file_extension": ".py",
   "mimetype": "text/x-python",
   "name": "python",
   "nbconvert_exporter": "python",
   "pygments_lexer": "ipython3",
   "version": "3.7.4"
  }
 },
 "nbformat": 4,
 "nbformat_minor": 2
}
